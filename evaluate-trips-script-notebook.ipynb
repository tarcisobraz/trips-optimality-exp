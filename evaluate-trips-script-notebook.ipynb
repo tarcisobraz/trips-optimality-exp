{
 "cells": [
  {
   "cell_type": "markdown",
   "metadata": {},
   "source": [
    "### Imports"
   ]
  },
  {
   "cell_type": "code",
   "execution_count": 1,
   "metadata": {
    "collapsed": true
   },
   "outputs": [],
   "source": [
    "#Spark Imports\n",
    "import pyspark\n",
    "from pyspark import SparkContext\n",
    "from pyspark.sql import SparkSession\n",
    "from pyspark.sql.window import Window\n",
    "from pyspark.sql import functions as F\n",
    "from pyspark.sql import types as T\n",
    "\n",
    "#Python Standard Libs Imports\n",
    "import json\n",
    "import urllib2\n",
    "import sys\n",
    "from datetime import datetime\n",
    "from os.path import isfile, join, splitext\n",
    "from glob import glob\n",
    "\n",
    "#Imports to enable visualizations\n",
    "import seaborn as sns\n",
    "import matplotlib.pyplot as plt\n",
    "%matplotlib inline"
   ]
  },
  {
   "cell_type": "markdown",
   "metadata": {},
   "source": [
    "### Functions"
   ]
  },
  {
   "cell_type": "markdown",
   "metadata": {},
   "source": [
    "#### Basic Functions"
   ]
  },
  {
   "cell_type": "code",
   "execution_count": 2,
   "metadata": {
    "collapsed": true
   },
   "outputs": [],
   "source": [
    "def rename_columns(df, list_of_tuples):\n",
    "    for (old_col, new_col) in list_of_tuples:\n",
    "        df = df.withColumnRenamed(old_col, new_col)\n",
    "    return df\n",
    "\n",
    "def read_folders(path, sqlContext, sc, initial_date, final_date, folder_suffix):\n",
    "    extension = splitext(path)[1]\n",
    "\n",
    "    if extension == \"\":\n",
    "        path_pattern = path + \"/*/part-*\"\n",
    "        if \"hdfs\" in path:\n",
    "            URI = sc._gateway.jvm.java.net.URI\n",
    "            Path = sc._gateway.jvm.org.apache.hadoop.fs.Path\n",
    "            FileSystem = sc._gateway.jvm.org.apache.hadoop.fs.FileSystem\n",
    "            Configuration = sc._gateway.jvm.org.apache.hadoop.conf.Configuration\n",
    "\n",
    "            hdfs = \"/\".join(path_pattern.split(\"/\")[:3])\n",
    "            dir = \"/\" + \"/\".join(path_pattern.split(\"/\")[3:])\n",
    "\n",
    "            fs = FileSystem.get(URI(hdfs), Configuration())\n",
    "\n",
    "            status = fs.globStatus(Path(dir))\n",
    "\n",
    "            files = map(lambda file_status: str(file_status.getPath()), status)\n",
    "\n",
    "        else:\n",
    "            files = glob(path_pattern)\n",
    "\n",
    "        #print initial_date, final_date\n",
    "        #print datetime.strptime(files[0].split('/')[-2],('%Y_%m_%d' + folder_suffix))\n",
    "\n",
    "        files = filter(lambda f: initial_date <= datetime.strptime(f.split(\"/\")[-2], ('%Y_%m_%d' + folder_suffix)) <=\n",
    "                                 final_date, files)\n",
    "\n",
    "        #print len(files)\n",
    "        #print files\n",
    "        if folder_suffix == '_od':\n",
    "            return reduce(lambda df1, df2: df1.unionAll(df2),\n",
    "                      map(lambda f: read_hdfs_folder(sqlContext,f), files))\n",
    "        else:\n",
    "            return reduce(lambda df1, df2: df1.unionAll(df2),\n",
    "                      map(lambda f: read_buste_data_v3(sqlContext,f), files))\n",
    "    else:\n",
    "        return read_file(path, sqlContext)\n",
    "\n",
    "def read_hdfs_folder(sqlContext, folderpath):\n",
    "    data_frame = sqlContext.read.csv(folderpath, header=True,\n",
    "                                     inferSchema=True,nullValue=\"-\")\n",
    "    return data_frame\n",
    "\n",
    "def read_buste_data_v3(sqlContext, folderpath):\n",
    "    data_frame = read_hdfs_folder(sqlContext,folderpath)\n",
    "    \n",
    "    date = \"-\".join(folderpath.split(\"/\")[-2].split(\"_\")[:3])\n",
    "\n",
    "    data_frame = data_frame.withColumn(\"date\", F.lit(date))\n",
    "    \n",
    "    return data_frame\n",
    "\n",
    "def printdf(df,l=10):\n",
    "    return df.limit(l).toPandas()\n",
    "\n",
    "def get_timestamp_in_tz(unixtime_timestamp,ts_format,tz):\n",
    "    return F.from_utc_timestamp(F.from_unixtime(unixtime_timestamp, ts_format),tz)"
   ]
  },
  {
   "cell_type": "markdown",
   "metadata": {},
   "source": [
    "#### Analysis Functions"
   ]
  },
  {
   "cell_type": "code",
   "execution_count": 27,
   "metadata": {
    "collapsed": true
   },
   "outputs": [],
   "source": [
    "def get_otp_itineraries(otp_url,o_lat,o_lon,d_lat,d_lon,date,time,verbose=False):\n",
    "    otp_http_request = 'routers/ctba/plan?fromPlace={},{}&toPlace={},{}&mode=TRANSIT,WALK&date={}&time={}'\n",
    "    otp_request_url = otp_url + otp_http_request.format(o_lat,o_lon,d_lat,d_lon,date,time)\n",
    "    if verbose: \n",
    "        print otp_request_url\n",
    "    return json.loads(urllib2.urlopen(otp_request_url).read())\n",
    "\n",
    "def get_otp_suggested_trips(od_matrix,otp_url):\n",
    "    trips_otp_response = {}\n",
    "    counter = 0\n",
    "    for row in od_matrix.collect():\n",
    "        id=long(row['o_boarding_id'])\n",
    "        start_time = row['o_base_datetime'].split(' ')[1]\n",
    "        trip_plan = get_otp_itineraries(otp_url,row['o_shape_lat'], row['o_shape_lon'], row['shapeLat'], row['shapeLon'],row['date_str'],start_time)\n",
    "        trips_otp_response[id] = trip_plan\n",
    "        counter+=1\n",
    "\n",
    "    return trips_otp_response\n",
    "\n",
    "def advance_od_matrix_start_time(od_matrix,extra_seconds):\n",
    "\treturn od_matrix.withColumn('date_str', F.col('date')) \\\n",
    "\t\t\t\t\t.withColumn('o_datetime', F.concat(F.col('date_str'), F.lit(' '), F.col('o_timestamp'))) \\\n",
    "\t\t\t\t\t.withColumn('d_datetime', F.concat(F.col('date_str'), F.lit(' '), F.col('timestamp'))) \\\n",
    "\t\t\t\t\t.withColumn('executed_duration', (F.unix_timestamp('d_datetime') - F.unix_timestamp('o_datetime'))/60) \\\n",
    "\t\t\t\t\t.withColumn('o_base_datetime', F.from_unixtime(F.unix_timestamp(F.col('o_datetime'),'yyyy-MM-dd HH:mm:ss') - extra_seconds, 'yyyy-MM-dd HH:mm:ss')) \\\n",
    "\n",
    "def extract_otp_trips_legs(otp_trips):\n",
    "\ttrips_legs = []\n",
    "\n",
    "\tfor trip in otp_trips.keys():\n",
    "\t\tif 'plan' in otp_trips[trip]:\n",
    "\t\t\titinerary_id = 1\n",
    "\t\t\tfor itinerary in otp_trips[trip]['plan']['itineraries']:\n",
    "\t\t\t\tdate = otp_trips[trip]['plan']['date']/1000\n",
    "\t\t\t\tleg_id = 1\n",
    "\t\t\t\tfor leg in itinerary['legs']:\n",
    "\t\t\t\t\troute = leg['route'] if leg['route'] != '' else None\n",
    "\t\t\t\t\tfromStopId = leg['from']['stopId'].split(':')[1] if leg['mode'] == 'BUS' else None\n",
    "\t\t\t\t\ttoStopId = leg['to']['stopId'].split(':')[1] if leg['mode'] == 'BUS' else None\n",
    "\t\t\t\t\tstart_time = long(leg['startTime'])/1000\n",
    "\t\t\t\t\tend_time = long(leg['endTime'])/1000\n",
    "\t\t\t\t\tduration = (end_time - start_time)/60\n",
    "\t\t\t\t\ttrips_legs.append((date,trip,itinerary_id,leg_id,start_time,end_time,leg['mode'],route,fromStopId,toStopId, duration))\n",
    "\t\t\t\t\tleg_id += 1\n",
    "\t\t\t\titinerary_id += 1\n",
    "\treturn trips_legs\n",
    "\n",
    "def prepare_otp_legs_df(otp_legs_list):\n",
    "\tlabels=['date','user_trip_id','itinerary_id','leg_id','otp_start_time','otp_end_time','mode','route','from_stop_id','to_stop_id','otp_duration_mins']\n",
    "\totp_legs_df = sqlContext.createDataFrame(otp_legs_list, labels) \\\n",
    "\t\t\t\t\t\t.withColumn('date',F.from_unixtime(F.col('date'),'yyyy-MM-dd')) \\\n",
    "\t\t\t\t\t\t.withColumn('otp_duration_mins',((F.col('otp_end_time') - F.col('otp_start_time'))/60)) \\\n",
    "\t\t\t\t\t\t.withColumn('otp_start_time',F.from_unixtime(F.col('otp_start_time'),'yyyy-MM-dd HH:mm:ss').astype('timestamp')) \\\n",
    "\t\t\t\t\t\t.withColumn('otp_end_time',F.from_unixtime(F.col('otp_end_time'),'yyyy-MM-dd HH:mm:ss').astype('timestamp')) \\\n",
    "\t\t\t\t\t\t.withColumn('route', F.col('route').astype('integer')) \\\n",
    "\t\t\t\t\t\t.withColumn('from_stop_id', F.col('from_stop_id').astype('integer')) \\\n",
    "\t\t\t\t\t\t.withColumn('to_stop_id', F.col('to_stop_id').astype('integer')) \\\n",
    "\t\t\t\t\t\t.orderBy(['date','user_trip_id','itinerary_id','otp_start_time'])\n",
    "\n",
    "\treturn otp_legs_df\n",
    "\n",
    "def get_df_stats(df,filtered_df,df_label,filtered_df_label):\n",
    "\tdf_size = df.count()\n",
    "\tfiltered_df_size = filtered_df.count()\n",
    "\tprint \"Total\", df_label,\":\", df_size\n",
    "\tprint \"Total\", filtered_df_label, \":\", filtered_df_size, \"(\", 100*(filtered_df_size/float(df_size)), \"%)\"\n",
    "\n",
    "def get_filtered_df_stats(filtered_df,full_df_size,filtered_df_label,full_df_label):\n",
    "\tfiltered_df_size = filtered_df.count()\n",
    "\tprint filtered_df_label, \"in Total\", full_df_label, \":\", filtered_df_size, \"(\", 100*(filtered_df_size/float(full_df_size)), \"%)\"\n",
    "\n",
    "def clean_buste_data(buste_data):\n",
    "\treturn buste_data.select([\"date\",\"route\",\"busCode\",\"tripNum\",\"stopPointId\",\"timestamp\"]) \\\n",
    "\t\t.na.drop(subset=[\"date\",\"route\",\"busCode\",\"tripNum\",\"stopPointId\",\"timestamp\"]) \\\n",
    "\t\t.dropDuplicates(['date','route','busCode','tripNum','stopPointId']) \\\n",
    "\t\t.withColumn('route',F.col('route').astype('float')) \\\n",
    "\t\t.withColumn('date',F.col('date').astype('string')) \\\n",
    "\t\t.withColumn('timestamp',F.from_unixtime(F.unix_timestamp(F.concat(F.col('date'),F.lit(' '),F.col('timestamp')), 'yyyy-MM-dd HH:mm:ss')))\n",
    "\n",
    "def find_otp_bus_legs_actual_start_time(otp_legs_df,clean_bus_trips_df):\n",
    "\tw = Window.partitionBy(['date','user_trip_id','itinerary_id','route','from_stop_id']).orderBy(['timediff'])\n",
    "\treturn otp_legs_df \\\n",
    "\t\t.withColumn('stopPointId', F.col('from_stop_id')) \\\n",
    "\t\t.join(clean_bus_trips_df, ['date','route','stopPointId'], how='inner') \\\n",
    "\t\t.na.drop(subset=['timestamp']) \\\n",
    "\t\t.withColumn('timediff',F.abs(F.unix_timestamp(F.col('timestamp')) - F.unix_timestamp(F.col('otp_start_time')))) \\\n",
    "\t\t.drop('otp_duration') \\\n",
    "\t\t.withColumn('rn', F.row_number().over(w)) \\\n",
    "\t\t.where(F.col('rn') == 1) \\\n",
    "\t\t.select(['date','user_trip_id','itinerary_id','leg_id','route','busCode','tripNum','from_stop_id','otp_start_time','timestamp','to_stop_id','otp_end_time']) \\\n",
    "\t\t.withColumnRenamed('timestamp','from_timestamp')\n",
    "\n",
    "def find_otp_bus_legs_actual_end_time(otp_legs_st,clean_bus_trips):\n",
    "\treturn otp_legs_st \\\n",
    "\t\t\t\t.withColumnRenamed('to_stop_id','stopPointId') \\\n",
    "\t\t\t\t.join(clean_bus_trips, ['date','route','busCode','tripNum','stopPointId'], how='inner') \\\n",
    "\t\t\t\t.na.drop(subset=['timestamp']) \\\n",
    "\t\t\t\t.withColumn('timediff',F.abs(F.unix_timestamp(F.col('timestamp')) - F.unix_timestamp(F.col('otp_end_time')))) \\\n",
    "\t\t\t\t.withColumnRenamed('timestamp', 'to_timestamp') \\\n",
    "\t\t\t\t.withColumnRenamed('stopPointId','to_stop_id') \\\n",
    "\t\t\t\t.orderBy(['date','route','stopPointId','timediff'])\n",
    "\n",
    "def clean_otp_legs_actual_time_df(otp_legs_st_end_df):\n",
    "\treturn otp_legs_start_end \\\n",
    "\t\t\t\t.select(['date','user_trip_id','itinerary_id','leg_id','route','busCode','tripNum','from_stop_id','from_timestamp','to_stop_id','to_timestamp']) \\\n",
    "\t\t\t\t.withColumn('actual_duration_mins', (F.unix_timestamp(F.col('to_timestamp')) - F.unix_timestamp(F.col('from_timestamp')))/60) \\\n",
    "\t\t\t\t.orderBy(['date','user_trip_id','itinerary_id','leg_id']) \\\n",
    "\t\t\t\t.filter('actual_duration_mins > 0')\n",
    "\t\n",
    "def combine_otp_suggestions_with_bus_legs_actual_time(otp_suggestions,bus_legs_actual_time):\n",
    "\treturn otp_legs_df \\\n",
    "\t\t\t\t.join(clean_otp_legs_actual_time, on=['date','user_trip_id','itinerary_id','leg_id', 'route', 'from_stop_id','to_stop_id'], how='left_outer') \\\n",
    "\t\t\t\t.withColumn('considered_duration_mins', F.when(F.col('mode') == F.lit('BUS'), F.col('actual_duration_mins')).otherwise(F.col('otp_duration_mins'))) \\\n",
    "\t\t\t\t.withColumn('considered_start_time', F.when(F.col('mode') == F.lit('BUS'), F.col('from_timestamp')).otherwise(F.col('otp_start_time')))\n",
    "\n",
    "def select_itineraries_fully_identified(otp_itineraries_legs):\n",
    "\titineraries_not_fully_identified = otp_itineraries_legs \\\n",
    "\t\t\t\t\t\t\t\t\t\t.filter((otp_itineraries_legs.mode == 'BUS') & (otp_itineraries_legs.busCode.isNull())) \\\n",
    "\t\t\t\t\t\t\t\t\t\t.select(['date','user_trip_id','itinerary_id']).distinct()\n",
    "\titineraries_fully_identified = otp_itineraries_legs.select(['date','user_trip_id','itinerary_id']).subtract(itineraries_not_fully_identified)\n",
    "\treturn otp_itineraries_legs.join(itineraries_fully_identified, on=['date','user_trip_id','itinerary_id'], how='inner')\n",
    "\n",
    "def rank_otp_itineraries_by_actual_duration(trips_itineraries):\n",
    "\titineraries_window = Window.partitionBy(['date','user_trip_id']).orderBy(['duration'])\n",
    "\treturn trips_itineraries.withColumn('rank', F.row_number().over(itineraries_window))\n",
    "\n",
    "def get_trips_itineraries_pool(trips_otp_alternatives,od_mat):\n",
    "\treturn trips_otp_alternatives \\\n",
    "\t\t\t\t.union(od_mat.withColumnRenamed('o_boarding_id','user_trip_id') \\\n",
    "\t\t\t\t.withColumn('itinerary_id', F.lit(0)) \\\n",
    "\t\t\t\t.withColumnRenamed('executed_duration','duration') \\\n",
    "\t\t\t\t.withColumnRenamed('o_datetime', 'alt_start_time') \\\n",
    "\t\t\t\t.select(['date','user_trip_id','itinerary_id','duration','alt_start_time']))\n",
    "\n",
    "def determining_trips_alternatives_feasibility(otp_itineraries_legs,od_mat):\n",
    "\ttrips_itineraries_possibilities = otp_itineraries_legs \\\n",
    "\t\t\t\t\t\t.groupBy(['date', 'user_trip_id', 'itinerary_id']) \\\n",
    "\t\t\t\t\t\t.agg(F.sum('considered_duration_mins').alias('duration'), \\\n",
    "                           \t F.first('considered_start_time').alias('alt_start_time')) \\\n",
    "\t\t\t\t\t\t.orderBy(['date','user_trip_id','itinerary_id']) \\\n",
    "\t\t\t.join(od_mat \\\n",
    "\t\t\t\t\t\t.withColumnRenamed('o_boarding_id','user_trip_id') \\\n",
    "\t\t\t\t\t\t.withColumnRenamed('o_datetime','exec_start_time') \\\n",
    "\t\t\t\t\t\t.select(['date','user_trip_id','exec_start_time']),\n",
    "\t\t\t\ton=['date','user_trip_id']) \\\n",
    "\t\t\t.withColumn('start_diff', (F.abs(F.unix_timestamp(F.col('exec_start_time')) - F.unix_timestamp(F.col('alt_start_time')))/60))\n",
    "\n",
    "\tfiltered_trips_possibilities = trips_itineraries_possibilities \\\n",
    "\t\t\t\t\t\t\t\t\t\t.filter(F.col('start_diff') <= 20) \\\n",
    "                                \t\t.drop('exec_start_time', 'start_diff')\n",
    "\n",
    "\treturn (trips_itineraries_possibilities,filtered_trips_possibilities)\n",
    "\n",
    "def select_best_trip_itineraries(itineraries_pool):\n",
    "\treturn rank_otp_itineraries_by_actual_duration(itineraries_pool).filter('rank == 1') \\\n",
    "\t\t\t\t\t\t\t\t\t.drop('rank')\n",
    "\n",
    "def compute_improvement_capacity(best_itineraries,od_mat):\n",
    "\treturn  od_mat \\\n",
    "\t\t\t\t.withColumnRenamed('o_boarding_id','user_trip_id') \\\n",
    "\t\t\t\t.withColumnRenamed('o_datetime','exec_start_time') \\\n",
    "\t\t\t\t.select(['date','user_trip_id','cardNum','birthdate','gender','exec_start_time','executed_duration']) \\\n",
    "\t\t\t.join(best_itineraries, on=['date','user_trip_id']) \\\n",
    "\t\t\t.withColumn('imp_capacity', F.col('executed_duration') - F.col('duration'))"
   ]
  },
  {
   "cell_type": "markdown",
   "metadata": {},
   "source": [
    "### Main Code"
   ]
  },
  {
   "cell_type": "markdown",
   "metadata": {},
   "source": [
    "#### Reading Input Variables"
   ]
  },
  {
   "cell_type": "code",
   "execution_count": 4,
   "metadata": {
    "collapsed": true
   },
   "outputs": [],
   "source": [
    "initial_date = datetime.strptime('2017-04-30', '%Y-%m-%d')\n",
    "final_date = datetime.strptime('2017-04-30', '%Y-%m-%d')\n",
    "od_matrix_folderpath = '/local/tarciso/masters/data/bus_trips/buste-v3a/may_jun_jul/od_days/'\n",
    "buste_data_folderpath = '/local/tarciso/masters/data/bus_trips/buste-v3a/may_jun_jul/buste-all/'\n",
    "otp_server_url = 'http://localhost:5601/otp/'\n",
    "results_folderpath = '/local/tarciso/masters/data/trips-optimality-exp/test/'"
   ]
  },
  {
   "cell_type": "markdown",
   "metadata": {},
   "source": [
    "#### Settting Up Environment"
   ]
  },
  {
   "cell_type": "code",
   "execution_count": 8,
   "metadata": {
    "collapsed": true
   },
   "outputs": [],
   "source": [
    "#Get Spark Session\n",
    "spark  = SparkSession.builder.getOrCreate()\n",
    "spark.conf.set('spark.sql.crossJoin.enabled', 'true')\n",
    "\n",
    "sc = spark.sparkContext\n",
    "sc.setLogLevel(\"ERROR\")\n",
    "sqlContext = pyspark.SQLContext(sc)"
   ]
  },
  {
   "cell_type": "code",
   "execution_count": 9,
   "metadata": {},
   "outputs": [
    {
     "data": {
      "text/plain": [
       "[(u'spark.app.id', u'local-1513261969979'),\n",
       " (u'hive.metastore.warehouse.dir',\n",
       "  u'file:/local/tarciso/workspace/trips-optimality-exp/spark-warehouse/'),\n",
       " (u'spark.driver.host', u'10.30.0.113'),\n",
       " (u'spark.driver.memory', u'4g'),\n",
       " (u'spark.rdd.compress', u'True'),\n",
       " (u'spark.serializer.objectStreamReset', u'100'),\n",
       " (u'spark.master', u'local[*]'),\n",
       " (u'spark.executor.id', u'driver'),\n",
       " (u'spark.submit.deployMode', u'client'),\n",
       " (u'spark.app.name', u'PySparkShell'),\n",
       " (u'spark.driver.port', u'36189')]"
      ]
     },
     "execution_count": 9,
     "metadata": {},
     "output_type": "execute_result"
    }
   ],
   "source": [
    "sc._conf.getAll()"
   ]
  },
  {
   "cell_type": "markdown",
   "metadata": {},
   "source": [
    "#### Reading OD Matrix"
   ]
  },
  {
   "cell_type": "code",
   "execution_count": 10,
   "metadata": {},
   "outputs": [
    {
     "name": "stdout",
     "output_type": "stream",
     "text": [
      "Got Spark Context\n",
      "Reading OD-Matrix Data...\n",
      "Preprocessing Data...\n"
     ]
    }
   ],
   "source": [
    "print \"Got Spark Context\"\n",
    "\n",
    "print \"Reading OD-Matrix Data...\"\n",
    "od_matrix_day_folderpath = od_matrix_folderpath + '/' + initial_date.strftime('%Y_%m_%d') + '_od'\n",
    "od_matrix = read_hdfs_folder(sqlContext, od_matrix_day_folderpath) \\\n",
    "                .withColumn('date', F.from_unixtime(F.col('date'),'yyyy-MM-dd')) \\\n",
    "                .withColumn('date_in_secs', F.unix_timestamp(F.col('date'), 'yyyy-MM-dd'))\n",
    "        \n",
    "print \"Preprocessing Data...\"\n",
    "od_matrix = advance_od_matrix_start_time(od_matrix,120)"
   ]
  },
  {
   "cell_type": "markdown",
   "metadata": {},
   "source": [
    "#### Getting OTP suggested itineraries"
   ]
  },
  {
   "cell_type": "code",
   "execution_count": 11,
   "metadata": {},
   "outputs": [
    {
     "name": "stdout",
     "output_type": "stream",
     "text": [
      "Getting OTP suggested itineraries...\n",
      "Extracting OTP Legs info...\n"
     ]
    }
   ],
   "source": [
    "print \"Getting OTP suggested itineraries...\"\n",
    "otp_suggestions = get_otp_suggested_trips(od_matrix,otp_server_url)\n",
    "\n",
    "print \"Extracting OTP Legs info...\"\n",
    "otp_legs_df = prepare_otp_legs_df(extract_otp_trips_legs(otp_suggestions))\n",
    "#otp_legs_df.write.csv(path=results_folderpath+'/trip_plans',header=True, mode='append')\n",
    "\n",
    "otp_suggestions = None\n"
   ]
  },
  {
   "cell_type": "markdown",
   "metadata": {},
   "source": [
    "#### Printing Itineraries Stats"
   ]
  },
  {
   "cell_type": "code",
   "execution_count": 12,
   "metadata": {},
   "outputs": [
    {
     "name": "stdout",
     "output_type": "stream",
     "text": [
      "Total num itineraries: 2109\n",
      "Total num legs: 5902\n",
      "Total num bus legs: 1922 ( 32.5652321247 %)\n"
     ]
    }
   ],
   "source": [
    "total_num_itineraries = otp_legs_df.select('user_trip_id','itinerary_id').distinct().count()\n",
    "total_num_legs = otp_legs_df.count()\n",
    "num_bus_legs = otp_legs_df.filter('mode == \\'BUS\\'').count()\n",
    "\n",
    "print \"Total num itineraries:\", total_num_itineraries\n",
    "print \"Total num legs:\", total_num_legs\n",
    "print \"Total num bus legs:\", num_bus_legs, '(', 100*(num_bus_legs/float(total_num_legs)), '%)'"
   ]
  },
  {
   "cell_type": "markdown",
   "metadata": {},
   "source": [
    "#### Matching OTP Bus Legs Origins with BUSTE Data"
   ]
  },
  {
   "cell_type": "code",
   "execution_count": 13,
   "metadata": {},
   "outputs": [
    {
     "name": "stdout",
     "output_type": "stream",
     "text": [
      "Reading BUSTE data...\n",
      "Finding OTP Bus Legs Actual Start Times in Bus Trips Data...\n"
     ]
    }
   ],
   "source": [
    "print \"Reading BUSTE data...\"\n",
    "bus_trips_data = read_folders(buste_data_folderpath, sqlContext, sc, initial_date, final_date,'_veiculos')\n",
    "clean_bus_trips_data = clean_buste_data(bus_trips_data)\n",
    "\n",
    "print \"Finding OTP Bus Legs Actual Start Times in Bus Trips Data...\"\n",
    "otp_legs_st = find_otp_bus_legs_actual_start_time(otp_legs_df,clean_bus_trips_data)"
   ]
  },
  {
   "cell_type": "markdown",
   "metadata": {},
   "source": [
    "#### Printing Matched OTP Bus Legs Origins Stats"
   ]
  },
  {
   "cell_type": "code",
   "execution_count": 14,
   "metadata": {},
   "outputs": [
    {
     "name": "stdout",
     "output_type": "stream",
     "text": [
      "Num Bus Legs whose start was found: 1741 ( 90.5827263267 %)\n"
     ]
    }
   ],
   "source": [
    "num_bus_legs_st = otp_legs_st.count()\n",
    "print \"Num Bus Legs whose start was found:\", num_bus_legs_st, '(', 100*(num_bus_legs_st/float(num_bus_legs)), '%)'"
   ]
  },
  {
   "cell_type": "markdown",
   "metadata": {
    "collapsed": true
   },
   "source": [
    "#### Cleaning Memory"
   ]
  },
  {
   "cell_type": "code",
   "execution_count": 15,
   "metadata": {
    "collapsed": true
   },
   "outputs": [],
   "source": [
    "#Clean memory\n",
    "#otp_legs_df.unpersist(blocking=True)\n",
    "#bus_trips_data.unpersist(blocking=True)\n",
    "#clean_bus_trips_data.unpersist(blocking=True)"
   ]
  },
  {
   "cell_type": "markdown",
   "metadata": {
    "collapsed": true
   },
   "source": [
    "#### Matching OTP Bus Legs Destinations with BUSTE Data"
   ]
  },
  {
   "cell_type": "code",
   "execution_count": 16,
   "metadata": {},
   "outputs": [
    {
     "name": "stdout",
     "output_type": "stream",
     "text": [
      "Reading BUSTE data again...\n",
      "Finding OTP Bus Legs Actual End Times in Bus Trips Data...\n"
     ]
    }
   ],
   "source": [
    "print \"Reading BUSTE data again...\"\n",
    "bus_trips_data2 = read_folders(buste_data_folderpath, sqlContext, sc, initial_date, final_date,'_veiculos')\n",
    "clean_bus_trips_data2 = clean_buste_data(bus_trips_data2)\n",
    "\n",
    "print \"Finding OTP Bus Legs Actual End Times in Bus Trips Data...\"\n",
    "otp_legs_start_end = find_otp_bus_legs_actual_end_time(otp_legs_st,clean_bus_trips_data2)\n",
    "clean_otp_legs_actual_time = clean_otp_legs_actual_time_df(otp_legs_start_end)\n"
   ]
  },
  {
   "cell_type": "markdown",
   "metadata": {
    "collapsed": true
   },
   "source": [
    "#### Cleaning Memory"
   ]
  },
  {
   "cell_type": "code",
   "execution_count": 17,
   "metadata": {
    "collapsed": true
   },
   "outputs": [],
   "source": [
    "#Clean Memory\n",
    "#otp_legs_st.unpersist(blocking=True)\n",
    "#bus_trips_data2.unpersist(blocking=True)\n",
    "#clean_bus_trips_data2.unpersist(blocking=True)\n",
    "#otp_legs_start_end.unpersist(blocking=True)\n"
   ]
  },
  {
   "cell_type": "markdown",
   "metadata": {
    "collapsed": true
   },
   "source": [
    "#### Enriching OTP suggestions legs with actual time data"
   ]
  },
  {
   "cell_type": "code",
   "execution_count": 18,
   "metadata": {},
   "outputs": [
    {
     "name": "stdout",
     "output_type": "stream",
     "text": [
      "Enriching OTP suggestions legs with actual time data...\n"
     ]
    }
   ],
   "source": [
    "print \"Enriching OTP suggestions legs with actual time data...\"\n",
    "all_legs_actual_time = combine_otp_suggestions_with_bus_legs_actual_time(otp_legs_df,clean_otp_legs_actual_time)"
   ]
  },
  {
   "cell_type": "markdown",
   "metadata": {
    "collapsed": true
   },
   "source": [
    "#### Filtering out itineraries with bus legs not identified in bus data"
   ]
  },
  {
   "cell_type": "code",
   "execution_count": 19,
   "metadata": {},
   "outputs": [
    {
     "name": "stdout",
     "output_type": "stream",
     "text": [
      "Filtering out itineraries with bus legs not identified in bus data...\n"
     ]
    }
   ],
   "source": [
    "print \"Filtering out itineraries with bus legs not identified in bus data...\"\n",
    "clean_legs_actual_time = select_itineraries_fully_identified(all_legs_actual_time)"
   ]
  },
  {
   "cell_type": "markdown",
   "metadata": {
    "collapsed": true
   },
   "source": [
    "#### Printing Fully Identified OTP Itineraries Stats"
   ]
  },
  {
   "cell_type": "code",
   "execution_count": 16,
   "metadata": {},
   "outputs": [
    {
     "name": "stdout",
     "output_type": "stream",
     "text": [
      "Num Itineraries fully identified in BUSTE data: 759 ( 35.9886201991 %)\n"
     ]
    }
   ],
   "source": [
    "num_itineraries_fully_identified = clean_legs_actual_time.select('user_trip_id','itinerary_id').distinct().count()\n",
    "print \"Num Itineraries fully identified in BUSTE data:\", num_itineraries_fully_identified, '(', 100*(num_itineraries_fully_identified/float(total_num_itineraries)), '%)'"
   ]
  },
  {
   "cell_type": "code",
   "execution_count": null,
   "metadata": {
    "collapsed": true
   },
   "outputs": [],
   "source": []
  },
  {
   "cell_type": "code",
   "execution_count": 17,
   "metadata": {},
   "outputs": [
    {
     "name": "stdout",
     "output_type": "stream",
     "text": [
      "Writing OTP suggested itineraries legs with actual time to file...\n"
     ]
    }
   ],
   "source": [
    "print \"Writing OTP suggested itineraries legs with actual time to file...\"\n",
    "#clean_legs_actual_time.write.csv(path=results_folderpath+'/otp_legs_matched',header=True, mode='append')\n"
   ]
  },
  {
   "cell_type": "code",
   "execution_count": null,
   "metadata": {
    "collapsed": true
   },
   "outputs": [],
   "source": []
  },
  {
   "cell_type": "code",
   "execution_count": 18,
   "metadata": {
    "collapsed": true
   },
   "outputs": [],
   "source": [
    "#Clean Memory\n",
    "#clean_otp_legs_actual_time.unpersist(blocking=True)\n",
    "#all_legs_actual_time.unpersist(blocking=True)"
   ]
  },
  {
   "cell_type": "code",
   "execution_count": null,
   "metadata": {
    "collapsed": true
   },
   "outputs": [],
   "source": []
  },
  {
   "cell_type": "code",
   "execution_count": 20,
   "metadata": {},
   "outputs": [
    {
     "name": "stdout",
     "output_type": "stream",
     "text": [
      "Identifying itinerary alternatives which are feasible...\n"
     ]
    }
   ],
   "source": [
    "print \"Identifying itinerary alternatives which are feasible...\"\n",
    "trips_itineraries_possibilities, filtered_trips_possibilities = determining_trips_alternatives_feasibility(clean_legs_actual_time,od_matrix)\t"
   ]
  },
  {
   "cell_type": "code",
   "execution_count": 21,
   "metadata": {},
   "outputs": [
    {
     "data": {
      "text/html": [
       "<div>\n",
       "<style>\n",
       "    .dataframe thead tr:only-child th {\n",
       "        text-align: right;\n",
       "    }\n",
       "\n",
       "    .dataframe thead th {\n",
       "        text-align: left;\n",
       "    }\n",
       "\n",
       "    .dataframe tbody tr th {\n",
       "        vertical-align: top;\n",
       "    }\n",
       "</style>\n",
       "<table border=\"1\" class=\"dataframe\">\n",
       "  <thead>\n",
       "    <tr style=\"text-align: right;\">\n",
       "      <th></th>\n",
       "      <th>date</th>\n",
       "      <th>user_trip_id</th>\n",
       "      <th>itinerary_id</th>\n",
       "      <th>duration</th>\n",
       "      <th>alt_start_time</th>\n",
       "      <th>exec_start_time</th>\n",
       "      <th>start_diff</th>\n",
       "    </tr>\n",
       "  </thead>\n",
       "  <tbody>\n",
       "    <tr>\n",
       "      <th>0</th>\n",
       "      <td>2017-04-30</td>\n",
       "      <td>27</td>\n",
       "      <td>1</td>\n",
       "      <td>12.816667</td>\n",
       "      <td>2017-05-01 04:39:57</td>\n",
       "      <td>2017-04-30 17:35:46</td>\n",
       "      <td>664.183333</td>\n",
       "    </tr>\n",
       "    <tr>\n",
       "      <th>1</th>\n",
       "      <td>2017-04-30</td>\n",
       "      <td>27</td>\n",
       "      <td>2</td>\n",
       "      <td>12.816667</td>\n",
       "      <td>2017-04-30 23:46:59</td>\n",
       "      <td>2017-04-30 17:35:46</td>\n",
       "      <td>371.216667</td>\n",
       "    </tr>\n",
       "    <tr>\n",
       "      <th>2</th>\n",
       "      <td>2017-04-30</td>\n",
       "      <td>27</td>\n",
       "      <td>3</td>\n",
       "      <td>12.816667</td>\n",
       "      <td>2017-05-01 05:09:57</td>\n",
       "      <td>2017-04-30 17:35:46</td>\n",
       "      <td>694.183333</td>\n",
       "    </tr>\n",
       "    <tr>\n",
       "      <th>3</th>\n",
       "      <td>2017-04-30</td>\n",
       "      <td>8589934609</td>\n",
       "      <td>1</td>\n",
       "      <td>11.166667</td>\n",
       "      <td>2017-04-30 00:07:01</td>\n",
       "      <td>2017-04-30 00:09:01</td>\n",
       "      <td>2.000000</td>\n",
       "    </tr>\n",
       "    <tr>\n",
       "      <th>4</th>\n",
       "      <td>2017-04-30</td>\n",
       "      <td>8589934633</td>\n",
       "      <td>1</td>\n",
       "      <td>4.883333</td>\n",
       "      <td>2017-04-30 10:58:01</td>\n",
       "      <td>2017-04-30 11:00:01</td>\n",
       "      <td>2.000000</td>\n",
       "    </tr>\n",
       "    <tr>\n",
       "      <th>5</th>\n",
       "      <td>2017-04-30</td>\n",
       "      <td>8589934636</td>\n",
       "      <td>1</td>\n",
       "      <td>25.183333</td>\n",
       "      <td>2017-04-30 07:51:13</td>\n",
       "      <td>2017-04-30 07:53:13</td>\n",
       "      <td>2.000000</td>\n",
       "    </tr>\n",
       "    <tr>\n",
       "      <th>6</th>\n",
       "      <td>2017-04-30</td>\n",
       "      <td>8589934688</td>\n",
       "      <td>1</td>\n",
       "      <td>10.933333</td>\n",
       "      <td>2017-04-30 23:48:16</td>\n",
       "      <td>2017-04-30 06:01:03</td>\n",
       "      <td>1067.216667</td>\n",
       "    </tr>\n",
       "    <tr>\n",
       "      <th>7</th>\n",
       "      <td>2017-04-30</td>\n",
       "      <td>8589934688</td>\n",
       "      <td>2</td>\n",
       "      <td>10.933333</td>\n",
       "      <td>2017-05-01 06:09:55</td>\n",
       "      <td>2017-04-30 06:01:03</td>\n",
       "      <td>1448.866667</td>\n",
       "    </tr>\n",
       "    <tr>\n",
       "      <th>8</th>\n",
       "      <td>2017-04-30</td>\n",
       "      <td>8589934688</td>\n",
       "      <td>3</td>\n",
       "      <td>10.933333</td>\n",
       "      <td>2017-05-01 06:28:55</td>\n",
       "      <td>2017-04-30 06:01:03</td>\n",
       "      <td>1467.866667</td>\n",
       "    </tr>\n",
       "    <tr>\n",
       "      <th>9</th>\n",
       "      <td>2017-04-30</td>\n",
       "      <td>8589934690</td>\n",
       "      <td>1</td>\n",
       "      <td>24.400000</td>\n",
       "      <td>2017-04-30 13:46:04</td>\n",
       "      <td>2017-04-30 13:48:04</td>\n",
       "      <td>2.000000</td>\n",
       "    </tr>\n",
       "  </tbody>\n",
       "</table>\n",
       "</div>"
      ],
      "text/plain": [
       "         date  user_trip_id  itinerary_id   duration       alt_start_time  \\\n",
       "0  2017-04-30            27             1  12.816667  2017-05-01 04:39:57   \n",
       "1  2017-04-30            27             2  12.816667  2017-04-30 23:46:59   \n",
       "2  2017-04-30            27             3  12.816667  2017-05-01 05:09:57   \n",
       "3  2017-04-30    8589934609             1  11.166667  2017-04-30 00:07:01   \n",
       "4  2017-04-30    8589934633             1   4.883333  2017-04-30 10:58:01   \n",
       "5  2017-04-30    8589934636             1  25.183333  2017-04-30 07:51:13   \n",
       "6  2017-04-30    8589934688             1  10.933333  2017-04-30 23:48:16   \n",
       "7  2017-04-30    8589934688             2  10.933333  2017-05-01 06:09:55   \n",
       "8  2017-04-30    8589934688             3  10.933333  2017-05-01 06:28:55   \n",
       "9  2017-04-30    8589934690             1  24.400000  2017-04-30 13:46:04   \n",
       "\n",
       "       exec_start_time   start_diff  \n",
       "0  2017-04-30 17:35:46   664.183333  \n",
       "1  2017-04-30 17:35:46   371.216667  \n",
       "2  2017-04-30 17:35:46   694.183333  \n",
       "3  2017-04-30 00:09:01     2.000000  \n",
       "4  2017-04-30 11:00:01     2.000000  \n",
       "5  2017-04-30 07:53:13     2.000000  \n",
       "6  2017-04-30 06:01:03  1067.216667  \n",
       "7  2017-04-30 06:01:03  1448.866667  \n",
       "8  2017-04-30 06:01:03  1467.866667  \n",
       "9  2017-04-30 13:48:04     2.000000  "
      ]
     },
     "execution_count": 21,
     "metadata": {},
     "output_type": "execute_result"
    }
   ],
   "source": [
    "printdf(trips_itineraries_possibilities,l=10)"
   ]
  },
  {
   "cell_type": "code",
   "execution_count": 22,
   "metadata": {},
   "outputs": [
    {
     "data": {
      "text/html": [
       "<div>\n",
       "<style>\n",
       "    .dataframe thead tr:only-child th {\n",
       "        text-align: right;\n",
       "    }\n",
       "\n",
       "    .dataframe thead th {\n",
       "        text-align: left;\n",
       "    }\n",
       "\n",
       "    .dataframe tbody tr th {\n",
       "        vertical-align: top;\n",
       "    }\n",
       "</style>\n",
       "<table border=\"1\" class=\"dataframe\">\n",
       "  <thead>\n",
       "    <tr style=\"text-align: right;\">\n",
       "      <th></th>\n",
       "      <th>date</th>\n",
       "      <th>user_trip_id</th>\n",
       "      <th>itinerary_id</th>\n",
       "      <th>duration</th>\n",
       "      <th>alt_start_time</th>\n",
       "    </tr>\n",
       "  </thead>\n",
       "  <tbody>\n",
       "    <tr>\n",
       "      <th>0</th>\n",
       "      <td>2017-04-30</td>\n",
       "      <td>8589934609</td>\n",
       "      <td>1</td>\n",
       "      <td>11.166667</td>\n",
       "      <td>2017-04-30 00:07:01</td>\n",
       "    </tr>\n",
       "    <tr>\n",
       "      <th>1</th>\n",
       "      <td>2017-04-30</td>\n",
       "      <td>8589934633</td>\n",
       "      <td>1</td>\n",
       "      <td>4.883333</td>\n",
       "      <td>2017-04-30 10:58:01</td>\n",
       "    </tr>\n",
       "    <tr>\n",
       "      <th>2</th>\n",
       "      <td>2017-04-30</td>\n",
       "      <td>8589934636</td>\n",
       "      <td>1</td>\n",
       "      <td>25.183333</td>\n",
       "      <td>2017-04-30 07:51:13</td>\n",
       "    </tr>\n",
       "    <tr>\n",
       "      <th>3</th>\n",
       "      <td>2017-04-30</td>\n",
       "      <td>8589934690</td>\n",
       "      <td>1</td>\n",
       "      <td>24.400000</td>\n",
       "      <td>2017-04-30 13:46:04</td>\n",
       "    </tr>\n",
       "    <tr>\n",
       "      <th>4</th>\n",
       "      <td>2017-04-30</td>\n",
       "      <td>17179869210</td>\n",
       "      <td>1</td>\n",
       "      <td>10.050000</td>\n",
       "      <td>2017-04-30 14:57:25</td>\n",
       "    </tr>\n",
       "    <tr>\n",
       "      <th>5</th>\n",
       "      <td>2017-04-30</td>\n",
       "      <td>25769803785</td>\n",
       "      <td>1</td>\n",
       "      <td>2.833333</td>\n",
       "      <td>2017-04-30 14:27:14</td>\n",
       "    </tr>\n",
       "    <tr>\n",
       "      <th>6</th>\n",
       "      <td>2017-04-30</td>\n",
       "      <td>34359738424</td>\n",
       "      <td>1</td>\n",
       "      <td>13.566667</td>\n",
       "      <td>2017-04-30 09:30:30</td>\n",
       "    </tr>\n",
       "    <tr>\n",
       "      <th>7</th>\n",
       "      <td>2017-04-30</td>\n",
       "      <td>34359738438</td>\n",
       "      <td>1</td>\n",
       "      <td>8.866667</td>\n",
       "      <td>2017-04-30 19:26:55</td>\n",
       "    </tr>\n",
       "    <tr>\n",
       "      <th>8</th>\n",
       "      <td>2017-04-30</td>\n",
       "      <td>42949672970</td>\n",
       "      <td>1</td>\n",
       "      <td>3.200000</td>\n",
       "      <td>2017-04-30 19:45:54</td>\n",
       "    </tr>\n",
       "    <tr>\n",
       "      <th>9</th>\n",
       "      <td>2017-04-30</td>\n",
       "      <td>42949672997</td>\n",
       "      <td>1</td>\n",
       "      <td>16.850000</td>\n",
       "      <td>2017-04-30 11:49:43</td>\n",
       "    </tr>\n",
       "  </tbody>\n",
       "</table>\n",
       "</div>"
      ],
      "text/plain": [
       "         date  user_trip_id  itinerary_id   duration       alt_start_time\n",
       "0  2017-04-30    8589934609             1  11.166667  2017-04-30 00:07:01\n",
       "1  2017-04-30    8589934633             1   4.883333  2017-04-30 10:58:01\n",
       "2  2017-04-30    8589934636             1  25.183333  2017-04-30 07:51:13\n",
       "3  2017-04-30    8589934690             1  24.400000  2017-04-30 13:46:04\n",
       "4  2017-04-30   17179869210             1  10.050000  2017-04-30 14:57:25\n",
       "5  2017-04-30   25769803785             1   2.833333  2017-04-30 14:27:14\n",
       "6  2017-04-30   34359738424             1  13.566667  2017-04-30 09:30:30\n",
       "7  2017-04-30   34359738438             1   8.866667  2017-04-30 19:26:55\n",
       "8  2017-04-30   42949672970             1   3.200000  2017-04-30 19:45:54\n",
       "9  2017-04-30   42949672997             1  16.850000  2017-04-30 11:49:43"
      ]
     },
     "execution_count": 22,
     "metadata": {},
     "output_type": "execute_result"
    }
   ],
   "source": [
    "printdf(filtered_trips_possibilities,l=10)"
   ]
  },
  {
   "cell_type": "code",
   "execution_count": null,
   "metadata": {
    "collapsed": true
   },
   "outputs": [],
   "source": []
  },
  {
   "cell_type": "code",
   "execution_count": null,
   "metadata": {
    "collapsed": true
   },
   "outputs": [],
   "source": [
    "print \"Writing itineraries possibilities with feasibility to file...\"\n",
    "#trips_itineraries_possibilities.write.csv(path=results_folderpath+'/itineraries_alternatives',header=True, mode='append')\n"
   ]
  },
  {
   "cell_type": "code",
   "execution_count": null,
   "metadata": {
    "collapsed": true
   },
   "outputs": [],
   "source": []
  },
  {
   "cell_type": "code",
   "execution_count": 28,
   "metadata": {},
   "outputs": [
    {
     "name": "stdout",
     "output_type": "stream",
     "text": [
      "Adding executed trips to the pool of itinerary possibilities...\n"
     ]
    }
   ],
   "source": [
    "print \"Adding executed trips to the pool of itinerary possibilities...\"\n",
    "trips_itineraries_pool = get_trips_itineraries_pool(filtered_trips_possibilities,od_matrix)\n"
   ]
  },
  {
   "cell_type": "code",
   "execution_count": 29,
   "metadata": {},
   "outputs": [
    {
     "data": {
      "text/html": [
       "<div>\n",
       "<style>\n",
       "    .dataframe thead tr:only-child th {\n",
       "        text-align: right;\n",
       "    }\n",
       "\n",
       "    .dataframe thead th {\n",
       "        text-align: left;\n",
       "    }\n",
       "\n",
       "    .dataframe tbody tr th {\n",
       "        vertical-align: top;\n",
       "    }\n",
       "</style>\n",
       "<table border=\"1\" class=\"dataframe\">\n",
       "  <thead>\n",
       "    <tr style=\"text-align: right;\">\n",
       "      <th></th>\n",
       "      <th>date</th>\n",
       "      <th>user_trip_id</th>\n",
       "      <th>itinerary_id</th>\n",
       "      <th>duration</th>\n",
       "      <th>alt_start_time</th>\n",
       "    </tr>\n",
       "  </thead>\n",
       "  <tbody>\n",
       "    <tr>\n",
       "      <th>0</th>\n",
       "      <td>2017-04-30</td>\n",
       "      <td>8589934609</td>\n",
       "      <td>1</td>\n",
       "      <td>11.166667</td>\n",
       "      <td>2017-04-30 00:07:01</td>\n",
       "    </tr>\n",
       "    <tr>\n",
       "      <th>1</th>\n",
       "      <td>2017-04-30</td>\n",
       "      <td>8589934633</td>\n",
       "      <td>1</td>\n",
       "      <td>4.883333</td>\n",
       "      <td>2017-04-30 10:58:01</td>\n",
       "    </tr>\n",
       "    <tr>\n",
       "      <th>2</th>\n",
       "      <td>2017-04-30</td>\n",
       "      <td>8589934636</td>\n",
       "      <td>1</td>\n",
       "      <td>25.183333</td>\n",
       "      <td>2017-04-30 07:51:13</td>\n",
       "    </tr>\n",
       "    <tr>\n",
       "      <th>3</th>\n",
       "      <td>2017-04-30</td>\n",
       "      <td>8589934690</td>\n",
       "      <td>1</td>\n",
       "      <td>24.400000</td>\n",
       "      <td>2017-04-30 13:46:04</td>\n",
       "    </tr>\n",
       "    <tr>\n",
       "      <th>4</th>\n",
       "      <td>2017-04-30</td>\n",
       "      <td>17179869210</td>\n",
       "      <td>1</td>\n",
       "      <td>10.050000</td>\n",
       "      <td>2017-04-30 14:57:25</td>\n",
       "    </tr>\n",
       "    <tr>\n",
       "      <th>5</th>\n",
       "      <td>2017-04-30</td>\n",
       "      <td>25769803785</td>\n",
       "      <td>1</td>\n",
       "      <td>2.833333</td>\n",
       "      <td>2017-04-30 14:27:14</td>\n",
       "    </tr>\n",
       "    <tr>\n",
       "      <th>6</th>\n",
       "      <td>2017-04-30</td>\n",
       "      <td>34359738424</td>\n",
       "      <td>1</td>\n",
       "      <td>13.566667</td>\n",
       "      <td>2017-04-30 09:30:30</td>\n",
       "    </tr>\n",
       "    <tr>\n",
       "      <th>7</th>\n",
       "      <td>2017-04-30</td>\n",
       "      <td>34359738438</td>\n",
       "      <td>1</td>\n",
       "      <td>8.866667</td>\n",
       "      <td>2017-04-30 19:26:55</td>\n",
       "    </tr>\n",
       "    <tr>\n",
       "      <th>8</th>\n",
       "      <td>2017-04-30</td>\n",
       "      <td>42949672970</td>\n",
       "      <td>1</td>\n",
       "      <td>3.200000</td>\n",
       "      <td>2017-04-30 19:45:54</td>\n",
       "    </tr>\n",
       "    <tr>\n",
       "      <th>9</th>\n",
       "      <td>2017-04-30</td>\n",
       "      <td>42949672997</td>\n",
       "      <td>1</td>\n",
       "      <td>16.850000</td>\n",
       "      <td>2017-04-30 11:49:43</td>\n",
       "    </tr>\n",
       "  </tbody>\n",
       "</table>\n",
       "</div>"
      ],
      "text/plain": [
       "         date  user_trip_id  itinerary_id   duration       alt_start_time\n",
       "0  2017-04-30    8589934609             1  11.166667  2017-04-30 00:07:01\n",
       "1  2017-04-30    8589934633             1   4.883333  2017-04-30 10:58:01\n",
       "2  2017-04-30    8589934636             1  25.183333  2017-04-30 07:51:13\n",
       "3  2017-04-30    8589934690             1  24.400000  2017-04-30 13:46:04\n",
       "4  2017-04-30   17179869210             1  10.050000  2017-04-30 14:57:25\n",
       "5  2017-04-30   25769803785             1   2.833333  2017-04-30 14:27:14\n",
       "6  2017-04-30   34359738424             1  13.566667  2017-04-30 09:30:30\n",
       "7  2017-04-30   34359738438             1   8.866667  2017-04-30 19:26:55\n",
       "8  2017-04-30   42949672970             1   3.200000  2017-04-30 19:45:54\n",
       "9  2017-04-30   42949672997             1  16.850000  2017-04-30 11:49:43"
      ]
     },
     "execution_count": 29,
     "metadata": {},
     "output_type": "execute_result"
    }
   ],
   "source": [
    "printdf(trips_itineraries_pool,l=10)"
   ]
  },
  {
   "cell_type": "code",
   "execution_count": null,
   "metadata": {
    "collapsed": true
   },
   "outputs": [],
   "source": []
  },
  {
   "cell_type": "code",
   "execution_count": 30,
   "metadata": {},
   "outputs": [
    {
     "name": "stdout",
     "output_type": "stream",
     "text": [
      "Selecting best otp itineraries by actual duration...\n"
     ]
    }
   ],
   "source": [
    "print \"Selecting best otp itineraries by actual duration...\"\n",
    "best_trips_itineraries = select_best_trip_itineraries(trips_itineraries_pool)"
   ]
  },
  {
   "cell_type": "code",
   "execution_count": 31,
   "metadata": {},
   "outputs": [
    {
     "data": {
      "text/html": [
       "<div>\n",
       "<style>\n",
       "    .dataframe thead tr:only-child th {\n",
       "        text-align: right;\n",
       "    }\n",
       "\n",
       "    .dataframe thead th {\n",
       "        text-align: left;\n",
       "    }\n",
       "\n",
       "    .dataframe tbody tr th {\n",
       "        vertical-align: top;\n",
       "    }\n",
       "</style>\n",
       "<table border=\"1\" class=\"dataframe\">\n",
       "  <thead>\n",
       "    <tr style=\"text-align: right;\">\n",
       "      <th></th>\n",
       "      <th>date</th>\n",
       "      <th>user_trip_id</th>\n",
       "      <th>itinerary_id</th>\n",
       "      <th>duration</th>\n",
       "      <th>alt_start_time</th>\n",
       "    </tr>\n",
       "  </thead>\n",
       "  <tbody>\n",
       "    <tr>\n",
       "      <th>0</th>\n",
       "      <td>2017-04-30</td>\n",
       "      <td>489626271813</td>\n",
       "      <td>0</td>\n",
       "      <td>96.633333</td>\n",
       "      <td>2017-04-30 17:11:48</td>\n",
       "    </tr>\n",
       "    <tr>\n",
       "      <th>1</th>\n",
       "      <td>2017-04-30</td>\n",
       "      <td>841813590060</td>\n",
       "      <td>1</td>\n",
       "      <td>14.216667</td>\n",
       "      <td>2017-04-30 10:58:14</td>\n",
       "    </tr>\n",
       "    <tr>\n",
       "      <th>2</th>\n",
       "      <td>2017-04-30</td>\n",
       "      <td>936302870557</td>\n",
       "      <td>0</td>\n",
       "      <td>95.650000</td>\n",
       "      <td>2017-04-30 07:54:34</td>\n",
       "    </tr>\n",
       "    <tr>\n",
       "      <th>3</th>\n",
       "      <td>2017-04-30</td>\n",
       "      <td>1108101562410</td>\n",
       "      <td>0</td>\n",
       "      <td>28.850000</td>\n",
       "      <td>2017-04-30 11:02:29</td>\n",
       "    </tr>\n",
       "    <tr>\n",
       "      <th>4</th>\n",
       "      <td>2017-04-30</td>\n",
       "      <td>816043786314</td>\n",
       "      <td>0</td>\n",
       "      <td>39.450000</td>\n",
       "      <td>2017-04-30 15:47:40</td>\n",
       "    </tr>\n",
       "    <tr>\n",
       "      <th>5</th>\n",
       "      <td>2017-04-30</td>\n",
       "      <td>1142461300756</td>\n",
       "      <td>0</td>\n",
       "      <td>5.750000</td>\n",
       "      <td>2017-04-30 12:07:23</td>\n",
       "    </tr>\n",
       "    <tr>\n",
       "      <th>6</th>\n",
       "      <td>2017-04-30</td>\n",
       "      <td>1511828488249</td>\n",
       "      <td>0</td>\n",
       "      <td>33.633333</td>\n",
       "      <td>2017-04-30 12:30:42</td>\n",
       "    </tr>\n",
       "    <tr>\n",
       "      <th>7</th>\n",
       "      <td>2017-04-30</td>\n",
       "      <td>1709396983917</td>\n",
       "      <td>0</td>\n",
       "      <td>32.783333</td>\n",
       "      <td>2017-04-30 21:25:08</td>\n",
       "    </tr>\n",
       "    <tr>\n",
       "      <th>8</th>\n",
       "      <td>2017-04-30</td>\n",
       "      <td>146028888083</td>\n",
       "      <td>0</td>\n",
       "      <td>71.516667</td>\n",
       "      <td>2017-04-30 17:25:48</td>\n",
       "    </tr>\n",
       "    <tr>\n",
       "      <th>9</th>\n",
       "      <td>2017-04-30</td>\n",
       "      <td>1340029796370</td>\n",
       "      <td>1</td>\n",
       "      <td>25.550000</td>\n",
       "      <td>2017-04-30 14:19:43</td>\n",
       "    </tr>\n",
       "    <tr>\n",
       "      <th>10</th>\n",
       "      <td>2017-04-30</td>\n",
       "      <td>1477468749915</td>\n",
       "      <td>0</td>\n",
       "      <td>0.083333</td>\n",
       "      <td>2017-04-30 08:26:11</td>\n",
       "    </tr>\n",
       "    <tr>\n",
       "      <th>11</th>\n",
       "      <td>2017-04-30</td>\n",
       "      <td>1606317768793</td>\n",
       "      <td>0</td>\n",
       "      <td>78.433333</td>\n",
       "      <td>2017-04-30 05:34:36</td>\n",
       "    </tr>\n",
       "    <tr>\n",
       "      <th>12</th>\n",
       "      <td>2017-04-30</td>\n",
       "      <td>1623497637964</td>\n",
       "      <td>0</td>\n",
       "      <td>122.833333</td>\n",
       "      <td>2017-04-30 16:42:25</td>\n",
       "    </tr>\n",
       "    <tr>\n",
       "      <th>13</th>\n",
       "      <td>2017-04-30</td>\n",
       "      <td>68719476783</td>\n",
       "      <td>0</td>\n",
       "      <td>39.466667</td>\n",
       "      <td>2017-04-30 10:14:11</td>\n",
       "    </tr>\n",
       "    <tr>\n",
       "      <th>14</th>\n",
       "      <td>2017-04-30</td>\n",
       "      <td>137438953486</td>\n",
       "      <td>0</td>\n",
       "      <td>3.683333</td>\n",
       "      <td>2017-04-30 15:43:44</td>\n",
       "    </tr>\n",
       "    <tr>\n",
       "      <th>15</th>\n",
       "      <td>2017-04-30</td>\n",
       "      <td>944892805148</td>\n",
       "      <td>0</td>\n",
       "      <td>665.783333</td>\n",
       "      <td>2017-04-30 07:29:24</td>\n",
       "    </tr>\n",
       "    <tr>\n",
       "      <th>16</th>\n",
       "      <td>2017-04-30</td>\n",
       "      <td>1022202216456</td>\n",
       "      <td>0</td>\n",
       "      <td>362.333333</td>\n",
       "      <td>2017-04-30 16:13:01</td>\n",
       "    </tr>\n",
       "    <tr>\n",
       "      <th>17</th>\n",
       "      <td>2017-04-30</td>\n",
       "      <td>1142461300839</td>\n",
       "      <td>0</td>\n",
       "      <td>82.716667</td>\n",
       "      <td>2017-04-30 19:28:12</td>\n",
       "    </tr>\n",
       "    <tr>\n",
       "      <th>18</th>\n",
       "      <td>2017-04-30</td>\n",
       "      <td>1151051235338</td>\n",
       "      <td>1</td>\n",
       "      <td>3.366667</td>\n",
       "      <td>2017-04-30 16:25:32</td>\n",
       "    </tr>\n",
       "    <tr>\n",
       "      <th>19</th>\n",
       "      <td>2017-04-30</td>\n",
       "      <td>1546188226598</td>\n",
       "      <td>0</td>\n",
       "      <td>17.350000</td>\n",
       "      <td>2017-04-30 21:27:22</td>\n",
       "    </tr>\n",
       "  </tbody>\n",
       "</table>\n",
       "</div>"
      ],
      "text/plain": [
       "          date   user_trip_id  itinerary_id    duration       alt_start_time\n",
       "0   2017-04-30   489626271813             0   96.633333  2017-04-30 17:11:48\n",
       "1   2017-04-30   841813590060             1   14.216667  2017-04-30 10:58:14\n",
       "2   2017-04-30   936302870557             0   95.650000  2017-04-30 07:54:34\n",
       "3   2017-04-30  1108101562410             0   28.850000  2017-04-30 11:02:29\n",
       "4   2017-04-30   816043786314             0   39.450000  2017-04-30 15:47:40\n",
       "5   2017-04-30  1142461300756             0    5.750000  2017-04-30 12:07:23\n",
       "6   2017-04-30  1511828488249             0   33.633333  2017-04-30 12:30:42\n",
       "7   2017-04-30  1709396983917             0   32.783333  2017-04-30 21:25:08\n",
       "8   2017-04-30   146028888083             0   71.516667  2017-04-30 17:25:48\n",
       "9   2017-04-30  1340029796370             1   25.550000  2017-04-30 14:19:43\n",
       "10  2017-04-30  1477468749915             0    0.083333  2017-04-30 08:26:11\n",
       "11  2017-04-30  1606317768793             0   78.433333  2017-04-30 05:34:36\n",
       "12  2017-04-30  1623497637964             0  122.833333  2017-04-30 16:42:25\n",
       "13  2017-04-30    68719476783             0   39.466667  2017-04-30 10:14:11\n",
       "14  2017-04-30   137438953486             0    3.683333  2017-04-30 15:43:44\n",
       "15  2017-04-30   944892805148             0  665.783333  2017-04-30 07:29:24\n",
       "16  2017-04-30  1022202216456             0  362.333333  2017-04-30 16:13:01\n",
       "17  2017-04-30  1142461300839             0   82.716667  2017-04-30 19:28:12\n",
       "18  2017-04-30  1151051235338             1    3.366667  2017-04-30 16:25:32\n",
       "19  2017-04-30  1546188226598             0   17.350000  2017-04-30 21:27:22"
      ]
     },
     "execution_count": 31,
     "metadata": {},
     "output_type": "execute_result"
    }
   ],
   "source": [
    "printdf(best_trips_itineraries,l=20)"
   ]
  },
  {
   "cell_type": "code",
   "execution_count": null,
   "metadata": {
    "collapsed": true
   },
   "outputs": [],
   "source": []
  },
  {
   "cell_type": "code",
   "execution_count": null,
   "metadata": {
    "collapsed": true
   },
   "outputs": [],
   "source": [
    "#Clean Memory\n",
    "clean_legs_actual_time.unpersist(blocking=True)\n",
    "trips_itineraries_possibilities.unpersist(blocking=True)\n",
    "filtered_trips_possibilities.unpersist(blocking=True)\n",
    "trips_itineraries_pool.unpersist(blocking=True)\n"
   ]
  },
  {
   "cell_type": "code",
   "execution_count": null,
   "metadata": {
    "collapsed": true
   },
   "outputs": [],
   "source": []
  },
  {
   "cell_type": "code",
   "execution_count": null,
   "metadata": {
    "collapsed": true
   },
   "outputs": [],
   "source": [
    "print \"Computing Improvement Capacity...\"\n",
    "duration_improvement_capacity = compute_improvement_capacity(best_trips_itineraries,od_matrix)\n"
   ]
  },
  {
   "cell_type": "code",
   "execution_count": null,
   "metadata": {
    "collapsed": true
   },
   "outputs": [],
   "source": []
  },
  {
   "cell_type": "code",
   "execution_count": null,
   "metadata": {
    "collapsed": true
   },
   "outputs": [],
   "source": [
    "best_trips_itineraries.unpersist(blocking=True)\n",
    "od_matrix.unpersist(blocking=True)"
   ]
  },
  {
   "cell_type": "code",
   "execution_count": null,
   "metadata": {
    "collapsed": true
   },
   "outputs": [],
   "source": []
  },
  {
   "cell_type": "code",
   "execution_count": null,
   "metadata": {
    "collapsed": true
   },
   "outputs": [],
   "source": [
    "print \"Writing duration improvement capacity to file...\"\n",
    "#duration_improvement_capacity.write.csv(path=results_folderpath+'/duration_improvement_capacity',header=True, mode='append')\n"
   ]
  },
  {
   "cell_type": "code",
   "execution_count": null,
   "metadata": {
    "collapsed": true
   },
   "outputs": [],
   "source": [
    "print \"Finishing Script...\""
   ]
  },
  {
   "cell_type": "code",
   "execution_count": null,
   "metadata": {
    "collapsed": true
   },
   "outputs": [],
   "source": [
    "sc.stop()\n"
   ]
  }
 ],
 "metadata": {
  "kernelspec": {
   "display_name": "Python 2",
   "language": "python",
   "name": "python2"
  },
  "language_info": {
   "codemirror_mode": {
    "name": "ipython",
    "version": 2
   },
   "file_extension": ".py",
   "mimetype": "text/x-python",
   "name": "python",
   "nbconvert_exporter": "python",
   "pygments_lexer": "ipython2",
   "version": "2.7.14"
  }
 },
 "nbformat": 4,
 "nbformat_minor": 2
}
