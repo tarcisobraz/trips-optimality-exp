{
 "cells": [
  {
   "cell_type": "code",
   "execution_count": 1,
   "metadata": {
    "collapsed": true
   },
   "outputs": [],
   "source": [
    "import pyspark\n",
    "from pyspark import SparkContext\n",
    "from pyspark.sql import SparkSession\n",
    "from pyspark.sql import functions as F"
   ]
  },
  {
   "cell_type": "code",
   "execution_count": 2,
   "metadata": {
    "collapsed": true
   },
   "outputs": [],
   "source": [
    "def rename_columns(df, list_of_tuples):\n",
    "    for (old_col, new_col) in list_of_tuples:\n",
    "        df = df.withColumnRenamed(old_col, new_col)\n",
    "    return df\n",
    "\n",
    "def read_hdfs_folder(sqlContext, folderpath):\n",
    "    data_frame = sqlContext.read.csv(folderpath, header=True,\n",
    "                                     inferSchema=True,nullValue=\"-\")\n",
    "    return data_frame\n",
    "\n",
    "def read_buste_data_v3(sqlContext, folderpath):\n",
    "    data_frame = read_hdfs_folder(sqlContext,folderpath)\n",
    "    \n",
    "    date = \"-\".join(folderpath.split(\"/\")[-2].split(\"_\")[:3])\n",
    "\n",
    "    data_frame = data_frame.withColumn(\"date\", F.lit(date))\n",
    "    \n",
    "    return data_frame\n",
    "\n",
    "def printdf(df,l=10):\n",
    "    return df.limit(l).toPandas()"
   ]
  },
  {
   "cell_type": "code",
   "execution_count": 3,
   "metadata": {
    "collapsed": true
   },
   "outputs": [],
   "source": [
    "spark  = SparkSession.builder.getOrCreate()\n",
    "sc = spark.sparkContext\n",
    "sqlContext = pyspark.SQLContext(sc)"
   ]
  },
  {
   "cell_type": "markdown",
   "metadata": {},
   "source": [
    "### Reading Data"
   ]
  },
  {
   "cell_type": "code",
   "execution_count": 31,
   "metadata": {},
   "outputs": [
    {
     "name": "stdout",
     "output_type": "stream",
     "text": [
      "\n"
     ]
    }
   ],
   "source": [
    "base_folder_path = '/local/tarciso/masters/data/bus_trips/buste-v3a/may_jun_jul/'"
   ]
  },
  {
   "cell_type": "code",
   "execution_count": null,
   "metadata": {
    "collapsed": true
   },
   "outputs": [],
   "source": [
    "od_matrix = read_hdfs_folder(sqlContext,base_folder_path + 'filtered_od/')"
   ]
  },
  {
   "cell_type": "code",
   "execution_count": 14,
   "metadata": {},
   "outputs": [
    {
     "name": "stdout",
     "output_type": "stream",
     "text": [
      "root\n",
      " |-- route: integer (nullable = true)\n",
      " |-- tripNum: integer (nullable = true)\n",
      " |-- shapeId: integer (nullable = true)\n",
      " |-- shapeSequence: integer (nullable = true)\n",
      " |-- shapeLat: double (nullable = true)\n",
      " |-- shapeLon: double (nullable = true)\n",
      " |-- distanceTraveledShape: double (nullable = true)\n",
      " |-- busCode: string (nullable = true)\n",
      " |-- gpsPointId: string (nullable = true)\n",
      " |-- gpsLat: double (nullable = true)\n",
      " |-- gpsLon: double (nullable = true)\n",
      " |-- distanceToShapePoint: double (nullable = true)\n",
      " |-- timestamp: string (nullable = true)\n",
      " |-- stopPointId: integer (nullable = true)\n",
      " |-- problem: string (nullable = true)\n",
      " |-- birthdate: string (nullable = true)\n",
      " |-- cardTimestamp: string (nullable = true)\n",
      " |-- lineName: string (nullable = true)\n",
      " |-- gender: string (nullable = true)\n",
      " |-- date: integer (nullable = true)\n",
      " |-- id: long (nullable = true)\n",
      " |-- o_route: integer (nullable = true)\n",
      " |-- o_bus_code: string (nullable = true)\n",
      " |-- o_date: integer (nullable = true)\n",
      " |-- o_tripNum: integer (nullable = true)\n",
      " |-- o_timestamp: string (nullable = true)\n",
      " |-- o_shape_id: integer (nullable = true)\n",
      " |-- o_shape_seq: integer (nullable = true)\n",
      " |-- o_shape_lat: double (nullable = true)\n",
      " |-- o_shape_lon: double (nullable = true)\n",
      " |-- o_stop_id: integer (nullable = true)\n",
      " |-- o_boarding_id: long (nullable = true)\n",
      " |-- cardNum: integer (nullable = true)\n",
      " |-- next_o_route: string (nullable = true)\n",
      " |-- next_o_bus_code: string (nullable = true)\n",
      " |-- next_o_date: integer (nullable = true)\n",
      " |-- next_o_tripNum: integer (nullable = true)\n",
      " |-- next_o_timestamp: string (nullable = true)\n",
      " |-- next_o_shape_id: integer (nullable = true)\n",
      " |-- next_o_shape_seq: integer (nullable = true)\n",
      " |-- next_o_shape_lat: double (nullable = true)\n",
      " |-- next_o_shape_lon: double (nullable = true)\n",
      " |-- next_o_stop_id: integer (nullable = true)\n",
      " |-- next_o_boarding_id: long (nullable = true)\n",
      " |-- o_unixtimestamp: integer (nullable = true)\n",
      " |-- next_o_unixtimestamp: integer (nullable = true)\n",
      " |-- leg_duration: double (nullable = true)\n",
      " |-- dist: double (nullable = true)\n",
      " |-- rn: integer (nullable = true)\n",
      "\n"
     ]
    }
   ],
   "source": [
    "od_matrix.printSchema()"
   ]
  },
  {
   "cell_type": "code",
   "execution_count": 15,
   "metadata": {
    "collapsed": true
   },
   "outputs": [],
   "source": [
    "od_matrix = od_matrix.withColumn('date_str', F.from_unixtime(F.col('date'), 'yyyy-MM-dd'))"
   ]
  },
  {
   "cell_type": "code",
   "execution_count": 16,
   "metadata": {},
   "outputs": [
    {
     "data": {
      "text/html": [
       "<div>\n",
       "<style>\n",
       "    .dataframe thead tr:only-child th {\n",
       "        text-align: right;\n",
       "    }\n",
       "\n",
       "    .dataframe thead th {\n",
       "        text-align: left;\n",
       "    }\n",
       "\n",
       "    .dataframe tbody tr th {\n",
       "        vertical-align: top;\n",
       "    }\n",
       "</style>\n",
       "<table border=\"1\" class=\"dataframe\">\n",
       "  <thead>\n",
       "    <tr style=\"text-align: right;\">\n",
       "      <th></th>\n",
       "      <th>date_str</th>\n",
       "      <th>route</th>\n",
       "      <th>o_stop_id</th>\n",
       "      <th>o_timestamp</th>\n",
       "      <th>stopPointId</th>\n",
       "      <th>timestamp</th>\n",
       "      <th>o_boarding_id</th>\n",
       "    </tr>\n",
       "  </thead>\n",
       "  <tbody>\n",
       "    <tr>\n",
       "      <th>0</th>\n",
       "      <td>2017-05-04</td>\n",
       "      <td>180</td>\n",
       "      <td>28879</td>\n",
       "      <td>17:19:42</td>\n",
       "      <td>28991</td>\n",
       "      <td>19:53:56</td>\n",
       "      <td>498216206336</td>\n",
       "    </tr>\n",
       "    <tr>\n",
       "      <th>1</th>\n",
       "      <td>2017-05-04</td>\n",
       "      <td>311</td>\n",
       "      <td>32532</td>\n",
       "      <td>15:32:13</td>\n",
       "      <td>30669</td>\n",
       "      <td>23:01:50</td>\n",
       "      <td>678604832771</td>\n",
       "    </tr>\n",
       "    <tr>\n",
       "      <th>2</th>\n",
       "      <td>2017-05-04</td>\n",
       "      <td>2</td>\n",
       "      <td>29080</td>\n",
       "      <td>13:21:26</td>\n",
       "      <td>40029</td>\n",
       "      <td>14:53:57</td>\n",
       "      <td>1443109011464</td>\n",
       "    </tr>\n",
       "    <tr>\n",
       "      <th>3</th>\n",
       "      <td>2017-05-04</td>\n",
       "      <td>366</td>\n",
       "      <td>29099</td>\n",
       "      <td>09:23:24</td>\n",
       "      <td>29908</td>\n",
       "      <td>09:23:46</td>\n",
       "      <td>429496729607</td>\n",
       "    </tr>\n",
       "    <tr>\n",
       "      <th>4</th>\n",
       "      <td>2017-05-04</td>\n",
       "      <td>40</td>\n",
       "      <td>34119</td>\n",
       "      <td>06:25:54</td>\n",
       "      <td>30433</td>\n",
       "      <td>17:37:09</td>\n",
       "      <td>128849018889</td>\n",
       "    </tr>\n",
       "    <tr>\n",
       "      <th>5</th>\n",
       "      <td>2017-05-04</td>\n",
       "      <td>60</td>\n",
       "      <td>33267</td>\n",
       "      <td>18:13:14</td>\n",
       "      <td>33185</td>\n",
       "      <td>20:39:18</td>\n",
       "      <td>1546188226564</td>\n",
       "    </tr>\n",
       "    <tr>\n",
       "      <th>6</th>\n",
       "      <td>2017-05-04</td>\n",
       "      <td>684</td>\n",
       "      <td>32043</td>\n",
       "      <td>16:51:00</td>\n",
       "      <td>39262</td>\n",
       "      <td>19:16:12</td>\n",
       "      <td>1288490188820</td>\n",
       "    </tr>\n",
       "    <tr>\n",
       "      <th>7</th>\n",
       "      <td>2017-05-04</td>\n",
       "      <td>462</td>\n",
       "      <td>31481</td>\n",
       "      <td>10:38:25</td>\n",
       "      <td>26157</td>\n",
       "      <td>11:07:45</td>\n",
       "      <td>1039382085653</td>\n",
       "    </tr>\n",
       "    <tr>\n",
       "      <th>8</th>\n",
       "      <td>2017-05-04</td>\n",
       "      <td>50</td>\n",
       "      <td>28391</td>\n",
       "      <td>15:59:00</td>\n",
       "      <td>31800</td>\n",
       "      <td>18:42:35</td>\n",
       "      <td>1675037245459</td>\n",
       "    </tr>\n",
       "    <tr>\n",
       "      <th>9</th>\n",
       "      <td>2017-05-04</td>\n",
       "      <td>370</td>\n",
       "      <td>3377</td>\n",
       "      <td>07:16:17</td>\n",
       "      <td>3377</td>\n",
       "      <td>12:28:58</td>\n",
       "      <td>1468878815256</td>\n",
       "    </tr>\n",
       "  </tbody>\n",
       "</table>\n",
       "</div>"
      ],
      "text/plain": [
       "     date_str  route  o_stop_id o_timestamp  stopPointId timestamp  \\\n",
       "0  2017-05-04    180      28879    17:19:42        28991  19:53:56   \n",
       "1  2017-05-04    311      32532    15:32:13        30669  23:01:50   \n",
       "2  2017-05-04      2      29080    13:21:26        40029  14:53:57   \n",
       "3  2017-05-04    366      29099    09:23:24        29908  09:23:46   \n",
       "4  2017-05-04     40      34119    06:25:54        30433  17:37:09   \n",
       "5  2017-05-04     60      33267    18:13:14        33185  20:39:18   \n",
       "6  2017-05-04    684      32043    16:51:00        39262  19:16:12   \n",
       "7  2017-05-04    462      31481    10:38:25        26157  11:07:45   \n",
       "8  2017-05-04     50      28391    15:59:00        31800  18:42:35   \n",
       "9  2017-05-04    370       3377    07:16:17         3377  12:28:58   \n",
       "\n",
       "   o_boarding_id  \n",
       "0   498216206336  \n",
       "1   678604832771  \n",
       "2  1443109011464  \n",
       "3   429496729607  \n",
       "4   128849018889  \n",
       "5  1546188226564  \n",
       "6  1288490188820  \n",
       "7  1039382085653  \n",
       "8  1675037245459  \n",
       "9  1468878815256  "
      ]
     },
     "execution_count": 16,
     "metadata": {},
     "output_type": "execute_result"
    }
   ],
   "source": [
    "printdf(od_matrix.select(['date_str','route','o_stop_id','o_timestamp','stopPointId','timestamp','o_boarding_id']))"
   ]
  },
  {
   "cell_type": "code",
   "execution_count": 17,
   "metadata": {},
   "outputs": [
    {
     "data": {
      "text/plain": [
       "386507"
      ]
     },
     "execution_count": 17,
     "metadata": {},
     "output_type": "execute_result"
    }
   ],
   "source": [
    "od_matrix.count()"
   ]
  },
  {
   "cell_type": "markdown",
   "metadata": {},
   "source": [
    "### Saving data to their respective date folders"
   ]
  },
  {
   "cell_type": "code",
   "execution_count": 20,
   "metadata": {
    "collapsed": true
   },
   "outputs": [],
   "source": [
    "dates = od_matrix.select('date_str').distinct().collect()"
   ]
  },
  {
   "cell_type": "code",
   "execution_count": 25,
   "metadata": {},
   "outputs": [
    {
     "data": {
      "text/plain": [
       "'2017-04-30'"
      ]
     },
     "execution_count": 25,
     "metadata": {},
     "output_type": "execute_result"
    }
   ],
   "source": [
    "str(dates[0]['date_str'])"
   ]
  },
  {
   "cell_type": "code",
   "execution_count": 33,
   "metadata": {},
   "outputs": [
    {
     "name": "stdout",
     "output_type": "stream",
     "text": [
      " Processing date 2017-04-30\n",
      "Num records for this date: 731\n",
      "/local/tarciso/masters/data/bus_trips/buste-v3a/may_jun_jul//od_days/2017_04_30_od\n",
      "Processing date 2017-05-04\n",
      "Num records for this date: 30774\n",
      "/local/tarciso/masters/data/bus_trips/buste-v3a/may_jun_jul//od_days/2017_05_04_od\n",
      "Processing date 2017-06-22\n",
      "Num records for this date: 2876\n",
      "/local/tarciso/masters/data/bus_trips/buste-v3a/may_jun_jul//od_days/2017_06_22_od\n",
      "Processing date 2017-05-05\n",
      "Num records for this date: 732\n",
      "/local/tarciso/masters/data/bus_trips/buste-v3a/may_jun_jul//od_days/2017_05_05_od\n",
      "Processing date 2017-06-29\n",
      "Num records for this date: 27293\n",
      "/local/tarciso/masters/data/bus_trips/buste-v3a/may_jun_jul//od_days/2017_06_29_od\n",
      "Processing date 2017-06-24\n",
      "Num records for this date: 11492\n",
      "/local/tarciso/masters/data/bus_trips/buste-v3a/may_jun_jul//od_days/2017_06_24_od\n",
      "Processing date 2017-06-19\n",
      "Num records for this date: 3230\n",
      "/local/tarciso/masters/data/bus_trips/buste-v3a/may_jun_jul//od_days/2017_06_19_od\n",
      "Processing date 2017-07-06\n",
      "Num records for this date: 28114\n",
      "/local/tarciso/masters/data/bus_trips/buste-v3a/may_jun_jul//od_days/2017_07_06_od\n",
      "Processing date 2017-06-23\n",
      "Num records for this date: 3904\n",
      "/local/tarciso/masters/data/bus_trips/buste-v3a/may_jun_jul//od_days/2017_06_23_od\n",
      "Processing date 2017-05-08\n",
      "Num records for this date: 390\n",
      "/local/tarciso/masters/data/bus_trips/buste-v3a/may_jun_jul//od_days/2017_05_08_od\n",
      "Processing date 2017-07-02\n",
      "Num records for this date: 622\n",
      "/local/tarciso/masters/data/bus_trips/buste-v3a/may_jun_jul//od_days/2017_07_02_od\n",
      "Processing date 2017-06-28\n",
      "Num records for this date: 2653\n",
      "/local/tarciso/masters/data/bus_trips/buste-v3a/may_jun_jul//od_days/2017_06_28_od\n",
      "Processing date 2017-06-30\n",
      "Num records for this date: 22542\n",
      "/local/tarciso/masters/data/bus_trips/buste-v3a/may_jun_jul//od_days/2017_06_30_od\n",
      "Processing date 2017-06-26\n",
      "Num records for this date: 27919\n",
      "/local/tarciso/masters/data/bus_trips/buste-v3a/may_jun_jul//od_days/2017_06_26_od\n",
      "Processing date 2017-07-04\n",
      "Num records for this date: 1048\n",
      "/local/tarciso/masters/data/bus_trips/buste-v3a/may_jun_jul//od_days/2017_07_04_od\n",
      "Processing date 2017-06-18\n",
      "Num records for this date: 674\n",
      "/local/tarciso/masters/data/bus_trips/buste-v3a/may_jun_jul//od_days/2017_06_18_od\n",
      "Processing date 2017-07-14\n",
      "Num records for this date: 795\n",
      "/local/tarciso/masters/data/bus_trips/buste-v3a/may_jun_jul//od_days/2017_07_14_od\n",
      "Processing date 2017-07-03\n",
      "Num records for this date: 26513\n",
      "/local/tarciso/masters/data/bus_trips/buste-v3a/may_jun_jul//od_days/2017_07_03_od\n",
      "Processing date 2017-07-12\n",
      "Num records for this date: 1645\n",
      "/local/tarciso/masters/data/bus_trips/buste-v3a/may_jun_jul//od_days/2017_07_12_od\n",
      "Processing date 2017-06-21\n",
      "Num records for this date: 3024\n",
      "/local/tarciso/masters/data/bus_trips/buste-v3a/may_jun_jul//od_days/2017_06_21_od\n",
      "Processing date 2017-06-25\n",
      "Num records for this date: 711\n",
      "/local/tarciso/masters/data/bus_trips/buste-v3a/may_jun_jul//od_days/2017_06_25_od\n",
      "Processing date 2017-07-13\n",
      "Num records for this date: 552\n",
      "/local/tarciso/masters/data/bus_trips/buste-v3a/may_jun_jul//od_days/2017_07_13_od\n",
      "Processing date 2017-06-14\n",
      "Num records for this date: 821\n",
      "/local/tarciso/masters/data/bus_trips/buste-v3a/may_jun_jul//od_days/2017_06_14_od\n",
      "Processing date 2017-05-09\n",
      "Num records for this date: 18700\n",
      "/local/tarciso/masters/data/bus_trips/buste-v3a/may_jun_jul//od_days/2017_05_09_od\n",
      "Processing date 2017-07-08\n",
      "Num records for this date: 11825\n",
      "/local/tarciso/masters/data/bus_trips/buste-v3a/may_jun_jul//od_days/2017_07_08_od\n",
      "Processing date 2017-07-09\n",
      "Num records for this date: 718\n",
      "/local/tarciso/masters/data/bus_trips/buste-v3a/may_jun_jul//od_days/2017_07_09_od\n",
      "Processing date 2017-05-01\n",
      "Num records for this date: 600\n",
      "/local/tarciso/masters/data/bus_trips/buste-v3a/may_jun_jul//od_days/2017_05_01_od\n",
      "Processing date 2017-07-15\n",
      "Num records for this date: 11344\n",
      "/local/tarciso/masters/data/bus_trips/buste-v3a/may_jun_jul//od_days/2017_07_15_od\n",
      "Processing date 2017-07-17\n",
      "Num records for this date: 25202\n",
      "/local/tarciso/masters/data/bus_trips/buste-v3a/may_jun_jul//od_days/2017_07_17_od\n",
      "Processing date 2017-05-06\n",
      "Num records for this date: 12333\n",
      "/local/tarciso/masters/data/bus_trips/buste-v3a/may_jun_jul//od_days/2017_05_06_od\n",
      "Processing date 2017-06-27\n",
      "Num records for this date: 1498\n",
      "/local/tarciso/masters/data/bus_trips/buste-v3a/may_jun_jul//od_days/2017_06_27_od\n",
      "Processing date 2017-07-05\n",
      "Num records for this date: 28101\n",
      "/local/tarciso/masters/data/bus_trips/buste-v3a/may_jun_jul//od_days/2017_07_05_od\n",
      "Processing date 2017-06-17\n",
      "Num records for this date: 9916\n",
      "/local/tarciso/masters/data/bus_trips/buste-v3a/may_jun_jul//od_days/2017_06_17_od\n",
      "Processing date 2017-07-07\n",
      "Num records for this date: 1189\n",
      "/local/tarciso/masters/data/bus_trips/buste-v3a/may_jun_jul//od_days/2017_07_07_od\n",
      "Processing date 2017-05-02\n",
      "Num records for this date: 25715\n",
      "/local/tarciso/masters/data/bus_trips/buste-v3a/may_jun_jul//od_days/2017_05_02_od\n",
      "Processing date 2017-07-16\n",
      "Num records for this date: 703\n",
      "/local/tarciso/masters/data/bus_trips/buste-v3a/may_jun_jul//od_days/2017_07_16_od\n",
      "Processing date 2017-06-15\n",
      "Num records for this date: 819\n",
      "/local/tarciso/masters/data/bus_trips/buste-v3a/may_jun_jul//od_days/2017_06_15_od\n",
      "Processing date 2017-07-11\n",
      "Num records for this date: 679\n",
      "/local/tarciso/masters/data/bus_trips/buste-v3a/may_jun_jul//od_days/2017_07_11_od\n",
      "Processing date 2017-07-01\n",
      "Num records for this date: 9625\n",
      "/local/tarciso/masters/data/bus_trips/buste-v3a/may_jun_jul//od_days/2017_07_01_od\n",
      "Processing date 2017-06-20\n",
      "Num records for this date: 3204\n",
      "/local/tarciso/masters/data/bus_trips/buste-v3a/may_jun_jul//od_days/2017_06_20_od\n",
      "Processing date 2017-07-10\n",
      "Num records for this date: 24876\n",
      "/local/tarciso/masters/data/bus_trips/buste-v3a/may_jun_jul//od_days/2017_07_10_od\n",
      "Processing date 2017-05-07\n",
      "Num records for this date: 405\n",
      "/local/tarciso/masters/data/bus_trips/buste-v3a/may_jun_jul//od_days/2017_05_07_od\n"
     ]
    }
   ],
   "source": [
    "for row in dates:\n",
    "    curr_date = str(row['date_str'])\n",
    "    print \"Processing date\", curr_date\n",
    "    date_od_mat = od_matrix.filter(od_matrix.date_str == curr_date)\n",
    "    print \"Num records for this date:\", date_od_mat.count()\n",
    "    dest_folderpath = base_folder_path + '/od_days/' + curr_date.replace('-','_') + '_od'\n",
    "    print dest_folderpath\n",
    "    date_od_mat.write.csv(path=dest_folderpath,header=True, mode='overwrite')\n",
    "    "
   ]
  },
  {
   "cell_type": "code",
   "execution_count": null,
   "metadata": {
    "collapsed": true
   },
   "outputs": [],
   "source": []
  }
 ],
 "metadata": {
  "kernelspec": {
   "display_name": "Python 2",
   "language": "python",
   "name": "python2"
  },
  "language_info": {
   "codemirror_mode": {
    "name": "ipython",
    "version": 2
   },
   "file_extension": ".py",
   "mimetype": "text/x-python",
   "name": "python",
   "nbconvert_exporter": "python",
   "pygments_lexer": "ipython2",
   "version": "2.7.14"
  }
 },
 "nbformat": 4,
 "nbformat_minor": 2
}
