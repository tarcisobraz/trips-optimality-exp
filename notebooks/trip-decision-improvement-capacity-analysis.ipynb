{
 "cells": [
  {
   "cell_type": "code",
   "execution_count": 1,
   "metadata": {
    "collapsed": true
   },
   "outputs": [],
   "source": [
    "import pandas as pd\n",
    "import numpy as np\n",
    "\n",
    "#Imports to enable visualizations\n",
    "import seaborn as sns\n",
    "import matplotlib.pyplot as plt\n",
    "%matplotlib inline\n",
    "\n",
    "#Python standard libraries\n",
    "import glob, os    \n",
    "import datetime"
   ]
  },
  {
   "cell_type": "code",
   "execution_count": 2,
   "metadata": {
    "collapsed": true
   },
   "outputs": [],
   "source": [
    "#Functions\n",
    "\n",
    "def read_df_from_csv_folder(folderpath,filename_pattern):\n",
    "    result = pd.DataFrame()\n",
    "    files_to_be_read = glob.glob(os.path.join(folderpath, filename_pattern))\n",
    "    for i in xrange(len(files_to_be_read)):\n",
    "        try:\n",
    "            df = pd.read_csv(files_to_be_read[i])\n",
    "            result = result.append(df)\n",
    "        except Exception as e:\n",
    "            pass\n",
    "    return result\n"
   ]
  },
  {
   "cell_type": "markdown",
   "metadata": {},
   "source": [
    "### Read Data"
   ]
  },
  {
   "cell_type": "code",
   "execution_count": 3,
   "metadata": {
    "collapsed": true
   },
   "outputs": [],
   "source": [
    "base_folderpath = '/local/tarciso/masters/data/trips-optimality-exp/overall_result/'"
   ]
  },
  {
   "cell_type": "markdown",
   "metadata": {},
   "source": [
    "#### Trips Improvement Capacity Data"
   ]
  },
  {
   "cell_type": "code",
   "execution_count": 4,
   "metadata": {
    "collapsed": true
   },
   "outputs": [],
   "source": [
    "imp_cap_df_raw = read_df_from_csv_folder(base_folderpath + '/duration_improvement_capacity/', 'part-*.csv')\n",
    "#imp_cap_df = pd.read_csv(base_folderpath + '/result.csv')"
   ]
  },
  {
   "cell_type": "code",
   "execution_count": 48,
   "metadata": {
    "collapsed": true
   },
   "outputs": [],
   "source": [
    "imp_cap_df = imp_cap_df_raw"
   ]
  },
  {
   "cell_type": "code",
   "execution_count": 49,
   "metadata": {},
   "outputs": [
    {
     "name": "stdout",
     "output_type": "stream",
     "text": [
      "<class 'pandas.core.frame.DataFrame'>\n",
      "Int64Index: 34223 entries, 0 to 5\n",
      "Data columns (total 14 columns):\n",
      "date                  34223 non-null object\n",
      "user_trip_id          34223 non-null int64\n",
      "cardNum               34223 non-null int64\n",
      "birthdate             10006 non-null object\n",
      "gender                10006 non-null object\n",
      "exec_start_time       34223 non-null object\n",
      "executed_duration     34223 non-null float64\n",
      "itinerary_id          34223 non-null int64\n",
      "duration              34223 non-null float64\n",
      "alt_start_time        34223 non-null object\n",
      "imp_capacity          34223 non-null float64\n",
      "imp_capacity_perc     34223 non-null float64\n",
      "trip_length_bucket    34223 non-null object\n",
      "hour_of_day           34223 non-null int64\n",
      "dtypes: float64(4), int64(4), object(6)\n",
      "memory usage: 3.9+ MB\n"
     ]
    }
   ],
   "source": [
    "imp_cap_df.info()"
   ]
  },
  {
   "cell_type": "code",
   "execution_count": 50,
   "metadata": {},
   "outputs": [
    {
     "data": {
      "text/html": [
       "<div>\n",
       "<style>\n",
       "    .dataframe thead tr:only-child th {\n",
       "        text-align: right;\n",
       "    }\n",
       "\n",
       "    .dataframe thead th {\n",
       "        text-align: left;\n",
       "    }\n",
       "\n",
       "    .dataframe tbody tr th {\n",
       "        vertical-align: top;\n",
       "    }\n",
       "</style>\n",
       "<table border=\"1\" class=\"dataframe\">\n",
       "  <thead>\n",
       "    <tr style=\"text-align: right;\">\n",
       "      <th></th>\n",
       "      <th>date</th>\n",
       "      <th>user_trip_id</th>\n",
       "      <th>cardNum</th>\n",
       "      <th>birthdate</th>\n",
       "      <th>gender</th>\n",
       "      <th>exec_start_time</th>\n",
       "      <th>executed_duration</th>\n",
       "      <th>itinerary_id</th>\n",
       "      <th>duration</th>\n",
       "      <th>alt_start_time</th>\n",
       "      <th>imp_capacity</th>\n",
       "      <th>imp_capacity_perc</th>\n",
       "      <th>trip_length_bucket</th>\n",
       "      <th>hour_of_day</th>\n",
       "    </tr>\n",
       "  </thead>\n",
       "  <tbody>\n",
       "    <tr>\n",
       "      <th>0</th>\n",
       "      <td>2017-06-28</td>\n",
       "      <td>17179869231</td>\n",
       "      <td>3799263</td>\n",
       "      <td>NaN</td>\n",
       "      <td>NaN</td>\n",
       "      <td>2017-06-28 18:13:56</td>\n",
       "      <td>41.033333</td>\n",
       "      <td>0</td>\n",
       "      <td>41.033333</td>\n",
       "      <td>2017-06-28 18:13:56</td>\n",
       "      <td>0.000000</td>\n",
       "      <td>0.000000</td>\n",
       "      <td>40+</td>\n",
       "      <td>18</td>\n",
       "    </tr>\n",
       "    <tr>\n",
       "      <th>1</th>\n",
       "      <td>2017-06-28</td>\n",
       "      <td>128849018982</td>\n",
       "      <td>3733976</td>\n",
       "      <td>NaN</td>\n",
       "      <td>NaN</td>\n",
       "      <td>2017-06-28 12:00:33</td>\n",
       "      <td>687.683333</td>\n",
       "      <td>0</td>\n",
       "      <td>687.683333</td>\n",
       "      <td>2017-06-28 12:00:33</td>\n",
       "      <td>0.000000</td>\n",
       "      <td>0.000000</td>\n",
       "      <td>40+</td>\n",
       "      <td>12</td>\n",
       "    </tr>\n",
       "    <tr>\n",
       "      <th>2</th>\n",
       "      <td>2017-06-28</td>\n",
       "      <td>309237645442</td>\n",
       "      <td>3270966</td>\n",
       "      <td>NaN</td>\n",
       "      <td>NaN</td>\n",
       "      <td>2017-06-28 07:39:40</td>\n",
       "      <td>30.333333</td>\n",
       "      <td>0</td>\n",
       "      <td>30.333333</td>\n",
       "      <td>2017-06-28 07:39:40</td>\n",
       "      <td>0.000000</td>\n",
       "      <td>0.000000</td>\n",
       "      <td>30-40</td>\n",
       "      <td>7</td>\n",
       "    </tr>\n",
       "    <tr>\n",
       "      <th>3</th>\n",
       "      <td>2017-06-28</td>\n",
       "      <td>352187318396</td>\n",
       "      <td>3399915</td>\n",
       "      <td>27/07/94</td>\n",
       "      <td>F</td>\n",
       "      <td>2017-06-28 18:05:45</td>\n",
       "      <td>88.600000</td>\n",
       "      <td>0</td>\n",
       "      <td>88.600000</td>\n",
       "      <td>2017-06-28 18:05:45</td>\n",
       "      <td>0.000000</td>\n",
       "      <td>0.000000</td>\n",
       "      <td>40+</td>\n",
       "      <td>18</td>\n",
       "    </tr>\n",
       "    <tr>\n",
       "      <th>4</th>\n",
       "      <td>2017-06-28</td>\n",
       "      <td>377957122151</td>\n",
       "      <td>2894142</td>\n",
       "      <td>NaN</td>\n",
       "      <td>NaN</td>\n",
       "      <td>2017-06-28 10:46:11</td>\n",
       "      <td>191.966667</td>\n",
       "      <td>3</td>\n",
       "      <td>4.400000</td>\n",
       "      <td>2017-06-28 11:04:35</td>\n",
       "      <td>187.566667</td>\n",
       "      <td>97.707935</td>\n",
       "      <td>40+</td>\n",
       "      <td>10</td>\n",
       "    </tr>\n",
       "  </tbody>\n",
       "</table>\n",
       "</div>"
      ],
      "text/plain": [
       "         date  user_trip_id  cardNum birthdate gender      exec_start_time  \\\n",
       "0  2017-06-28   17179869231  3799263       NaN    NaN  2017-06-28 18:13:56   \n",
       "1  2017-06-28  128849018982  3733976       NaN    NaN  2017-06-28 12:00:33   \n",
       "2  2017-06-28  309237645442  3270966       NaN    NaN  2017-06-28 07:39:40   \n",
       "3  2017-06-28  352187318396  3399915  27/07/94      F  2017-06-28 18:05:45   \n",
       "4  2017-06-28  377957122151  2894142       NaN    NaN  2017-06-28 10:46:11   \n",
       "\n",
       "   executed_duration  itinerary_id    duration       alt_start_time  \\\n",
       "0          41.033333             0   41.033333  2017-06-28 18:13:56   \n",
       "1         687.683333             0  687.683333  2017-06-28 12:00:33   \n",
       "2          30.333333             0   30.333333  2017-06-28 07:39:40   \n",
       "3          88.600000             0   88.600000  2017-06-28 18:05:45   \n",
       "4         191.966667             3    4.400000  2017-06-28 11:04:35   \n",
       "\n",
       "   imp_capacity  imp_capacity_perc trip_length_bucket  hour_of_day  \n",
       "0      0.000000           0.000000                40+           18  \n",
       "1      0.000000           0.000000                40+           12  \n",
       "2      0.000000           0.000000              30-40            7  \n",
       "3      0.000000           0.000000                40+           18  \n",
       "4    187.566667          97.707935                40+           10  "
      ]
     },
     "execution_count": 50,
     "metadata": {},
     "output_type": "execute_result"
    }
   ],
   "source": [
    "imp_cap_df.head()"
   ]
  },
  {
   "cell_type": "markdown",
   "metadata": {},
   "source": [
    "#### Proportion of Trips with Positive Improvement Capacity Before Filtering"
   ]
  },
  {
   "cell_type": "code",
   "execution_count": 51,
   "metadata": {},
   "outputs": [
    {
     "data": {
      "text/plain": [
       "0.36989743739590336"
      ]
     },
     "execution_count": 51,
     "metadata": {},
     "output_type": "execute_result"
    }
   ],
   "source": [
    "imp_cap_df[imp_cap_df['imp_capacity'] > 0].count()[0]/float(imp_cap_df.count()[0])"
   ]
  },
  {
   "cell_type": "markdown",
   "metadata": {},
   "source": [
    "### Preparing Data"
   ]
  },
  {
   "cell_type": "markdown",
   "metadata": {},
   "source": [
    "#### Computing Improvement Capacity as a Percentage to avoid value magnitude bias"
   ]
  },
  {
   "cell_type": "code",
   "execution_count": 52,
   "metadata": {
    "collapsed": true,
    "scrolled": true
   },
   "outputs": [],
   "source": [
    "imp_cap_df['imp_capacity_perc'] = 100*(imp_cap_df['imp_capacity'] / imp_cap_df['executed_duration'])"
   ]
  },
  {
   "cell_type": "code",
   "execution_count": 53,
   "metadata": {
    "collapsed": true
   },
   "outputs": [],
   "source": [
    "imp_cap_df['improved'] = imp_cap_df['imp_capacity_perc'] > 0.0"
   ]
  },
  {
   "cell_type": "markdown",
   "metadata": {},
   "source": [
    "#### Computing trip length bucket for each trip"
   ]
  },
  {
   "cell_type": "code",
   "execution_count": 54,
   "metadata": {
    "collapsed": true
   },
   "outputs": [],
   "source": [
    "def get_trip_len_bucket(trip_duration):\n",
    "    if (trip_duration < 10):\n",
    "        return '<10'\n",
    "    elif (trip_duration < 20):\n",
    "        return '10-20'\n",
    "    elif (trip_duration < 30):\n",
    "        return '20-30'\n",
    "    elif (trip_duration < 40):\n",
    "        return '30-40'\n",
    "    elif (trip_duration < 50):\n",
    "        return '40-50'\n",
    "    elif (trip_duration >= 50):\n",
    "        return '50+'\n",
    "    else:\n",
    "        return 'NA'\n",
    "\n",
    "\n",
    "imp_cap_df['trip_length_bucket'] = imp_cap_df['executed_duration'].apply(get_trip_len_bucket)"
   ]
  },
  {
   "cell_type": "markdown",
   "metadata": {},
   "source": [
    "#### Computing hour of day and period of day for each trip"
   ]
  },
  {
   "cell_type": "code",
   "execution_count": 55,
   "metadata": {
    "collapsed": true,
    "scrolled": true
   },
   "outputs": [],
   "source": [
    "imp_cap_df['hour_of_day'] = pd.to_datetime(imp_cap_df['exec_start_time'], format='%Y-%m-%d %H:%M:%S').dt.hour"
   ]
  },
  {
   "cell_type": "code",
   "execution_count": 56,
   "metadata": {
    "collapsed": true
   },
   "outputs": [],
   "source": [
    "period_of_day_list = [('hour_of_day', [0,1,2,3,4,5,6,7,8,9,10,11,12,13,14,15,16,17,18,19,20,21,22,23]),\n",
    "         ('period_of_day', ['very_late_night','very_late_night','very_late_night','very_late_night','early_morning','early_morning','early_morning','morning','morning','morning','morning','midday','midday','midday','afternoon','afternoon','afternoon','evening','evening','evening','night','night','late_night','late_night'])]\n",
    "period_of_day_df = pd.DataFrame.from_items(period_of_day_list)\n",
    "period_of_day_df.period_of_day = period_of_day_df.period_of_day.astype('category', ordered=True)\n",
    "\n",
    "period_of_day_df\n",
    "\n",
    "imp_cap_df = imp_cap_df.merge(period_of_day_df, how='inner', on='hour_of_day')"
   ]
  },
  {
   "cell_type": "code",
   "execution_count": 57,
   "metadata": {},
   "outputs": [
    {
     "data": {
      "text/html": [
       "<div>\n",
       "<style>\n",
       "    .dataframe thead tr:only-child th {\n",
       "        text-align: right;\n",
       "    }\n",
       "\n",
       "    .dataframe thead th {\n",
       "        text-align: left;\n",
       "    }\n",
       "\n",
       "    .dataframe tbody tr th {\n",
       "        vertical-align: top;\n",
       "    }\n",
       "</style>\n",
       "<table border=\"1\" class=\"dataframe\">\n",
       "  <thead>\n",
       "    <tr style=\"text-align: right;\">\n",
       "      <th></th>\n",
       "      <th>date</th>\n",
       "      <th>user_trip_id</th>\n",
       "      <th>cardNum</th>\n",
       "      <th>birthdate</th>\n",
       "      <th>gender</th>\n",
       "      <th>exec_start_time</th>\n",
       "      <th>executed_duration</th>\n",
       "      <th>itinerary_id</th>\n",
       "      <th>duration</th>\n",
       "      <th>alt_start_time</th>\n",
       "      <th>imp_capacity</th>\n",
       "      <th>imp_capacity_perc</th>\n",
       "      <th>trip_length_bucket</th>\n",
       "      <th>hour_of_day</th>\n",
       "      <th>improved</th>\n",
       "      <th>period_of_day</th>\n",
       "    </tr>\n",
       "  </thead>\n",
       "  <tbody>\n",
       "    <tr>\n",
       "      <th>0</th>\n",
       "      <td>2017-06-28</td>\n",
       "      <td>17179869231</td>\n",
       "      <td>3799263</td>\n",
       "      <td>NaN</td>\n",
       "      <td>NaN</td>\n",
       "      <td>2017-06-28 18:13:56</td>\n",
       "      <td>41.033333</td>\n",
       "      <td>0</td>\n",
       "      <td>41.033333</td>\n",
       "      <td>2017-06-28 18:13:56</td>\n",
       "      <td>0.00</td>\n",
       "      <td>0.000000</td>\n",
       "      <td>40-50</td>\n",
       "      <td>18</td>\n",
       "      <td>False</td>\n",
       "      <td>evening</td>\n",
       "    </tr>\n",
       "    <tr>\n",
       "      <th>1</th>\n",
       "      <td>2017-06-28</td>\n",
       "      <td>352187318396</td>\n",
       "      <td>3399915</td>\n",
       "      <td>27/07/94</td>\n",
       "      <td>F</td>\n",
       "      <td>2017-06-28 18:05:45</td>\n",
       "      <td>88.600000</td>\n",
       "      <td>0</td>\n",
       "      <td>88.600000</td>\n",
       "      <td>2017-06-28 18:05:45</td>\n",
       "      <td>0.00</td>\n",
       "      <td>0.000000</td>\n",
       "      <td>50+</td>\n",
       "      <td>18</td>\n",
       "      <td>False</td>\n",
       "      <td>evening</td>\n",
       "    </tr>\n",
       "    <tr>\n",
       "      <th>2</th>\n",
       "      <td>2017-06-28</td>\n",
       "      <td>1022202216463</td>\n",
       "      <td>2846721</td>\n",
       "      <td>NaN</td>\n",
       "      <td>NaN</td>\n",
       "      <td>2017-06-28 18:54:44</td>\n",
       "      <td>93.316667</td>\n",
       "      <td>0</td>\n",
       "      <td>93.316667</td>\n",
       "      <td>2017-06-28 18:54:44</td>\n",
       "      <td>0.00</td>\n",
       "      <td>0.000000</td>\n",
       "      <td>50+</td>\n",
       "      <td>18</td>\n",
       "      <td>False</td>\n",
       "      <td>evening</td>\n",
       "    </tr>\n",
       "    <tr>\n",
       "      <th>3</th>\n",
       "      <td>2017-06-27</td>\n",
       "      <td>120259084381</td>\n",
       "      <td>3770454</td>\n",
       "      <td>NaN</td>\n",
       "      <td>NaN</td>\n",
       "      <td>2017-06-27 18:06:36</td>\n",
       "      <td>70.833333</td>\n",
       "      <td>2</td>\n",
       "      <td>2.233333</td>\n",
       "      <td>2017-06-27 18:02:06</td>\n",
       "      <td>68.60</td>\n",
       "      <td>96.847059</td>\n",
       "      <td>50+</td>\n",
       "      <td>18</td>\n",
       "      <td>True</td>\n",
       "      <td>evening</td>\n",
       "    </tr>\n",
       "    <tr>\n",
       "      <th>4</th>\n",
       "      <td>2017-06-27</td>\n",
       "      <td>274877906968</td>\n",
       "      <td>3837677</td>\n",
       "      <td>NaN</td>\n",
       "      <td>NaN</td>\n",
       "      <td>2017-06-27 18:00:04</td>\n",
       "      <td>126.650000</td>\n",
       "      <td>0</td>\n",
       "      <td>126.650000</td>\n",
       "      <td>2017-06-27 18:00:04</td>\n",
       "      <td>0.00</td>\n",
       "      <td>0.000000</td>\n",
       "      <td>50+</td>\n",
       "      <td>18</td>\n",
       "      <td>False</td>\n",
       "      <td>evening</td>\n",
       "    </tr>\n",
       "    <tr>\n",
       "      <th>5</th>\n",
       "      <td>2017-06-27</td>\n",
       "      <td>1262720385094</td>\n",
       "      <td>3350216</td>\n",
       "      <td>08/05/89</td>\n",
       "      <td>M</td>\n",
       "      <td>2017-06-27 18:14:15</td>\n",
       "      <td>26.216667</td>\n",
       "      <td>2</td>\n",
       "      <td>7.866667</td>\n",
       "      <td>2017-06-27 18:13:42</td>\n",
       "      <td>18.35</td>\n",
       "      <td>69.993643</td>\n",
       "      <td>20-30</td>\n",
       "      <td>18</td>\n",
       "      <td>True</td>\n",
       "      <td>evening</td>\n",
       "    </tr>\n",
       "    <tr>\n",
       "      <th>6</th>\n",
       "      <td>2017-06-27</td>\n",
       "      <td>8589934677</td>\n",
       "      <td>2717024</td>\n",
       "      <td>NaN</td>\n",
       "      <td>NaN</td>\n",
       "      <td>2017-06-27 18:07:24</td>\n",
       "      <td>196.583333</td>\n",
       "      <td>3</td>\n",
       "      <td>2.683333</td>\n",
       "      <td>2017-06-27 18:14:54</td>\n",
       "      <td>193.90</td>\n",
       "      <td>98.635015</td>\n",
       "      <td>50+</td>\n",
       "      <td>18</td>\n",
       "      <td>True</td>\n",
       "      <td>evening</td>\n",
       "    </tr>\n",
       "    <tr>\n",
       "      <th>7</th>\n",
       "      <td>2017-06-21</td>\n",
       "      <td>171798691854</td>\n",
       "      <td>3270046</td>\n",
       "      <td>NaN</td>\n",
       "      <td>NaN</td>\n",
       "      <td>2017-06-21 18:01:03</td>\n",
       "      <td>5.016667</td>\n",
       "      <td>0</td>\n",
       "      <td>5.016667</td>\n",
       "      <td>2017-06-21 18:01:03</td>\n",
       "      <td>0.00</td>\n",
       "      <td>0.000000</td>\n",
       "      <td>&lt;10</td>\n",
       "      <td>18</td>\n",
       "      <td>False</td>\n",
       "      <td>evening</td>\n",
       "    </tr>\n",
       "    <tr>\n",
       "      <th>8</th>\n",
       "      <td>2017-06-21</td>\n",
       "      <td>721554505846</td>\n",
       "      <td>2999063</td>\n",
       "      <td>03/02/63</td>\n",
       "      <td>F</td>\n",
       "      <td>2017-06-21 18:48:16</td>\n",
       "      <td>2.000000</td>\n",
       "      <td>0</td>\n",
       "      <td>2.000000</td>\n",
       "      <td>2017-06-21 18:48:16</td>\n",
       "      <td>0.00</td>\n",
       "      <td>0.000000</td>\n",
       "      <td>&lt;10</td>\n",
       "      <td>18</td>\n",
       "      <td>False</td>\n",
       "      <td>evening</td>\n",
       "    </tr>\n",
       "    <tr>\n",
       "      <th>9</th>\n",
       "      <td>2017-06-21</td>\n",
       "      <td>970662609072</td>\n",
       "      <td>2974189</td>\n",
       "      <td>NaN</td>\n",
       "      <td>NaN</td>\n",
       "      <td>2017-06-21 18:33:20</td>\n",
       "      <td>36.016667</td>\n",
       "      <td>0</td>\n",
       "      <td>36.016667</td>\n",
       "      <td>2017-06-21 18:33:20</td>\n",
       "      <td>0.00</td>\n",
       "      <td>0.000000</td>\n",
       "      <td>30-40</td>\n",
       "      <td>18</td>\n",
       "      <td>False</td>\n",
       "      <td>evening</td>\n",
       "    </tr>\n",
       "  </tbody>\n",
       "</table>\n",
       "</div>"
      ],
      "text/plain": [
       "         date   user_trip_id  cardNum birthdate gender      exec_start_time  \\\n",
       "0  2017-06-28    17179869231  3799263       NaN    NaN  2017-06-28 18:13:56   \n",
       "1  2017-06-28   352187318396  3399915  27/07/94      F  2017-06-28 18:05:45   \n",
       "2  2017-06-28  1022202216463  2846721       NaN    NaN  2017-06-28 18:54:44   \n",
       "3  2017-06-27   120259084381  3770454       NaN    NaN  2017-06-27 18:06:36   \n",
       "4  2017-06-27   274877906968  3837677       NaN    NaN  2017-06-27 18:00:04   \n",
       "5  2017-06-27  1262720385094  3350216  08/05/89      M  2017-06-27 18:14:15   \n",
       "6  2017-06-27     8589934677  2717024       NaN    NaN  2017-06-27 18:07:24   \n",
       "7  2017-06-21   171798691854  3270046       NaN    NaN  2017-06-21 18:01:03   \n",
       "8  2017-06-21   721554505846  2999063  03/02/63      F  2017-06-21 18:48:16   \n",
       "9  2017-06-21   970662609072  2974189       NaN    NaN  2017-06-21 18:33:20   \n",
       "\n",
       "   executed_duration  itinerary_id    duration       alt_start_time  \\\n",
       "0          41.033333             0   41.033333  2017-06-28 18:13:56   \n",
       "1          88.600000             0   88.600000  2017-06-28 18:05:45   \n",
       "2          93.316667             0   93.316667  2017-06-28 18:54:44   \n",
       "3          70.833333             2    2.233333  2017-06-27 18:02:06   \n",
       "4         126.650000             0  126.650000  2017-06-27 18:00:04   \n",
       "5          26.216667             2    7.866667  2017-06-27 18:13:42   \n",
       "6         196.583333             3    2.683333  2017-06-27 18:14:54   \n",
       "7           5.016667             0    5.016667  2017-06-21 18:01:03   \n",
       "8           2.000000             0    2.000000  2017-06-21 18:48:16   \n",
       "9          36.016667             0   36.016667  2017-06-21 18:33:20   \n",
       "\n",
       "   imp_capacity  imp_capacity_perc trip_length_bucket  hour_of_day  improved  \\\n",
       "0          0.00           0.000000              40-50           18     False   \n",
       "1          0.00           0.000000                50+           18     False   \n",
       "2          0.00           0.000000                50+           18     False   \n",
       "3         68.60          96.847059                50+           18      True   \n",
       "4          0.00           0.000000                50+           18     False   \n",
       "5         18.35          69.993643              20-30           18      True   \n",
       "6        193.90          98.635015                50+           18      True   \n",
       "7          0.00           0.000000                <10           18     False   \n",
       "8          0.00           0.000000                <10           18     False   \n",
       "9          0.00           0.000000              30-40           18     False   \n",
       "\n",
       "  period_of_day  \n",
       "0       evening  \n",
       "1       evening  \n",
       "2       evening  \n",
       "3       evening  \n",
       "4       evening  \n",
       "5       evening  \n",
       "6       evening  \n",
       "7       evening  \n",
       "8       evening  \n",
       "9       evening  "
      ]
     },
     "execution_count": 57,
     "metadata": {},
     "output_type": "execute_result"
    }
   ],
   "source": [
    "imp_cap_df.head(10)"
   ]
  },
  {
   "cell_type": "markdown",
   "metadata": {},
   "source": [
    "#### Filtering trips that are too short or too long"
   ]
  },
  {
   "cell_type": "code",
   "execution_count": 58,
   "metadata": {
    "collapsed": true
   },
   "outputs": [],
   "source": [
    "min_trip_dur = 10\n",
    "max_trip_dur = 50\n",
    "\n",
    "clean_trips = imp_cap_df[(imp_cap_df['executed_duration'] >= min_trip_dur) & (imp_cap_df['executed_duration'] < max_trip_dur)]"
   ]
  },
  {
   "cell_type": "code",
   "execution_count": 59,
   "metadata": {},
   "outputs": [
    {
     "data": {
      "text/plain": [
       "11207"
      ]
     },
     "execution_count": 59,
     "metadata": {},
     "output_type": "execute_result"
    }
   ],
   "source": [
    "clean_trips.count()[0]"
   ]
  },
  {
   "cell_type": "markdown",
   "metadata": {},
   "source": [
    "#### Computing How many trips can be improved after filtering by trip length"
   ]
  },
  {
   "cell_type": "code",
   "execution_count": 60,
   "metadata": {},
   "outputs": [
    {
     "data": {
      "text/plain": [
       "0.34835370750423844"
      ]
     },
     "execution_count": 60,
     "metadata": {},
     "output_type": "execute_result"
    }
   ],
   "source": [
    "sum(clean_trips['improved'])/float(clean_trips.count()[0])"
   ]
  },
  {
   "cell_type": "markdown",
   "metadata": {},
   "source": [
    "#### Number of Trips with/without improvent per Trip Length Bucket"
   ]
  },
  {
   "cell_type": "code",
   "execution_count": 61,
   "metadata": {
    "collapsed": true
   },
   "outputs": [],
   "source": [
    "trips_per_length = clean_trips.groupby('trip_length_bucket').size().reset_index(name='total')"
   ]
  },
  {
   "cell_type": "code",
   "execution_count": 62,
   "metadata": {},
   "outputs": [
    {
     "data": {
      "text/html": [
       "<div>\n",
       "<style>\n",
       "    .dataframe thead tr:only-child th {\n",
       "        text-align: right;\n",
       "    }\n",
       "\n",
       "    .dataframe thead th {\n",
       "        text-align: left;\n",
       "    }\n",
       "\n",
       "    .dataframe tbody tr th {\n",
       "        vertical-align: top;\n",
       "    }\n",
       "</style>\n",
       "<table border=\"1\" class=\"dataframe\">\n",
       "  <thead>\n",
       "    <tr style=\"text-align: right;\">\n",
       "      <th></th>\n",
       "      <th>trip_length_bucket</th>\n",
       "      <th>total</th>\n",
       "    </tr>\n",
       "  </thead>\n",
       "  <tbody>\n",
       "    <tr>\n",
       "      <th>0</th>\n",
       "      <td>10-20</td>\n",
       "      <td>3947</td>\n",
       "    </tr>\n",
       "    <tr>\n",
       "      <th>1</th>\n",
       "      <td>20-30</td>\n",
       "      <td>3053</td>\n",
       "    </tr>\n",
       "    <tr>\n",
       "      <th>2</th>\n",
       "      <td>30-40</td>\n",
       "      <td>2357</td>\n",
       "    </tr>\n",
       "    <tr>\n",
       "      <th>3</th>\n",
       "      <td>40-50</td>\n",
       "      <td>1850</td>\n",
       "    </tr>\n",
       "  </tbody>\n",
       "</table>\n",
       "</div>"
      ],
      "text/plain": [
       "  trip_length_bucket  total\n",
       "0              10-20   3947\n",
       "1              20-30   3053\n",
       "2              30-40   2357\n",
       "3              40-50   1850"
      ]
     },
     "execution_count": 62,
     "metadata": {},
     "output_type": "execute_result"
    }
   ],
   "source": [
    "trips_per_length"
   ]
  },
  {
   "cell_type": "code",
   "execution_count": 63,
   "metadata": {},
   "outputs": [],
   "source": [
    "trips_per_length_improved = clean_trips[clean_trips['improved']].groupby('trip_length_bucket').size().reset_index(name='total')"
   ]
  },
  {
   "cell_type": "code",
   "execution_count": 64,
   "metadata": {},
   "outputs": [
    {
     "data": {
      "text/html": [
       "<div>\n",
       "<style>\n",
       "    .dataframe thead tr:only-child th {\n",
       "        text-align: right;\n",
       "    }\n",
       "\n",
       "    .dataframe thead th {\n",
       "        text-align: left;\n",
       "    }\n",
       "\n",
       "    .dataframe tbody tr th {\n",
       "        vertical-align: top;\n",
       "    }\n",
       "</style>\n",
       "<table border=\"1\" class=\"dataframe\">\n",
       "  <thead>\n",
       "    <tr style=\"text-align: right;\">\n",
       "      <th></th>\n",
       "      <th>trip_length_bucket</th>\n",
       "      <th>total</th>\n",
       "    </tr>\n",
       "  </thead>\n",
       "  <tbody>\n",
       "    <tr>\n",
       "      <th>0</th>\n",
       "      <td>10-20</td>\n",
       "      <td>1109</td>\n",
       "    </tr>\n",
       "    <tr>\n",
       "      <th>1</th>\n",
       "      <td>20-30</td>\n",
       "      <td>1032</td>\n",
       "    </tr>\n",
       "    <tr>\n",
       "      <th>2</th>\n",
       "      <td>30-40</td>\n",
       "      <td>895</td>\n",
       "    </tr>\n",
       "    <tr>\n",
       "      <th>3</th>\n",
       "      <td>40-50</td>\n",
       "      <td>868</td>\n",
       "    </tr>\n",
       "  </tbody>\n",
       "</table>\n",
       "</div>"
      ],
      "text/plain": [
       "  trip_length_bucket  total\n",
       "0              10-20   1109\n",
       "1              20-30   1032\n",
       "2              30-40    895\n",
       "3              40-50    868"
      ]
     },
     "execution_count": 64,
     "metadata": {},
     "output_type": "execute_result"
    }
   ],
   "source": [
    "trips_per_length_improved"
   ]
  },
  {
   "cell_type": "code",
   "execution_count": 65,
   "metadata": {},
   "outputs": [
    {
     "data": {
      "image/png": "[encoded data removed]",
      "text/plain": [
       "<matplotlib.figure.Figure at 0x7fc96499b150>"
      ]
     },
     "metadata": {},
     "output_type": "display_data"
    }
   ],
   "source": [
    "sns.set_style(\"whitegrid\")\n",
    "\n",
    "#Plot 1 - background - \"total\" (top) series\n",
    "ax = sns.barplot(x = trips_per_length.trip_length_bucket, y = trips_per_length.total, color = \"#66c2a5\")\n",
    "\n",
    "#Plot 2 - overlay - \"bottom\" series\n",
    "bottom_plot = sns.barplot(x = trips_per_length_improved.trip_length_bucket, y = trips_per_length_improved.total, color = \"#fc8d62\")\n",
    "\n",
    "bottom_plot.set(xlabel='Trip Length (minutes)',ylabel='Number of Trips')\n",
    "\n",
    "topbar = plt.Rectangle((0,0),1,1,fc=\"#66c2a5\", edgecolor = 'none')\n",
    "bottombar = plt.Rectangle((0,0),1,1,fc='#fc8d62',  edgecolor = 'none')\n",
    "l = plt.legend([bottombar, topbar], ['Not Optimal', 'Optimal'], bbox_to_anchor=(0, 1.2), loc=2, ncol = 2, prop={'size':10})\n",
    "l.draw_frame(False)\n",
    "\n",
    "fig = ax.get_figure()\n",
    "fig.set_size_inches(4.5, 3)\n",
    "fig.savefig('/local/tarciso/masters/data/results/trip_length_by_optimality.pdf', bbox_inches='tight')"
   ]
  },
  {
   "cell_type": "markdown",
   "metadata": {},
   "source": [
    "### Analyzing Data Distribution"
   ]
  },
  {
   "cell_type": "code",
   "execution_count": 68,
   "metadata": {
    "collapsed": true
   },
   "outputs": [],
   "source": [
    "pos_improvement = clean_trips[(clean_trips['imp_capacity'] > 0) & (clean_trips['duration'] >= 10)]"
   ]
  },
  {
   "cell_type": "code",
   "execution_count": 69,
   "metadata": {},
   "outputs": [
    {
     "data": {
      "text/plain": [
       "1878"
      ]
     },
     "execution_count": 69,
     "metadata": {},
     "output_type": "execute_result"
    }
   ],
   "source": [
    "pos_improvement.count()[0]"
   ]
  },
  {
   "cell_type": "markdown",
   "metadata": {},
   "source": [
    "### Improvement Capacity Percentage"
   ]
  },
  {
   "cell_type": "markdown",
   "metadata": {},
   "source": [
    "#### Overall"
   ]
  },
  {
   "cell_type": "code",
   "execution_count": 70,
   "metadata": {},
   "outputs": [
    {
     "data": {
      "text/plain": [
       "<matplotlib.axes._subplots.AxesSubplot at 0x7fc964a55c90>"
      ]
     },
     "execution_count": 70,
     "metadata": {},
     "output_type": "execute_result"
    },
    {
     "data": {
      "image/png": "[encoded data removed]",
      "text/plain": [
       "<matplotlib.figure.Figure at 0x7fc96493a450>"
      ]
     },
     "metadata": {},
     "output_type": "display_data"
    }
   ],
   "source": [
    "sns.kdeplot(pos_improvement.imp_capacity_perc, shade=True)"
   ]
  },
  {
   "cell_type": "code",
   "execution_count": 71,
   "metadata": {},
   "outputs": [
    {
     "data": {
      "text/plain": [
       "count    1878.000000\n",
       "mean       39.234768\n",
       "std        22.291753\n",
       "min         0.132890\n",
       "25%        20.104908\n",
       "50%        40.012443\n",
       "75%        59.236755\n",
       "max        79.461279\n",
       "Name: imp_capacity_perc, dtype: float64"
      ]
     },
     "execution_count": 71,
     "metadata": {},
     "output_type": "execute_result"
    }
   ],
   "source": [
    "pos_improvement.imp_capacity_perc.describe()"
   ]
  },
  {
   "cell_type": "code",
   "execution_count": 72,
   "metadata": {},
   "outputs": [
    {
     "data": {
      "text/plain": [
       "<matplotlib.axes._subplots.AxesSubplot at 0x7fc958575690>"
      ]
     },
     "execution_count": 72,
     "metadata": {},
     "output_type": "execute_result"
    },
    {
     "data": {
      "image/png": "[encoded data removed]",
      "text/plain": [
       "<matplotlib.figure.Figure at 0x7fc96493a2d0>"
      ]
     },
     "metadata": {},
     "output_type": "display_data"
    }
   ],
   "source": [
    "sns.boxplot(x=pos_improvement.imp_capacity_perc)"
   ]
  },
  {
   "cell_type": "markdown",
   "metadata": {},
   "source": [
    "#### Per trip length "
   ]
  },
  {
   "cell_type": "code",
   "execution_count": 75,
   "metadata": {
    "scrolled": true
   },
   "outputs": [
    {
     "data": {
      "image/png": "[encoded data removed]",
      "text/plain": [
       "<matplotlib.figure.Figure at 0x7fc964a3fb50>"
      ]
     },
     "metadata": {},
     "output_type": "display_data"
    }
   ],
   "source": [
    "#trip_len_order=['0-15','15-30','30-45','45+']\n",
    "trip_len_order=['10-20','20-30','30-40']\n",
    "ax = sns.boxplot(x='imp_capacity_perc',y='trip_length_bucket', orient='h', data=pos_improvement, order=trip_len_order, color='#fc8d62')\n",
    "ax.set(xlabel='Inefficiency (%)',ylabel='Trip Length')\n",
    "\n",
    "fig = ax.get_figure()\n",
    "fig.set_size_inches(4.5, 3)\n",
    "fig.savefig('/local/tarciso/masters/data/results/imp_capacity_per_trip_length.pdf', bbox_inches='tight')"
   ]
  },
  {
   "cell_type": "code",
   "execution_count": 76,
   "metadata": {},
   "outputs": [
    {
     "data": {
      "image/png": "[encoded data removed]",
      "text/plain": [
       "<matplotlib.figure.Figure at 0x7fc95853e190>"
      ]
     },
     "metadata": {},
     "output_type": "display_data"
    }
   ],
   "source": [
    "period_of_day_order = ['very_late_night','early_morning','morning','midday','afternoon','evening','night','late_night']\n",
    "ax = sns.boxplot(x='imp_capacity_perc',y='period_of_day', data=pos_improvement, order=period_of_day_order, color='#fc8d62')\n",
    "ax.set(xlabel='Inefficiency (%)',ylabel='Period of Day')\n",
    "\n",
    "fig = ax.get_figure()\n",
    "fig.set_size_inches(4.5, 3)\n",
    "fig.savefig('/local/tarciso/masters/data/results/imp_capacity_per_day_period.pdf', bbox_inches='tight')"
   ]
  },
  {
   "cell_type": "code",
   "execution_count": null,
   "metadata": {},
   "outputs": [],
   "source": [
    "sns.violinplot(x=pos_improvement[pos_improvement['trip_length_bucket'] == '45+'].executed_duration)"
   ]
  },
  {
   "cell_type": "code",
   "execution_count": null,
   "metadata": {},
   "outputs": [],
   "source": [
    "sns.violinplot(x=pos_improvement[pos_improvement['trip_length_bucket'] == '45+'].duration)"
   ]
  },
  {
   "cell_type": "code",
   "execution_count": null,
   "metadata": {},
   "outputs": [],
   "source": [
    "pos_improvement.sort_values(by='imp_capacity', ascending=False).head(10)"
   ]
  },
  {
   "cell_type": "code",
   "execution_count": null,
   "metadata": {
    "collapsed": true
   },
   "outputs": [],
   "source": [
    "highest_imp_trip = pos_improvement.sort_values(by='imp_capacity', ascending=False).head(1)"
   ]
  },
  {
   "cell_type": "code",
   "execution_count": null,
   "metadata": {},
   "outputs": [],
   "source": [
    "highest_imp_trip"
   ]
  },
  {
   "cell_type": "code",
   "execution_count": null,
   "metadata": {
    "collapsed": true
   },
   "outputs": [],
   "source": [
    "od_matrix = read_df_from_csv_folder('/local/tarciso/masters/data/bus_trips/buste-v3a/may_jun_jul/od_days/2017_06_19_od/', 'part-*.csv')"
   ]
  },
  {
   "cell_type": "code",
   "execution_count": null,
   "metadata": {},
   "outputs": [],
   "source": [
    "od_matrix.head()"
   ]
  },
  {
   "cell_type": "code",
   "execution_count": null,
   "metadata": {},
   "outputs": [],
   "source": [
    "od_matrix.columns"
   ]
  },
  {
   "cell_type": "code",
   "execution_count": null,
   "metadata": {
    "collapsed": true
   },
   "outputs": [],
   "source": [
    "matched_trip = od_matrix.merge(highest_imp_trip, left_on = ['cardNum'], right_on = ['cardNum'])"
   ]
  },
  {
   "cell_type": "code",
   "execution_count": null,
   "metadata": {},
   "outputs": [],
   "source": [
    "matched_trip"
   ]
  },
  {
   "cell_type": "code",
   "execution_count": null,
   "metadata": {},
   "outputs": [],
   "source": [
    "matched_trip[['o_shape_lat','o_shape_lon','o_timestamp','shapeLat','shapeLon','next_o_shape_lat','next_o_shape_lon','next_o_timestamp']]"
   ]
  },
  {
   "cell_type": "markdown",
   "metadata": {},
   "source": [
    "#### Filtering out trips which improved and best trip alternative was lower than X minutes"
   ]
  },
  {
   "cell_type": "code",
   "execution_count": null,
   "metadata": {
    "collapsed": true
   },
   "outputs": [],
   "source": [
    "clean_trips = pos_improvement[pos_improvement['imp_capacity_perc'] < 0.5]\n",
    "#clean_trips = pos_improvement[pos_improvement['duration'] > 10]"
   ]
  },
  {
   "cell_type": "code",
   "execution_count": null,
   "metadata": {},
   "outputs": [],
   "source": [
    "sns.boxplot(clean_trips[clean_trips['trip_length_bucket'] == '45+'].duration)"
   ]
  },
  {
   "cell_type": "code",
   "execution_count": null,
   "metadata": {},
   "outputs": [],
   "source": [
    "clean_trips[clean_trips['trip_length_bucket'] == '45+'].head(20)"
   ]
  },
  {
   "cell_type": "code",
   "execution_count": null,
   "metadata": {},
   "outputs": [],
   "source": [
    "trip_len_order=['0_15','15_30','30_45','45+']\n",
    "ax = sns.boxplot(x='imp_capacity_perc',y='trip_length_bucket', orient='h', data=clean_trips, order=trip_len_order)\n",
    "ax.set(xlabel='Trip Length Bucket',ylabel='Improvement Capacity Proportion',title='Improvement Capacity Proportion per Trip Length Bucket')\n",
    "plt.show()"
   ]
  },
  {
   "cell_type": "markdown",
   "metadata": {},
   "source": [
    "#### Per hour of day"
   ]
  },
  {
   "cell_type": "code",
   "execution_count": null,
   "metadata": {
    "scrolled": true
   },
   "outputs": [],
   "source": [
    "ax = sns.violinplot(x='hour_of_day',y='imp_capacity_perc', data=pos_improvement)\n",
    "ax.set(xlabel='Hour of Day',ylabel='Improvement Capacity Proportion',title='Improvement Capacity Proportion per Hour of Day')\n",
    "plt.show()"
   ]
  },
  {
   "cell_type": "markdown",
   "metadata": {},
   "source": [
    "#### Per period of day"
   ]
  },
  {
   "cell_type": "code",
   "execution_count": null,
   "metadata": {
    "scrolled": true
   },
   "outputs": [],
   "source": [
    "period_of_day_order = ['very_late_night','early_morning','morning','midday','afternoon','early_night','night','late_night']\n",
    "ax = sns.boxplot(x='imp_capacity_perc',y='period_of_day', data=pos_improvement, order=period_of_day_order, color='#fc8d62')\n",
    "ax.set(xlabel='Improvement Capacity (%)',ylabel='Period of Day')\n",
    "plt.show()"
   ]
  },
  {
   "cell_type": "markdown",
   "metadata": {},
   "source": [
    "#### Per trip length and Period of Day"
   ]
  },
  {
   "cell_type": "code",
   "execution_count": null,
   "metadata": {},
   "outputs": [],
   "source": [
    "col_order = ['very_late_night','early_morning','morning','midday','afternoon','early_night','night','late_night']\n",
    "sns.factorplot(x='imp_capacity_perc',y='period_of_day',hue='trip_length_bucket', data=pos_improvement, kind='bar', size=6, order=col_order)"
   ]
  },
  {
   "cell_type": "markdown",
   "metadata": {},
   "source": [
    "#### Per Day of Week (Sun-Sat)"
   ]
  },
  {
   "cell_type": "markdown",
   "metadata": {},
   "source": [
    "#### Per Day Type (Mon,Fri,Tue-Thu,Sat-Sun)"
   ]
  },
  {
   "cell_type": "code",
   "execution_count": null,
   "metadata": {
    "collapsed": true
   },
   "outputs": [],
   "source": []
  }
 ],
 "metadata": {
  "kernelspec": {
   "display_name": "Python 2",
   "language": "python",
   "name": "python2"
  },
  "language_info": {
   "codemirror_mode": {
    "name": "ipython",
    "version": 2
   },
   "file_extension": ".py",
   "mimetype": "text/x-python",
   "name": "python",
   "nbconvert_exporter": "python",
   "pygments_lexer": "ipython2",
   "version": "2.7.14"
  }
 },
 "nbformat": 4,
 "nbformat_minor": 2
}
