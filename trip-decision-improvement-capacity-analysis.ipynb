{
 "cells": [
  {
   "cell_type": "code",
   "execution_count": 75,
   "metadata": {
    "collapsed": true
   },
   "outputs": [],
   "source": [
    "import pandas as pd\n",
    "import numpy as np\n",
    "\n",
    "#Imports to enable visualizations\n",
    "import seaborn as sns\n",
    "import matplotlib.pyplot as plt\n",
    "%matplotlib inline\n",
    "\n",
    "#Python standard libraries\n",
    "import glob, os    \n",
    "import datetime"
   ]
  },
  {
   "cell_type": "code",
   "execution_count": 76,
   "metadata": {
    "collapsed": true
   },
   "outputs": [],
   "source": [
    "#Functions\n",
    "\n",
    "def read_df_from_csv_folder(folderpath,filename_pattern):\n",
    "    return pd.concat(map(pd.read_csv, glob.glob(os.path.join(folderpath, filename_pattern))))\n"
   ]
  },
  {
   "cell_type": "markdown",
   "metadata": {},
   "source": [
    "### Read Data"
   ]
  },
  {
   "cell_type": "code",
   "execution_count": 77,
   "metadata": {
    "collapsed": true
   },
   "outputs": [],
   "source": [
    "base_folderpath = '/local/tarciso/masters/experiments/preliminary-exp/preliminary-exp-sample-data/buste-v3a/'"
   ]
  },
  {
   "cell_type": "markdown",
   "metadata": {},
   "source": [
    "#### Trips Improvement Capacity Data"
   ]
  },
  {
   "cell_type": "code",
   "execution_count": 78,
   "metadata": {
    "collapsed": true
   },
   "outputs": [],
   "source": [
    "imp_cap_df = read_df_from_csv_folder(base_folderpath + '/duration_improvement_capacity/', 'part-*.csv')"
   ]
  },
  {
   "cell_type": "code",
   "execution_count": 105,
   "metadata": {},
   "outputs": [
    {
     "name": "stdout",
     "output_type": "stream",
     "text": [
      "<class 'pandas.core.frame.DataFrame'>\n",
      "Int64Index: 4997 entries, 0 to 19\n",
      "Data columns (total 7 columns):\n",
      "date                 4997 non-null object\n",
      "user_trip_id         4997 non-null int64\n",
      "itinerary_id         4997 non-null int64\n",
      "duration             4997 non-null float64\n",
      "o_datetime           4997 non-null object\n",
      "executed_duration    4997 non-null float64\n",
      "imp_capacity         4997 non-null float64\n",
      "dtypes: float64(3), int64(2), object(2)\n",
      "memory usage: 312.3+ KB\n"
     ]
    }
   ],
   "source": [
    "imp_cap_df.info()"
   ]
  },
  {
   "cell_type": "code",
   "execution_count": 79,
   "metadata": {},
   "outputs": [
    {
     "data": {
      "text/html": [
       "<div>\n",
       "<style>\n",
       "    .dataframe thead tr:only-child th {\n",
       "        text-align: right;\n",
       "    }\n",
       "\n",
       "    .dataframe thead th {\n",
       "        text-align: left;\n",
       "    }\n",
       "\n",
       "    .dataframe tbody tr th {\n",
       "        vertical-align: top;\n",
       "    }\n",
       "</style>\n",
       "<table border=\"1\" class=\"dataframe\">\n",
       "  <thead>\n",
       "    <tr style=\"text-align: right;\">\n",
       "      <th></th>\n",
       "      <th>date</th>\n",
       "      <th>user_trip_id</th>\n",
       "      <th>itinerary_id</th>\n",
       "      <th>duration</th>\n",
       "      <th>o_datetime</th>\n",
       "      <th>executed_duration</th>\n",
       "      <th>imp_capacity</th>\n",
       "    </tr>\n",
       "  </thead>\n",
       "  <tbody>\n",
       "    <tr>\n",
       "      <th>0</th>\n",
       "      <td>2017-05-10</td>\n",
       "      <td>8589934785</td>\n",
       "      <td>3</td>\n",
       "      <td>10.616667</td>\n",
       "      <td>2017-05-10 17:40:02</td>\n",
       "      <td>7.133333</td>\n",
       "      <td>-3.483333</td>\n",
       "    </tr>\n",
       "    <tr>\n",
       "      <th>1</th>\n",
       "      <td>2017-05-10</td>\n",
       "      <td>249108103174</td>\n",
       "      <td>2</td>\n",
       "      <td>5.383333</td>\n",
       "      <td>2017-05-10 05:48:07</td>\n",
       "      <td>75.450000</td>\n",
       "      <td>70.066667</td>\n",
       "    </tr>\n",
       "    <tr>\n",
       "      <th>2</th>\n",
       "      <td>2017-05-10</td>\n",
       "      <td>335007449219</td>\n",
       "      <td>3</td>\n",
       "      <td>17.216667</td>\n",
       "      <td>2017-05-10 06:47:35</td>\n",
       "      <td>15.783333</td>\n",
       "      <td>-1.433333</td>\n",
       "    </tr>\n",
       "    <tr>\n",
       "      <th>3</th>\n",
       "      <td>2017-05-10</td>\n",
       "      <td>420906795126</td>\n",
       "      <td>1</td>\n",
       "      <td>25.550000</td>\n",
       "      <td>2017-05-10 16:48:18</td>\n",
       "      <td>24.066667</td>\n",
       "      <td>-1.483333</td>\n",
       "    </tr>\n",
       "    <tr>\n",
       "      <th>4</th>\n",
       "      <td>2017-05-10</td>\n",
       "      <td>446676598927</td>\n",
       "      <td>1</td>\n",
       "      <td>1.683333</td>\n",
       "      <td>2017-05-10 07:01:23</td>\n",
       "      <td>33.183333</td>\n",
       "      <td>31.500000</td>\n",
       "    </tr>\n",
       "  </tbody>\n",
       "</table>\n",
       "</div>"
      ],
      "text/plain": [
       "         date  user_trip_id  itinerary_id   duration           o_datetime  \\\n",
       "0  2017-05-10    8589934785             3  10.616667  2017-05-10 17:40:02   \n",
       "1  2017-05-10  249108103174             2   5.383333  2017-05-10 05:48:07   \n",
       "2  2017-05-10  335007449219             3  17.216667  2017-05-10 06:47:35   \n",
       "3  2017-05-10  420906795126             1  25.550000  2017-05-10 16:48:18   \n",
       "4  2017-05-10  446676598927             1   1.683333  2017-05-10 07:01:23   \n",
       "\n",
       "   executed_duration  imp_capacity  \n",
       "0           7.133333     -3.483333  \n",
       "1          75.450000     70.066667  \n",
       "2          15.783333     -1.433333  \n",
       "3          24.066667     -1.483333  \n",
       "4          33.183333     31.500000  "
      ]
     },
     "execution_count": 79,
     "metadata": {},
     "output_type": "execute_result"
    }
   ],
   "source": [
    "imp_cap_df.head()"
   ]
  },
  {
   "cell_type": "markdown",
   "metadata": {},
   "source": [
    "#### Trips Itinerary Data"
   ]
  },
  {
   "cell_type": "code",
   "execution_count": 80,
   "metadata": {
    "collapsed": true
   },
   "outputs": [],
   "source": [
    "trips_itineraries = read_df_from_csv_folder(base_folderpath + '/trips_actual_itineraries/','part-*.csv')"
   ]
  },
  {
   "cell_type": "code",
   "execution_count": 81,
   "metadata": {},
   "outputs": [
    {
     "data": {
      "text/plain": [
       "Index([u'date', u'user_trip_id', u'itinerary_id', u'leg_id', u'route',\n",
       "       u'from_stop_id', u'to_stop_id', u'otp_start_time', u'otp_end_time',\n",
       "       u'mode', u'otp_duration_mins', u'busCode', u'tripNum',\n",
       "       u'from_timestamp', u'to_timestamp', u'actual_duration_mins',\n",
       "       u'considered_duration_mins'],\n",
       "      dtype='object')"
      ]
     },
     "execution_count": 81,
     "metadata": {},
     "output_type": "execute_result"
    }
   ],
   "source": [
    "trips_itineraries.columns"
   ]
  },
  {
   "cell_type": "code",
   "execution_count": 82,
   "metadata": {},
   "outputs": [
    {
     "data": {
      "text/html": [
       "<div>\n",
       "<style>\n",
       "    .dataframe thead tr:only-child th {\n",
       "        text-align: right;\n",
       "    }\n",
       "\n",
       "    .dataframe thead th {\n",
       "        text-align: left;\n",
       "    }\n",
       "\n",
       "    .dataframe tbody tr th {\n",
       "        vertical-align: top;\n",
       "    }\n",
       "</style>\n",
       "<table border=\"1\" class=\"dataframe\">\n",
       "  <thead>\n",
       "    <tr style=\"text-align: right;\">\n",
       "      <th></th>\n",
       "      <th>user_trip_id</th>\n",
       "      <th>itinerary_id</th>\n",
       "      <th>leg_id</th>\n",
       "      <th>route</th>\n",
       "      <th>from_stop_id</th>\n",
       "      <th>to_stop_id</th>\n",
       "      <th>otp_duration_mins</th>\n",
       "      <th>tripNum</th>\n",
       "      <th>actual_duration_mins</th>\n",
       "      <th>considered_duration_mins</th>\n",
       "    </tr>\n",
       "  </thead>\n",
       "  <tbody>\n",
       "    <tr>\n",
       "      <th>count</th>\n",
       "      <td>3.946700e+04</td>\n",
       "      <td>39467.000000</td>\n",
       "      <td>39467.000000</td>\n",
       "      <td>13011.000000</td>\n",
       "      <td>13011.000000</td>\n",
       "      <td>13011.000000</td>\n",
       "      <td>39467.000000</td>\n",
       "      <td>13011.000000</td>\n",
       "      <td>13011.000000</td>\n",
       "      <td>39467.000000</td>\n",
       "    </tr>\n",
       "    <tr>\n",
       "      <th>mean</th>\n",
       "      <td>8.572579e+11</td>\n",
       "      <td>2.002610</td>\n",
       "      <td>1.999468</td>\n",
       "      <td>452.858427</td>\n",
       "      <td>30864.358543</td>\n",
       "      <td>29618.783030</td>\n",
       "      <td>6.256049</td>\n",
       "      <td>5.933287</td>\n",
       "      <td>18.576073</td>\n",
       "      <td>7.001888</td>\n",
       "    </tr>\n",
       "    <tr>\n",
       "      <th>std</th>\n",
       "      <td>4.938567e+11</td>\n",
       "      <td>0.819873</td>\n",
       "      <td>0.871792</td>\n",
       "      <td>279.609285</td>\n",
       "      <td>5093.991684</td>\n",
       "      <td>5158.452898</td>\n",
       "      <td>10.357220</td>\n",
       "      <td>4.048895</td>\n",
       "      <td>45.064456</td>\n",
       "      <td>27.189084</td>\n",
       "    </tr>\n",
       "    <tr>\n",
       "      <th>min</th>\n",
       "      <td>2.000000e+00</td>\n",
       "      <td>1.000000</td>\n",
       "      <td>1.000000</td>\n",
       "      <td>1.000000</td>\n",
       "      <td>270.000000</td>\n",
       "      <td>70.000000</td>\n",
       "      <td>0.016667</td>\n",
       "      <td>1.000000</td>\n",
       "      <td>0.100000</td>\n",
       "      <td>0.016667</td>\n",
       "    </tr>\n",
       "    <tr>\n",
       "      <th>25%</th>\n",
       "      <td>4.294967e+11</td>\n",
       "      <td>1.000000</td>\n",
       "      <td>1.000000</td>\n",
       "      <td>183.000000</td>\n",
       "      <td>28945.000000</td>\n",
       "      <td>26376.000000</td>\n",
       "      <td>0.150000</td>\n",
       "      <td>3.000000</td>\n",
       "      <td>6.700000</td>\n",
       "      <td>0.150000</td>\n",
       "    </tr>\n",
       "    <tr>\n",
       "      <th>50%</th>\n",
       "      <td>8.589935e+11</td>\n",
       "      <td>2.000000</td>\n",
       "      <td>2.000000</td>\n",
       "      <td>464.000000</td>\n",
       "      <td>31019.000000</td>\n",
       "      <td>29892.000000</td>\n",
       "      <td>1.000000</td>\n",
       "      <td>5.000000</td>\n",
       "      <td>14.133333</td>\n",
       "      <td>1.000000</td>\n",
       "    </tr>\n",
       "    <tr>\n",
       "      <th>75%</th>\n",
       "      <td>1.279900e+12</td>\n",
       "      <td>3.000000</td>\n",
       "      <td>3.000000</td>\n",
       "      <td>685.000000</td>\n",
       "      <td>33613.000000</td>\n",
       "      <td>32654.000000</td>\n",
       "      <td>7.533333</td>\n",
       "      <td>8.000000</td>\n",
       "      <td>23.508333</td>\n",
       "      <td>8.033333</td>\n",
       "    </tr>\n",
       "    <tr>\n",
       "      <th>max</th>\n",
       "      <td>1.709397e+12</td>\n",
       "      <td>3.000000</td>\n",
       "      <td>8.000000</td>\n",
       "      <td>972.000000</td>\n",
       "      <td>48762.000000</td>\n",
       "      <td>48641.000000</td>\n",
       "      <td>83.900000</td>\n",
       "      <td>43.000000</td>\n",
       "      <td>1086.233333</td>\n",
       "      <td>1086.233333</td>\n",
       "    </tr>\n",
       "  </tbody>\n",
       "</table>\n",
       "</div>"
      ],
      "text/plain": [
       "       user_trip_id  itinerary_id        leg_id         route  from_stop_id  \\\n",
       "count  3.946700e+04  39467.000000  39467.000000  13011.000000  13011.000000   \n",
       "mean   8.572579e+11      2.002610      1.999468    452.858427  30864.358543   \n",
       "std    4.938567e+11      0.819873      0.871792    279.609285   5093.991684   \n",
       "min    2.000000e+00      1.000000      1.000000      1.000000    270.000000   \n",
       "25%    4.294967e+11      1.000000      1.000000    183.000000  28945.000000   \n",
       "50%    8.589935e+11      2.000000      2.000000    464.000000  31019.000000   \n",
       "75%    1.279900e+12      3.000000      3.000000    685.000000  33613.000000   \n",
       "max    1.709397e+12      3.000000      8.000000    972.000000  48762.000000   \n",
       "\n",
       "         to_stop_id  otp_duration_mins       tripNum  actual_duration_mins  \\\n",
       "count  13011.000000       39467.000000  13011.000000          13011.000000   \n",
       "mean   29618.783030           6.256049      5.933287             18.576073   \n",
       "std     5158.452898          10.357220      4.048895             45.064456   \n",
       "min       70.000000           0.016667      1.000000              0.100000   \n",
       "25%    26376.000000           0.150000      3.000000              6.700000   \n",
       "50%    29892.000000           1.000000      5.000000             14.133333   \n",
       "75%    32654.000000           7.533333      8.000000             23.508333   \n",
       "max    48641.000000          83.900000     43.000000           1086.233333   \n",
       "\n",
       "       considered_duration_mins  \n",
       "count              39467.000000  \n",
       "mean                   7.001888  \n",
       "std                   27.189084  \n",
       "min                    0.016667  \n",
       "25%                    0.150000  \n",
       "50%                    1.000000  \n",
       "75%                    8.033333  \n",
       "max                 1086.233333  "
      ]
     },
     "execution_count": 82,
     "metadata": {},
     "output_type": "execute_result"
    }
   ],
   "source": [
    "trips_itineraries.describe()"
   ]
  },
  {
   "cell_type": "code",
   "execution_count": 83,
   "metadata": {
    "scrolled": true
   },
   "outputs": [
    {
     "data": {
      "text/html": [
       "<div>\n",
       "<style>\n",
       "    .dataframe thead tr:only-child th {\n",
       "        text-align: right;\n",
       "    }\n",
       "\n",
       "    .dataframe thead th {\n",
       "        text-align: left;\n",
       "    }\n",
       "\n",
       "    .dataframe tbody tr th {\n",
       "        vertical-align: top;\n",
       "    }\n",
       "</style>\n",
       "<table border=\"1\" class=\"dataframe\">\n",
       "  <thead>\n",
       "    <tr style=\"text-align: right;\">\n",
       "      <th></th>\n",
       "      <th>date</th>\n",
       "      <th>user_trip_id</th>\n",
       "      <th>itinerary_id</th>\n",
       "      <th>leg_id</th>\n",
       "      <th>route</th>\n",
       "      <th>from_stop_id</th>\n",
       "      <th>to_stop_id</th>\n",
       "      <th>otp_start_time</th>\n",
       "      <th>otp_end_time</th>\n",
       "      <th>mode</th>\n",
       "      <th>otp_duration_mins</th>\n",
       "      <th>busCode</th>\n",
       "      <th>tripNum</th>\n",
       "      <th>from_timestamp</th>\n",
       "      <th>to_timestamp</th>\n",
       "      <th>actual_duration_mins</th>\n",
       "      <th>considered_duration_mins</th>\n",
       "    </tr>\n",
       "  </thead>\n",
       "  <tbody>\n",
       "    <tr>\n",
       "      <th>0</th>\n",
       "      <td>2017-05-10</td>\n",
       "      <td>111669149864</td>\n",
       "      <td>2</td>\n",
       "      <td>2</td>\n",
       "      <td>468.0</td>\n",
       "      <td>30749.0</td>\n",
       "      <td>26179.0</td>\n",
       "      <td>2017-05-10T19:26:09.000-03:00</td>\n",
       "      <td>2017-05-10T19:28:00.000-03:00</td>\n",
       "      <td>BUS</td>\n",
       "      <td>1.850000</td>\n",
       "      <td>DC293</td>\n",
       "      <td>1.0</td>\n",
       "      <td>2017-05-10 19:32:37</td>\n",
       "      <td>2017-05-10 19:37:16</td>\n",
       "      <td>4.650000</td>\n",
       "      <td>4.650000</td>\n",
       "    </tr>\n",
       "    <tr>\n",
       "      <th>1</th>\n",
       "      <td>2017-05-10</td>\n",
       "      <td>111669149864</td>\n",
       "      <td>2</td>\n",
       "      <td>1</td>\n",
       "      <td>NaN</td>\n",
       "      <td>NaN</td>\n",
       "      <td>NaN</td>\n",
       "      <td>2017-05-10T19:26:02.000-03:00</td>\n",
       "      <td>2017-05-10T19:26:08.000-03:00</td>\n",
       "      <td>WALK</td>\n",
       "      <td>0.100000</td>\n",
       "      <td>NaN</td>\n",
       "      <td>NaN</td>\n",
       "      <td>NaN</td>\n",
       "      <td>NaN</td>\n",
       "      <td>NaN</td>\n",
       "      <td>0.100000</td>\n",
       "    </tr>\n",
       "    <tr>\n",
       "      <th>2</th>\n",
       "      <td>2017-05-10</td>\n",
       "      <td>111669149864</td>\n",
       "      <td>2</td>\n",
       "      <td>3</td>\n",
       "      <td>NaN</td>\n",
       "      <td>NaN</td>\n",
       "      <td>NaN</td>\n",
       "      <td>2017-05-10T19:28:01.000-03:00</td>\n",
       "      <td>2017-05-10T19:28:03.000-03:00</td>\n",
       "      <td>WALK</td>\n",
       "      <td>0.033333</td>\n",
       "      <td>NaN</td>\n",
       "      <td>NaN</td>\n",
       "      <td>NaN</td>\n",
       "      <td>NaN</td>\n",
       "      <td>NaN</td>\n",
       "      <td>0.033333</td>\n",
       "    </tr>\n",
       "    <tr>\n",
       "      <th>3</th>\n",
       "      <td>2017-05-10</td>\n",
       "      <td>171798692117</td>\n",
       "      <td>2</td>\n",
       "      <td>1</td>\n",
       "      <td>NaN</td>\n",
       "      <td>NaN</td>\n",
       "      <td>NaN</td>\n",
       "      <td>2017-05-10T16:48:57.000-03:00</td>\n",
       "      <td>2017-05-10T16:48:59.000-03:00</td>\n",
       "      <td>WALK</td>\n",
       "      <td>0.033333</td>\n",
       "      <td>NaN</td>\n",
       "      <td>NaN</td>\n",
       "      <td>NaN</td>\n",
       "      <td>NaN</td>\n",
       "      <td>NaN</td>\n",
       "      <td>0.033333</td>\n",
       "    </tr>\n",
       "    <tr>\n",
       "      <th>4</th>\n",
       "      <td>2017-05-10</td>\n",
       "      <td>171798692117</td>\n",
       "      <td>2</td>\n",
       "      <td>2</td>\n",
       "      <td>205.0</td>\n",
       "      <td>26354.0</td>\n",
       "      <td>35642.0</td>\n",
       "      <td>2017-05-10T16:49:00.000-03:00</td>\n",
       "      <td>2017-05-10T16:51:49.000-03:00</td>\n",
       "      <td>BUS</td>\n",
       "      <td>2.816667</td>\n",
       "      <td>BC303</td>\n",
       "      <td>15.0</td>\n",
       "      <td>2017-05-10 16:47:32</td>\n",
       "      <td>2017-05-10 16:53:49</td>\n",
       "      <td>6.283333</td>\n",
       "      <td>6.283333</td>\n",
       "    </tr>\n",
       "    <tr>\n",
       "      <th>5</th>\n",
       "      <td>2017-05-10</td>\n",
       "      <td>171798692117</td>\n",
       "      <td>2</td>\n",
       "      <td>3</td>\n",
       "      <td>NaN</td>\n",
       "      <td>NaN</td>\n",
       "      <td>NaN</td>\n",
       "      <td>2017-05-10T16:51:50.000-03:00</td>\n",
       "      <td>2017-05-10T16:55:24.000-03:00</td>\n",
       "      <td>WALK</td>\n",
       "      <td>3.566667</td>\n",
       "      <td>NaN</td>\n",
       "      <td>NaN</td>\n",
       "      <td>NaN</td>\n",
       "      <td>NaN</td>\n",
       "      <td>NaN</td>\n",
       "      <td>3.566667</td>\n",
       "    </tr>\n",
       "    <tr>\n",
       "      <th>6</th>\n",
       "      <td>2017-05-10</td>\n",
       "      <td>240518168587</td>\n",
       "      <td>3</td>\n",
       "      <td>3</td>\n",
       "      <td>NaN</td>\n",
       "      <td>NaN</td>\n",
       "      <td>NaN</td>\n",
       "      <td>2017-05-10T11:46:47.000-03:00</td>\n",
       "      <td>2017-05-10T11:48:25.000-03:00</td>\n",
       "      <td>WALK</td>\n",
       "      <td>1.633333</td>\n",
       "      <td>NaN</td>\n",
       "      <td>NaN</td>\n",
       "      <td>NaN</td>\n",
       "      <td>NaN</td>\n",
       "      <td>NaN</td>\n",
       "      <td>1.633333</td>\n",
       "    </tr>\n",
       "    <tr>\n",
       "      <th>7</th>\n",
       "      <td>2017-05-10</td>\n",
       "      <td>240518168587</td>\n",
       "      <td>3</td>\n",
       "      <td>2</td>\n",
       "      <td>40.0</td>\n",
       "      <td>35251.0</td>\n",
       "      <td>32657.0</td>\n",
       "      <td>2017-05-10T11:39:57.000-03:00</td>\n",
       "      <td>2017-05-10T11:46:46.000-03:00</td>\n",
       "      <td>BUS</td>\n",
       "      <td>6.816667</td>\n",
       "      <td>JB604</td>\n",
       "      <td>3.0</td>\n",
       "      <td>2017-05-10 11:45:04</td>\n",
       "      <td>2017-05-10 11:54:41</td>\n",
       "      <td>9.616667</td>\n",
       "      <td>9.616667</td>\n",
       "    </tr>\n",
       "    <tr>\n",
       "      <th>8</th>\n",
       "      <td>2017-05-10</td>\n",
       "      <td>240518168587</td>\n",
       "      <td>3</td>\n",
       "      <td>1</td>\n",
       "      <td>NaN</td>\n",
       "      <td>NaN</td>\n",
       "      <td>NaN</td>\n",
       "      <td>2017-05-10T11:39:26.000-03:00</td>\n",
       "      <td>2017-05-10T11:39:56.000-03:00</td>\n",
       "      <td>WALK</td>\n",
       "      <td>0.500000</td>\n",
       "      <td>NaN</td>\n",
       "      <td>NaN</td>\n",
       "      <td>NaN</td>\n",
       "      <td>NaN</td>\n",
       "      <td>NaN</td>\n",
       "      <td>0.500000</td>\n",
       "    </tr>\n",
       "    <tr>\n",
       "      <th>9</th>\n",
       "      <td>2017-05-10</td>\n",
       "      <td>352187318302</td>\n",
       "      <td>2</td>\n",
       "      <td>1</td>\n",
       "      <td>NaN</td>\n",
       "      <td>NaN</td>\n",
       "      <td>NaN</td>\n",
       "      <td>2017-05-10T05:24:26.000-03:00</td>\n",
       "      <td>2017-05-10T05:29:59.000-03:00</td>\n",
       "      <td>WALK</td>\n",
       "      <td>5.550000</td>\n",
       "      <td>NaN</td>\n",
       "      <td>NaN</td>\n",
       "      <td>NaN</td>\n",
       "      <td>NaN</td>\n",
       "      <td>NaN</td>\n",
       "      <td>5.550000</td>\n",
       "    </tr>\n",
       "  </tbody>\n",
       "</table>\n",
       "</div>"
      ],
      "text/plain": [
       "         date  user_trip_id  itinerary_id  leg_id  route  from_stop_id  \\\n",
       "0  2017-05-10  111669149864             2       2  468.0       30749.0   \n",
       "1  2017-05-10  111669149864             2       1    NaN           NaN   \n",
       "2  2017-05-10  111669149864             2       3    NaN           NaN   \n",
       "3  2017-05-10  171798692117             2       1    NaN           NaN   \n",
       "4  2017-05-10  171798692117             2       2  205.0       26354.0   \n",
       "5  2017-05-10  171798692117             2       3    NaN           NaN   \n",
       "6  2017-05-10  240518168587             3       3    NaN           NaN   \n",
       "7  2017-05-10  240518168587             3       2   40.0       35251.0   \n",
       "8  2017-05-10  240518168587             3       1    NaN           NaN   \n",
       "9  2017-05-10  352187318302             2       1    NaN           NaN   \n",
       "\n",
       "   to_stop_id                 otp_start_time                   otp_end_time  \\\n",
       "0     26179.0  2017-05-10T19:26:09.000-03:00  2017-05-10T19:28:00.000-03:00   \n",
       "1         NaN  2017-05-10T19:26:02.000-03:00  2017-05-10T19:26:08.000-03:00   \n",
       "2         NaN  2017-05-10T19:28:01.000-03:00  2017-05-10T19:28:03.000-03:00   \n",
       "3         NaN  2017-05-10T16:48:57.000-03:00  2017-05-10T16:48:59.000-03:00   \n",
       "4     35642.0  2017-05-10T16:49:00.000-03:00  2017-05-10T16:51:49.000-03:00   \n",
       "5         NaN  2017-05-10T16:51:50.000-03:00  2017-05-10T16:55:24.000-03:00   \n",
       "6         NaN  2017-05-10T11:46:47.000-03:00  2017-05-10T11:48:25.000-03:00   \n",
       "7     32657.0  2017-05-10T11:39:57.000-03:00  2017-05-10T11:46:46.000-03:00   \n",
       "8         NaN  2017-05-10T11:39:26.000-03:00  2017-05-10T11:39:56.000-03:00   \n",
       "9         NaN  2017-05-10T05:24:26.000-03:00  2017-05-10T05:29:59.000-03:00   \n",
       "\n",
       "   mode  otp_duration_mins busCode  tripNum       from_timestamp  \\\n",
       "0   BUS           1.850000   DC293      1.0  2017-05-10 19:32:37   \n",
       "1  WALK           0.100000     NaN      NaN                  NaN   \n",
       "2  WALK           0.033333     NaN      NaN                  NaN   \n",
       "3  WALK           0.033333     NaN      NaN                  NaN   \n",
       "4   BUS           2.816667   BC303     15.0  2017-05-10 16:47:32   \n",
       "5  WALK           3.566667     NaN      NaN                  NaN   \n",
       "6  WALK           1.633333     NaN      NaN                  NaN   \n",
       "7   BUS           6.816667   JB604      3.0  2017-05-10 11:45:04   \n",
       "8  WALK           0.500000     NaN      NaN                  NaN   \n",
       "9  WALK           5.550000     NaN      NaN                  NaN   \n",
       "\n",
       "          to_timestamp  actual_duration_mins  considered_duration_mins  \n",
       "0  2017-05-10 19:37:16              4.650000                  4.650000  \n",
       "1                  NaN                   NaN                  0.100000  \n",
       "2                  NaN                   NaN                  0.033333  \n",
       "3                  NaN                   NaN                  0.033333  \n",
       "4  2017-05-10 16:53:49              6.283333                  6.283333  \n",
       "5                  NaN                   NaN                  3.566667  \n",
       "6                  NaN                   NaN                  1.633333  \n",
       "7  2017-05-10 11:54:41              9.616667                  9.616667  \n",
       "8                  NaN                   NaN                  0.500000  \n",
       "9                  NaN                   NaN                  5.550000  "
      ]
     },
     "execution_count": 83,
     "metadata": {},
     "output_type": "execute_result"
    }
   ],
   "source": [
    "trips_itineraries.head(10)"
   ]
  },
  {
   "cell_type": "code",
   "execution_count": 84,
   "metadata": {},
   "outputs": [],
   "source": [
    "od_matrix = read_df_from_csv_folder(base_folderpath + '/od_matrix/','part-*.csv')"
   ]
  },
  {
   "cell_type": "code",
   "execution_count": 85,
   "metadata": {},
   "outputs": [
    {
     "data": {
      "text/html": [
       "<div>\n",
       "<style>\n",
       "    .dataframe thead tr:only-child th {\n",
       "        text-align: right;\n",
       "    }\n",
       "\n",
       "    .dataframe thead th {\n",
       "        text-align: left;\n",
       "    }\n",
       "\n",
       "    .dataframe tbody tr th {\n",
       "        vertical-align: top;\n",
       "    }\n",
       "</style>\n",
       "<table border=\"1\" class=\"dataframe\">\n",
       "  <thead>\n",
       "    <tr style=\"text-align: right;\">\n",
       "      <th></th>\n",
       "      <th>route</th>\n",
       "      <th>tripNum</th>\n",
       "      <th>shapeId</th>\n",
       "      <th>shapeSequence</th>\n",
       "      <th>shapeLat</th>\n",
       "      <th>shapeLon</th>\n",
       "      <th>distanceTraveledShape</th>\n",
       "      <th>busCode</th>\n",
       "      <th>gpsPointId</th>\n",
       "      <th>gpsLat</th>\n",
       "      <th>...</th>\n",
       "      <th>next_o_shape_seq</th>\n",
       "      <th>next_o_shape_lat</th>\n",
       "      <th>next_o_shape_lon</th>\n",
       "      <th>next_o_stop_id</th>\n",
       "      <th>next_o_boarding_id</th>\n",
       "      <th>o_unixtimestamp</th>\n",
       "      <th>next_o_unixtimestamp</th>\n",
       "      <th>leg_duration</th>\n",
       "      <th>dist</th>\n",
       "      <th>rn</th>\n",
       "    </tr>\n",
       "  </thead>\n",
       "  <tbody>\n",
       "    <tr>\n",
       "      <th>0</th>\n",
       "      <td>160</td>\n",
       "      <td>3</td>\n",
       "      <td>2689</td>\n",
       "      <td>4865367</td>\n",
       "      <td>-25.435238</td>\n",
       "      <td>-49.273529</td>\n",
       "      <td>4745.938</td>\n",
       "      <td>BC022</td>\n",
       "      <td>NaN</td>\n",
       "      <td>-25.435220</td>\n",
       "      <td>...</td>\n",
       "      <td>3971941</td>\n",
       "      <td>-25.436702</td>\n",
       "      <td>-49.274008</td>\n",
       "      <td>26168</td>\n",
       "      <td>489626272032</td>\n",
       "      <td>39706</td>\n",
       "      <td>57817</td>\n",
       "      <td>301.850000</td>\n",
       "      <td>0.169720</td>\n",
       "      <td>1</td>\n",
       "    </tr>\n",
       "    <tr>\n",
       "      <th>1</th>\n",
       "      <td>40</td>\n",
       "      <td>1</td>\n",
       "      <td>1717</td>\n",
       "      <td>3367323</td>\n",
       "      <td>-25.513207</td>\n",
       "      <td>-49.295155</td>\n",
       "      <td>23745.621</td>\n",
       "      <td>JB606</td>\n",
       "      <td>NaN</td>\n",
       "      <td>-25.513241</td>\n",
       "      <td>...</td>\n",
       "      <td>4526531</td>\n",
       "      <td>-25.512861</td>\n",
       "      <td>-49.294952</td>\n",
       "      <td>31034</td>\n",
       "      <td>962072674336</td>\n",
       "      <td>33780</td>\n",
       "      <td>42865</td>\n",
       "      <td>151.416667</td>\n",
       "      <td>0.043533</td>\n",
       "      <td>1</td>\n",
       "    </tr>\n",
       "    <tr>\n",
       "      <th>2</th>\n",
       "      <td>777</td>\n",
       "      <td>10</td>\n",
       "      <td>2194</td>\n",
       "      <td>4299859</td>\n",
       "      <td>-25.435150</td>\n",
       "      <td>-49.273297</td>\n",
       "      <td>8945.611</td>\n",
       "      <td>JC008</td>\n",
       "      <td>NaN</td>\n",
       "      <td>-25.435205</td>\n",
       "      <td>...</td>\n",
       "      <td>6594728</td>\n",
       "      <td>-25.431388</td>\n",
       "      <td>-49.269659</td>\n",
       "      <td>26400</td>\n",
       "      <td>1374389534867</td>\n",
       "      <td>51285</td>\n",
       "      <td>78668</td>\n",
       "      <td>456.383333</td>\n",
       "      <td>0.555364</td>\n",
       "      <td>1</td>\n",
       "    </tr>\n",
       "    <tr>\n",
       "      <th>3</th>\n",
       "      <td>160</td>\n",
       "      <td>5</td>\n",
       "      <td>2689</td>\n",
       "      <td>4865300</td>\n",
       "      <td>-25.449310</td>\n",
       "      <td>-49.272844</td>\n",
       "      <td>2593.458</td>\n",
       "      <td>BC022</td>\n",
       "      <td>NaN</td>\n",
       "      <td>-25.449445</td>\n",
       "      <td>...</td>\n",
       "      <td>6426256</td>\n",
       "      <td>-25.445711</td>\n",
       "      <td>-49.278665</td>\n",
       "      <td>32100</td>\n",
       "      <td>1022202216480</td>\n",
       "      <td>49435</td>\n",
       "      <td>66823</td>\n",
       "      <td>289.800000</td>\n",
       "      <td>0.708386</td>\n",
       "      <td>1</td>\n",
       "    </tr>\n",
       "    <tr>\n",
       "      <th>4</th>\n",
       "      <td>870</td>\n",
       "      <td>14</td>\n",
       "      <td>2926</td>\n",
       "      <td>5386395</td>\n",
       "      <td>-25.431688</td>\n",
       "      <td>-49.276556</td>\n",
       "      <td>518.881</td>\n",
       "      <td>BC006</td>\n",
       "      <td>NaN</td>\n",
       "      <td>-25.431940</td>\n",
       "      <td>...</td>\n",
       "      <td>3980397</td>\n",
       "      <td>-25.428449</td>\n",
       "      <td>-49.272841</td>\n",
       "      <td>29599</td>\n",
       "      <td>489626271769</td>\n",
       "      <td>71826</td>\n",
       "      <td>38000</td>\n",
       "      <td>-1.000000</td>\n",
       "      <td>0.518507</td>\n",
       "      <td>1</td>\n",
       "    </tr>\n",
       "  </tbody>\n",
       "</table>\n",
       "<p>5 rows × 49 columns</p>\n",
       "</div>"
      ],
      "text/plain": [
       "   route  tripNum  shapeId  shapeSequence   shapeLat   shapeLon  \\\n",
       "0    160        3     2689        4865367 -25.435238 -49.273529   \n",
       "1     40        1     1717        3367323 -25.513207 -49.295155   \n",
       "2    777       10     2194        4299859 -25.435150 -49.273297   \n",
       "3    160        5     2689        4865300 -25.449310 -49.272844   \n",
       "4    870       14     2926        5386395 -25.431688 -49.276556   \n",
       "\n",
       "   distanceTraveledShape busCode  gpsPointId     gpsLat ...  next_o_shape_seq  \\\n",
       "0               4745.938   BC022         NaN -25.435220 ...           3971941   \n",
       "1              23745.621   JB606         NaN -25.513241 ...           4526531   \n",
       "2               8945.611   JC008         NaN -25.435205 ...           6594728   \n",
       "3               2593.458   BC022         NaN -25.449445 ...           6426256   \n",
       "4                518.881   BC006         NaN -25.431940 ...           3980397   \n",
       "\n",
       "   next_o_shape_lat next_o_shape_lon  next_o_stop_id next_o_boarding_id  \\\n",
       "0        -25.436702       -49.274008           26168       489626272032   \n",
       "1        -25.512861       -49.294952           31034       962072674336   \n",
       "2        -25.431388       -49.269659           26400      1374389534867   \n",
       "3        -25.445711       -49.278665           32100      1022202216480   \n",
       "4        -25.428449       -49.272841           29599       489626271769   \n",
       "\n",
       "  o_unixtimestamp next_o_unixtimestamp leg_duration      dist rn  \n",
       "0           39706                57817   301.850000  0.169720  1  \n",
       "1           33780                42865   151.416667  0.043533  1  \n",
       "2           51285                78668   456.383333  0.555364  1  \n",
       "3           49435                66823   289.800000  0.708386  1  \n",
       "4           71826                38000    -1.000000  0.518507  1  \n",
       "\n",
       "[5 rows x 49 columns]"
      ]
     },
     "execution_count": 85,
     "metadata": {},
     "output_type": "execute_result"
    }
   ],
   "source": [
    "od_matrix.head()"
   ]
  },
  {
   "cell_type": "markdown",
   "metadata": {},
   "source": [
    "### Preparing Data"
   ]
  },
  {
   "cell_type": "code",
   "execution_count": 86,
   "metadata": {},
   "outputs": [],
   "source": [
    "# executed_trips = od_matrix.rename(columns={'o_boarding_id': 'user_trip_id'})\n",
    "# executed_trips['from_timestamp'] = pd.to_datetime(executed_trips.date + ' ' + executed_trips.o_timestamp, format='%Y-%m-%d %H:%M:%S')\n",
    "# executed_trips['to_timestamp'] = pd.to_datetime(executed_trips.date + ' ' + executed_trips.timestamp, format='%Y-%m-%d %H:%M:%S')\n",
    "# executed_trips['executed_duration'] = (executed_trips['to_timestamp'] - executed_trips['from_timestamp'])\n",
    "#                             #.withColumn('date',F.from_unixtime(F.unix_timestamp(F.col('date')), 'yyyy-MM-dd')) \\\n",
    "#                             #.withColumn('from_timestamp', F.concat(F.col('date'),F.lit(' '),F.col('o_timestamp'))) \\\n",
    "#                             #.withColumn('to_timestamp', F.concat(F.col('date'),F.lit(' '),F.col('timestamp'))) \\\n",
    "#                             #.withColumn('executed_duration', (F.unix_timestamp('to_timestamp') - F.unix_timestamp('from_timestamp'))/60) \\\n",
    "#                             #.select(['date','user_trip_id','from_timestamp','to_timestamp','executed_duration'])                            "
   ]
  },
  {
   "cell_type": "code",
   "execution_count": 87,
   "metadata": {},
   "outputs": [],
   "source": [
    "# type(executed_trips['from_timestamp'].iloc[0])"
   ]
  },
  {
   "cell_type": "code",
   "execution_count": 88,
   "metadata": {},
   "outputs": [],
   "source": [
    "# executed_trips[['date','user_trip_id','from_timestamp', 'to_timestamp', 'executed_duration']]"
   ]
  },
  {
   "cell_type": "markdown",
   "metadata": {},
   "source": [
    "### Analyzing Distribution"
   ]
  },
  {
   "cell_type": "markdown",
   "metadata": {},
   "source": [
    "#### Overall"
   ]
  },
  {
   "cell_type": "code",
   "execution_count": 89,
   "metadata": {},
   "outputs": [
    {
     "data": {
      "text/plain": [
       "<matplotlib.axes._subplots.AxesSubplot at 0x7f7cff19d0d0>"
      ]
     },
     "execution_count": 89,
     "metadata": {},
     "output_type": "execute_result"
    },
    {
     "data": {
      "image/png": "[encoded data removed]",
      "text/plain": [
       "<matplotlib.figure.Figure at 0x7f7cff170890>"
      ]
     },
     "metadata": {},
     "output_type": "display_data"
    }
   ],
   "source": [
    "sns.kdeplot(imp_cap_df.imp_capacity, shade=True)"
   ]
  },
  {
   "cell_type": "code",
   "execution_count": 90,
   "metadata": {},
   "outputs": [
    {
     "data": {
      "text/plain": [
       "count    4997.000000\n",
       "mean       24.985561\n",
       "std       106.158895\n",
       "min      -114.233333\n",
       "25%        -1.066667\n",
       "50%         0.566667\n",
       "75%        10.583333\n",
       "max      1064.600000\n",
       "Name: imp_capacity, dtype: float64"
      ]
     },
     "execution_count": 90,
     "metadata": {},
     "output_type": "execute_result"
    }
   ],
   "source": [
    "imp_cap_df.imp_capacity.describe()"
   ]
  },
  {
   "cell_type": "markdown",
   "metadata": {},
   "source": [
    "#### Removing outliers (lower/higher 5%)"
   ]
  },
  {
   "cell_type": "code",
   "execution_count": 91,
   "metadata": {},
   "outputs": [
    {
     "name": "stdout",
     "output_type": "stream",
     "text": [
      "-4.11666666667 69.0733333333\n"
     ]
    }
   ],
   "source": [
    "fith_perc = np.percentile(imp_cap_df.imp_capacity,5)\n",
    "ninety_fith_perc = np.percentile(imp_cap_df.imp_capacity,95)\n",
    "\n",
    "print fith_perc, ninety_fith_perc"
   ]
  },
  {
   "cell_type": "code",
   "execution_count": 92,
   "metadata": {
    "collapsed": true
   },
   "outputs": [],
   "source": [
    "filtered_imp_cap_df = imp_cap_df[(imp_cap_df.imp_capacity > fith_perc) & (imp_cap_df.imp_capacity < ninety_fith_perc)]"
   ]
  },
  {
   "cell_type": "code",
   "execution_count": 93,
   "metadata": {},
   "outputs": [
    {
     "data": {
      "text/plain": [
       "<matplotlib.axes._subplots.AxesSubplot at 0x7f7d073b8dd0>"
      ]
     },
     "execution_count": 93,
     "metadata": {},
     "output_type": "execute_result"
    },
    {
     "data": {
      "image/png": "[encoded data removed]",
      "text/plain": [
       "<matplotlib.figure.Figure at 0x7f7cff3158d0>"
      ]
     },
     "metadata": {},
     "output_type": "display_data"
    }
   ],
   "source": [
    "sns.kdeplot(filtered_imp_cap_df.imp_capacity, shade=True)"
   ]
  },
  {
   "cell_type": "code",
   "execution_count": 94,
   "metadata": {},
   "outputs": [
    {
     "data": {
      "text/plain": [
       "count    4497.000000\n",
       "mean        7.907716\n",
       "std        15.800730\n",
       "min        -4.116667\n",
       "25%        -0.933333\n",
       "50%         0.566667\n",
       "75%         7.650000\n",
       "max        69.033333\n",
       "Name: imp_capacity, dtype: float64"
      ]
     },
     "execution_count": 94,
     "metadata": {},
     "output_type": "execute_result"
    }
   ],
   "source": [
    "filtered_imp_cap_df.imp_capacity.describe()"
   ]
  },
  {
   "cell_type": "code",
   "execution_count": 95,
   "metadata": {},
   "outputs": [
    {
     "data": {
      "text/plain": [
       "<matplotlib.axes._subplots.AxesSubplot at 0x7f7d07dc2590>"
      ]
     },
     "execution_count": 95,
     "metadata": {},
     "output_type": "execute_result"
    },
    {
     "data": {
      "image/png": "[encoded data removed]",
      "text/plain": [
       "<matplotlib.figure.Figure at 0x7f7cff47b4d0>"
      ]
     },
     "metadata": {},
     "output_type": "display_data"
    }
   ],
   "source": [
    "sns.boxplot(x=filtered_imp_cap_df.imp_capacity)"
   ]
  },
  {
   "cell_type": "markdown",
   "metadata": {},
   "source": [
    "#### Per Hour of Day"
   ]
  },
  {
   "cell_type": "code",
   "execution_count": 96,
   "metadata": {
    "collapsed": true
   },
   "outputs": [],
   "source": [
    "#executed_trips['hour_of_day'] = executed_trips['from_timestamp'].dt.hour"
   ]
  },
  {
   "cell_type": "code",
   "execution_count": 97,
   "metadata": {},
   "outputs": [],
   "source": [
    "#executed_trips[['from_timestamp','hour_of_day']]"
   ]
  },
  {
   "cell_type": "code",
   "execution_count": 98,
   "metadata": {},
   "outputs": [],
   "source": [
    "#simple_executed_trips = executed_trips[['date', 'user_trip_id', 'hour_of_day']]"
   ]
  },
  {
   "cell_type": "code",
   "execution_count": 99,
   "metadata": {},
   "outputs": [],
   "source": [
    "#simple_executed_trips.sort_values('user_trip_id').head()"
   ]
  },
  {
   "cell_type": "code",
   "execution_count": 100,
   "metadata": {},
   "outputs": [],
   "source": [
    "#print len(simple_executed_trips)"
   ]
  },
  {
   "cell_type": "code",
   "execution_count": 101,
   "metadata": {},
   "outputs": [],
   "source": [
    "#filtered_imp_cap_df.sort_values('user_trip_id').head()"
   ]
  },
  {
   "cell_type": "code",
   "execution_count": 102,
   "metadata": {},
   "outputs": [],
   "source": [
    "#print len(filtered_imp_cap_df)"
   ]
  },
  {
   "cell_type": "code",
   "execution_count": 103,
   "metadata": {},
   "outputs": [],
   "source": [
    "#imp_hour_of_day = filtered_imp_cap_df.join(simple_executed_trips.reset_index(), on=['date','user_trip_id'], how='inner')"
   ]
  },
  {
   "cell_type": "code",
   "execution_count": 104,
   "metadata": {},
   "outputs": [],
   "source": [
    "#imp_hour_of_day = filtered_imp_cap_df.merge(simple_executed_trips.reset_index(), 'inner', on=['date','user_trip_id','itinerary_id'])"
   ]
  },
  {
   "cell_type": "code",
   "execution_count": 123,
   "metadata": {},
   "outputs": [
    {
     "name": "stderr",
     "output_type": "stream",
     "text": [
      "/local/tarciso/programs/anaconda2/lib/python2.7/site-packages/ipykernel_launcher.py:1: SettingWithCopyWarning: \n",
      "A value is trying to be set on a copy of a slice from a DataFrame.\n",
      "Try using .loc[row_indexer,col_indexer] = value instead\n",
      "\n",
      "See the caveats in the documentation: http://pandas.pydata.org/pandas-docs/stable/indexing.html#indexing-view-versus-copy\n",
      "  \"\"\"Entry point for launching an IPython kernel.\n"
     ]
    }
   ],
   "source": [
    "filtered_imp_cap_df['hour_of_day'] = pd.to_datetime(filtered_imp_cap_df['o_datetime'], format='%Y-%m-%d %H:%M:%S').dt.hour"
   ]
  },
  {
   "cell_type": "code",
   "execution_count": 124,
   "metadata": {},
   "outputs": [
    {
     "data": {
      "text/html": [
       "<div>\n",
       "<style>\n",
       "    .dataframe thead tr:only-child th {\n",
       "        text-align: right;\n",
       "    }\n",
       "\n",
       "    .dataframe thead th {\n",
       "        text-align: left;\n",
       "    }\n",
       "\n",
       "    .dataframe tbody tr th {\n",
       "        vertical-align: top;\n",
       "    }\n",
       "</style>\n",
       "<table border=\"1\" class=\"dataframe\">\n",
       "  <thead>\n",
       "    <tr style=\"text-align: right;\">\n",
       "      <th></th>\n",
       "      <th>date</th>\n",
       "      <th>user_trip_id</th>\n",
       "      <th>itinerary_id</th>\n",
       "      <th>duration</th>\n",
       "      <th>o_datetime</th>\n",
       "      <th>executed_duration</th>\n",
       "      <th>imp_capacity</th>\n",
       "      <th>hour_of_day</th>\n",
       "    </tr>\n",
       "  </thead>\n",
       "  <tbody>\n",
       "    <tr>\n",
       "      <th>0</th>\n",
       "      <td>2017-05-10</td>\n",
       "      <td>8589934785</td>\n",
       "      <td>3</td>\n",
       "      <td>10.616667</td>\n",
       "      <td>2017-05-10 17:40:02</td>\n",
       "      <td>7.133333</td>\n",
       "      <td>-3.483333</td>\n",
       "      <td>17</td>\n",
       "    </tr>\n",
       "    <tr>\n",
       "      <th>2</th>\n",
       "      <td>2017-05-10</td>\n",
       "      <td>335007449219</td>\n",
       "      <td>3</td>\n",
       "      <td>17.216667</td>\n",
       "      <td>2017-05-10 06:47:35</td>\n",
       "      <td>15.783333</td>\n",
       "      <td>-1.433333</td>\n",
       "      <td>6</td>\n",
       "    </tr>\n",
       "    <tr>\n",
       "      <th>3</th>\n",
       "      <td>2017-05-10</td>\n",
       "      <td>420906795126</td>\n",
       "      <td>1</td>\n",
       "      <td>25.550000</td>\n",
       "      <td>2017-05-10 16:48:18</td>\n",
       "      <td>24.066667</td>\n",
       "      <td>-1.483333</td>\n",
       "      <td>16</td>\n",
       "    </tr>\n",
       "    <tr>\n",
       "      <th>4</th>\n",
       "      <td>2017-05-10</td>\n",
       "      <td>446676598927</td>\n",
       "      <td>1</td>\n",
       "      <td>1.683333</td>\n",
       "      <td>2017-05-10 07:01:23</td>\n",
       "      <td>33.183333</td>\n",
       "      <td>31.500000</td>\n",
       "      <td>7</td>\n",
       "    </tr>\n",
       "    <tr>\n",
       "      <th>5</th>\n",
       "      <td>2017-05-10</td>\n",
       "      <td>532575944785</td>\n",
       "      <td>2</td>\n",
       "      <td>25.400000</td>\n",
       "      <td>2017-05-10 06:15:09</td>\n",
       "      <td>23.983333</td>\n",
       "      <td>-1.416667</td>\n",
       "      <td>6</td>\n",
       "    </tr>\n",
       "  </tbody>\n",
       "</table>\n",
       "</div>"
      ],
      "text/plain": [
       "         date  user_trip_id  itinerary_id   duration           o_datetime  \\\n",
       "0  2017-05-10    8589934785             3  10.616667  2017-05-10 17:40:02   \n",
       "2  2017-05-10  335007449219             3  17.216667  2017-05-10 06:47:35   \n",
       "3  2017-05-10  420906795126             1  25.550000  2017-05-10 16:48:18   \n",
       "4  2017-05-10  446676598927             1   1.683333  2017-05-10 07:01:23   \n",
       "5  2017-05-10  532575944785             2  25.400000  2017-05-10 06:15:09   \n",
       "\n",
       "   executed_duration  imp_capacity  hour_of_day  \n",
       "0           7.133333     -3.483333           17  \n",
       "2          15.783333     -1.433333            6  \n",
       "3          24.066667     -1.483333           16  \n",
       "4          33.183333     31.500000            7  \n",
       "5          23.983333     -1.416667            6  "
      ]
     },
     "execution_count": 124,
     "metadata": {},
     "output_type": "execute_result"
    }
   ],
   "source": [
    "filtered_imp_cap_df.head()"
   ]
  },
  {
   "cell_type": "code",
   "execution_count": 125,
   "metadata": {},
   "outputs": [
    {
     "data": {
      "text/html": [
       "<div>\n",
       "<style>\n",
       "    .dataframe thead tr:only-child th {\n",
       "        text-align: right;\n",
       "    }\n",
       "\n",
       "    .dataframe thead th {\n",
       "        text-align: left;\n",
       "    }\n",
       "\n",
       "    .dataframe tbody tr th {\n",
       "        vertical-align: top;\n",
       "    }\n",
       "</style>\n",
       "<table border=\"1\" class=\"dataframe\">\n",
       "  <thead>\n",
       "    <tr style=\"text-align: right;\">\n",
       "      <th></th>\n",
       "      <th>hour_of_day</th>\n",
       "      <th>period_of_day</th>\n",
       "    </tr>\n",
       "  </thead>\n",
       "  <tbody>\n",
       "    <tr>\n",
       "      <th>0</th>\n",
       "      <td>0</td>\n",
       "      <td>very_late_night</td>\n",
       "    </tr>\n",
       "    <tr>\n",
       "      <th>1</th>\n",
       "      <td>1</td>\n",
       "      <td>very_late_night</td>\n",
       "    </tr>\n",
       "    <tr>\n",
       "      <th>2</th>\n",
       "      <td>2</td>\n",
       "      <td>very_late_night</td>\n",
       "    </tr>\n",
       "    <tr>\n",
       "      <th>3</th>\n",
       "      <td>3</td>\n",
       "      <td>very_late_night</td>\n",
       "    </tr>\n",
       "    <tr>\n",
       "      <th>4</th>\n",
       "      <td>4</td>\n",
       "      <td>early_morning</td>\n",
       "    </tr>\n",
       "    <tr>\n",
       "      <th>5</th>\n",
       "      <td>5</td>\n",
       "      <td>early_morning</td>\n",
       "    </tr>\n",
       "    <tr>\n",
       "      <th>6</th>\n",
       "      <td>6</td>\n",
       "      <td>early_morning</td>\n",
       "    </tr>\n",
       "    <tr>\n",
       "      <th>7</th>\n",
       "      <td>7</td>\n",
       "      <td>morning</td>\n",
       "    </tr>\n",
       "    <tr>\n",
       "      <th>8</th>\n",
       "      <td>8</td>\n",
       "      <td>morning</td>\n",
       "    </tr>\n",
       "    <tr>\n",
       "      <th>9</th>\n",
       "      <td>9</td>\n",
       "      <td>morning</td>\n",
       "    </tr>\n",
       "    <tr>\n",
       "      <th>10</th>\n",
       "      <td>10</td>\n",
       "      <td>morning</td>\n",
       "    </tr>\n",
       "    <tr>\n",
       "      <th>11</th>\n",
       "      <td>11</td>\n",
       "      <td>midday</td>\n",
       "    </tr>\n",
       "    <tr>\n",
       "      <th>12</th>\n",
       "      <td>12</td>\n",
       "      <td>midday</td>\n",
       "    </tr>\n",
       "    <tr>\n",
       "      <th>13</th>\n",
       "      <td>13</td>\n",
       "      <td>midday</td>\n",
       "    </tr>\n",
       "    <tr>\n",
       "      <th>14</th>\n",
       "      <td>14</td>\n",
       "      <td>afternoon</td>\n",
       "    </tr>\n",
       "    <tr>\n",
       "      <th>15</th>\n",
       "      <td>15</td>\n",
       "      <td>afternoon</td>\n",
       "    </tr>\n",
       "    <tr>\n",
       "      <th>16</th>\n",
       "      <td>16</td>\n",
       "      <td>afternoon</td>\n",
       "    </tr>\n",
       "    <tr>\n",
       "      <th>17</th>\n",
       "      <td>17</td>\n",
       "      <td>early_night</td>\n",
       "    </tr>\n",
       "    <tr>\n",
       "      <th>18</th>\n",
       "      <td>18</td>\n",
       "      <td>early_night</td>\n",
       "    </tr>\n",
       "    <tr>\n",
       "      <th>19</th>\n",
       "      <td>19</td>\n",
       "      <td>early_night</td>\n",
       "    </tr>\n",
       "    <tr>\n",
       "      <th>20</th>\n",
       "      <td>20</td>\n",
       "      <td>night</td>\n",
       "    </tr>\n",
       "    <tr>\n",
       "      <th>21</th>\n",
       "      <td>21</td>\n",
       "      <td>night</td>\n",
       "    </tr>\n",
       "    <tr>\n",
       "      <th>22</th>\n",
       "      <td>22</td>\n",
       "      <td>late_night</td>\n",
       "    </tr>\n",
       "    <tr>\n",
       "      <th>23</th>\n",
       "      <td>23</td>\n",
       "      <td>late_night</td>\n",
       "    </tr>\n",
       "  </tbody>\n",
       "</table>\n",
       "</div>"
      ],
      "text/plain": [
       "    hour_of_day    period_of_day\n",
       "0             0  very_late_night\n",
       "1             1  very_late_night\n",
       "2             2  very_late_night\n",
       "3             3  very_late_night\n",
       "4             4    early_morning\n",
       "5             5    early_morning\n",
       "6             6    early_morning\n",
       "7             7          morning\n",
       "8             8          morning\n",
       "9             9          morning\n",
       "10           10          morning\n",
       "11           11           midday\n",
       "12           12           midday\n",
       "13           13           midday\n",
       "14           14        afternoon\n",
       "15           15        afternoon\n",
       "16           16        afternoon\n",
       "17           17      early_night\n",
       "18           18      early_night\n",
       "19           19      early_night\n",
       "20           20            night\n",
       "21           21            night\n",
       "22           22       late_night\n",
       "23           23       late_night"
      ]
     },
     "execution_count": 125,
     "metadata": {},
     "output_type": "execute_result"
    }
   ],
   "source": [
    "period_of_day_list = [('hour_of_day', [0,1,2,3,4,5,6,7,8,9,10,11,12,13,14,15,16,17,18,19,20,21,22,23]),\n",
    "         ('period_of_day', ['very_late_night','very_late_night','very_late_night','very_late_night','early_morning','early_morning','early_morning','morning','morning','morning','morning','midday','midday','midday','afternoon','afternoon','afternoon','early_night','early_night','early_night','night','night','late_night','late_night'])]\n",
    "period_of_day_df = pd.DataFrame.from_items(period_of_day_list)\n",
    "period_of_day_df.period_of_day = period_of_day_df.period_of_day.astype('category', ordered=True)\n",
    "\n",
    "period_of_day_df"
   ]
  },
  {
   "cell_type": "code",
   "execution_count": 126,
   "metadata": {
    "collapsed": true
   },
   "outputs": [],
   "source": [
    "imp_period_of_day = filtered_imp_cap_df.merge(period_of_day_df, how='inner', on='hour_of_day')"
   ]
  },
  {
   "cell_type": "code",
   "execution_count": 127,
   "metadata": {},
   "outputs": [
    {
     "data": {
      "text/html": [
       "<div>\n",
       "<style>\n",
       "    .dataframe thead tr:only-child th {\n",
       "        text-align: right;\n",
       "    }\n",
       "\n",
       "    .dataframe thead th {\n",
       "        text-align: left;\n",
       "    }\n",
       "\n",
       "    .dataframe tbody tr th {\n",
       "        vertical-align: top;\n",
       "    }\n",
       "</style>\n",
       "<table border=\"1\" class=\"dataframe\">\n",
       "  <thead>\n",
       "    <tr style=\"text-align: right;\">\n",
       "      <th></th>\n",
       "      <th>date</th>\n",
       "      <th>user_trip_id</th>\n",
       "      <th>itinerary_id</th>\n",
       "      <th>duration</th>\n",
       "      <th>o_datetime</th>\n",
       "      <th>executed_duration</th>\n",
       "      <th>imp_capacity</th>\n",
       "      <th>hour_of_day</th>\n",
       "      <th>period_of_day</th>\n",
       "    </tr>\n",
       "  </thead>\n",
       "  <tbody>\n",
       "    <tr>\n",
       "      <th>0</th>\n",
       "      <td>2017-05-10</td>\n",
       "      <td>8589934785</td>\n",
       "      <td>3</td>\n",
       "      <td>10.616667</td>\n",
       "      <td>2017-05-10 17:40:02</td>\n",
       "      <td>7.133333</td>\n",
       "      <td>-3.483333</td>\n",
       "      <td>17</td>\n",
       "      <td>early_night</td>\n",
       "    </tr>\n",
       "    <tr>\n",
       "      <th>1</th>\n",
       "      <td>2017-05-10</td>\n",
       "      <td>953482739763</td>\n",
       "      <td>2</td>\n",
       "      <td>8.583333</td>\n",
       "      <td>2017-05-10 17:55:24</td>\n",
       "      <td>19.333333</td>\n",
       "      <td>10.750000</td>\n",
       "      <td>17</td>\n",
       "      <td>early_night</td>\n",
       "    </tr>\n",
       "    <tr>\n",
       "      <th>2</th>\n",
       "      <td>2017-05-10</td>\n",
       "      <td>1056561954941</td>\n",
       "      <td>1</td>\n",
       "      <td>4.900000</td>\n",
       "      <td>2017-05-10 17:34:43</td>\n",
       "      <td>4.150000</td>\n",
       "      <td>-0.750000</td>\n",
       "      <td>17</td>\n",
       "      <td>early_night</td>\n",
       "    </tr>\n",
       "    <tr>\n",
       "      <th>3</th>\n",
       "      <td>2017-05-10</td>\n",
       "      <td>1477468750025</td>\n",
       "      <td>1</td>\n",
       "      <td>1.733333</td>\n",
       "      <td>2017-05-10 17:08:06</td>\n",
       "      <td>1.183333</td>\n",
       "      <td>-0.550000</td>\n",
       "      <td>17</td>\n",
       "      <td>early_night</td>\n",
       "    </tr>\n",
       "    <tr>\n",
       "      <th>4</th>\n",
       "      <td>2017-05-10</td>\n",
       "      <td>68719476765</td>\n",
       "      <td>3</td>\n",
       "      <td>26.133333</td>\n",
       "      <td>2017-05-10 17:02:26</td>\n",
       "      <td>27.733333</td>\n",
       "      <td>1.600000</td>\n",
       "      <td>17</td>\n",
       "      <td>early_night</td>\n",
       "    </tr>\n",
       "  </tbody>\n",
       "</table>\n",
       "</div>"
      ],
      "text/plain": [
       "         date   user_trip_id  itinerary_id   duration           o_datetime  \\\n",
       "0  2017-05-10     8589934785             3  10.616667  2017-05-10 17:40:02   \n",
       "1  2017-05-10   953482739763             2   8.583333  2017-05-10 17:55:24   \n",
       "2  2017-05-10  1056561954941             1   4.900000  2017-05-10 17:34:43   \n",
       "3  2017-05-10  1477468750025             1   1.733333  2017-05-10 17:08:06   \n",
       "4  2017-05-10    68719476765             3  26.133333  2017-05-10 17:02:26   \n",
       "\n",
       "   executed_duration  imp_capacity  hour_of_day period_of_day  \n",
       "0           7.133333     -3.483333           17   early_night  \n",
       "1          19.333333     10.750000           17   early_night  \n",
       "2           4.150000     -0.750000           17   early_night  \n",
       "3           1.183333     -0.550000           17   early_night  \n",
       "4          27.733333      1.600000           17   early_night  "
      ]
     },
     "execution_count": 127,
     "metadata": {},
     "output_type": "execute_result"
    }
   ],
   "source": [
    "imp_period_of_day.head()"
   ]
  },
  {
   "cell_type": "code",
   "execution_count": 128,
   "metadata": {},
   "outputs": [
    {
     "data": {
      "text/plain": [
       "<matplotlib.axes._subplots.AxesSubplot at 0x7f7cff201ed0>"
      ]
     },
     "execution_count": 128,
     "metadata": {},
     "output_type": "execute_result"
    },
    {
     "data": {
      "image/png": "[encoded data removed]",
      "text/plain": [
       "<matplotlib.figure.Figure at 0x7f7cfefd7250>"
      ]
     },
     "metadata": {},
     "output_type": "display_data"
    }
   ],
   "source": [
    "sns.boxplot(x=filtered_imp_cap_df.imp_capacity, y=filtered_imp_cap_df.hour_of_day, data=filtered_imp_cap_df, \n",
    "            whis=np.inf, orient='h', palette=\"vlag\")"
   ]
  },
  {
   "cell_type": "code",
   "execution_count": 129,
   "metadata": {},
   "outputs": [
    {
     "data": {
      "text/plain": [
       "<matplotlib.axes._subplots.AxesSubplot at 0x7f7cfed45750>"
      ]
     },
     "execution_count": 129,
     "metadata": {},
     "output_type": "execute_result"
    },
    {
     "data": {
      "image/png": "[encoded data removed]",
      "text/plain": [
       "<matplotlib.figure.Figure at 0x7f7cfed03410>"
      ]
     },
     "metadata": {},
     "output_type": "display_data"
    }
   ],
   "source": [
    "col_order = ['very_late_night','early_morning','morning','midday','afternoon','early_night','night','late_night']\n",
    "sns.boxplot(x=imp_period_of_day.imp_capacity, y=imp_period_of_day.period_of_day, data=imp_period_of_day,\n",
    "            order=col_order,whis=np.inf, palette=\"vlag\")"
   ]
  },
  {
   "cell_type": "markdown",
   "metadata": {},
   "source": [
    "#### Per Day of Week (Sun-Sat)"
   ]
  },
  {
   "cell_type": "markdown",
   "metadata": {},
   "source": [
    "#### Per Day Type (Mon,Fri,Tue-Thu,Sat-Sun)"
   ]
  },
  {
   "cell_type": "code",
   "execution_count": null,
   "metadata": {
    "collapsed": true
   },
   "outputs": [],
   "source": []
  }
 ],
 "metadata": {
  "kernelspec": {
   "display_name": "Python 2",
   "language": "python",
   "name": "python2"
  },
  "language_info": {
   "codemirror_mode": {
    "name": "ipython",
    "version": 2
   },
   "file_extension": ".py",
   "mimetype": "text/x-python",
   "name": "python",
   "nbconvert_exporter": "python",
   "pygments_lexer": "ipython2",
   "version": "2.7.14"
  }
 },
 "nbformat": 4,
 "nbformat_minor": 2
}
