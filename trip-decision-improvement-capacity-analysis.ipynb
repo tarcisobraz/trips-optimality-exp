{
 "cells": [
  {
   "cell_type": "code",
   "execution_count": 1,
   "metadata": {
    "collapsed": true
   },
   "outputs": [],
   "source": [
    "import pandas as pd\n",
    "import numpy as np\n",
    "\n",
    "#Imports to enable visualizations\n",
    "import seaborn as sns\n",
    "import matplotlib.pyplot as plt\n",
    "%matplotlib inline\n",
    "\n",
    "#Python standard libraries\n",
    "import glob, os    \n",
    "import datetime"
   ]
  },
  {
   "cell_type": "code",
   "execution_count": 28,
   "metadata": {},
   "outputs": [],
   "source": [
    "#Functions\n",
    "\n",
    "def read_df_from_csv_folder(folderpath,filename_pattern):\n",
    "    result = pd.DataFrame()\n",
    "    files_to_be_read = glob.glob(os.path.join(folderpath, filename_pattern))\n",
    "    for i in xrange(len(files_to_be_read)):\n",
    "        try:\n",
    "            df = pd.read_csv(files_to_be_read[i])\n",
    "            result = result.append(df)\n",
    "        except Exception as e:\n",
    "            pass\n",
    "    return result\n"
   ]
  },
  {
   "cell_type": "markdown",
   "metadata": {},
   "source": [
    "### Read Data"
   ]
  },
  {
   "cell_type": "code",
   "execution_count": 29,
   "metadata": {},
   "outputs": [],
   "source": [
    "#base_folderpath = '/local/tarciso/masters/experiments/preliminary-exp/preliminary-exp-sample-data/buste-v3a/'\n",
    "base_folderpath = '/home/tarciso/workspace/trips-optimality-exp/data/'"
   ]
  },
  {
   "cell_type": "markdown",
   "metadata": {},
   "source": [
    "#### Trips Improvement Capacity Data"
   ]
  },
  {
   "cell_type": "code",
   "execution_count": 30,
   "metadata": {},
   "outputs": [],
   "source": [
    "#imp_cap_df = read_df_from_csv_folder(base_folderpath + '/duration_improvement_capacity/', 'part-*.csv')\n",
    "imp_cap_df = read_df_from_csv_folder(base_folderpath + '/dur_imp_cap_2017_06_24/', 'part-*.csv')"
   ]
  },
  {
   "cell_type": "code",
   "execution_count": 31,
   "metadata": {},
   "outputs": [
    {
     "name": "stdout",
     "output_type": "stream",
     "text": [
      "<class 'pandas.core.frame.DataFrame'>\n",
      "Int64Index: 3082 entries, 0 to 2\n",
      "Data columns (total 7 columns):\n",
      "date                 3082 non-null object\n",
      "user_trip_id         3082 non-null int64\n",
      "itinerary_id         3082 non-null int64\n",
      "duration             3082 non-null float64\n",
      "o_datetime           3082 non-null object\n",
      "executed_duration    3082 non-null float64\n",
      "imp_capacity         3082 non-null float64\n",
      "dtypes: float64(3), int64(2), object(2)\n",
      "memory usage: 192.6+ KB\n"
     ]
    }
   ],
   "source": [
    "imp_cap_df.info()"
   ]
  },
  {
   "cell_type": "code",
   "execution_count": 27,
   "metadata": {},
   "outputs": [
    {
     "data": {
      "text/html": [
       "<div>\n",
       "<style>\n",
       "    .dataframe thead tr:only-child th {\n",
       "        text-align: right;\n",
       "    }\n",
       "\n",
       "    .dataframe thead th {\n",
       "        text-align: left;\n",
       "    }\n",
       "\n",
       "    .dataframe tbody tr th {\n",
       "        vertical-align: top;\n",
       "    }\n",
       "</style>\n",
       "<table border=\"1\" class=\"dataframe\">\n",
       "  <thead>\n",
       "    <tr style=\"text-align: right;\">\n",
       "      <th></th>\n",
       "      <th>date</th>\n",
       "      <th>user_trip_id</th>\n",
       "      <th>itinerary_id</th>\n",
       "      <th>duration</th>\n",
       "      <th>o_datetime</th>\n",
       "      <th>executed_duration</th>\n",
       "      <th>imp_capacity</th>\n",
       "    </tr>\n",
       "  </thead>\n",
       "  <tbody>\n",
       "    <tr>\n",
       "      <th>0</th>\n",
       "      <td>2017-06-20</td>\n",
       "      <td>137438953516</td>\n",
       "      <td>2</td>\n",
       "      <td>7.050000</td>\n",
       "      <td>2017-06-20 16:18:29</td>\n",
       "      <td>6.400000</td>\n",
       "      <td>-0.650000</td>\n",
       "    </tr>\n",
       "    <tr>\n",
       "      <th>1</th>\n",
       "      <td>2017-06-20</td>\n",
       "      <td>755914244098</td>\n",
       "      <td>2</td>\n",
       "      <td>7.850000</td>\n",
       "      <td>2017-06-20 06:25:20</td>\n",
       "      <td>102.966667</td>\n",
       "      <td>95.116667</td>\n",
       "    </tr>\n",
       "    <tr>\n",
       "      <th>2</th>\n",
       "      <td>2017-06-20</td>\n",
       "      <td>1262720385026</td>\n",
       "      <td>2</td>\n",
       "      <td>7.233333</td>\n",
       "      <td>2017-06-20 07:13:10</td>\n",
       "      <td>4.016667</td>\n",
       "      <td>-3.216667</td>\n",
       "    </tr>\n",
       "    <tr>\n",
       "      <th>3</th>\n",
       "      <td>2017-06-20</td>\n",
       "      <td>1614907703311</td>\n",
       "      <td>2</td>\n",
       "      <td>4.800000</td>\n",
       "      <td>2017-06-20 17:06:27</td>\n",
       "      <td>0.950000</td>\n",
       "      <td>-3.850000</td>\n",
       "    </tr>\n",
       "    <tr>\n",
       "      <th>4</th>\n",
       "      <td>2017-06-20</td>\n",
       "      <td>1666447311000</td>\n",
       "      <td>2</td>\n",
       "      <td>5.700000</td>\n",
       "      <td>2017-06-20 12:41:40</td>\n",
       "      <td>0.883333</td>\n",
       "      <td>-4.816667</td>\n",
       "    </tr>\n",
       "  </tbody>\n",
       "</table>\n",
       "</div>"
      ],
      "text/plain": [
       "         date   user_trip_id  itinerary_id  duration           o_datetime  \\\n",
       "0  2017-06-20   137438953516             2  7.050000  2017-06-20 16:18:29   \n",
       "1  2017-06-20   755914244098             2  7.850000  2017-06-20 06:25:20   \n",
       "2  2017-06-20  1262720385026             2  7.233333  2017-06-20 07:13:10   \n",
       "3  2017-06-20  1614907703311             2  4.800000  2017-06-20 17:06:27   \n",
       "4  2017-06-20  1666447311000             2  5.700000  2017-06-20 12:41:40   \n",
       "\n",
       "   executed_duration  imp_capacity  \n",
       "0           6.400000     -0.650000  \n",
       "1         102.966667     95.116667  \n",
       "2           4.016667     -3.216667  \n",
       "3           0.950000     -3.850000  \n",
       "4           0.883333     -4.816667  "
      ]
     },
     "execution_count": 27,
     "metadata": {},
     "output_type": "execute_result"
    }
   ],
   "source": [
    "imp_cap_df.head()"
   ]
  },
  {
   "cell_type": "code",
   "execution_count": 32,
   "metadata": {},
   "outputs": [
    {
     "data": {
      "text/plain": [
       "date                 3082\n",
       "user_trip_id         3082\n",
       "itinerary_id         3082\n",
       "duration             3082\n",
       "o_datetime           3082\n",
       "executed_duration    3082\n",
       "imp_capacity         3082\n",
       "dtype: int64"
      ]
     },
     "execution_count": 32,
     "metadata": {},
     "output_type": "execute_result"
    }
   ],
   "source": [
    "imp_cap_df.count()"
   ]
  },
  {
   "cell_type": "markdown",
   "metadata": {},
   "source": [
    "#### Trips Itinerary Data"
   ]
  },
  {
   "cell_type": "code",
   "execution_count": 33,
   "metadata": {
    "collapsed": true
   },
   "outputs": [],
   "source": [
    "#trips_itineraries = read_df_from_csv_folder(base_folderpath + '/trips_actual_itineraries/','part-*.csv')"
   ]
  },
  {
   "cell_type": "code",
   "execution_count": 34,
   "metadata": {},
   "outputs": [],
   "source": [
    "#trips_itineraries.columns"
   ]
  },
  {
   "cell_type": "code",
   "execution_count": 35,
   "metadata": {},
   "outputs": [],
   "source": [
    "#trips_itineraries.describe()"
   ]
  },
  {
   "cell_type": "code",
   "execution_count": 36,
   "metadata": {
    "scrolled": true
   },
   "outputs": [],
   "source": [
    "#trips_itineraries.head(10)"
   ]
  },
  {
   "cell_type": "markdown",
   "metadata": {},
   "source": [
    "### Analyzing Data Distribution"
   ]
  },
  {
   "cell_type": "markdown",
   "metadata": {},
   "source": [
    "#### Overall"
   ]
  },
  {
   "cell_type": "code",
   "execution_count": 37,
   "metadata": {},
   "outputs": [
    {
     "data": {
      "text/plain": [
       "<matplotlib.axes._subplots.AxesSubplot at 0x7ff9d9239750>"
      ]
     },
     "execution_count": 37,
     "metadata": {},
     "output_type": "execute_result"
    },
    {
     "data": {
      "image/png": "[encoded data removed]",
      "text/plain": [
       "<matplotlib.figure.Figure at 0x7ff9d92acf90>"
      ]
     },
     "metadata": {},
     "output_type": "display_data"
    }
   ],
   "source": [
    "sns.kdeplot(imp_cap_df.imp_capacity, shade=True)"
   ]
  },
  {
   "cell_type": "code",
   "execution_count": 38,
   "metadata": {},
   "outputs": [
    {
     "data": {
      "text/plain": [
       "count    3082.000000\n",
       "mean       87.693230\n",
       "std       175.581210\n",
       "min       -24.883333\n",
       "25%        -3.800000\n",
       "50%         9.175000\n",
       "75%        71.212500\n",
       "max      1131.750000\n",
       "Name: imp_capacity, dtype: float64"
      ]
     },
     "execution_count": 38,
     "metadata": {},
     "output_type": "execute_result"
    }
   ],
   "source": [
    "imp_cap_df.imp_capacity.describe()"
   ]
  },
  {
   "cell_type": "markdown",
   "metadata": {},
   "source": [
    "#### Removing outliers (lower/higher 5%)"
   ]
  },
  {
   "cell_type": "code",
   "execution_count": 39,
   "metadata": {},
   "outputs": [
    {
     "name": "stdout",
     "output_type": "stream",
     "text": [
      "-10.2166666667 437.609166667\n"
     ]
    }
   ],
   "source": [
    "fith_perc = np.percentile(imp_cap_df.imp_capacity,5)\n",
    "ninety_fith_perc = np.percentile(imp_cap_df.imp_capacity,95)\n",
    "\n",
    "print fith_perc, ninety_fith_perc"
   ]
  },
  {
   "cell_type": "code",
   "execution_count": 40,
   "metadata": {
    "collapsed": true
   },
   "outputs": [],
   "source": [
    "filtered_imp_cap_df = imp_cap_df[(imp_cap_df.imp_capacity > fith_perc) & (imp_cap_df.imp_capacity < ninety_fith_perc)].copy()"
   ]
  },
  {
   "cell_type": "code",
   "execution_count": 41,
   "metadata": {},
   "outputs": [
    {
     "data": {
      "text/plain": [
       "<matplotlib.axes._subplots.AxesSubplot at 0x7ff9d80ed8d0>"
      ]
     },
     "execution_count": 41,
     "metadata": {},
     "output_type": "execute_result"
    },
    {
     "data": {
      "image/png": "[encoded data removed]",
      "text/plain": [
       "<matplotlib.figure.Figure at 0x7ff9d80a4310>"
      ]
     },
     "metadata": {},
     "output_type": "display_data"
    }
   ],
   "source": [
    "sns.kdeplot(filtered_imp_cap_df.imp_capacity, shade=True)"
   ]
  },
  {
   "cell_type": "code",
   "execution_count": 42,
   "metadata": {},
   "outputs": [
    {
     "data": {
      "text/plain": [
       "count    2771.000000\n",
       "mean       61.024101\n",
       "std       111.981742\n",
       "min       -10.200000\n",
       "25%        -3.433333\n",
       "50%         9.183333\n",
       "75%        60.766667\n",
       "max       437.150000\n",
       "Name: imp_capacity, dtype: float64"
      ]
     },
     "execution_count": 42,
     "metadata": {},
     "output_type": "execute_result"
    }
   ],
   "source": [
    "filtered_imp_cap_df.imp_capacity.describe()"
   ]
  },
  {
   "cell_type": "code",
   "execution_count": 43,
   "metadata": {},
   "outputs": [
    {
     "data": {
      "text/plain": [
       "<matplotlib.axes._subplots.AxesSubplot at 0x7ff9d1180290>"
      ]
     },
     "execution_count": 43,
     "metadata": {},
     "output_type": "execute_result"
    },
    {
     "data": {
      "image/png": "[encoded data removed]",
      "text/plain": [
       "<matplotlib.figure.Figure at 0x7ff9d1108d10>"
      ]
     },
     "metadata": {},
     "output_type": "display_data"
    }
   ],
   "source": [
    "sns.violinplot(x=filtered_imp_cap_df.imp_capacity)"
   ]
  },
  {
   "cell_type": "markdown",
   "metadata": {},
   "source": [
    "#### Per Hour of Day"
   ]
  },
  {
   "cell_type": "code",
   "execution_count": 44,
   "metadata": {
    "collapsed": true
   },
   "outputs": [],
   "source": [
    "filtered_imp_cap_df['hour_of_day'] = pd.to_datetime(filtered_imp_cap_df['o_datetime'], format='%Y-%m-%d %H:%M:%S').dt.hour"
   ]
  },
  {
   "cell_type": "code",
   "execution_count": 45,
   "metadata": {},
   "outputs": [
    {
     "data": {
      "text/html": [
       "<div>\n",
       "<style>\n",
       "    .dataframe thead tr:only-child th {\n",
       "        text-align: right;\n",
       "    }\n",
       "\n",
       "    .dataframe thead th {\n",
       "        text-align: left;\n",
       "    }\n",
       "\n",
       "    .dataframe tbody tr th {\n",
       "        vertical-align: top;\n",
       "    }\n",
       "</style>\n",
       "<table border=\"1\" class=\"dataframe\">\n",
       "  <thead>\n",
       "    <tr style=\"text-align: right;\">\n",
       "      <th></th>\n",
       "      <th>date</th>\n",
       "      <th>user_trip_id</th>\n",
       "      <th>itinerary_id</th>\n",
       "      <th>duration</th>\n",
       "      <th>o_datetime</th>\n",
       "      <th>executed_duration</th>\n",
       "      <th>imp_capacity</th>\n",
       "      <th>hour_of_day</th>\n",
       "    </tr>\n",
       "  </thead>\n",
       "  <tbody>\n",
       "    <tr>\n",
       "      <th>0</th>\n",
       "      <td>2017-06-20</td>\n",
       "      <td>137438953516</td>\n",
       "      <td>2</td>\n",
       "      <td>7.050000</td>\n",
       "      <td>2017-06-20 16:18:29</td>\n",
       "      <td>6.400000</td>\n",
       "      <td>-0.650000</td>\n",
       "      <td>16</td>\n",
       "    </tr>\n",
       "    <tr>\n",
       "      <th>1</th>\n",
       "      <td>2017-06-20</td>\n",
       "      <td>755914244098</td>\n",
       "      <td>2</td>\n",
       "      <td>7.850000</td>\n",
       "      <td>2017-06-20 06:25:20</td>\n",
       "      <td>102.966667</td>\n",
       "      <td>95.116667</td>\n",
       "      <td>6</td>\n",
       "    </tr>\n",
       "    <tr>\n",
       "      <th>2</th>\n",
       "      <td>2017-06-20</td>\n",
       "      <td>1262720385026</td>\n",
       "      <td>2</td>\n",
       "      <td>7.233333</td>\n",
       "      <td>2017-06-20 07:13:10</td>\n",
       "      <td>4.016667</td>\n",
       "      <td>-3.216667</td>\n",
       "      <td>7</td>\n",
       "    </tr>\n",
       "    <tr>\n",
       "      <th>3</th>\n",
       "      <td>2017-06-20</td>\n",
       "      <td>1614907703311</td>\n",
       "      <td>2</td>\n",
       "      <td>4.800000</td>\n",
       "      <td>2017-06-20 17:06:27</td>\n",
       "      <td>0.950000</td>\n",
       "      <td>-3.850000</td>\n",
       "      <td>17</td>\n",
       "    </tr>\n",
       "    <tr>\n",
       "      <th>4</th>\n",
       "      <td>2017-06-20</td>\n",
       "      <td>1666447311000</td>\n",
       "      <td>2</td>\n",
       "      <td>5.700000</td>\n",
       "      <td>2017-06-20 12:41:40</td>\n",
       "      <td>0.883333</td>\n",
       "      <td>-4.816667</td>\n",
       "      <td>12</td>\n",
       "    </tr>\n",
       "  </tbody>\n",
       "</table>\n",
       "</div>"
      ],
      "text/plain": [
       "         date   user_trip_id  itinerary_id  duration           o_datetime  \\\n",
       "0  2017-06-20   137438953516             2  7.050000  2017-06-20 16:18:29   \n",
       "1  2017-06-20   755914244098             2  7.850000  2017-06-20 06:25:20   \n",
       "2  2017-06-20  1262720385026             2  7.233333  2017-06-20 07:13:10   \n",
       "3  2017-06-20  1614907703311             2  4.800000  2017-06-20 17:06:27   \n",
       "4  2017-06-20  1666447311000             2  5.700000  2017-06-20 12:41:40   \n",
       "\n",
       "   executed_duration  imp_capacity  hour_of_day  \n",
       "0           6.400000     -0.650000           16  \n",
       "1         102.966667     95.116667            6  \n",
       "2           4.016667     -3.216667            7  \n",
       "3           0.950000     -3.850000           17  \n",
       "4           0.883333     -4.816667           12  "
      ]
     },
     "execution_count": 45,
     "metadata": {},
     "output_type": "execute_result"
    }
   ],
   "source": [
    "filtered_imp_cap_df.head()"
   ]
  },
  {
   "cell_type": "code",
   "execution_count": 46,
   "metadata": {},
   "outputs": [
    {
     "data": {
      "text/html": [
       "<div>\n",
       "<style>\n",
       "    .dataframe thead tr:only-child th {\n",
       "        text-align: right;\n",
       "    }\n",
       "\n",
       "    .dataframe thead th {\n",
       "        text-align: left;\n",
       "    }\n",
       "\n",
       "    .dataframe tbody tr th {\n",
       "        vertical-align: top;\n",
       "    }\n",
       "</style>\n",
       "<table border=\"1\" class=\"dataframe\">\n",
       "  <thead>\n",
       "    <tr style=\"text-align: right;\">\n",
       "      <th></th>\n",
       "      <th>hour_of_day</th>\n",
       "      <th>period_of_day</th>\n",
       "    </tr>\n",
       "  </thead>\n",
       "  <tbody>\n",
       "    <tr>\n",
       "      <th>0</th>\n",
       "      <td>0</td>\n",
       "      <td>very_late_night</td>\n",
       "    </tr>\n",
       "    <tr>\n",
       "      <th>1</th>\n",
       "      <td>1</td>\n",
       "      <td>very_late_night</td>\n",
       "    </tr>\n",
       "    <tr>\n",
       "      <th>2</th>\n",
       "      <td>2</td>\n",
       "      <td>very_late_night</td>\n",
       "    </tr>\n",
       "    <tr>\n",
       "      <th>3</th>\n",
       "      <td>3</td>\n",
       "      <td>very_late_night</td>\n",
       "    </tr>\n",
       "    <tr>\n",
       "      <th>4</th>\n",
       "      <td>4</td>\n",
       "      <td>early_morning</td>\n",
       "    </tr>\n",
       "    <tr>\n",
       "      <th>5</th>\n",
       "      <td>5</td>\n",
       "      <td>early_morning</td>\n",
       "    </tr>\n",
       "    <tr>\n",
       "      <th>6</th>\n",
       "      <td>6</td>\n",
       "      <td>early_morning</td>\n",
       "    </tr>\n",
       "    <tr>\n",
       "      <th>7</th>\n",
       "      <td>7</td>\n",
       "      <td>morning</td>\n",
       "    </tr>\n",
       "    <tr>\n",
       "      <th>8</th>\n",
       "      <td>8</td>\n",
       "      <td>morning</td>\n",
       "    </tr>\n",
       "    <tr>\n",
       "      <th>9</th>\n",
       "      <td>9</td>\n",
       "      <td>morning</td>\n",
       "    </tr>\n",
       "    <tr>\n",
       "      <th>10</th>\n",
       "      <td>10</td>\n",
       "      <td>morning</td>\n",
       "    </tr>\n",
       "    <tr>\n",
       "      <th>11</th>\n",
       "      <td>11</td>\n",
       "      <td>midday</td>\n",
       "    </tr>\n",
       "    <tr>\n",
       "      <th>12</th>\n",
       "      <td>12</td>\n",
       "      <td>midday</td>\n",
       "    </tr>\n",
       "    <tr>\n",
       "      <th>13</th>\n",
       "      <td>13</td>\n",
       "      <td>midday</td>\n",
       "    </tr>\n",
       "    <tr>\n",
       "      <th>14</th>\n",
       "      <td>14</td>\n",
       "      <td>afternoon</td>\n",
       "    </tr>\n",
       "    <tr>\n",
       "      <th>15</th>\n",
       "      <td>15</td>\n",
       "      <td>afternoon</td>\n",
       "    </tr>\n",
       "    <tr>\n",
       "      <th>16</th>\n",
       "      <td>16</td>\n",
       "      <td>afternoon</td>\n",
       "    </tr>\n",
       "    <tr>\n",
       "      <th>17</th>\n",
       "      <td>17</td>\n",
       "      <td>early_night</td>\n",
       "    </tr>\n",
       "    <tr>\n",
       "      <th>18</th>\n",
       "      <td>18</td>\n",
       "      <td>early_night</td>\n",
       "    </tr>\n",
       "    <tr>\n",
       "      <th>19</th>\n",
       "      <td>19</td>\n",
       "      <td>early_night</td>\n",
       "    </tr>\n",
       "    <tr>\n",
       "      <th>20</th>\n",
       "      <td>20</td>\n",
       "      <td>night</td>\n",
       "    </tr>\n",
       "    <tr>\n",
       "      <th>21</th>\n",
       "      <td>21</td>\n",
       "      <td>night</td>\n",
       "    </tr>\n",
       "    <tr>\n",
       "      <th>22</th>\n",
       "      <td>22</td>\n",
       "      <td>late_night</td>\n",
       "    </tr>\n",
       "    <tr>\n",
       "      <th>23</th>\n",
       "      <td>23</td>\n",
       "      <td>late_night</td>\n",
       "    </tr>\n",
       "  </tbody>\n",
       "</table>\n",
       "</div>"
      ],
      "text/plain": [
       "    hour_of_day    period_of_day\n",
       "0             0  very_late_night\n",
       "1             1  very_late_night\n",
       "2             2  very_late_night\n",
       "3             3  very_late_night\n",
       "4             4    early_morning\n",
       "5             5    early_morning\n",
       "6             6    early_morning\n",
       "7             7          morning\n",
       "8             8          morning\n",
       "9             9          morning\n",
       "10           10          morning\n",
       "11           11           midday\n",
       "12           12           midday\n",
       "13           13           midday\n",
       "14           14        afternoon\n",
       "15           15        afternoon\n",
       "16           16        afternoon\n",
       "17           17      early_night\n",
       "18           18      early_night\n",
       "19           19      early_night\n",
       "20           20            night\n",
       "21           21            night\n",
       "22           22       late_night\n",
       "23           23       late_night"
      ]
     },
     "execution_count": 46,
     "metadata": {},
     "output_type": "execute_result"
    }
   ],
   "source": [
    "period_of_day_list = [('hour_of_day', [0,1,2,3,4,5,6,7,8,9,10,11,12,13,14,15,16,17,18,19,20,21,22,23]),\n",
    "         ('period_of_day', ['very_late_night','very_late_night','very_late_night','very_late_night','early_morning','early_morning','early_morning','morning','morning','morning','morning','midday','midday','midday','afternoon','afternoon','afternoon','early_night','early_night','early_night','night','night','late_night','late_night'])]\n",
    "period_of_day_df = pd.DataFrame.from_items(period_of_day_list)\n",
    "period_of_day_df.period_of_day = period_of_day_df.period_of_day.astype('category', ordered=True)\n",
    "\n",
    "period_of_day_df"
   ]
  },
  {
   "cell_type": "code",
   "execution_count": 47,
   "metadata": {
    "collapsed": true
   },
   "outputs": [],
   "source": [
    "imp_period_of_day = filtered_imp_cap_df.merge(period_of_day_df, how='inner', on='hour_of_day')"
   ]
  },
  {
   "cell_type": "code",
   "execution_count": 48,
   "metadata": {},
   "outputs": [
    {
     "data": {
      "text/html": [
       "<div>\n",
       "<style>\n",
       "    .dataframe thead tr:only-child th {\n",
       "        text-align: right;\n",
       "    }\n",
       "\n",
       "    .dataframe thead th {\n",
       "        text-align: left;\n",
       "    }\n",
       "\n",
       "    .dataframe tbody tr th {\n",
       "        vertical-align: top;\n",
       "    }\n",
       "</style>\n",
       "<table border=\"1\" class=\"dataframe\">\n",
       "  <thead>\n",
       "    <tr style=\"text-align: right;\">\n",
       "      <th></th>\n",
       "      <th>date</th>\n",
       "      <th>user_trip_id</th>\n",
       "      <th>itinerary_id</th>\n",
       "      <th>duration</th>\n",
       "      <th>o_datetime</th>\n",
       "      <th>executed_duration</th>\n",
       "      <th>imp_capacity</th>\n",
       "      <th>hour_of_day</th>\n",
       "      <th>period_of_day</th>\n",
       "    </tr>\n",
       "  </thead>\n",
       "  <tbody>\n",
       "    <tr>\n",
       "      <th>0</th>\n",
       "      <td>2017-06-20</td>\n",
       "      <td>137438953516</td>\n",
       "      <td>2</td>\n",
       "      <td>7.050000</td>\n",
       "      <td>2017-06-20 16:18:29</td>\n",
       "      <td>6.400000</td>\n",
       "      <td>-0.650000</td>\n",
       "      <td>16</td>\n",
       "      <td>afternoon</td>\n",
       "    </tr>\n",
       "    <tr>\n",
       "      <th>1</th>\n",
       "      <td>2017-06-21</td>\n",
       "      <td>738734374985</td>\n",
       "      <td>1</td>\n",
       "      <td>8.800000</td>\n",
       "      <td>2017-06-21 16:52:33</td>\n",
       "      <td>53.316667</td>\n",
       "      <td>44.516667</td>\n",
       "      <td>16</td>\n",
       "      <td>afternoon</td>\n",
       "    </tr>\n",
       "    <tr>\n",
       "      <th>2</th>\n",
       "      <td>2017-06-23</td>\n",
       "      <td>609885356119</td>\n",
       "      <td>1</td>\n",
       "      <td>21.800000</td>\n",
       "      <td>2017-06-23 16:04:11</td>\n",
       "      <td>230.833333</td>\n",
       "      <td>209.033333</td>\n",
       "      <td>16</td>\n",
       "      <td>afternoon</td>\n",
       "    </tr>\n",
       "    <tr>\n",
       "      <th>3</th>\n",
       "      <td>2017-06-19</td>\n",
       "      <td>609885356128</td>\n",
       "      <td>1</td>\n",
       "      <td>7.183333</td>\n",
       "      <td>2017-06-19 16:34:52</td>\n",
       "      <td>1.166667</td>\n",
       "      <td>-6.016667</td>\n",
       "      <td>16</td>\n",
       "      <td>afternoon</td>\n",
       "    </tr>\n",
       "    <tr>\n",
       "      <th>4</th>\n",
       "      <td>2017-06-22</td>\n",
       "      <td>94489280602</td>\n",
       "      <td>1</td>\n",
       "      <td>12.166667</td>\n",
       "      <td>2017-06-22 16:05:04</td>\n",
       "      <td>4.216667</td>\n",
       "      <td>-7.950000</td>\n",
       "      <td>16</td>\n",
       "      <td>afternoon</td>\n",
       "    </tr>\n",
       "  </tbody>\n",
       "</table>\n",
       "</div>"
      ],
      "text/plain": [
       "         date  user_trip_id  itinerary_id   duration           o_datetime  \\\n",
       "0  2017-06-20  137438953516             2   7.050000  2017-06-20 16:18:29   \n",
       "1  2017-06-21  738734374985             1   8.800000  2017-06-21 16:52:33   \n",
       "2  2017-06-23  609885356119             1  21.800000  2017-06-23 16:04:11   \n",
       "3  2017-06-19  609885356128             1   7.183333  2017-06-19 16:34:52   \n",
       "4  2017-06-22   94489280602             1  12.166667  2017-06-22 16:05:04   \n",
       "\n",
       "   executed_duration  imp_capacity  hour_of_day period_of_day  \n",
       "0           6.400000     -0.650000           16     afternoon  \n",
       "1          53.316667     44.516667           16     afternoon  \n",
       "2         230.833333    209.033333           16     afternoon  \n",
       "3           1.166667     -6.016667           16     afternoon  \n",
       "4           4.216667     -7.950000           16     afternoon  "
      ]
     },
     "execution_count": 48,
     "metadata": {},
     "output_type": "execute_result"
    }
   ],
   "source": [
    "imp_period_of_day.head()"
   ]
  },
  {
   "cell_type": "code",
   "execution_count": 50,
   "metadata": {},
   "outputs": [
    {
     "name": "stderr",
     "output_type": "stream",
     "text": [
      "/home/tarciso/anaconda2/lib/python2.7/site-packages/matplotlib/cbook.py:2052: RuntimeWarning: invalid value encountered in double_scalars\n",
      "  loval = q1 - whis * stats['iqr']\n",
      "/home/tarciso/anaconda2/lib/python2.7/site-packages/matplotlib/cbook.py:2053: RuntimeWarning: invalid value encountered in double_scalars\n",
      "  hival = q3 + whis * stats['iqr']\n"
     ]
    },
    {
     "data": {
      "text/plain": [
       "<matplotlib.axes._subplots.AxesSubplot at 0x7ff9d10198d0>"
      ]
     },
     "execution_count": 50,
     "metadata": {},
     "output_type": "execute_result"
    },
    {
     "data": {
      "image/png": "[encoded data removed]",
      "text/plain": [
       "<matplotlib.figure.Figure at 0x7ff9d1062790>"
      ]
     },
     "metadata": {},
     "output_type": "display_data"
    }
   ],
   "source": [
    "sns.boxplot(x=filtered_imp_cap_df.imp_capacity, y=filtered_imp_cap_df.hour_of_day, data=filtered_imp_cap_df, \n",
    "            whis=np.inf, orient='h')"
   ]
  },
  {
   "cell_type": "code",
   "execution_count": 52,
   "metadata": {},
   "outputs": [
    {
     "data": {
      "text/plain": [
       "<matplotlib.axes._subplots.AxesSubplot at 0x7ff9d0b83310>"
      ]
     },
     "execution_count": 52,
     "metadata": {},
     "output_type": "execute_result"
    },
    {
     "data": {
      "image/png": "[encoded data removed]",
      "text/plain": [
       "<matplotlib.figure.Figure at 0x7ff9d0be8a90>"
      ]
     },
     "metadata": {},
     "output_type": "display_data"
    }
   ],
   "source": [
    "col_order = ['very_late_night','early_morning','morning','midday','afternoon','early_night','night','late_night']\n",
    "sns.boxplot(x=imp_period_of_day.imp_capacity, y=imp_period_of_day.period_of_day, data=imp_period_of_day,\n",
    "            order=col_order,whis=np.inf)"
   ]
  },
  {
   "cell_type": "markdown",
   "metadata": {},
   "source": [
    "#### Per Day of Week (Sun-Sat)"
   ]
  },
  {
   "cell_type": "markdown",
   "metadata": {},
   "source": [
    "#### Per Day Type (Mon,Fri,Tue-Thu,Sat-Sun)"
   ]
  },
  {
   "cell_type": "code",
   "execution_count": null,
   "metadata": {
    "collapsed": true
   },
   "outputs": [],
   "source": []
  }
 ],
 "metadata": {
  "kernelspec": {
   "display_name": "Python 2",
   "language": "python",
   "name": "python2"
  },
  "language_info": {
   "codemirror_mode": {
    "name": "ipython",
    "version": 2
   },
   "file_extension": ".py",
   "mimetype": "text/x-python",
   "name": "python",
   "nbconvert_exporter": "python",
   "pygments_lexer": "ipython2",
   "version": "2.7.13"
  }
 },
 "nbformat": 4,
 "nbformat_minor": 2
}
