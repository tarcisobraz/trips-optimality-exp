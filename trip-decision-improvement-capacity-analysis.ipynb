{
 "cells": [
  {
   "cell_type": "code",
   "execution_count": 1,
   "metadata": {},
   "outputs": [],
   "source": [
    "import pandas as pd\n",
    "import numpy as np\n",
    "\n",
    "#Imports to enable visualizations\n",
    "import seaborn as sns\n",
    "import matplotlib.pyplot as plt\n",
    "%matplotlib inline\n",
    "\n",
    "#Python standard libraries\n",
    "import glob, os    \n",
    "import datetime"
   ]
  },
  {
   "cell_type": "code",
   "execution_count": 2,
   "metadata": {
    "collapsed": true
   },
   "outputs": [],
   "source": [
    "#Functions\n",
    "\n",
    "def read_df_from_csv_folder(folderpath,filename_pattern):\n",
    "    result = pd.DataFrame()\n",
    "    files_to_be_read = glob.glob(os.path.join(folderpath, filename_pattern))\n",
    "    for i in xrange(len(files_to_be_read)):\n",
    "        try:\n",
    "            df = pd.read_csv(files_to_be_read[i])\n",
    "            result = result.append(df)\n",
    "        except Exception as e:\n",
    "            pass\n",
    "    return result\n"
   ]
  },
  {
   "cell_type": "markdown",
   "metadata": {},
   "source": [
    "### Read Data"
   ]
  },
  {
   "cell_type": "code",
   "execution_count": 3,
   "metadata": {
    "collapsed": true
   },
   "outputs": [],
   "source": [
    "#base_folderpath = '/local/tarciso/masters/experiments/preliminary-exp/preliminary-exp-sample-data/buste-v3a/'\n",
    "base_folderpath = '/local/tarciso/masters/data/trips-optimality-exp/part1/'\n",
    "#base_folderpath = '/local/tarciso/data/'"
   ]
  },
  {
   "cell_type": "markdown",
   "metadata": {},
   "source": [
    "#### Trips Improvement Capacity Data"
   ]
  },
  {
   "cell_type": "code",
   "execution_count": 114,
   "metadata": {
    "collapsed": true
   },
   "outputs": [],
   "source": [
    "#imp_cap_df = read_df_from_csv_folder(base_folderpath + '/duration_improvement_capacity/', 'part-*.csv')\n",
    "#imp_cap_df = read_df_from_csv_folder(base_folderpath + '/duration_improvement_capacity/', 'part-*.csv')\n",
    "imp_cap_df = pd.read_csv(base_folderpath + '/result.csv')"
   ]
  },
  {
   "cell_type": "code",
   "execution_count": 115,
   "metadata": {},
   "outputs": [
    {
     "name": "stdout",
     "output_type": "stream",
     "text": [
      "<class 'pandas.core.frame.DataFrame'>\n",
      "RangeIndex: 386507 entries, 0 to 386506\n",
      "Data columns (total 11 columns):\n",
      "date                 386507 non-null object\n",
      "user_trip_id         386507 non-null int64\n",
      "cardNum              386507 non-null int64\n",
      "birthdate            110289 non-null object\n",
      "gender               110282 non-null object\n",
      "exec_start_time      386507 non-null object\n",
      "executed_duration    386507 non-null float64\n",
      "itinerary_id         386507 non-null int64\n",
      "duration             386507 non-null object\n",
      "alt_start_time       386507 non-null object\n",
      "imp_capacity         130412 non-null float64\n",
      "dtypes: float64(2), int64(3), object(6)\n",
      "memory usage: 32.4+ MB\n"
     ]
    }
   ],
   "source": [
    "imp_cap_df.info()"
   ]
  },
  {
   "cell_type": "code",
   "execution_count": 116,
   "metadata": {},
   "outputs": [
    {
     "data": {
      "text/html": [
       "<div>\n",
       "<style>\n",
       "    .dataframe thead tr:only-child th {\n",
       "        text-align: right;\n",
       "    }\n",
       "\n",
       "    .dataframe thead th {\n",
       "        text-align: left;\n",
       "    }\n",
       "\n",
       "    .dataframe tbody tr th {\n",
       "        vertical-align: top;\n",
       "    }\n",
       "</style>\n",
       "<table border=\"1\" class=\"dataframe\">\n",
       "  <thead>\n",
       "    <tr style=\"text-align: right;\">\n",
       "      <th></th>\n",
       "      <th>date</th>\n",
       "      <th>user_trip_id</th>\n",
       "      <th>cardNum</th>\n",
       "      <th>birthdate</th>\n",
       "      <th>gender</th>\n",
       "      <th>exec_start_time</th>\n",
       "      <th>executed_duration</th>\n",
       "      <th>itinerary_id</th>\n",
       "      <th>duration</th>\n",
       "      <th>alt_start_time</th>\n",
       "      <th>imp_capacity</th>\n",
       "    </tr>\n",
       "  </thead>\n",
       "  <tbody>\n",
       "    <tr>\n",
       "      <th>0</th>\n",
       "      <td>2017-05-01</td>\n",
       "      <td>652835029003</td>\n",
       "      <td>2252514</td>\n",
       "      <td>16/12/89</td>\n",
       "      <td>M</td>\n",
       "      <td>2017-05-01 12:33:56</td>\n",
       "      <td>50.933333</td>\n",
       "      <td>1</td>\n",
       "      <td>12.1</td>\n",
       "      <td>2017-05-01 12:31:56</td>\n",
       "      <td>38.833333</td>\n",
       "    </tr>\n",
       "    <tr>\n",
       "      <th>1</th>\n",
       "      <td>2017-06-26</td>\n",
       "      <td>8589934627</td>\n",
       "      <td>1713404</td>\n",
       "      <td>NaN</td>\n",
       "      <td>NaN</td>\n",
       "      <td>2017-06-26 08:07:59</td>\n",
       "      <td>399.833333</td>\n",
       "      <td>0</td>\n",
       "      <td>2017-06-26 08:07:59</td>\n",
       "      <td>399.8333333333333</td>\n",
       "      <td>NaN</td>\n",
       "    </tr>\n",
       "    <tr>\n",
       "      <th>2</th>\n",
       "      <td>2017-06-26</td>\n",
       "      <td>17179869424</td>\n",
       "      <td>3200375</td>\n",
       "      <td>NaN</td>\n",
       "      <td>NaN</td>\n",
       "      <td>2017-06-26 10:04:28</td>\n",
       "      <td>113.133333</td>\n",
       "      <td>1</td>\n",
       "      <td>117.48333333333333</td>\n",
       "      <td>2017-06-26 10:06:30</td>\n",
       "      <td>-4.350000</td>\n",
       "    </tr>\n",
       "    <tr>\n",
       "      <th>3</th>\n",
       "      <td>2017-06-26</td>\n",
       "      <td>17179869486</td>\n",
       "      <td>3398765</td>\n",
       "      <td>25/09/01</td>\n",
       "      <td>F</td>\n",
       "      <td>2017-06-26 09:39:39</td>\n",
       "      <td>135.733333</td>\n",
       "      <td>1</td>\n",
       "      <td>109.33333333333333</td>\n",
       "      <td>2017-06-26 09:44:25</td>\n",
       "      <td>26.400000</td>\n",
       "    </tr>\n",
       "    <tr>\n",
       "      <th>4</th>\n",
       "      <td>2017-06-26</td>\n",
       "      <td>25769804066</td>\n",
       "      <td>3506093</td>\n",
       "      <td>NaN</td>\n",
       "      <td>NaN</td>\n",
       "      <td>2017-06-26 05:40:03</td>\n",
       "      <td>306.183333</td>\n",
       "      <td>1</td>\n",
       "      <td>18.966666666666665</td>\n",
       "      <td>2017-06-26 05:46:44</td>\n",
       "      <td>287.216667</td>\n",
       "    </tr>\n",
       "  </tbody>\n",
       "</table>\n",
       "</div>"
      ],
      "text/plain": [
       "         date  user_trip_id  cardNum birthdate gender      exec_start_time  \\\n",
       "0  2017-05-01  652835029003  2252514  16/12/89      M  2017-05-01 12:33:56   \n",
       "1  2017-06-26    8589934627  1713404       NaN    NaN  2017-06-26 08:07:59   \n",
       "2  2017-06-26   17179869424  3200375       NaN    NaN  2017-06-26 10:04:28   \n",
       "3  2017-06-26   17179869486  3398765  25/09/01      F  2017-06-26 09:39:39   \n",
       "4  2017-06-26   25769804066  3506093       NaN    NaN  2017-06-26 05:40:03   \n",
       "\n",
       "   executed_duration  itinerary_id             duration       alt_start_time  \\\n",
       "0          50.933333             1                 12.1  2017-05-01 12:31:56   \n",
       "1         399.833333             0  2017-06-26 08:07:59    399.8333333333333   \n",
       "2         113.133333             1   117.48333333333333  2017-06-26 10:06:30   \n",
       "3         135.733333             1   109.33333333333333  2017-06-26 09:44:25   \n",
       "4         306.183333             1   18.966666666666665  2017-06-26 05:46:44   \n",
       "\n",
       "   imp_capacity  \n",
       "0     38.833333  \n",
       "1           NaN  \n",
       "2     -4.350000  \n",
       "3     26.400000  \n",
       "4    287.216667  "
      ]
     },
     "execution_count": 116,
     "metadata": {},
     "output_type": "execute_result"
    }
   ],
   "source": [
    "imp_cap_df.head()"
   ]
  },
  {
   "cell_type": "code",
   "execution_count": 117,
   "metadata": {},
   "outputs": [
    {
     "data": {
      "text/plain": [
       "date                 386507\n",
       "user_trip_id         386507\n",
       "cardNum              386507\n",
       "birthdate            110289\n",
       "gender               110282\n",
       "exec_start_time      386507\n",
       "executed_duration    386507\n",
       "itinerary_id         386507\n",
       "duration             386507\n",
       "alt_start_time       386507\n",
       "imp_capacity         130412\n",
       "dtype: int64"
      ]
     },
     "execution_count": 117,
     "metadata": {},
     "output_type": "execute_result"
    }
   ],
   "source": [
    "imp_cap_df.count()"
   ]
  },
  {
   "cell_type": "markdown",
   "metadata": {},
   "source": [
    "#### Trips Itinerary Data"
   ]
  },
  {
   "cell_type": "code",
   "execution_count": 118,
   "metadata": {
    "collapsed": true
   },
   "outputs": [],
   "source": [
    "#trips_itineraries = read_df_from_csv_folder(base_folderpath + '/trips_actual_itineraries/','part-*.csv')"
   ]
  },
  {
   "cell_type": "code",
   "execution_count": 119,
   "metadata": {
    "collapsed": true
   },
   "outputs": [],
   "source": [
    "#trips_itineraries.columns"
   ]
  },
  {
   "cell_type": "code",
   "execution_count": 120,
   "metadata": {
    "collapsed": true
   },
   "outputs": [],
   "source": [
    "#trips_itineraries.describe()"
   ]
  },
  {
   "cell_type": "code",
   "execution_count": 121,
   "metadata": {
    "collapsed": true,
    "scrolled": true
   },
   "outputs": [],
   "source": [
    "#trips_itineraries.head(10)"
   ]
  },
  {
   "cell_type": "markdown",
   "metadata": {},
   "source": [
    "### Preparing Data"
   ]
  },
  {
   "cell_type": "markdown",
   "metadata": {},
   "source": [
    "#### Fixing swaped columns values "
   ]
  },
  {
   "cell_type": "code",
   "execution_count": 122,
   "metadata": {},
   "outputs": [
    {
     "data": {
      "text/plain": [
       "date                  object\n",
       "user_trip_id           int64\n",
       "cardNum                int64\n",
       "birthdate             object\n",
       "gender                object\n",
       "exec_start_time       object\n",
       "executed_duration    float64\n",
       "itinerary_id           int64\n",
       "duration              object\n",
       "alt_start_time        object\n",
       "imp_capacity         float64\n",
       "dtype: object"
      ]
     },
     "execution_count": 122,
     "metadata": {},
     "output_type": "execute_result"
    }
   ],
   "source": [
    "imp_cap_df.dtypes"
   ]
  },
  {
   "cell_type": "code",
   "execution_count": 123,
   "metadata": {},
   "outputs": [],
   "source": [
    "def check_duration_value(trip_duration):\n",
    "    try:\n",
    "        datetime.datetime.strptime(trip_duration,'%Y-%m-%d %H:%M:%S')\n",
    "        return False\n",
    "    except Exception as e:\n",
    "        return True\n",
    "    \n",
    "imp_cap_df['duration_val_check'] = imp_cap_df['duration'].apply(check_duration_value)"
   ]
  },
  {
   "cell_type": "code",
   "execution_count": 124,
   "metadata": {},
   "outputs": [
    {
     "data": {
      "text/html": [
       "<div>\n",
       "<style>\n",
       "    .dataframe thead tr:only-child th {\n",
       "        text-align: right;\n",
       "    }\n",
       "\n",
       "    .dataframe thead th {\n",
       "        text-align: left;\n",
       "    }\n",
       "\n",
       "    .dataframe tbody tr th {\n",
       "        vertical-align: top;\n",
       "    }\n",
       "</style>\n",
       "<table border=\"1\" class=\"dataframe\">\n",
       "  <thead>\n",
       "    <tr style=\"text-align: right;\">\n",
       "      <th></th>\n",
       "      <th>date</th>\n",
       "      <th>user_trip_id</th>\n",
       "      <th>cardNum</th>\n",
       "      <th>birthdate</th>\n",
       "      <th>gender</th>\n",
       "      <th>exec_start_time</th>\n",
       "      <th>executed_duration</th>\n",
       "      <th>itinerary_id</th>\n",
       "      <th>duration</th>\n",
       "      <th>alt_start_time</th>\n",
       "      <th>imp_capacity</th>\n",
       "      <th>duration_val_check</th>\n",
       "    </tr>\n",
       "  </thead>\n",
       "  <tbody>\n",
       "    <tr>\n",
       "      <th>0</th>\n",
       "      <td>2017-05-01</td>\n",
       "      <td>652835029003</td>\n",
       "      <td>2252514</td>\n",
       "      <td>16/12/89</td>\n",
       "      <td>M</td>\n",
       "      <td>2017-05-01 12:33:56</td>\n",
       "      <td>50.933333</td>\n",
       "      <td>1</td>\n",
       "      <td>12.1</td>\n",
       "      <td>2017-05-01 12:31:56</td>\n",
       "      <td>38.833333</td>\n",
       "      <td>True</td>\n",
       "    </tr>\n",
       "    <tr>\n",
       "      <th>1</th>\n",
       "      <td>2017-06-26</td>\n",
       "      <td>8589934627</td>\n",
       "      <td>1713404</td>\n",
       "      <td>NaN</td>\n",
       "      <td>NaN</td>\n",
       "      <td>2017-06-26 08:07:59</td>\n",
       "      <td>399.833333</td>\n",
       "      <td>0</td>\n",
       "      <td>2017-06-26 08:07:59</td>\n",
       "      <td>399.8333333333333</td>\n",
       "      <td>NaN</td>\n",
       "      <td>False</td>\n",
       "    </tr>\n",
       "    <tr>\n",
       "      <th>2</th>\n",
       "      <td>2017-06-26</td>\n",
       "      <td>17179869424</td>\n",
       "      <td>3200375</td>\n",
       "      <td>NaN</td>\n",
       "      <td>NaN</td>\n",
       "      <td>2017-06-26 10:04:28</td>\n",
       "      <td>113.133333</td>\n",
       "      <td>1</td>\n",
       "      <td>117.48333333333333</td>\n",
       "      <td>2017-06-26 10:06:30</td>\n",
       "      <td>-4.350000</td>\n",
       "      <td>True</td>\n",
       "    </tr>\n",
       "    <tr>\n",
       "      <th>3</th>\n",
       "      <td>2017-06-26</td>\n",
       "      <td>17179869486</td>\n",
       "      <td>3398765</td>\n",
       "      <td>25/09/01</td>\n",
       "      <td>F</td>\n",
       "      <td>2017-06-26 09:39:39</td>\n",
       "      <td>135.733333</td>\n",
       "      <td>1</td>\n",
       "      <td>109.33333333333333</td>\n",
       "      <td>2017-06-26 09:44:25</td>\n",
       "      <td>26.400000</td>\n",
       "      <td>True</td>\n",
       "    </tr>\n",
       "    <tr>\n",
       "      <th>4</th>\n",
       "      <td>2017-06-26</td>\n",
       "      <td>25769804066</td>\n",
       "      <td>3506093</td>\n",
       "      <td>NaN</td>\n",
       "      <td>NaN</td>\n",
       "      <td>2017-06-26 05:40:03</td>\n",
       "      <td>306.183333</td>\n",
       "      <td>1</td>\n",
       "      <td>18.966666666666665</td>\n",
       "      <td>2017-06-26 05:46:44</td>\n",
       "      <td>287.216667</td>\n",
       "      <td>True</td>\n",
       "    </tr>\n",
       "  </tbody>\n",
       "</table>\n",
       "</div>"
      ],
      "text/plain": [
       "         date  user_trip_id  cardNum birthdate gender      exec_start_time  \\\n",
       "0  2017-05-01  652835029003  2252514  16/12/89      M  2017-05-01 12:33:56   \n",
       "1  2017-06-26    8589934627  1713404       NaN    NaN  2017-06-26 08:07:59   \n",
       "2  2017-06-26   17179869424  3200375       NaN    NaN  2017-06-26 10:04:28   \n",
       "3  2017-06-26   17179869486  3398765  25/09/01      F  2017-06-26 09:39:39   \n",
       "4  2017-06-26   25769804066  3506093       NaN    NaN  2017-06-26 05:40:03   \n",
       "\n",
       "   executed_duration  itinerary_id             duration       alt_start_time  \\\n",
       "0          50.933333             1                 12.1  2017-05-01 12:31:56   \n",
       "1         399.833333             0  2017-06-26 08:07:59    399.8333333333333   \n",
       "2         113.133333             1   117.48333333333333  2017-06-26 10:06:30   \n",
       "3         135.733333             1   109.33333333333333  2017-06-26 09:44:25   \n",
       "4         306.183333             1   18.966666666666665  2017-06-26 05:46:44   \n",
       "\n",
       "   imp_capacity  duration_val_check  \n",
       "0     38.833333                True  \n",
       "1           NaN               False  \n",
       "2     -4.350000                True  \n",
       "3     26.400000                True  \n",
       "4    287.216667                True  "
      ]
     },
     "execution_count": 124,
     "metadata": {},
     "output_type": "execute_result"
    }
   ],
   "source": [
    "imp_cap_df.head()"
   ]
  },
  {
   "cell_type": "code",
   "execution_count": 125,
   "metadata": {},
   "outputs": [
    {
     "data": {
      "text/plain": [
       "130412"
      ]
     },
     "execution_count": 125,
     "metadata": {},
     "output_type": "execute_result"
    }
   ],
   "source": [
    "sum(imp_cap_df['duration_val_check'])"
   ]
  },
  {
   "cell_type": "code",
   "execution_count": 126,
   "metadata": {
    "collapsed": true
   },
   "outputs": [],
   "source": [
    "imp_cap_df['tmp_duration'] = np.where(np.logical_not(imp_cap_df['duration_val_check']), imp_cap_df['alt_start_time'], imp_cap_df['duration'])\n",
    "imp_cap_df['tmp_alt_start_time'] = np.where(np.logical_not(imp_cap_df['duration_val_check']), imp_cap_df['duration'], imp_cap_df['alt_start_time'])"
   ]
  },
  {
   "cell_type": "code",
   "execution_count": 127,
   "metadata": {},
   "outputs": [
    {
     "data": {
      "text/html": [
       "<div>\n",
       "<style>\n",
       "    .dataframe thead tr:only-child th {\n",
       "        text-align: right;\n",
       "    }\n",
       "\n",
       "    .dataframe thead th {\n",
       "        text-align: left;\n",
       "    }\n",
       "\n",
       "    .dataframe tbody tr th {\n",
       "        vertical-align: top;\n",
       "    }\n",
       "</style>\n",
       "<table border=\"1\" class=\"dataframe\">\n",
       "  <thead>\n",
       "    <tr style=\"text-align: right;\">\n",
       "      <th></th>\n",
       "      <th>date</th>\n",
       "      <th>user_trip_id</th>\n",
       "      <th>cardNum</th>\n",
       "      <th>birthdate</th>\n",
       "      <th>gender</th>\n",
       "      <th>exec_start_time</th>\n",
       "      <th>executed_duration</th>\n",
       "      <th>itinerary_id</th>\n",
       "      <th>duration</th>\n",
       "      <th>alt_start_time</th>\n",
       "      <th>imp_capacity</th>\n",
       "      <th>duration_val_check</th>\n",
       "      <th>tmp_duration</th>\n",
       "      <th>tmp_alt_start_time</th>\n",
       "    </tr>\n",
       "  </thead>\n",
       "  <tbody>\n",
       "    <tr>\n",
       "      <th>0</th>\n",
       "      <td>2017-05-01</td>\n",
       "      <td>652835029003</td>\n",
       "      <td>2252514</td>\n",
       "      <td>16/12/89</td>\n",
       "      <td>M</td>\n",
       "      <td>2017-05-01 12:33:56</td>\n",
       "      <td>50.933333</td>\n",
       "      <td>1</td>\n",
       "      <td>12.1</td>\n",
       "      <td>2017-05-01 12:31:56</td>\n",
       "      <td>38.833333</td>\n",
       "      <td>True</td>\n",
       "      <td>12.1</td>\n",
       "      <td>2017-05-01 12:31:56</td>\n",
       "    </tr>\n",
       "    <tr>\n",
       "      <th>1</th>\n",
       "      <td>2017-06-26</td>\n",
       "      <td>8589934627</td>\n",
       "      <td>1713404</td>\n",
       "      <td>NaN</td>\n",
       "      <td>NaN</td>\n",
       "      <td>2017-06-26 08:07:59</td>\n",
       "      <td>399.833333</td>\n",
       "      <td>0</td>\n",
       "      <td>2017-06-26 08:07:59</td>\n",
       "      <td>399.8333333333333</td>\n",
       "      <td>NaN</td>\n",
       "      <td>False</td>\n",
       "      <td>399.8333333333333</td>\n",
       "      <td>2017-06-26 08:07:59</td>\n",
       "    </tr>\n",
       "    <tr>\n",
       "      <th>2</th>\n",
       "      <td>2017-06-26</td>\n",
       "      <td>17179869424</td>\n",
       "      <td>3200375</td>\n",
       "      <td>NaN</td>\n",
       "      <td>NaN</td>\n",
       "      <td>2017-06-26 10:04:28</td>\n",
       "      <td>113.133333</td>\n",
       "      <td>1</td>\n",
       "      <td>117.48333333333333</td>\n",
       "      <td>2017-06-26 10:06:30</td>\n",
       "      <td>-4.350000</td>\n",
       "      <td>True</td>\n",
       "      <td>117.48333333333333</td>\n",
       "      <td>2017-06-26 10:06:30</td>\n",
       "    </tr>\n",
       "    <tr>\n",
       "      <th>3</th>\n",
       "      <td>2017-06-26</td>\n",
       "      <td>17179869486</td>\n",
       "      <td>3398765</td>\n",
       "      <td>25/09/01</td>\n",
       "      <td>F</td>\n",
       "      <td>2017-06-26 09:39:39</td>\n",
       "      <td>135.733333</td>\n",
       "      <td>1</td>\n",
       "      <td>109.33333333333333</td>\n",
       "      <td>2017-06-26 09:44:25</td>\n",
       "      <td>26.400000</td>\n",
       "      <td>True</td>\n",
       "      <td>109.33333333333333</td>\n",
       "      <td>2017-06-26 09:44:25</td>\n",
       "    </tr>\n",
       "    <tr>\n",
       "      <th>4</th>\n",
       "      <td>2017-06-26</td>\n",
       "      <td>25769804066</td>\n",
       "      <td>3506093</td>\n",
       "      <td>NaN</td>\n",
       "      <td>NaN</td>\n",
       "      <td>2017-06-26 05:40:03</td>\n",
       "      <td>306.183333</td>\n",
       "      <td>1</td>\n",
       "      <td>18.966666666666665</td>\n",
       "      <td>2017-06-26 05:46:44</td>\n",
       "      <td>287.216667</td>\n",
       "      <td>True</td>\n",
       "      <td>18.966666666666665</td>\n",
       "      <td>2017-06-26 05:46:44</td>\n",
       "    </tr>\n",
       "    <tr>\n",
       "      <th>5</th>\n",
       "      <td>2017-06-26</td>\n",
       "      <td>42949673089</td>\n",
       "      <td>2349876</td>\n",
       "      <td>NaN</td>\n",
       "      <td>NaN</td>\n",
       "      <td>2017-06-26 07:04:08</td>\n",
       "      <td>56.183333</td>\n",
       "      <td>1</td>\n",
       "      <td>11.100000000000001</td>\n",
       "      <td>2017-06-26 07:20:11</td>\n",
       "      <td>45.083333</td>\n",
       "      <td>True</td>\n",
       "      <td>11.100000000000001</td>\n",
       "      <td>2017-06-26 07:20:11</td>\n",
       "    </tr>\n",
       "    <tr>\n",
       "      <th>6</th>\n",
       "      <td>2017-06-26</td>\n",
       "      <td>60129542517</td>\n",
       "      <td>3720666</td>\n",
       "      <td>NaN</td>\n",
       "      <td>NaN</td>\n",
       "      <td>2017-06-26 17:43:41</td>\n",
       "      <td>55.566667</td>\n",
       "      <td>0</td>\n",
       "      <td>2017-06-26 17:43:41</td>\n",
       "      <td>55.56666666666667</td>\n",
       "      <td>NaN</td>\n",
       "      <td>False</td>\n",
       "      <td>55.56666666666667</td>\n",
       "      <td>2017-06-26 17:43:41</td>\n",
       "    </tr>\n",
       "    <tr>\n",
       "      <th>7</th>\n",
       "      <td>2017-06-26</td>\n",
       "      <td>77309411827</td>\n",
       "      <td>3855369</td>\n",
       "      <td>NaN</td>\n",
       "      <td>NaN</td>\n",
       "      <td>2017-06-26 10:30:54</td>\n",
       "      <td>54.983333</td>\n",
       "      <td>1</td>\n",
       "      <td>13.25</td>\n",
       "      <td>2017-06-26 10:28:54</td>\n",
       "      <td>41.733333</td>\n",
       "      <td>True</td>\n",
       "      <td>13.25</td>\n",
       "      <td>2017-06-26 10:28:54</td>\n",
       "    </tr>\n",
       "    <tr>\n",
       "      <th>8</th>\n",
       "      <td>2017-06-26</td>\n",
       "      <td>85899345982</td>\n",
       "      <td>1942614</td>\n",
       "      <td>NaN</td>\n",
       "      <td>NaN</td>\n",
       "      <td>2017-06-26 05:10:39</td>\n",
       "      <td>455.000000</td>\n",
       "      <td>0</td>\n",
       "      <td>2017-06-26 05:10:39</td>\n",
       "      <td>455.0</td>\n",
       "      <td>NaN</td>\n",
       "      <td>False</td>\n",
       "      <td>455.0</td>\n",
       "      <td>2017-06-26 05:10:39</td>\n",
       "    </tr>\n",
       "    <tr>\n",
       "      <th>9</th>\n",
       "      <td>2017-06-26</td>\n",
       "      <td>94489280851</td>\n",
       "      <td>3569332</td>\n",
       "      <td>NaN</td>\n",
       "      <td>NaN</td>\n",
       "      <td>2017-06-26 07:13:17</td>\n",
       "      <td>26.850000</td>\n",
       "      <td>0</td>\n",
       "      <td>2017-06-26 07:13:17</td>\n",
       "      <td>26.85</td>\n",
       "      <td>NaN</td>\n",
       "      <td>False</td>\n",
       "      <td>26.85</td>\n",
       "      <td>2017-06-26 07:13:17</td>\n",
       "    </tr>\n",
       "  </tbody>\n",
       "</table>\n",
       "</div>"
      ],
      "text/plain": [
       "         date  user_trip_id  cardNum birthdate gender      exec_start_time  \\\n",
       "0  2017-05-01  652835029003  2252514  16/12/89      M  2017-05-01 12:33:56   \n",
       "1  2017-06-26    8589934627  1713404       NaN    NaN  2017-06-26 08:07:59   \n",
       "2  2017-06-26   17179869424  3200375       NaN    NaN  2017-06-26 10:04:28   \n",
       "3  2017-06-26   17179869486  3398765  25/09/01      F  2017-06-26 09:39:39   \n",
       "4  2017-06-26   25769804066  3506093       NaN    NaN  2017-06-26 05:40:03   \n",
       "5  2017-06-26   42949673089  2349876       NaN    NaN  2017-06-26 07:04:08   \n",
       "6  2017-06-26   60129542517  3720666       NaN    NaN  2017-06-26 17:43:41   \n",
       "7  2017-06-26   77309411827  3855369       NaN    NaN  2017-06-26 10:30:54   \n",
       "8  2017-06-26   85899345982  1942614       NaN    NaN  2017-06-26 05:10:39   \n",
       "9  2017-06-26   94489280851  3569332       NaN    NaN  2017-06-26 07:13:17   \n",
       "\n",
       "   executed_duration  itinerary_id             duration       alt_start_time  \\\n",
       "0          50.933333             1                 12.1  2017-05-01 12:31:56   \n",
       "1         399.833333             0  2017-06-26 08:07:59    399.8333333333333   \n",
       "2         113.133333             1   117.48333333333333  2017-06-26 10:06:30   \n",
       "3         135.733333             1   109.33333333333333  2017-06-26 09:44:25   \n",
       "4         306.183333             1   18.966666666666665  2017-06-26 05:46:44   \n",
       "5          56.183333             1   11.100000000000001  2017-06-26 07:20:11   \n",
       "6          55.566667             0  2017-06-26 17:43:41    55.56666666666667   \n",
       "7          54.983333             1                13.25  2017-06-26 10:28:54   \n",
       "8         455.000000             0  2017-06-26 05:10:39                455.0   \n",
       "9          26.850000             0  2017-06-26 07:13:17                26.85   \n",
       "\n",
       "   imp_capacity  duration_val_check        tmp_duration   tmp_alt_start_time  \n",
       "0     38.833333                True                12.1  2017-05-01 12:31:56  \n",
       "1           NaN               False   399.8333333333333  2017-06-26 08:07:59  \n",
       "2     -4.350000                True  117.48333333333333  2017-06-26 10:06:30  \n",
       "3     26.400000                True  109.33333333333333  2017-06-26 09:44:25  \n",
       "4    287.216667                True  18.966666666666665  2017-06-26 05:46:44  \n",
       "5     45.083333                True  11.100000000000001  2017-06-26 07:20:11  \n",
       "6           NaN               False   55.56666666666667  2017-06-26 17:43:41  \n",
       "7     41.733333                True               13.25  2017-06-26 10:28:54  \n",
       "8           NaN               False               455.0  2017-06-26 05:10:39  \n",
       "9           NaN               False               26.85  2017-06-26 07:13:17  "
      ]
     },
     "execution_count": 127,
     "metadata": {},
     "output_type": "execute_result"
    }
   ],
   "source": [
    "imp_cap_df.head(10)"
   ]
  },
  {
   "cell_type": "code",
   "execution_count": 128,
   "metadata": {},
   "outputs": [],
   "source": [
    "imp_cap_df['duration'] = imp_cap_df['tmp_duration']\n",
    "imp_cap_df['alt_start_time'] = imp_cap_df['tmp_alt_start_time']"
   ]
  },
  {
   "cell_type": "code",
   "execution_count": 129,
   "metadata": {},
   "outputs": [
    {
     "data": {
      "text/html": [
       "<div>\n",
       "<style>\n",
       "    .dataframe thead tr:only-child th {\n",
       "        text-align: right;\n",
       "    }\n",
       "\n",
       "    .dataframe thead th {\n",
       "        text-align: left;\n",
       "    }\n",
       "\n",
       "    .dataframe tbody tr th {\n",
       "        vertical-align: top;\n",
       "    }\n",
       "</style>\n",
       "<table border=\"1\" class=\"dataframe\">\n",
       "  <thead>\n",
       "    <tr style=\"text-align: right;\">\n",
       "      <th></th>\n",
       "      <th>date</th>\n",
       "      <th>user_trip_id</th>\n",
       "      <th>cardNum</th>\n",
       "      <th>birthdate</th>\n",
       "      <th>gender</th>\n",
       "      <th>exec_start_time</th>\n",
       "      <th>executed_duration</th>\n",
       "      <th>itinerary_id</th>\n",
       "      <th>duration</th>\n",
       "      <th>alt_start_time</th>\n",
       "      <th>imp_capacity</th>\n",
       "      <th>duration_val_check</th>\n",
       "      <th>tmp_duration</th>\n",
       "      <th>tmp_alt_start_time</th>\n",
       "    </tr>\n",
       "  </thead>\n",
       "  <tbody>\n",
       "    <tr>\n",
       "      <th>0</th>\n",
       "      <td>2017-05-01</td>\n",
       "      <td>652835029003</td>\n",
       "      <td>2252514</td>\n",
       "      <td>16/12/89</td>\n",
       "      <td>M</td>\n",
       "      <td>2017-05-01 12:33:56</td>\n",
       "      <td>50.933333</td>\n",
       "      <td>1</td>\n",
       "      <td>12.1</td>\n",
       "      <td>2017-05-01 12:31:56</td>\n",
       "      <td>38.833333</td>\n",
       "      <td>True</td>\n",
       "      <td>12.1</td>\n",
       "      <td>2017-05-01 12:31:56</td>\n",
       "    </tr>\n",
       "    <tr>\n",
       "      <th>1</th>\n",
       "      <td>2017-06-26</td>\n",
       "      <td>8589934627</td>\n",
       "      <td>1713404</td>\n",
       "      <td>NaN</td>\n",
       "      <td>NaN</td>\n",
       "      <td>2017-06-26 08:07:59</td>\n",
       "      <td>399.833333</td>\n",
       "      <td>0</td>\n",
       "      <td>399.8333333333333</td>\n",
       "      <td>2017-06-26 08:07:59</td>\n",
       "      <td>NaN</td>\n",
       "      <td>False</td>\n",
       "      <td>399.8333333333333</td>\n",
       "      <td>2017-06-26 08:07:59</td>\n",
       "    </tr>\n",
       "    <tr>\n",
       "      <th>2</th>\n",
       "      <td>2017-06-26</td>\n",
       "      <td>17179869424</td>\n",
       "      <td>3200375</td>\n",
       "      <td>NaN</td>\n",
       "      <td>NaN</td>\n",
       "      <td>2017-06-26 10:04:28</td>\n",
       "      <td>113.133333</td>\n",
       "      <td>1</td>\n",
       "      <td>117.48333333333333</td>\n",
       "      <td>2017-06-26 10:06:30</td>\n",
       "      <td>-4.350000</td>\n",
       "      <td>True</td>\n",
       "      <td>117.48333333333333</td>\n",
       "      <td>2017-06-26 10:06:30</td>\n",
       "    </tr>\n",
       "    <tr>\n",
       "      <th>3</th>\n",
       "      <td>2017-06-26</td>\n",
       "      <td>17179869486</td>\n",
       "      <td>3398765</td>\n",
       "      <td>25/09/01</td>\n",
       "      <td>F</td>\n",
       "      <td>2017-06-26 09:39:39</td>\n",
       "      <td>135.733333</td>\n",
       "      <td>1</td>\n",
       "      <td>109.33333333333333</td>\n",
       "      <td>2017-06-26 09:44:25</td>\n",
       "      <td>26.400000</td>\n",
       "      <td>True</td>\n",
       "      <td>109.33333333333333</td>\n",
       "      <td>2017-06-26 09:44:25</td>\n",
       "    </tr>\n",
       "    <tr>\n",
       "      <th>4</th>\n",
       "      <td>2017-06-26</td>\n",
       "      <td>25769804066</td>\n",
       "      <td>3506093</td>\n",
       "      <td>NaN</td>\n",
       "      <td>NaN</td>\n",
       "      <td>2017-06-26 05:40:03</td>\n",
       "      <td>306.183333</td>\n",
       "      <td>1</td>\n",
       "      <td>18.966666666666665</td>\n",
       "      <td>2017-06-26 05:46:44</td>\n",
       "      <td>287.216667</td>\n",
       "      <td>True</td>\n",
       "      <td>18.966666666666665</td>\n",
       "      <td>2017-06-26 05:46:44</td>\n",
       "    </tr>\n",
       "  </tbody>\n",
       "</table>\n",
       "</div>"
      ],
      "text/plain": [
       "         date  user_trip_id  cardNum birthdate gender      exec_start_time  \\\n",
       "0  2017-05-01  652835029003  2252514  16/12/89      M  2017-05-01 12:33:56   \n",
       "1  2017-06-26    8589934627  1713404       NaN    NaN  2017-06-26 08:07:59   \n",
       "2  2017-06-26   17179869424  3200375       NaN    NaN  2017-06-26 10:04:28   \n",
       "3  2017-06-26   17179869486  3398765  25/09/01      F  2017-06-26 09:39:39   \n",
       "4  2017-06-26   25769804066  3506093       NaN    NaN  2017-06-26 05:40:03   \n",
       "\n",
       "   executed_duration  itinerary_id            duration       alt_start_time  \\\n",
       "0          50.933333             1                12.1  2017-05-01 12:31:56   \n",
       "1         399.833333             0   399.8333333333333  2017-06-26 08:07:59   \n",
       "2         113.133333             1  117.48333333333333  2017-06-26 10:06:30   \n",
       "3         135.733333             1  109.33333333333333  2017-06-26 09:44:25   \n",
       "4         306.183333             1  18.966666666666665  2017-06-26 05:46:44   \n",
       "\n",
       "   imp_capacity  duration_val_check        tmp_duration   tmp_alt_start_time  \n",
       "0     38.833333                True                12.1  2017-05-01 12:31:56  \n",
       "1           NaN               False   399.8333333333333  2017-06-26 08:07:59  \n",
       "2     -4.350000                True  117.48333333333333  2017-06-26 10:06:30  \n",
       "3     26.400000                True  109.33333333333333  2017-06-26 09:44:25  \n",
       "4    287.216667                True  18.966666666666665  2017-06-26 05:46:44  "
      ]
     },
     "execution_count": 129,
     "metadata": {},
     "output_type": "execute_result"
    }
   ],
   "source": [
    "imp_cap_df.head()"
   ]
  },
  {
   "cell_type": "code",
   "execution_count": 130,
   "metadata": {},
   "outputs": [],
   "source": [
    "imp_cap_df['duration'] = imp_cap_df['duration'].astype('float')\n",
    "imp_cap_df['imp_capacity'] = np.round(imp_cap_df['executed_duration'] - imp_cap_df['duration'], 2)"
   ]
  },
  {
   "cell_type": "code",
   "execution_count": 131,
   "metadata": {},
   "outputs": [
    {
     "data": {
      "text/html": [
       "<div>\n",
       "<style>\n",
       "    .dataframe thead tr:only-child th {\n",
       "        text-align: right;\n",
       "    }\n",
       "\n",
       "    .dataframe thead th {\n",
       "        text-align: left;\n",
       "    }\n",
       "\n",
       "    .dataframe tbody tr th {\n",
       "        vertical-align: top;\n",
       "    }\n",
       "</style>\n",
       "<table border=\"1\" class=\"dataframe\">\n",
       "  <thead>\n",
       "    <tr style=\"text-align: right;\">\n",
       "      <th></th>\n",
       "      <th>date</th>\n",
       "      <th>user_trip_id</th>\n",
       "      <th>cardNum</th>\n",
       "      <th>birthdate</th>\n",
       "      <th>gender</th>\n",
       "      <th>exec_start_time</th>\n",
       "      <th>executed_duration</th>\n",
       "      <th>itinerary_id</th>\n",
       "      <th>duration</th>\n",
       "      <th>alt_start_time</th>\n",
       "      <th>imp_capacity</th>\n",
       "      <th>duration_val_check</th>\n",
       "      <th>tmp_duration</th>\n",
       "      <th>tmp_alt_start_time</th>\n",
       "    </tr>\n",
       "  </thead>\n",
       "  <tbody>\n",
       "    <tr>\n",
       "      <th>0</th>\n",
       "      <td>2017-05-01</td>\n",
       "      <td>652835029003</td>\n",
       "      <td>2252514</td>\n",
       "      <td>16/12/89</td>\n",
       "      <td>M</td>\n",
       "      <td>2017-05-01 12:33:56</td>\n",
       "      <td>50.933333</td>\n",
       "      <td>1</td>\n",
       "      <td>12.100000</td>\n",
       "      <td>2017-05-01 12:31:56</td>\n",
       "      <td>38.83</td>\n",
       "      <td>True</td>\n",
       "      <td>12.1</td>\n",
       "      <td>2017-05-01 12:31:56</td>\n",
       "    </tr>\n",
       "    <tr>\n",
       "      <th>1</th>\n",
       "      <td>2017-06-26</td>\n",
       "      <td>8589934627</td>\n",
       "      <td>1713404</td>\n",
       "      <td>NaN</td>\n",
       "      <td>NaN</td>\n",
       "      <td>2017-06-26 08:07:59</td>\n",
       "      <td>399.833333</td>\n",
       "      <td>0</td>\n",
       "      <td>399.833333</td>\n",
       "      <td>2017-06-26 08:07:59</td>\n",
       "      <td>-0.00</td>\n",
       "      <td>False</td>\n",
       "      <td>399.8333333333333</td>\n",
       "      <td>2017-06-26 08:07:59</td>\n",
       "    </tr>\n",
       "    <tr>\n",
       "      <th>2</th>\n",
       "      <td>2017-06-26</td>\n",
       "      <td>17179869424</td>\n",
       "      <td>3200375</td>\n",
       "      <td>NaN</td>\n",
       "      <td>NaN</td>\n",
       "      <td>2017-06-26 10:04:28</td>\n",
       "      <td>113.133333</td>\n",
       "      <td>1</td>\n",
       "      <td>117.483333</td>\n",
       "      <td>2017-06-26 10:06:30</td>\n",
       "      <td>-4.35</td>\n",
       "      <td>True</td>\n",
       "      <td>117.48333333333333</td>\n",
       "      <td>2017-06-26 10:06:30</td>\n",
       "    </tr>\n",
       "    <tr>\n",
       "      <th>3</th>\n",
       "      <td>2017-06-26</td>\n",
       "      <td>17179869486</td>\n",
       "      <td>3398765</td>\n",
       "      <td>25/09/01</td>\n",
       "      <td>F</td>\n",
       "      <td>2017-06-26 09:39:39</td>\n",
       "      <td>135.733333</td>\n",
       "      <td>1</td>\n",
       "      <td>109.333333</td>\n",
       "      <td>2017-06-26 09:44:25</td>\n",
       "      <td>26.40</td>\n",
       "      <td>True</td>\n",
       "      <td>109.33333333333333</td>\n",
       "      <td>2017-06-26 09:44:25</td>\n",
       "    </tr>\n",
       "    <tr>\n",
       "      <th>4</th>\n",
       "      <td>2017-06-26</td>\n",
       "      <td>25769804066</td>\n",
       "      <td>3506093</td>\n",
       "      <td>NaN</td>\n",
       "      <td>NaN</td>\n",
       "      <td>2017-06-26 05:40:03</td>\n",
       "      <td>306.183333</td>\n",
       "      <td>1</td>\n",
       "      <td>18.966667</td>\n",
       "      <td>2017-06-26 05:46:44</td>\n",
       "      <td>287.22</td>\n",
       "      <td>True</td>\n",
       "      <td>18.966666666666665</td>\n",
       "      <td>2017-06-26 05:46:44</td>\n",
       "    </tr>\n",
       "  </tbody>\n",
       "</table>\n",
       "</div>"
      ],
      "text/plain": [
       "         date  user_trip_id  cardNum birthdate gender      exec_start_time  \\\n",
       "0  2017-05-01  652835029003  2252514  16/12/89      M  2017-05-01 12:33:56   \n",
       "1  2017-06-26    8589934627  1713404       NaN    NaN  2017-06-26 08:07:59   \n",
       "2  2017-06-26   17179869424  3200375       NaN    NaN  2017-06-26 10:04:28   \n",
       "3  2017-06-26   17179869486  3398765  25/09/01      F  2017-06-26 09:39:39   \n",
       "4  2017-06-26   25769804066  3506093       NaN    NaN  2017-06-26 05:40:03   \n",
       "\n",
       "   executed_duration  itinerary_id    duration       alt_start_time  \\\n",
       "0          50.933333             1   12.100000  2017-05-01 12:31:56   \n",
       "1         399.833333             0  399.833333  2017-06-26 08:07:59   \n",
       "2         113.133333             1  117.483333  2017-06-26 10:06:30   \n",
       "3         135.733333             1  109.333333  2017-06-26 09:44:25   \n",
       "4         306.183333             1   18.966667  2017-06-26 05:46:44   \n",
       "\n",
       "   imp_capacity  duration_val_check        tmp_duration   tmp_alt_start_time  \n",
       "0         38.83                True                12.1  2017-05-01 12:31:56  \n",
       "1         -0.00               False   399.8333333333333  2017-06-26 08:07:59  \n",
       "2         -4.35                True  117.48333333333333  2017-06-26 10:06:30  \n",
       "3         26.40                True  109.33333333333333  2017-06-26 09:44:25  \n",
       "4        287.22                True  18.966666666666665  2017-06-26 05:46:44  "
      ]
     },
     "execution_count": 131,
     "metadata": {},
     "output_type": "execute_result"
    }
   ],
   "source": [
    "imp_cap_df.head()"
   ]
  },
  {
   "cell_type": "code",
   "execution_count": 132,
   "metadata": {
    "collapsed": true
   },
   "outputs": [],
   "source": [
    "imp_cap_df['lower_than_0'] = imp_cap_df['imp_capacity'] < 0"
   ]
  },
  {
   "cell_type": "code",
   "execution_count": 133,
   "metadata": {},
   "outputs": [
    {
     "data": {
      "text/html": [
       "<div>\n",
       "<style>\n",
       "    .dataframe thead tr:only-child th {\n",
       "        text-align: right;\n",
       "    }\n",
       "\n",
       "    .dataframe thead th {\n",
       "        text-align: left;\n",
       "    }\n",
       "\n",
       "    .dataframe tbody tr th {\n",
       "        vertical-align: top;\n",
       "    }\n",
       "</style>\n",
       "<table border=\"1\" class=\"dataframe\">\n",
       "  <thead>\n",
       "    <tr style=\"text-align: right;\">\n",
       "      <th></th>\n",
       "      <th>date</th>\n",
       "      <th>user_trip_id</th>\n",
       "      <th>cardNum</th>\n",
       "      <th>birthdate</th>\n",
       "      <th>gender</th>\n",
       "      <th>exec_start_time</th>\n",
       "      <th>executed_duration</th>\n",
       "      <th>itinerary_id</th>\n",
       "      <th>duration</th>\n",
       "      <th>alt_start_time</th>\n",
       "      <th>imp_capacity</th>\n",
       "      <th>duration_val_check</th>\n",
       "      <th>tmp_duration</th>\n",
       "      <th>tmp_alt_start_time</th>\n",
       "      <th>lower_than_0</th>\n",
       "    </tr>\n",
       "  </thead>\n",
       "  <tbody>\n",
       "    <tr>\n",
       "      <th>0</th>\n",
       "      <td>2017-05-01</td>\n",
       "      <td>652835029003</td>\n",
       "      <td>2252514</td>\n",
       "      <td>16/12/89</td>\n",
       "      <td>M</td>\n",
       "      <td>2017-05-01 12:33:56</td>\n",
       "      <td>50.933333</td>\n",
       "      <td>1</td>\n",
       "      <td>12.100000</td>\n",
       "      <td>2017-05-01 12:31:56</td>\n",
       "      <td>38.83</td>\n",
       "      <td>True</td>\n",
       "      <td>12.1</td>\n",
       "      <td>2017-05-01 12:31:56</td>\n",
       "      <td>False</td>\n",
       "    </tr>\n",
       "    <tr>\n",
       "      <th>1</th>\n",
       "      <td>2017-06-26</td>\n",
       "      <td>8589934627</td>\n",
       "      <td>1713404</td>\n",
       "      <td>NaN</td>\n",
       "      <td>NaN</td>\n",
       "      <td>2017-06-26 08:07:59</td>\n",
       "      <td>399.833333</td>\n",
       "      <td>0</td>\n",
       "      <td>399.833333</td>\n",
       "      <td>2017-06-26 08:07:59</td>\n",
       "      <td>-0.00</td>\n",
       "      <td>False</td>\n",
       "      <td>399.8333333333333</td>\n",
       "      <td>2017-06-26 08:07:59</td>\n",
       "      <td>False</td>\n",
       "    </tr>\n",
       "    <tr>\n",
       "      <th>2</th>\n",
       "      <td>2017-06-26</td>\n",
       "      <td>17179869424</td>\n",
       "      <td>3200375</td>\n",
       "      <td>NaN</td>\n",
       "      <td>NaN</td>\n",
       "      <td>2017-06-26 10:04:28</td>\n",
       "      <td>113.133333</td>\n",
       "      <td>1</td>\n",
       "      <td>117.483333</td>\n",
       "      <td>2017-06-26 10:06:30</td>\n",
       "      <td>-4.35</td>\n",
       "      <td>True</td>\n",
       "      <td>117.48333333333333</td>\n",
       "      <td>2017-06-26 10:06:30</td>\n",
       "      <td>True</td>\n",
       "    </tr>\n",
       "    <tr>\n",
       "      <th>3</th>\n",
       "      <td>2017-06-26</td>\n",
       "      <td>17179869486</td>\n",
       "      <td>3398765</td>\n",
       "      <td>25/09/01</td>\n",
       "      <td>F</td>\n",
       "      <td>2017-06-26 09:39:39</td>\n",
       "      <td>135.733333</td>\n",
       "      <td>1</td>\n",
       "      <td>109.333333</td>\n",
       "      <td>2017-06-26 09:44:25</td>\n",
       "      <td>26.40</td>\n",
       "      <td>True</td>\n",
       "      <td>109.33333333333333</td>\n",
       "      <td>2017-06-26 09:44:25</td>\n",
       "      <td>False</td>\n",
       "    </tr>\n",
       "    <tr>\n",
       "      <th>4</th>\n",
       "      <td>2017-06-26</td>\n",
       "      <td>25769804066</td>\n",
       "      <td>3506093</td>\n",
       "      <td>NaN</td>\n",
       "      <td>NaN</td>\n",
       "      <td>2017-06-26 05:40:03</td>\n",
       "      <td>306.183333</td>\n",
       "      <td>1</td>\n",
       "      <td>18.966667</td>\n",
       "      <td>2017-06-26 05:46:44</td>\n",
       "      <td>287.22</td>\n",
       "      <td>True</td>\n",
       "      <td>18.966666666666665</td>\n",
       "      <td>2017-06-26 05:46:44</td>\n",
       "      <td>False</td>\n",
       "    </tr>\n",
       "    <tr>\n",
       "      <th>5</th>\n",
       "      <td>2017-06-26</td>\n",
       "      <td>42949673089</td>\n",
       "      <td>2349876</td>\n",
       "      <td>NaN</td>\n",
       "      <td>NaN</td>\n",
       "      <td>2017-06-26 07:04:08</td>\n",
       "      <td>56.183333</td>\n",
       "      <td>1</td>\n",
       "      <td>11.100000</td>\n",
       "      <td>2017-06-26 07:20:11</td>\n",
       "      <td>45.08</td>\n",
       "      <td>True</td>\n",
       "      <td>11.100000000000001</td>\n",
       "      <td>2017-06-26 07:20:11</td>\n",
       "      <td>False</td>\n",
       "    </tr>\n",
       "    <tr>\n",
       "      <th>6</th>\n",
       "      <td>2017-06-26</td>\n",
       "      <td>60129542517</td>\n",
       "      <td>3720666</td>\n",
       "      <td>NaN</td>\n",
       "      <td>NaN</td>\n",
       "      <td>2017-06-26 17:43:41</td>\n",
       "      <td>55.566667</td>\n",
       "      <td>0</td>\n",
       "      <td>55.566667</td>\n",
       "      <td>2017-06-26 17:43:41</td>\n",
       "      <td>0.00</td>\n",
       "      <td>False</td>\n",
       "      <td>55.56666666666667</td>\n",
       "      <td>2017-06-26 17:43:41</td>\n",
       "      <td>False</td>\n",
       "    </tr>\n",
       "    <tr>\n",
       "      <th>7</th>\n",
       "      <td>2017-06-26</td>\n",
       "      <td>77309411827</td>\n",
       "      <td>3855369</td>\n",
       "      <td>NaN</td>\n",
       "      <td>NaN</td>\n",
       "      <td>2017-06-26 10:30:54</td>\n",
       "      <td>54.983333</td>\n",
       "      <td>1</td>\n",
       "      <td>13.250000</td>\n",
       "      <td>2017-06-26 10:28:54</td>\n",
       "      <td>41.73</td>\n",
       "      <td>True</td>\n",
       "      <td>13.25</td>\n",
       "      <td>2017-06-26 10:28:54</td>\n",
       "      <td>False</td>\n",
       "    </tr>\n",
       "    <tr>\n",
       "      <th>8</th>\n",
       "      <td>2017-06-26</td>\n",
       "      <td>85899345982</td>\n",
       "      <td>1942614</td>\n",
       "      <td>NaN</td>\n",
       "      <td>NaN</td>\n",
       "      <td>2017-06-26 05:10:39</td>\n",
       "      <td>455.000000</td>\n",
       "      <td>0</td>\n",
       "      <td>455.000000</td>\n",
       "      <td>2017-06-26 05:10:39</td>\n",
       "      <td>0.00</td>\n",
       "      <td>False</td>\n",
       "      <td>455.0</td>\n",
       "      <td>2017-06-26 05:10:39</td>\n",
       "      <td>False</td>\n",
       "    </tr>\n",
       "    <tr>\n",
       "      <th>9</th>\n",
       "      <td>2017-06-26</td>\n",
       "      <td>94489280851</td>\n",
       "      <td>3569332</td>\n",
       "      <td>NaN</td>\n",
       "      <td>NaN</td>\n",
       "      <td>2017-06-26 07:13:17</td>\n",
       "      <td>26.850000</td>\n",
       "      <td>0</td>\n",
       "      <td>26.850000</td>\n",
       "      <td>2017-06-26 07:13:17</td>\n",
       "      <td>0.00</td>\n",
       "      <td>False</td>\n",
       "      <td>26.85</td>\n",
       "      <td>2017-06-26 07:13:17</td>\n",
       "      <td>False</td>\n",
       "    </tr>\n",
       "  </tbody>\n",
       "</table>\n",
       "</div>"
      ],
      "text/plain": [
       "         date  user_trip_id  cardNum birthdate gender      exec_start_time  \\\n",
       "0  2017-05-01  652835029003  2252514  16/12/89      M  2017-05-01 12:33:56   \n",
       "1  2017-06-26    8589934627  1713404       NaN    NaN  2017-06-26 08:07:59   \n",
       "2  2017-06-26   17179869424  3200375       NaN    NaN  2017-06-26 10:04:28   \n",
       "3  2017-06-26   17179869486  3398765  25/09/01      F  2017-06-26 09:39:39   \n",
       "4  2017-06-26   25769804066  3506093       NaN    NaN  2017-06-26 05:40:03   \n",
       "5  2017-06-26   42949673089  2349876       NaN    NaN  2017-06-26 07:04:08   \n",
       "6  2017-06-26   60129542517  3720666       NaN    NaN  2017-06-26 17:43:41   \n",
       "7  2017-06-26   77309411827  3855369       NaN    NaN  2017-06-26 10:30:54   \n",
       "8  2017-06-26   85899345982  1942614       NaN    NaN  2017-06-26 05:10:39   \n",
       "9  2017-06-26   94489280851  3569332       NaN    NaN  2017-06-26 07:13:17   \n",
       "\n",
       "   executed_duration  itinerary_id    duration       alt_start_time  \\\n",
       "0          50.933333             1   12.100000  2017-05-01 12:31:56   \n",
       "1         399.833333             0  399.833333  2017-06-26 08:07:59   \n",
       "2         113.133333             1  117.483333  2017-06-26 10:06:30   \n",
       "3         135.733333             1  109.333333  2017-06-26 09:44:25   \n",
       "4         306.183333             1   18.966667  2017-06-26 05:46:44   \n",
       "5          56.183333             1   11.100000  2017-06-26 07:20:11   \n",
       "6          55.566667             0   55.566667  2017-06-26 17:43:41   \n",
       "7          54.983333             1   13.250000  2017-06-26 10:28:54   \n",
       "8         455.000000             0  455.000000  2017-06-26 05:10:39   \n",
       "9          26.850000             0   26.850000  2017-06-26 07:13:17   \n",
       "\n",
       "   imp_capacity  duration_val_check        tmp_duration   tmp_alt_start_time  \\\n",
       "0         38.83                True                12.1  2017-05-01 12:31:56   \n",
       "1         -0.00               False   399.8333333333333  2017-06-26 08:07:59   \n",
       "2         -4.35                True  117.48333333333333  2017-06-26 10:06:30   \n",
       "3         26.40                True  109.33333333333333  2017-06-26 09:44:25   \n",
       "4        287.22                True  18.966666666666665  2017-06-26 05:46:44   \n",
       "5         45.08                True  11.100000000000001  2017-06-26 07:20:11   \n",
       "6          0.00               False   55.56666666666667  2017-06-26 17:43:41   \n",
       "7         41.73                True               13.25  2017-06-26 10:28:54   \n",
       "8          0.00               False               455.0  2017-06-26 05:10:39   \n",
       "9          0.00               False               26.85  2017-06-26 07:13:17   \n",
       "\n",
       "   lower_than_0  \n",
       "0         False  \n",
       "1         False  \n",
       "2          True  \n",
       "3         False  \n",
       "4         False  \n",
       "5         False  \n",
       "6         False  \n",
       "7         False  \n",
       "8         False  \n",
       "9         False  "
      ]
     },
     "execution_count": 133,
     "metadata": {},
     "output_type": "execute_result"
    }
   ],
   "source": [
    "imp_cap_df.head(10)"
   ]
  },
  {
   "cell_type": "code",
   "execution_count": 134,
   "metadata": {},
   "outputs": [
    {
     "name": "stdout",
     "output_type": "stream",
     "text": [
      "50442\n"
     ]
    }
   ],
   "source": [
    "print sum(imp_cap_df['lower_than_0'])"
   ]
  },
  {
   "cell_type": "code",
   "execution_count": 135,
   "metadata": {},
   "outputs": [],
   "source": [
    "imp_cap_df = imp_cap_df[np.logical_not(imp_cap_df.lower_than_0)]"
   ]
  },
  {
   "cell_type": "markdown",
   "metadata": {},
   "source": [
    "#### Computing Improvement Capacity as a Percentage to avoid value magnitude bias"
   ]
  },
  {
   "cell_type": "code",
   "execution_count": 136,
   "metadata": {
    "collapsed": true
   },
   "outputs": [],
   "source": [
    "imp_cap_df['imp_capacity_perc'] = imp_cap_df['imp_capacity'] / imp_cap_df['executed_duration']"
   ]
  },
  {
   "cell_type": "code",
   "execution_count": 137,
   "metadata": {},
   "outputs": [
    {
     "data": {
      "text/html": [
       "<div>\n",
       "<style>\n",
       "    .dataframe thead tr:only-child th {\n",
       "        text-align: right;\n",
       "    }\n",
       "\n",
       "    .dataframe thead th {\n",
       "        text-align: left;\n",
       "    }\n",
       "\n",
       "    .dataframe tbody tr th {\n",
       "        vertical-align: top;\n",
       "    }\n",
       "</style>\n",
       "<table border=\"1\" class=\"dataframe\">\n",
       "  <thead>\n",
       "    <tr style=\"text-align: right;\">\n",
       "      <th></th>\n",
       "      <th>date</th>\n",
       "      <th>user_trip_id</th>\n",
       "      <th>cardNum</th>\n",
       "      <th>birthdate</th>\n",
       "      <th>gender</th>\n",
       "      <th>exec_start_time</th>\n",
       "      <th>executed_duration</th>\n",
       "      <th>itinerary_id</th>\n",
       "      <th>duration</th>\n",
       "      <th>alt_start_time</th>\n",
       "      <th>imp_capacity</th>\n",
       "      <th>duration_val_check</th>\n",
       "      <th>tmp_duration</th>\n",
       "      <th>tmp_alt_start_time</th>\n",
       "      <th>lower_than_0</th>\n",
       "      <th>imp_capacity_perc</th>\n",
       "    </tr>\n",
       "  </thead>\n",
       "  <tbody>\n",
       "    <tr>\n",
       "      <th>0</th>\n",
       "      <td>2017-05-01</td>\n",
       "      <td>652835029003</td>\n",
       "      <td>2252514</td>\n",
       "      <td>16/12/89</td>\n",
       "      <td>M</td>\n",
       "      <td>2017-05-01 12:33:56</td>\n",
       "      <td>50.933333</td>\n",
       "      <td>1</td>\n",
       "      <td>12.100000</td>\n",
       "      <td>2017-05-01 12:31:56</td>\n",
       "      <td>38.83</td>\n",
       "      <td>True</td>\n",
       "      <td>12.1</td>\n",
       "      <td>2017-05-01 12:31:56</td>\n",
       "      <td>False</td>\n",
       "      <td>0.762369</td>\n",
       "    </tr>\n",
       "    <tr>\n",
       "      <th>1</th>\n",
       "      <td>2017-06-26</td>\n",
       "      <td>8589934627</td>\n",
       "      <td>1713404</td>\n",
       "      <td>NaN</td>\n",
       "      <td>NaN</td>\n",
       "      <td>2017-06-26 08:07:59</td>\n",
       "      <td>399.833333</td>\n",
       "      <td>0</td>\n",
       "      <td>399.833333</td>\n",
       "      <td>2017-06-26 08:07:59</td>\n",
       "      <td>-0.00</td>\n",
       "      <td>False</td>\n",
       "      <td>399.8333333333333</td>\n",
       "      <td>2017-06-26 08:07:59</td>\n",
       "      <td>False</td>\n",
       "      <td>-0.000000</td>\n",
       "    </tr>\n",
       "    <tr>\n",
       "      <th>3</th>\n",
       "      <td>2017-06-26</td>\n",
       "      <td>17179869486</td>\n",
       "      <td>3398765</td>\n",
       "      <td>25/09/01</td>\n",
       "      <td>F</td>\n",
       "      <td>2017-06-26 09:39:39</td>\n",
       "      <td>135.733333</td>\n",
       "      <td>1</td>\n",
       "      <td>109.333333</td>\n",
       "      <td>2017-06-26 09:44:25</td>\n",
       "      <td>26.40</td>\n",
       "      <td>True</td>\n",
       "      <td>109.33333333333333</td>\n",
       "      <td>2017-06-26 09:44:25</td>\n",
       "      <td>False</td>\n",
       "      <td>0.194499</td>\n",
       "    </tr>\n",
       "    <tr>\n",
       "      <th>4</th>\n",
       "      <td>2017-06-26</td>\n",
       "      <td>25769804066</td>\n",
       "      <td>3506093</td>\n",
       "      <td>NaN</td>\n",
       "      <td>NaN</td>\n",
       "      <td>2017-06-26 05:40:03</td>\n",
       "      <td>306.183333</td>\n",
       "      <td>1</td>\n",
       "      <td>18.966667</td>\n",
       "      <td>2017-06-26 05:46:44</td>\n",
       "      <td>287.22</td>\n",
       "      <td>True</td>\n",
       "      <td>18.966666666666665</td>\n",
       "      <td>2017-06-26 05:46:44</td>\n",
       "      <td>False</td>\n",
       "      <td>0.938065</td>\n",
       "    </tr>\n",
       "    <tr>\n",
       "      <th>5</th>\n",
       "      <td>2017-06-26</td>\n",
       "      <td>42949673089</td>\n",
       "      <td>2349876</td>\n",
       "      <td>NaN</td>\n",
       "      <td>NaN</td>\n",
       "      <td>2017-06-26 07:04:08</td>\n",
       "      <td>56.183333</td>\n",
       "      <td>1</td>\n",
       "      <td>11.100000</td>\n",
       "      <td>2017-06-26 07:20:11</td>\n",
       "      <td>45.08</td>\n",
       "      <td>True</td>\n",
       "      <td>11.100000000000001</td>\n",
       "      <td>2017-06-26 07:20:11</td>\n",
       "      <td>False</td>\n",
       "      <td>0.802373</td>\n",
       "    </tr>\n",
       "    <tr>\n",
       "      <th>6</th>\n",
       "      <td>2017-06-26</td>\n",
       "      <td>60129542517</td>\n",
       "      <td>3720666</td>\n",
       "      <td>NaN</td>\n",
       "      <td>NaN</td>\n",
       "      <td>2017-06-26 17:43:41</td>\n",
       "      <td>55.566667</td>\n",
       "      <td>0</td>\n",
       "      <td>55.566667</td>\n",
       "      <td>2017-06-26 17:43:41</td>\n",
       "      <td>0.00</td>\n",
       "      <td>False</td>\n",
       "      <td>55.56666666666667</td>\n",
       "      <td>2017-06-26 17:43:41</td>\n",
       "      <td>False</td>\n",
       "      <td>0.000000</td>\n",
       "    </tr>\n",
       "    <tr>\n",
       "      <th>7</th>\n",
       "      <td>2017-06-26</td>\n",
       "      <td>77309411827</td>\n",
       "      <td>3855369</td>\n",
       "      <td>NaN</td>\n",
       "      <td>NaN</td>\n",
       "      <td>2017-06-26 10:30:54</td>\n",
       "      <td>54.983333</td>\n",
       "      <td>1</td>\n",
       "      <td>13.250000</td>\n",
       "      <td>2017-06-26 10:28:54</td>\n",
       "      <td>41.73</td>\n",
       "      <td>True</td>\n",
       "      <td>13.25</td>\n",
       "      <td>2017-06-26 10:28:54</td>\n",
       "      <td>False</td>\n",
       "      <td>0.758957</td>\n",
       "    </tr>\n",
       "    <tr>\n",
       "      <th>8</th>\n",
       "      <td>2017-06-26</td>\n",
       "      <td>85899345982</td>\n",
       "      <td>1942614</td>\n",
       "      <td>NaN</td>\n",
       "      <td>NaN</td>\n",
       "      <td>2017-06-26 05:10:39</td>\n",
       "      <td>455.000000</td>\n",
       "      <td>0</td>\n",
       "      <td>455.000000</td>\n",
       "      <td>2017-06-26 05:10:39</td>\n",
       "      <td>0.00</td>\n",
       "      <td>False</td>\n",
       "      <td>455.0</td>\n",
       "      <td>2017-06-26 05:10:39</td>\n",
       "      <td>False</td>\n",
       "      <td>0.000000</td>\n",
       "    </tr>\n",
       "    <tr>\n",
       "      <th>9</th>\n",
       "      <td>2017-06-26</td>\n",
       "      <td>94489280851</td>\n",
       "      <td>3569332</td>\n",
       "      <td>NaN</td>\n",
       "      <td>NaN</td>\n",
       "      <td>2017-06-26 07:13:17</td>\n",
       "      <td>26.850000</td>\n",
       "      <td>0</td>\n",
       "      <td>26.850000</td>\n",
       "      <td>2017-06-26 07:13:17</td>\n",
       "      <td>0.00</td>\n",
       "      <td>False</td>\n",
       "      <td>26.85</td>\n",
       "      <td>2017-06-26 07:13:17</td>\n",
       "      <td>False</td>\n",
       "      <td>0.000000</td>\n",
       "    </tr>\n",
       "    <tr>\n",
       "      <th>11</th>\n",
       "      <td>2017-06-26</td>\n",
       "      <td>111669149822</td>\n",
       "      <td>2488824</td>\n",
       "      <td>NaN</td>\n",
       "      <td>NaN</td>\n",
       "      <td>2017-06-26 13:21:02</td>\n",
       "      <td>6.666667</td>\n",
       "      <td>0</td>\n",
       "      <td>6.666667</td>\n",
       "      <td>2017-06-26 13:21:02</td>\n",
       "      <td>0.00</td>\n",
       "      <td>False</td>\n",
       "      <td>6.666666666666667</td>\n",
       "      <td>2017-06-26 13:21:02</td>\n",
       "      <td>False</td>\n",
       "      <td>0.000000</td>\n",
       "    </tr>\n",
       "  </tbody>\n",
       "</table>\n",
       "</div>"
      ],
      "text/plain": [
       "          date  user_trip_id  cardNum birthdate gender      exec_start_time  \\\n",
       "0   2017-05-01  652835029003  2252514  16/12/89      M  2017-05-01 12:33:56   \n",
       "1   2017-06-26    8589934627  1713404       NaN    NaN  2017-06-26 08:07:59   \n",
       "3   2017-06-26   17179869486  3398765  25/09/01      F  2017-06-26 09:39:39   \n",
       "4   2017-06-26   25769804066  3506093       NaN    NaN  2017-06-26 05:40:03   \n",
       "5   2017-06-26   42949673089  2349876       NaN    NaN  2017-06-26 07:04:08   \n",
       "6   2017-06-26   60129542517  3720666       NaN    NaN  2017-06-26 17:43:41   \n",
       "7   2017-06-26   77309411827  3855369       NaN    NaN  2017-06-26 10:30:54   \n",
       "8   2017-06-26   85899345982  1942614       NaN    NaN  2017-06-26 05:10:39   \n",
       "9   2017-06-26   94489280851  3569332       NaN    NaN  2017-06-26 07:13:17   \n",
       "11  2017-06-26  111669149822  2488824       NaN    NaN  2017-06-26 13:21:02   \n",
       "\n",
       "    executed_duration  itinerary_id    duration       alt_start_time  \\\n",
       "0           50.933333             1   12.100000  2017-05-01 12:31:56   \n",
       "1          399.833333             0  399.833333  2017-06-26 08:07:59   \n",
       "3          135.733333             1  109.333333  2017-06-26 09:44:25   \n",
       "4          306.183333             1   18.966667  2017-06-26 05:46:44   \n",
       "5           56.183333             1   11.100000  2017-06-26 07:20:11   \n",
       "6           55.566667             0   55.566667  2017-06-26 17:43:41   \n",
       "7           54.983333             1   13.250000  2017-06-26 10:28:54   \n",
       "8          455.000000             0  455.000000  2017-06-26 05:10:39   \n",
       "9           26.850000             0   26.850000  2017-06-26 07:13:17   \n",
       "11           6.666667             0    6.666667  2017-06-26 13:21:02   \n",
       "\n",
       "    imp_capacity  duration_val_check        tmp_duration   tmp_alt_start_time  \\\n",
       "0          38.83                True                12.1  2017-05-01 12:31:56   \n",
       "1          -0.00               False   399.8333333333333  2017-06-26 08:07:59   \n",
       "3          26.40                True  109.33333333333333  2017-06-26 09:44:25   \n",
       "4         287.22                True  18.966666666666665  2017-06-26 05:46:44   \n",
       "5          45.08                True  11.100000000000001  2017-06-26 07:20:11   \n",
       "6           0.00               False   55.56666666666667  2017-06-26 17:43:41   \n",
       "7          41.73                True               13.25  2017-06-26 10:28:54   \n",
       "8           0.00               False               455.0  2017-06-26 05:10:39   \n",
       "9           0.00               False               26.85  2017-06-26 07:13:17   \n",
       "11          0.00               False   6.666666666666667  2017-06-26 13:21:02   \n",
       "\n",
       "    lower_than_0  imp_capacity_perc  \n",
       "0          False           0.762369  \n",
       "1          False          -0.000000  \n",
       "3          False           0.194499  \n",
       "4          False           0.938065  \n",
       "5          False           0.802373  \n",
       "6          False           0.000000  \n",
       "7          False           0.758957  \n",
       "8          False           0.000000  \n",
       "9          False           0.000000  \n",
       "11         False           0.000000  "
      ]
     },
     "execution_count": 137,
     "metadata": {},
     "output_type": "execute_result"
    }
   ],
   "source": [
    "imp_cap_df.head(10)"
   ]
  },
  {
   "cell_type": "markdown",
   "metadata": {},
   "source": [
    "#### Computing hour of day and period of day for each trip"
   ]
  },
  {
   "cell_type": "code",
   "execution_count": 138,
   "metadata": {},
   "outputs": [],
   "source": [
    "imp_cap_df['hour_of_day'] = pd.to_datetime(imp_cap_df['exec_start_time'], format='%Y-%m-%d %H:%M:%S').dt.hour"
   ]
  },
  {
   "cell_type": "code",
   "execution_count": 139,
   "metadata": {},
   "outputs": [
    {
     "data": {
      "text/html": [
       "<div>\n",
       "<style>\n",
       "    .dataframe thead tr:only-child th {\n",
       "        text-align: right;\n",
       "    }\n",
       "\n",
       "    .dataframe thead th {\n",
       "        text-align: left;\n",
       "    }\n",
       "\n",
       "    .dataframe tbody tr th {\n",
       "        vertical-align: top;\n",
       "    }\n",
       "</style>\n",
       "<table border=\"1\" class=\"dataframe\">\n",
       "  <thead>\n",
       "    <tr style=\"text-align: right;\">\n",
       "      <th></th>\n",
       "      <th>date</th>\n",
       "      <th>user_trip_id</th>\n",
       "      <th>cardNum</th>\n",
       "      <th>birthdate</th>\n",
       "      <th>gender</th>\n",
       "      <th>exec_start_time</th>\n",
       "      <th>executed_duration</th>\n",
       "      <th>itinerary_id</th>\n",
       "      <th>duration</th>\n",
       "      <th>alt_start_time</th>\n",
       "      <th>imp_capacity</th>\n",
       "      <th>duration_val_check</th>\n",
       "      <th>tmp_duration</th>\n",
       "      <th>tmp_alt_start_time</th>\n",
       "      <th>lower_than_0</th>\n",
       "      <th>imp_capacity_perc</th>\n",
       "      <th>hour_of_day</th>\n",
       "      <th>period_of_day</th>\n",
       "    </tr>\n",
       "  </thead>\n",
       "  <tbody>\n",
       "    <tr>\n",
       "      <th>0</th>\n",
       "      <td>2017-05-01</td>\n",
       "      <td>652835029003</td>\n",
       "      <td>2252514</td>\n",
       "      <td>16/12/89</td>\n",
       "      <td>M</td>\n",
       "      <td>2017-05-01 12:33:56</td>\n",
       "      <td>50.933333</td>\n",
       "      <td>1</td>\n",
       "      <td>12.10</td>\n",
       "      <td>2017-05-01 12:31:56</td>\n",
       "      <td>38.83</td>\n",
       "      <td>True</td>\n",
       "      <td>12.1</td>\n",
       "      <td>2017-05-01 12:31:56</td>\n",
       "      <td>False</td>\n",
       "      <td>0.762369</td>\n",
       "      <td>12</td>\n",
       "      <td>midday</td>\n",
       "    </tr>\n",
       "    <tr>\n",
       "      <th>1</th>\n",
       "      <td>2017-06-26</td>\n",
       "      <td>274877907255</td>\n",
       "      <td>3513630</td>\n",
       "      <td>NaN</td>\n",
       "      <td>NaN</td>\n",
       "      <td>2017-06-26 12:54:39</td>\n",
       "      <td>136.000000</td>\n",
       "      <td>0</td>\n",
       "      <td>136.00</td>\n",
       "      <td>2017-06-26 12:54:39</td>\n",
       "      <td>0.00</td>\n",
       "      <td>False</td>\n",
       "      <td>136.0</td>\n",
       "      <td>2017-06-26 12:54:39</td>\n",
       "      <td>False</td>\n",
       "      <td>0.000000</td>\n",
       "      <td>12</td>\n",
       "      <td>midday</td>\n",
       "    </tr>\n",
       "    <tr>\n",
       "      <th>2</th>\n",
       "      <td>2017-06-26</td>\n",
       "      <td>352187318273</td>\n",
       "      <td>10008515</td>\n",
       "      <td>NaN</td>\n",
       "      <td>NaN</td>\n",
       "      <td>2017-06-26 12:14:40</td>\n",
       "      <td>50.650000</td>\n",
       "      <td>0</td>\n",
       "      <td>50.65</td>\n",
       "      <td>2017-06-26 12:14:40</td>\n",
       "      <td>0.00</td>\n",
       "      <td>False</td>\n",
       "      <td>50.65</td>\n",
       "      <td>2017-06-26 12:14:40</td>\n",
       "      <td>False</td>\n",
       "      <td>0.000000</td>\n",
       "      <td>12</td>\n",
       "      <td>midday</td>\n",
       "    </tr>\n",
       "    <tr>\n",
       "      <th>3</th>\n",
       "      <td>2017-06-26</td>\n",
       "      <td>455266533911</td>\n",
       "      <td>3856388</td>\n",
       "      <td>04/06/01</td>\n",
       "      <td>F</td>\n",
       "      <td>2017-06-26 12:25:58</td>\n",
       "      <td>33.700000</td>\n",
       "      <td>0</td>\n",
       "      <td>33.70</td>\n",
       "      <td>2017-06-26 12:25:58</td>\n",
       "      <td>0.00</td>\n",
       "      <td>False</td>\n",
       "      <td>33.7</td>\n",
       "      <td>2017-06-26 12:25:58</td>\n",
       "      <td>False</td>\n",
       "      <td>0.000000</td>\n",
       "      <td>12</td>\n",
       "      <td>midday</td>\n",
       "    </tr>\n",
       "    <tr>\n",
       "      <th>4</th>\n",
       "      <td>2017-06-26</td>\n",
       "      <td>489626271981</td>\n",
       "      <td>3243098</td>\n",
       "      <td>11/05/68</td>\n",
       "      <td>F</td>\n",
       "      <td>2017-06-26 12:20:54</td>\n",
       "      <td>31.050000</td>\n",
       "      <td>0</td>\n",
       "      <td>31.05</td>\n",
       "      <td>2017-06-26 12:20:54</td>\n",
       "      <td>0.00</td>\n",
       "      <td>False</td>\n",
       "      <td>31.05</td>\n",
       "      <td>2017-06-26 12:20:54</td>\n",
       "      <td>False</td>\n",
       "      <td>0.000000</td>\n",
       "      <td>12</td>\n",
       "      <td>midday</td>\n",
       "    </tr>\n",
       "  </tbody>\n",
       "</table>\n",
       "</div>"
      ],
      "text/plain": [
       "         date  user_trip_id   cardNum birthdate gender      exec_start_time  \\\n",
       "0  2017-05-01  652835029003   2252514  16/12/89      M  2017-05-01 12:33:56   \n",
       "1  2017-06-26  274877907255   3513630       NaN    NaN  2017-06-26 12:54:39   \n",
       "2  2017-06-26  352187318273  10008515       NaN    NaN  2017-06-26 12:14:40   \n",
       "3  2017-06-26  455266533911   3856388  04/06/01      F  2017-06-26 12:25:58   \n",
       "4  2017-06-26  489626271981   3243098  11/05/68      F  2017-06-26 12:20:54   \n",
       "\n",
       "   executed_duration  itinerary_id  duration       alt_start_time  \\\n",
       "0          50.933333             1     12.10  2017-05-01 12:31:56   \n",
       "1         136.000000             0    136.00  2017-06-26 12:54:39   \n",
       "2          50.650000             0     50.65  2017-06-26 12:14:40   \n",
       "3          33.700000             0     33.70  2017-06-26 12:25:58   \n",
       "4          31.050000             0     31.05  2017-06-26 12:20:54   \n",
       "\n",
       "   imp_capacity  duration_val_check tmp_duration   tmp_alt_start_time  \\\n",
       "0         38.83                True         12.1  2017-05-01 12:31:56   \n",
       "1          0.00               False        136.0  2017-06-26 12:54:39   \n",
       "2          0.00               False        50.65  2017-06-26 12:14:40   \n",
       "3          0.00               False         33.7  2017-06-26 12:25:58   \n",
       "4          0.00               False        31.05  2017-06-26 12:20:54   \n",
       "\n",
       "   lower_than_0  imp_capacity_perc  hour_of_day period_of_day  \n",
       "0         False           0.762369           12        midday  \n",
       "1         False           0.000000           12        midday  \n",
       "2         False           0.000000           12        midday  \n",
       "3         False           0.000000           12        midday  \n",
       "4         False           0.000000           12        midday  "
      ]
     },
     "execution_count": 139,
     "metadata": {},
     "output_type": "execute_result"
    }
   ],
   "source": [
    "period_of_day_list = [('hour_of_day', [0,1,2,3,4,5,6,7,8,9,10,11,12,13,14,15,16,17,18,19,20,21,22,23]),\n",
    "         ('period_of_day', ['very_late_night','very_late_night','very_late_night','very_late_night','early_morning','early_morning','early_morning','morning','morning','morning','morning','midday','midday','midday','afternoon','afternoon','afternoon','early_night','early_night','early_night','night','night','late_night','late_night'])]\n",
    "period_of_day_df = pd.DataFrame.from_items(period_of_day_list)\n",
    "period_of_day_df.period_of_day = period_of_day_df.period_of_day.astype('category', ordered=True)\n",
    "\n",
    "period_of_day_df\n",
    "\n",
    "imp_cap_df = imp_cap_df.merge(period_of_day_df, how='inner', on='hour_of_day')\n",
    "\n",
    "imp_cap_df.head()"
   ]
  },
  {
   "cell_type": "markdown",
   "metadata": {},
   "source": [
    "#### Computing hour of day and period of day for each trip"
   ]
  },
  {
   "cell_type": "code",
   "execution_count": 140,
   "metadata": {
    "collapsed": true
   },
   "outputs": [],
   "source": [
    "def get_trip_len_bucket(trip_duration):\n",
    "    if (trip_duration < 15):\n",
    "        return '0_15'\n",
    "    elif (trip_duration < 30):\n",
    "        return '15_30'\n",
    "    elif (trip_duration < 45):\n",
    "        return '30_45'\n",
    "    elif (trip_duration >= 45):\n",
    "        return '45+'\n",
    "    else:\n",
    "        return 'NA'\n",
    "\n",
    "\n",
    "imp_cap_df['trip_length_bucket'] = imp_cap_df['executed_duration'].apply(get_trip_len_bucket)"
   ]
  },
  {
   "cell_type": "code",
   "execution_count": 141,
   "metadata": {},
   "outputs": [
    {
     "data": {
      "text/html": [
       "<div>\n",
       "<style>\n",
       "    .dataframe thead tr:only-child th {\n",
       "        text-align: right;\n",
       "    }\n",
       "\n",
       "    .dataframe thead th {\n",
       "        text-align: left;\n",
       "    }\n",
       "\n",
       "    .dataframe tbody tr th {\n",
       "        vertical-align: top;\n",
       "    }\n",
       "</style>\n",
       "<table border=\"1\" class=\"dataframe\">\n",
       "  <thead>\n",
       "    <tr style=\"text-align: right;\">\n",
       "      <th></th>\n",
       "      <th>date</th>\n",
       "      <th>user_trip_id</th>\n",
       "      <th>cardNum</th>\n",
       "      <th>birthdate</th>\n",
       "      <th>gender</th>\n",
       "      <th>exec_start_time</th>\n",
       "      <th>executed_duration</th>\n",
       "      <th>itinerary_id</th>\n",
       "      <th>duration</th>\n",
       "      <th>alt_start_time</th>\n",
       "      <th>imp_capacity</th>\n",
       "      <th>duration_val_check</th>\n",
       "      <th>tmp_duration</th>\n",
       "      <th>tmp_alt_start_time</th>\n",
       "      <th>lower_than_0</th>\n",
       "      <th>imp_capacity_perc</th>\n",
       "      <th>hour_of_day</th>\n",
       "      <th>period_of_day</th>\n",
       "      <th>trip_length_bucket</th>\n",
       "    </tr>\n",
       "  </thead>\n",
       "  <tbody>\n",
       "    <tr>\n",
       "      <th>0</th>\n",
       "      <td>2017-05-01</td>\n",
       "      <td>652835029003</td>\n",
       "      <td>2252514</td>\n",
       "      <td>16/12/89</td>\n",
       "      <td>M</td>\n",
       "      <td>2017-05-01 12:33:56</td>\n",
       "      <td>50.933333</td>\n",
       "      <td>1</td>\n",
       "      <td>12.100000</td>\n",
       "      <td>2017-05-01 12:31:56</td>\n",
       "      <td>38.83</td>\n",
       "      <td>True</td>\n",
       "      <td>12.1</td>\n",
       "      <td>2017-05-01 12:31:56</td>\n",
       "      <td>False</td>\n",
       "      <td>0.762369</td>\n",
       "      <td>12</td>\n",
       "      <td>midday</td>\n",
       "      <td>45+</td>\n",
       "    </tr>\n",
       "    <tr>\n",
       "      <th>1</th>\n",
       "      <td>2017-06-26</td>\n",
       "      <td>274877907255</td>\n",
       "      <td>3513630</td>\n",
       "      <td>NaN</td>\n",
       "      <td>NaN</td>\n",
       "      <td>2017-06-26 12:54:39</td>\n",
       "      <td>136.000000</td>\n",
       "      <td>0</td>\n",
       "      <td>136.000000</td>\n",
       "      <td>2017-06-26 12:54:39</td>\n",
       "      <td>0.00</td>\n",
       "      <td>False</td>\n",
       "      <td>136.0</td>\n",
       "      <td>2017-06-26 12:54:39</td>\n",
       "      <td>False</td>\n",
       "      <td>0.000000</td>\n",
       "      <td>12</td>\n",
       "      <td>midday</td>\n",
       "      <td>45+</td>\n",
       "    </tr>\n",
       "    <tr>\n",
       "      <th>2</th>\n",
       "      <td>2017-06-26</td>\n",
       "      <td>352187318273</td>\n",
       "      <td>10008515</td>\n",
       "      <td>NaN</td>\n",
       "      <td>NaN</td>\n",
       "      <td>2017-06-26 12:14:40</td>\n",
       "      <td>50.650000</td>\n",
       "      <td>0</td>\n",
       "      <td>50.650000</td>\n",
       "      <td>2017-06-26 12:14:40</td>\n",
       "      <td>0.00</td>\n",
       "      <td>False</td>\n",
       "      <td>50.65</td>\n",
       "      <td>2017-06-26 12:14:40</td>\n",
       "      <td>False</td>\n",
       "      <td>0.000000</td>\n",
       "      <td>12</td>\n",
       "      <td>midday</td>\n",
       "      <td>45+</td>\n",
       "    </tr>\n",
       "    <tr>\n",
       "      <th>3</th>\n",
       "      <td>2017-06-26</td>\n",
       "      <td>455266533911</td>\n",
       "      <td>3856388</td>\n",
       "      <td>04/06/01</td>\n",
       "      <td>F</td>\n",
       "      <td>2017-06-26 12:25:58</td>\n",
       "      <td>33.700000</td>\n",
       "      <td>0</td>\n",
       "      <td>33.700000</td>\n",
       "      <td>2017-06-26 12:25:58</td>\n",
       "      <td>0.00</td>\n",
       "      <td>False</td>\n",
       "      <td>33.7</td>\n",
       "      <td>2017-06-26 12:25:58</td>\n",
       "      <td>False</td>\n",
       "      <td>0.000000</td>\n",
       "      <td>12</td>\n",
       "      <td>midday</td>\n",
       "      <td>30_45</td>\n",
       "    </tr>\n",
       "    <tr>\n",
       "      <th>4</th>\n",
       "      <td>2017-06-26</td>\n",
       "      <td>489626271981</td>\n",
       "      <td>3243098</td>\n",
       "      <td>11/05/68</td>\n",
       "      <td>F</td>\n",
       "      <td>2017-06-26 12:20:54</td>\n",
       "      <td>31.050000</td>\n",
       "      <td>0</td>\n",
       "      <td>31.050000</td>\n",
       "      <td>2017-06-26 12:20:54</td>\n",
       "      <td>0.00</td>\n",
       "      <td>False</td>\n",
       "      <td>31.05</td>\n",
       "      <td>2017-06-26 12:20:54</td>\n",
       "      <td>False</td>\n",
       "      <td>0.000000</td>\n",
       "      <td>12</td>\n",
       "      <td>midday</td>\n",
       "      <td>30_45</td>\n",
       "    </tr>\n",
       "    <tr>\n",
       "      <th>5</th>\n",
       "      <td>2017-06-26</td>\n",
       "      <td>687194767730</td>\n",
       "      <td>3740815</td>\n",
       "      <td>NaN</td>\n",
       "      <td>NaN</td>\n",
       "      <td>2017-06-26 12:11:17</td>\n",
       "      <td>70.200000</td>\n",
       "      <td>0</td>\n",
       "      <td>70.200000</td>\n",
       "      <td>2017-06-26 12:11:17</td>\n",
       "      <td>0.00</td>\n",
       "      <td>False</td>\n",
       "      <td>70.2</td>\n",
       "      <td>2017-06-26 12:11:17</td>\n",
       "      <td>False</td>\n",
       "      <td>0.000000</td>\n",
       "      <td>12</td>\n",
       "      <td>midday</td>\n",
       "      <td>45+</td>\n",
       "    </tr>\n",
       "    <tr>\n",
       "      <th>6</th>\n",
       "      <td>2017-06-26</td>\n",
       "      <td>1159641170210</td>\n",
       "      <td>3469982</td>\n",
       "      <td>NaN</td>\n",
       "      <td>NaN</td>\n",
       "      <td>2017-06-26 12:22:13</td>\n",
       "      <td>41.400000</td>\n",
       "      <td>2</td>\n",
       "      <td>13.416667</td>\n",
       "      <td>2017-06-26 12:24:36</td>\n",
       "      <td>27.98</td>\n",
       "      <td>True</td>\n",
       "      <td>13.416666666666668</td>\n",
       "      <td>2017-06-26 12:24:36</td>\n",
       "      <td>False</td>\n",
       "      <td>0.675845</td>\n",
       "      <td>12</td>\n",
       "      <td>midday</td>\n",
       "      <td>30_45</td>\n",
       "    </tr>\n",
       "    <tr>\n",
       "      <th>7</th>\n",
       "      <td>2017-07-05</td>\n",
       "      <td>399</td>\n",
       "      <td>3756182</td>\n",
       "      <td>NaN</td>\n",
       "      <td>NaN</td>\n",
       "      <td>2017-07-05 12:32:19</td>\n",
       "      <td>210.100000</td>\n",
       "      <td>0</td>\n",
       "      <td>210.100000</td>\n",
       "      <td>2017-07-05 12:32:19</td>\n",
       "      <td>0.00</td>\n",
       "      <td>False</td>\n",
       "      <td>210.1</td>\n",
       "      <td>2017-07-05 12:32:19</td>\n",
       "      <td>False</td>\n",
       "      <td>0.000000</td>\n",
       "      <td>12</td>\n",
       "      <td>midday</td>\n",
       "      <td>45+</td>\n",
       "    </tr>\n",
       "    <tr>\n",
       "      <th>8</th>\n",
       "      <td>2017-07-05</td>\n",
       "      <td>17179869427</td>\n",
       "      <td>3202700</td>\n",
       "      <td>NaN</td>\n",
       "      <td>NaN</td>\n",
       "      <td>2017-07-05 12:54:54</td>\n",
       "      <td>159.050000</td>\n",
       "      <td>0</td>\n",
       "      <td>159.050000</td>\n",
       "      <td>2017-07-05 12:54:54</td>\n",
       "      <td>0.00</td>\n",
       "      <td>False</td>\n",
       "      <td>159.05</td>\n",
       "      <td>2017-07-05 12:54:54</td>\n",
       "      <td>False</td>\n",
       "      <td>0.000000</td>\n",
       "      <td>12</td>\n",
       "      <td>midday</td>\n",
       "      <td>45+</td>\n",
       "    </tr>\n",
       "    <tr>\n",
       "      <th>9</th>\n",
       "      <td>2017-07-05</td>\n",
       "      <td>94489280786</td>\n",
       "      <td>3453305</td>\n",
       "      <td>NaN</td>\n",
       "      <td>NaN</td>\n",
       "      <td>2017-07-05 12:10:56</td>\n",
       "      <td>12.050000</td>\n",
       "      <td>0</td>\n",
       "      <td>12.050000</td>\n",
       "      <td>2017-07-05 12:10:56</td>\n",
       "      <td>0.00</td>\n",
       "      <td>False</td>\n",
       "      <td>12.05</td>\n",
       "      <td>2017-07-05 12:10:56</td>\n",
       "      <td>False</td>\n",
       "      <td>0.000000</td>\n",
       "      <td>12</td>\n",
       "      <td>midday</td>\n",
       "      <td>0_15</td>\n",
       "    </tr>\n",
       "  </tbody>\n",
       "</table>\n",
       "</div>"
      ],
      "text/plain": [
       "         date   user_trip_id   cardNum birthdate gender      exec_start_time  \\\n",
       "0  2017-05-01   652835029003   2252514  16/12/89      M  2017-05-01 12:33:56   \n",
       "1  2017-06-26   274877907255   3513630       NaN    NaN  2017-06-26 12:54:39   \n",
       "2  2017-06-26   352187318273  10008515       NaN    NaN  2017-06-26 12:14:40   \n",
       "3  2017-06-26   455266533911   3856388  04/06/01      F  2017-06-26 12:25:58   \n",
       "4  2017-06-26   489626271981   3243098  11/05/68      F  2017-06-26 12:20:54   \n",
       "5  2017-06-26   687194767730   3740815       NaN    NaN  2017-06-26 12:11:17   \n",
       "6  2017-06-26  1159641170210   3469982       NaN    NaN  2017-06-26 12:22:13   \n",
       "7  2017-07-05            399   3756182       NaN    NaN  2017-07-05 12:32:19   \n",
       "8  2017-07-05    17179869427   3202700       NaN    NaN  2017-07-05 12:54:54   \n",
       "9  2017-07-05    94489280786   3453305       NaN    NaN  2017-07-05 12:10:56   \n",
       "\n",
       "   executed_duration  itinerary_id    duration       alt_start_time  \\\n",
       "0          50.933333             1   12.100000  2017-05-01 12:31:56   \n",
       "1         136.000000             0  136.000000  2017-06-26 12:54:39   \n",
       "2          50.650000             0   50.650000  2017-06-26 12:14:40   \n",
       "3          33.700000             0   33.700000  2017-06-26 12:25:58   \n",
       "4          31.050000             0   31.050000  2017-06-26 12:20:54   \n",
       "5          70.200000             0   70.200000  2017-06-26 12:11:17   \n",
       "6          41.400000             2   13.416667  2017-06-26 12:24:36   \n",
       "7         210.100000             0  210.100000  2017-07-05 12:32:19   \n",
       "8         159.050000             0  159.050000  2017-07-05 12:54:54   \n",
       "9          12.050000             0   12.050000  2017-07-05 12:10:56   \n",
       "\n",
       "   imp_capacity  duration_val_check        tmp_duration   tmp_alt_start_time  \\\n",
       "0         38.83                True                12.1  2017-05-01 12:31:56   \n",
       "1          0.00               False               136.0  2017-06-26 12:54:39   \n",
       "2          0.00               False               50.65  2017-06-26 12:14:40   \n",
       "3          0.00               False                33.7  2017-06-26 12:25:58   \n",
       "4          0.00               False               31.05  2017-06-26 12:20:54   \n",
       "5          0.00               False                70.2  2017-06-26 12:11:17   \n",
       "6         27.98                True  13.416666666666668  2017-06-26 12:24:36   \n",
       "7          0.00               False               210.1  2017-07-05 12:32:19   \n",
       "8          0.00               False              159.05  2017-07-05 12:54:54   \n",
       "9          0.00               False               12.05  2017-07-05 12:10:56   \n",
       "\n",
       "   lower_than_0  imp_capacity_perc  hour_of_day period_of_day  \\\n",
       "0         False           0.762369           12        midday   \n",
       "1         False           0.000000           12        midday   \n",
       "2         False           0.000000           12        midday   \n",
       "3         False           0.000000           12        midday   \n",
       "4         False           0.000000           12        midday   \n",
       "5         False           0.000000           12        midday   \n",
       "6         False           0.675845           12        midday   \n",
       "7         False           0.000000           12        midday   \n",
       "8         False           0.000000           12        midday   \n",
       "9         False           0.000000           12        midday   \n",
       "\n",
       "  trip_length_bucket  \n",
       "0                45+  \n",
       "1                45+  \n",
       "2                45+  \n",
       "3              30_45  \n",
       "4              30_45  \n",
       "5                45+  \n",
       "6              30_45  \n",
       "7                45+  \n",
       "8                45+  \n",
       "9               0_15  "
      ]
     },
     "execution_count": 141,
     "metadata": {},
     "output_type": "execute_result"
    }
   ],
   "source": [
    "imp_cap_df.head(10)"
   ]
  },
  {
   "cell_type": "markdown",
   "metadata": {},
   "source": [
    "### Analyzing Data Distribution"
   ]
  },
  {
   "cell_type": "markdown",
   "metadata": {},
   "source": [
    "### Improvement Capacity Percentage"
   ]
  },
  {
   "cell_type": "markdown",
   "metadata": {},
   "source": [
    "#### Overall"
   ]
  },
  {
   "cell_type": "code",
   "execution_count": 142,
   "metadata": {},
   "outputs": [
    {
     "data": {
      "text/plain": [
       "<matplotlib.axes._subplots.AxesSubplot at 0x7fd78a139690>"
      ]
     },
     "execution_count": 142,
     "metadata": {},
     "output_type": "execute_result"
    },
    {
     "data": {
      "image/png": "[encoded data removed]",
      "text/plain": [
       "<matplotlib.figure.Figure at 0x7fd787d19c90>"
      ]
     },
     "metadata": {},
     "output_type": "display_data"
    }
   ],
   "source": [
    "sns.kdeplot(imp_cap_df.imp_capacity_perc, shade=True)"
   ]
  },
  {
   "cell_type": "code",
   "execution_count": 143,
   "metadata": {},
   "outputs": [
    {
     "data": {
      "text/plain": [
       "count    336065.000000\n",
       "mean          0.183462\n",
       "std           0.351319\n",
       "min           0.000000\n",
       "25%           0.000000\n",
       "50%           0.000000\n",
       "75%           0.000000\n",
       "max           0.999953\n",
       "Name: imp_capacity_perc, dtype: float64"
      ]
     },
     "execution_count": 143,
     "metadata": {},
     "output_type": "execute_result"
    }
   ],
   "source": [
    "imp_cap_df.imp_capacity_perc.describe()"
   ]
  },
  {
   "cell_type": "markdown",
   "metadata": {},
   "source": [
    "#### Removing outliers (lower/higher 5%)"
   ]
  },
  {
   "cell_type": "code",
   "execution_count": 144,
   "metadata": {},
   "outputs": [
    {
     "name": "stdout",
     "output_type": "stream",
     "text": [
      "0.0 0.973324393523\n"
     ]
    }
   ],
   "source": [
    "fith_perc = np.percentile(imp_cap_df.imp_capacity_perc,5)\n",
    "ninety_fith_perc = np.percentile(imp_cap_df.imp_capacity_perc,95)\n",
    "\n",
    "print fith_perc, ninety_fith_perc"
   ]
  },
  {
   "cell_type": "code",
   "execution_count": 145,
   "metadata": {
    "collapsed": true
   },
   "outputs": [],
   "source": [
    "filtered_imp_cap_df = imp_cap_df[(imp_cap_df.imp_capacity_perc > fith_perc) & (imp_cap_df.imp_capacity_perc < ninety_fith_perc)].copy()"
   ]
  },
  {
   "cell_type": "code",
   "execution_count": 146,
   "metadata": {},
   "outputs": [
    {
     "data": {
      "text/plain": [
       "<matplotlib.axes._subplots.AxesSubplot at 0x7fd784b619d0>"
      ]
     },
     "execution_count": 146,
     "metadata": {},
     "output_type": "execute_result"
    },
    {
     "data": {
      "image/png": "[encoded data removed]",
      "text/plain": [
       "<matplotlib.figure.Figure at 0x7fd7b8abee90>"
      ]
     },
     "metadata": {},
     "output_type": "display_data"
    }
   ],
   "source": [
    "sns.kdeplot(filtered_imp_cap_df.imp_capacity_perc, shade=True)"
   ]
  },
  {
   "cell_type": "code",
   "execution_count": 147,
   "metadata": {},
   "outputs": [
    {
     "data": {
      "text/plain": [
       "count    63220.000000\n",
       "mean         0.712619\n",
       "std          0.260173\n",
       "min          0.000174\n",
       "25%          0.567513\n",
       "50%          0.801650\n",
       "75%          0.930274\n",
       "max          0.973324\n",
       "Name: imp_capacity_perc, dtype: float64"
      ]
     },
     "execution_count": 147,
     "metadata": {},
     "output_type": "execute_result"
    }
   ],
   "source": [
    "filtered_imp_cap_df.imp_capacity_perc.describe()"
   ]
  },
  {
   "cell_type": "code",
   "execution_count": 148,
   "metadata": {},
   "outputs": [
    {
     "data": {
      "text/plain": [
       "<matplotlib.axes._subplots.AxesSubplot at 0x7fd783625c50>"
      ]
     },
     "execution_count": 148,
     "metadata": {},
     "output_type": "execute_result"
    },
    {
     "data": {
      "image/png": "[encoded data removed]",
      "text/plain": [
       "<matplotlib.figure.Figure at 0x7fd78357aad0>"
      ]
     },
     "metadata": {},
     "output_type": "display_data"
    }
   ],
   "source": [
    "sns.violinplot(x=filtered_imp_cap_df.imp_capacity_perc)"
   ]
  },
  {
   "cell_type": "markdown",
   "metadata": {},
   "source": [
    "#### Per trip length "
   ]
  },
  {
   "cell_type": "code",
   "execution_count": 155,
   "metadata": {
    "scrolled": true
   },
   "outputs": [
    {
     "data": {
      "image/png": "[encoded data removed]",
      "text/plain": [
       "<matplotlib.figure.Figure at 0x7fd7823b29d0>"
      ]
     },
     "metadata": {},
     "output_type": "display_data"
    }
   ],
   "source": [
    "trip_len_order=['0_15','15_30','30_45','45+']\n",
    "ax = sns.violinplot(x='trip_length_bucket',y='imp_capacity_perc', data=filtered_imp_cap_df, order=trip_len_order)\n",
    "ax.set(xlabel='Trip Length Bucket',ylabel='Improvement Capacity Proportion',title='Improvement Capacity Proportion per Trip Length Bucket')\n",
    "plt.show()"
   ]
  },
  {
   "cell_type": "markdown",
   "metadata": {},
   "source": [
    "#### Per hour of day"
   ]
  },
  {
   "cell_type": "code",
   "execution_count": 156,
   "metadata": {
    "scrolled": true
   },
   "outputs": [
    {
     "data": {
      "image/png": "[encoded data removed]",
      "text/plain": [
       "<matplotlib.figure.Figure at 0x7fd787d1acd0>"
      ]
     },
     "metadata": {},
     "output_type": "display_data"
    }
   ],
   "source": [
    "ax = sns.violinplot(x='hour_of_day',y='imp_capacity_perc', data=filtered_imp_cap_df)\n",
    "ax.set(xlabel='Hour of Day',ylabel='Improvement Capacity Proportion',title='Improvement Capacity Proportion per Hour of Day')\n",
    "plt.show()"
   ]
  },
  {
   "cell_type": "markdown",
   "metadata": {},
   "source": [
    "#### Per period of day"
   ]
  },
  {
   "cell_type": "code",
   "execution_count": 158,
   "metadata": {
    "scrolled": true
   },
   "outputs": [
    {
     "data": {
      "image/png": "[encoded data removed]",
      "text/plain": [
       "<matplotlib.figure.Figure at 0x7fd7b4855650>"
      ]
     },
     "metadata": {},
     "output_type": "display_data"
    }
   ],
   "source": [
    "period_of_day_order = ['very_late_night','early_morning','morning','midday','afternoon','early_night','night','late_night']\n",
    "ax = sns.boxplot(x='imp_capacity_perc',y='period_of_day', data=filtered_imp_cap_df, order=period_of_day_order)\n",
    "ax.set(xlabel='Period of Day',ylabel='Improvement Capacity Proportion',title='Improvement Capacity Proportion per Period of Day')\n",
    "plt.show()"
   ]
  },
  {
   "cell_type": "markdown",
   "metadata": {},
   "source": [
    "#### Per trip length and Period of Day"
   ]
  },
  {
   "cell_type": "code",
   "execution_count": 153,
   "metadata": {},
   "outputs": [
    {
     "data": {
      "text/plain": [
       "<seaborn.axisgrid.FacetGrid at 0x7fd78a139b90>"
      ]
     },
     "execution_count": 153,
     "metadata": {},
     "output_type": "execute_result"
    },
    {
     "data": {
      "image/png": "[encoded data removed]",
      "text/plain": [
       "<matplotlib.figure.Figure at 0x7fd7828f5f10>"
      ]
     },
     "metadata": {},
     "output_type": "display_data"
    }
   ],
   "source": [
    "col_order = ['very_late_night','early_morning','morning','midday','afternoon','early_night','night','late_night']\n",
    "sns.factorplot(x='imp_capacity_perc',y='period_of_day',hue='trip_length_bucket', data=filtered_imp_cap_df, kind='bar', size=6, order=col_order)"
   ]
  },
  {
   "cell_type": "markdown",
   "metadata": {},
   "source": [
    "### Raw Improvement Capacity"
   ]
  },
  {
   "cell_type": "markdown",
   "metadata": {},
   "source": [
    "#### Overall"
   ]
  },
  {
   "cell_type": "code",
   "execution_count": 12,
   "metadata": {},
   "outputs": [
    {
     "data": {
      "text/plain": [
       "<matplotlib.axes._subplots.AxesSubplot at 0x7f0200fa8090>"
      ]
     },
     "execution_count": 12,
     "metadata": {},
     "output_type": "execute_result"
    },
    {
     "data": {
      "image/png": "[encoded data removed]",
      "text/plain": [
       "<matplotlib.figure.Figure at 0x7f0200f038d0>"
      ]
     },
     "metadata": {},
     "output_type": "display_data"
    }
   ],
   "source": [
    "sns.kdeplot(imp_cap_df.imp_capacity, shade=True)"
   ]
  },
  {
   "cell_type": "code",
   "execution_count": 13,
   "metadata": {},
   "outputs": [
    {
     "data": {
      "text/plain": [
       "count    24911.000000\n",
       "mean        61.529759\n",
       "std        153.104315\n",
       "min          0.000000\n",
       "25%          0.000000\n",
       "50%          0.000000\n",
       "75%         32.600000\n",
       "max       1139.816667\n",
       "Name: imp_capacity, dtype: float64"
      ]
     },
     "execution_count": 13,
     "metadata": {},
     "output_type": "execute_result"
    }
   ],
   "source": [
    "imp_cap_df.imp_capacity.describe()"
   ]
  },
  {
   "cell_type": "markdown",
   "metadata": {},
   "source": [
    "#### Removing outliers (lower/higher 5%)"
   ]
  },
  {
   "cell_type": "code",
   "execution_count": 14,
   "metadata": {},
   "outputs": [
    {
     "name": "stdout",
     "output_type": "stream",
     "text": [
      "0.0 400.841666667\n"
     ]
    }
   ],
   "source": [
    "fith_perc = np.percentile(imp_cap_df.imp_capacity,5)\n",
    "ninety_fith_perc = np.percentile(imp_cap_df.imp_capacity,95)\n",
    "\n",
    "print fith_perc, ninety_fith_perc"
   ]
  },
  {
   "cell_type": "code",
   "execution_count": 15,
   "metadata": {
    "collapsed": true
   },
   "outputs": [],
   "source": [
    "filtered_imp_cap_df = imp_cap_df[(imp_cap_df.imp_capacity > fith_perc) & (imp_cap_df.imp_capacity < ninety_fith_perc)].copy()"
   ]
  },
  {
   "cell_type": "code",
   "execution_count": 16,
   "metadata": {},
   "outputs": [
    {
     "data": {
      "text/plain": [
       "<matplotlib.axes._subplots.AxesSubplot at 0x7f0200d7a650>"
      ]
     },
     "execution_count": 16,
     "metadata": {},
     "output_type": "execute_result"
    },
    {
     "data": {
      "image/png": "[encoded data removed]",
      "text/plain": [
       "<matplotlib.figure.Figure at 0x7f02385b6b50>"
      ]
     },
     "metadata": {},
     "output_type": "display_data"
    }
   ],
   "source": [
    "sns.kdeplot(filtered_imp_cap_df.imp_capacity, shade=True)"
   ]
  },
  {
   "cell_type": "code",
   "execution_count": 17,
   "metadata": {},
   "outputs": [
    {
     "data": {
      "text/plain": [
       "count    9.620000e+03\n",
       "mean     7.989378e+01\n",
       "std      1.051678e+02\n",
       "min      2.220446e-16\n",
       "25%      1.051250e+01\n",
       "50%      3.480833e+01\n",
       "75%      9.509167e+01\n",
       "max      4.008333e+02\n",
       "Name: imp_capacity, dtype: float64"
      ]
     },
     "execution_count": 17,
     "metadata": {},
     "output_type": "execute_result"
    }
   ],
   "source": [
    "filtered_imp_cap_df.imp_capacity.describe()"
   ]
  },
  {
   "cell_type": "code",
   "execution_count": 18,
   "metadata": {},
   "outputs": [
    {
     "data": {
      "text/plain": [
       "<matplotlib.axes._subplots.AxesSubplot at 0x7f02004d6c90>"
      ]
     },
     "execution_count": 18,
     "metadata": {},
     "output_type": "execute_result"
    },
    {
     "data": {
      "image/png": "[encoded data removed]",
      "text/plain": [
       "<matplotlib.figure.Figure at 0x7f0200f31890>"
      ]
     },
     "metadata": {},
     "output_type": "display_data"
    }
   ],
   "source": [
    "sns.violinplot(x=filtered_imp_cap_df.imp_capacity)"
   ]
  },
  {
   "cell_type": "markdown",
   "metadata": {},
   "source": [
    "#### Per Hour of Day"
   ]
  },
  {
   "cell_type": "code",
   "execution_count": 19,
   "metadata": {
    "collapsed": true
   },
   "outputs": [],
   "source": [
    "filtered_imp_cap_df['hour_of_day'] = pd.to_datetime(filtered_imp_cap_df['o_datetime'], format='%Y-%m-%d %H:%M:%S').dt.hour"
   ]
  },
  {
   "cell_type": "code",
   "execution_count": 20,
   "metadata": {},
   "outputs": [
    {
     "data": {
      "text/html": [
       "<div>\n",
       "<style>\n",
       "    .dataframe thead tr:only-child th {\n",
       "        text-align: right;\n",
       "    }\n",
       "\n",
       "    .dataframe thead th {\n",
       "        text-align: left;\n",
       "    }\n",
       "\n",
       "    .dataframe tbody tr th {\n",
       "        vertical-align: top;\n",
       "    }\n",
       "</style>\n",
       "<table border=\"1\" class=\"dataframe\">\n",
       "  <thead>\n",
       "    <tr style=\"text-align: right;\">\n",
       "      <th></th>\n",
       "      <th>date</th>\n",
       "      <th>user_trip_id</th>\n",
       "      <th>itinerary_id</th>\n",
       "      <th>duration</th>\n",
       "      <th>o_datetime</th>\n",
       "      <th>executed_duration</th>\n",
       "      <th>imp_capacity</th>\n",
       "      <th>hour_of_day</th>\n",
       "    </tr>\n",
       "  </thead>\n",
       "  <tbody>\n",
       "    <tr>\n",
       "      <th>0</th>\n",
       "      <td>2017-06-20</td>\n",
       "      <td>120259084452</td>\n",
       "      <td>1</td>\n",
       "      <td>3.866667</td>\n",
       "      <td>2017-06-20 06:18:00</td>\n",
       "      <td>331.583333</td>\n",
       "      <td>327.716667</td>\n",
       "      <td>6</td>\n",
       "    </tr>\n",
       "    <tr>\n",
       "      <th>3</th>\n",
       "      <td>2017-06-20</td>\n",
       "      <td>721554505827</td>\n",
       "      <td>3</td>\n",
       "      <td>8.650000</td>\n",
       "      <td>2017-06-20 12:02:59</td>\n",
       "      <td>61.183333</td>\n",
       "      <td>52.533333</td>\n",
       "      <td>12</td>\n",
       "    </tr>\n",
       "    <tr>\n",
       "      <th>4</th>\n",
       "      <td>2017-06-20</td>\n",
       "      <td>747324309522</td>\n",
       "      <td>1</td>\n",
       "      <td>12.450000</td>\n",
       "      <td>2017-06-20 07:45:40</td>\n",
       "      <td>81.866667</td>\n",
       "      <td>69.416667</td>\n",
       "      <td>7</td>\n",
       "    </tr>\n",
       "    <tr>\n",
       "      <th>7</th>\n",
       "      <td>2017-06-20</td>\n",
       "      <td>1219770712204</td>\n",
       "      <td>1</td>\n",
       "      <td>12.200000</td>\n",
       "      <td>2017-06-20 17:20:58</td>\n",
       "      <td>157.116667</td>\n",
       "      <td>144.916667</td>\n",
       "      <td>17</td>\n",
       "    </tr>\n",
       "    <tr>\n",
       "      <th>8</th>\n",
       "      <td>2017-06-20</td>\n",
       "      <td>1288490188874</td>\n",
       "      <td>2</td>\n",
       "      <td>8.633333</td>\n",
       "      <td>2017-06-20 07:26:59</td>\n",
       "      <td>12.783333</td>\n",
       "      <td>4.150000</td>\n",
       "      <td>7</td>\n",
       "    </tr>\n",
       "  </tbody>\n",
       "</table>\n",
       "</div>"
      ],
      "text/plain": [
       "         date   user_trip_id  itinerary_id   duration           o_datetime  \\\n",
       "0  2017-06-20   120259084452             1   3.866667  2017-06-20 06:18:00   \n",
       "3  2017-06-20   721554505827             3   8.650000  2017-06-20 12:02:59   \n",
       "4  2017-06-20   747324309522             1  12.450000  2017-06-20 07:45:40   \n",
       "7  2017-06-20  1219770712204             1  12.200000  2017-06-20 17:20:58   \n",
       "8  2017-06-20  1288490188874             2   8.633333  2017-06-20 07:26:59   \n",
       "\n",
       "   executed_duration  imp_capacity  hour_of_day  \n",
       "0         331.583333    327.716667            6  \n",
       "3          61.183333     52.533333           12  \n",
       "4          81.866667     69.416667            7  \n",
       "7         157.116667    144.916667           17  \n",
       "8          12.783333      4.150000            7  "
      ]
     },
     "execution_count": 20,
     "metadata": {},
     "output_type": "execute_result"
    }
   ],
   "source": [
    "filtered_imp_cap_df.head()"
   ]
  },
  {
   "cell_type": "code",
   "execution_count": 21,
   "metadata": {},
   "outputs": [
    {
     "data": {
      "text/html": [
       "<div>\n",
       "<style>\n",
       "    .dataframe thead tr:only-child th {\n",
       "        text-align: right;\n",
       "    }\n",
       "\n",
       "    .dataframe thead th {\n",
       "        text-align: left;\n",
       "    }\n",
       "\n",
       "    .dataframe tbody tr th {\n",
       "        vertical-align: top;\n",
       "    }\n",
       "</style>\n",
       "<table border=\"1\" class=\"dataframe\">\n",
       "  <thead>\n",
       "    <tr style=\"text-align: right;\">\n",
       "      <th></th>\n",
       "      <th>hour_of_day</th>\n",
       "      <th>period_of_day</th>\n",
       "    </tr>\n",
       "  </thead>\n",
       "  <tbody>\n",
       "    <tr>\n",
       "      <th>0</th>\n",
       "      <td>0</td>\n",
       "      <td>very_late_night</td>\n",
       "    </tr>\n",
       "    <tr>\n",
       "      <th>1</th>\n",
       "      <td>1</td>\n",
       "      <td>very_late_night</td>\n",
       "    </tr>\n",
       "    <tr>\n",
       "      <th>2</th>\n",
       "      <td>2</td>\n",
       "      <td>very_late_night</td>\n",
       "    </tr>\n",
       "    <tr>\n",
       "      <th>3</th>\n",
       "      <td>3</td>\n",
       "      <td>very_late_night</td>\n",
       "    </tr>\n",
       "    <tr>\n",
       "      <th>4</th>\n",
       "      <td>4</td>\n",
       "      <td>early_morning</td>\n",
       "    </tr>\n",
       "    <tr>\n",
       "      <th>5</th>\n",
       "      <td>5</td>\n",
       "      <td>early_morning</td>\n",
       "    </tr>\n",
       "    <tr>\n",
       "      <th>6</th>\n",
       "      <td>6</td>\n",
       "      <td>early_morning</td>\n",
       "    </tr>\n",
       "    <tr>\n",
       "      <th>7</th>\n",
       "      <td>7</td>\n",
       "      <td>morning</td>\n",
       "    </tr>\n",
       "    <tr>\n",
       "      <th>8</th>\n",
       "      <td>8</td>\n",
       "      <td>morning</td>\n",
       "    </tr>\n",
       "    <tr>\n",
       "      <th>9</th>\n",
       "      <td>9</td>\n",
       "      <td>morning</td>\n",
       "    </tr>\n",
       "    <tr>\n",
       "      <th>10</th>\n",
       "      <td>10</td>\n",
       "      <td>morning</td>\n",
       "    </tr>\n",
       "    <tr>\n",
       "      <th>11</th>\n",
       "      <td>11</td>\n",
       "      <td>midday</td>\n",
       "    </tr>\n",
       "    <tr>\n",
       "      <th>12</th>\n",
       "      <td>12</td>\n",
       "      <td>midday</td>\n",
       "    </tr>\n",
       "    <tr>\n",
       "      <th>13</th>\n",
       "      <td>13</td>\n",
       "      <td>midday</td>\n",
       "    </tr>\n",
       "    <tr>\n",
       "      <th>14</th>\n",
       "      <td>14</td>\n",
       "      <td>afternoon</td>\n",
       "    </tr>\n",
       "    <tr>\n",
       "      <th>15</th>\n",
       "      <td>15</td>\n",
       "      <td>afternoon</td>\n",
       "    </tr>\n",
       "    <tr>\n",
       "      <th>16</th>\n",
       "      <td>16</td>\n",
       "      <td>afternoon</td>\n",
       "    </tr>\n",
       "    <tr>\n",
       "      <th>17</th>\n",
       "      <td>17</td>\n",
       "      <td>early_night</td>\n",
       "    </tr>\n",
       "    <tr>\n",
       "      <th>18</th>\n",
       "      <td>18</td>\n",
       "      <td>early_night</td>\n",
       "    </tr>\n",
       "    <tr>\n",
       "      <th>19</th>\n",
       "      <td>19</td>\n",
       "      <td>early_night</td>\n",
       "    </tr>\n",
       "    <tr>\n",
       "      <th>20</th>\n",
       "      <td>20</td>\n",
       "      <td>night</td>\n",
       "    </tr>\n",
       "    <tr>\n",
       "      <th>21</th>\n",
       "      <td>21</td>\n",
       "      <td>night</td>\n",
       "    </tr>\n",
       "    <tr>\n",
       "      <th>22</th>\n",
       "      <td>22</td>\n",
       "      <td>late_night</td>\n",
       "    </tr>\n",
       "    <tr>\n",
       "      <th>23</th>\n",
       "      <td>23</td>\n",
       "      <td>late_night</td>\n",
       "    </tr>\n",
       "  </tbody>\n",
       "</table>\n",
       "</div>"
      ],
      "text/plain": [
       "    hour_of_day    period_of_day\n",
       "0             0  very_late_night\n",
       "1             1  very_late_night\n",
       "2             2  very_late_night\n",
       "3             3  very_late_night\n",
       "4             4    early_morning\n",
       "5             5    early_morning\n",
       "6             6    early_morning\n",
       "7             7          morning\n",
       "8             8          morning\n",
       "9             9          morning\n",
       "10           10          morning\n",
       "11           11           midday\n",
       "12           12           midday\n",
       "13           13           midday\n",
       "14           14        afternoon\n",
       "15           15        afternoon\n",
       "16           16        afternoon\n",
       "17           17      early_night\n",
       "18           18      early_night\n",
       "19           19      early_night\n",
       "20           20            night\n",
       "21           21            night\n",
       "22           22       late_night\n",
       "23           23       late_night"
      ]
     },
     "execution_count": 21,
     "metadata": {},
     "output_type": "execute_result"
    }
   ],
   "source": [
    "period_of_day_list = [('hour_of_day', [0,1,2,3,4,5,6,7,8,9,10,11,12,13,14,15,16,17,18,19,20,21,22,23]),\n",
    "         ('period_of_day', ['very_late_night','very_late_night','very_late_night','very_late_night','early_morning','early_morning','early_morning','morning','morning','morning','morning','midday','midday','midday','afternoon','afternoon','afternoon','early_night','early_night','early_night','night','night','late_night','late_night'])]\n",
    "period_of_day_df = pd.DataFrame.from_items(period_of_day_list)\n",
    "period_of_day_df.period_of_day = period_of_day_df.period_of_day.astype('category', ordered=True)\n",
    "\n",
    "period_of_day_df"
   ]
  },
  {
   "cell_type": "code",
   "execution_count": 22,
   "metadata": {
    "collapsed": true
   },
   "outputs": [],
   "source": [
    "imp_period_of_day = filtered_imp_cap_df.merge(period_of_day_df, how='inner', on='hour_of_day')"
   ]
  },
  {
   "cell_type": "code",
   "execution_count": 23,
   "metadata": {},
   "outputs": [
    {
     "data": {
      "text/html": [
       "<div>\n",
       "<style>\n",
       "    .dataframe thead tr:only-child th {\n",
       "        text-align: right;\n",
       "    }\n",
       "\n",
       "    .dataframe thead th {\n",
       "        text-align: left;\n",
       "    }\n",
       "\n",
       "    .dataframe tbody tr th {\n",
       "        vertical-align: top;\n",
       "    }\n",
       "</style>\n",
       "<table border=\"1\" class=\"dataframe\">\n",
       "  <thead>\n",
       "    <tr style=\"text-align: right;\">\n",
       "      <th></th>\n",
       "      <th>date</th>\n",
       "      <th>user_trip_id</th>\n",
       "      <th>itinerary_id</th>\n",
       "      <th>duration</th>\n",
       "      <th>o_datetime</th>\n",
       "      <th>executed_duration</th>\n",
       "      <th>imp_capacity</th>\n",
       "      <th>hour_of_day</th>\n",
       "      <th>period_of_day</th>\n",
       "    </tr>\n",
       "  </thead>\n",
       "  <tbody>\n",
       "    <tr>\n",
       "      <th>0</th>\n",
       "      <td>2017-06-20</td>\n",
       "      <td>120259084452</td>\n",
       "      <td>1</td>\n",
       "      <td>3.866667</td>\n",
       "      <td>2017-06-20 06:18:00</td>\n",
       "      <td>331.583333</td>\n",
       "      <td>327.716667</td>\n",
       "      <td>6</td>\n",
       "      <td>early_morning</td>\n",
       "    </tr>\n",
       "    <tr>\n",
       "      <th>1</th>\n",
       "      <td>2017-06-21</td>\n",
       "      <td>60129542284</td>\n",
       "      <td>3</td>\n",
       "      <td>10.250000</td>\n",
       "      <td>2017-06-21 06:41:49</td>\n",
       "      <td>39.166667</td>\n",
       "      <td>28.916667</td>\n",
       "      <td>6</td>\n",
       "      <td>early_morning</td>\n",
       "    </tr>\n",
       "    <tr>\n",
       "      <th>2</th>\n",
       "      <td>2017-06-19</td>\n",
       "      <td>558345748595</td>\n",
       "      <td>3</td>\n",
       "      <td>13.883333</td>\n",
       "      <td>2017-06-19 06:40:06</td>\n",
       "      <td>171.683333</td>\n",
       "      <td>157.800000</td>\n",
       "      <td>6</td>\n",
       "      <td>early_morning</td>\n",
       "    </tr>\n",
       "    <tr>\n",
       "      <th>3</th>\n",
       "      <td>2017-06-19</td>\n",
       "      <td>670014898285</td>\n",
       "      <td>2</td>\n",
       "      <td>16.283333</td>\n",
       "      <td>2017-06-19 06:48:29</td>\n",
       "      <td>100.400000</td>\n",
       "      <td>84.116667</td>\n",
       "      <td>6</td>\n",
       "      <td>early_morning</td>\n",
       "    </tr>\n",
       "    <tr>\n",
       "      <th>4</th>\n",
       "      <td>2017-06-19</td>\n",
       "      <td>738734374929</td>\n",
       "      <td>2</td>\n",
       "      <td>23.300000</td>\n",
       "      <td>2017-06-19 06:02:14</td>\n",
       "      <td>55.583333</td>\n",
       "      <td>32.283333</td>\n",
       "      <td>6</td>\n",
       "      <td>early_morning</td>\n",
       "    </tr>\n",
       "  </tbody>\n",
       "</table>\n",
       "</div>"
      ],
      "text/plain": [
       "         date  user_trip_id  itinerary_id   duration           o_datetime  \\\n",
       "0  2017-06-20  120259084452             1   3.866667  2017-06-20 06:18:00   \n",
       "1  2017-06-21   60129542284             3  10.250000  2017-06-21 06:41:49   \n",
       "2  2017-06-19  558345748595             3  13.883333  2017-06-19 06:40:06   \n",
       "3  2017-06-19  670014898285             2  16.283333  2017-06-19 06:48:29   \n",
       "4  2017-06-19  738734374929             2  23.300000  2017-06-19 06:02:14   \n",
       "\n",
       "   executed_duration  imp_capacity  hour_of_day  period_of_day  \n",
       "0         331.583333    327.716667            6  early_morning  \n",
       "1          39.166667     28.916667            6  early_morning  \n",
       "2         171.683333    157.800000            6  early_morning  \n",
       "3         100.400000     84.116667            6  early_morning  \n",
       "4          55.583333     32.283333            6  early_morning  "
      ]
     },
     "execution_count": 23,
     "metadata": {},
     "output_type": "execute_result"
    }
   ],
   "source": [
    "imp_period_of_day.head()"
   ]
  },
  {
   "cell_type": "code",
   "execution_count": 24,
   "metadata": {},
   "outputs": [
    {
     "name": "stderr",
     "output_type": "stream",
     "text": [
      "/home/tarciso/anaconda2/lib/python2.7/site-packages/matplotlib/cbook/__init__.py:1843: RuntimeWarning: invalid value encountered in double_scalars\n",
      "  loval = q1 - whis * stats['iqr']\n",
      "/home/tarciso/anaconda2/lib/python2.7/site-packages/matplotlib/cbook/__init__.py:1844: RuntimeWarning: invalid value encountered in double_scalars\n",
      "  hival = q3 + whis * stats['iqr']\n"
     ]
    },
    {
     "data": {
      "text/plain": [
       "<matplotlib.axes._subplots.AxesSubplot at 0x7f0200077890>"
      ]
     },
     "execution_count": 24,
     "metadata": {},
     "output_type": "execute_result"
    },
    {
     "data": {
      "image/png": "[encoded data removed]",
      "text/plain": [
       "<matplotlib.figure.Figure at 0x7f02004ba650>"
      ]
     },
     "metadata": {},
     "output_type": "display_data"
    }
   ],
   "source": [
    "sns.boxplot(x=filtered_imp_cap_df.imp_capacity, y=filtered_imp_cap_df.hour_of_day, data=filtered_imp_cap_df, \n",
    "            whis=np.inf, orient='h')"
   ]
  },
  {
   "cell_type": "code",
   "execution_count": 25,
   "metadata": {},
   "outputs": [
    {
     "data": {
      "text/plain": [
       "<matplotlib.axes._subplots.AxesSubplot at 0x7f01f27d6f50>"
      ]
     },
     "execution_count": 25,
     "metadata": {},
     "output_type": "execute_result"
    },
    {
     "data": {
      "image/png": "[encoded data removed]",
      "text/plain": [
       "<matplotlib.figure.Figure at 0x7f02004a4910>"
      ]
     },
     "metadata": {},
     "output_type": "display_data"
    }
   ],
   "source": [
    "col_order = ['very_late_night','early_morning','morning','midday','afternoon','early_night','night','late_night']\n",
    "sns.boxplot(x=imp_period_of_day.imp_capacity, y=imp_period_of_day.period_of_day, data=imp_period_of_day,\n",
    "            order=col_order,whis=np.inf)"
   ]
  },
  {
   "cell_type": "markdown",
   "metadata": {},
   "source": [
    "#### Per Day of Week (Sun-Sat)"
   ]
  },
  {
   "cell_type": "markdown",
   "metadata": {},
   "source": [
    "#### Per Day Type (Mon,Fri,Tue-Thu,Sat-Sun)"
   ]
  },
  {
   "cell_type": "code",
   "execution_count": null,
   "metadata": {
    "collapsed": true
   },
   "outputs": [],
   "source": []
  }
 ],
 "metadata": {
  "kernelspec": {
   "display_name": "Python 2",
   "language": "python",
   "name": "python2"
  },
  "language_info": {
   "codemirror_mode": {
    "name": "ipython",
    "version": 2
   },
   "file_extension": ".py",
   "mimetype": "text/x-python",
   "name": "python",
   "nbconvert_exporter": "python",
   "pygments_lexer": "ipython2",
   "version": "2.7.14"
  }
 },
 "nbformat": 4,
 "nbformat_minor": 2
}
