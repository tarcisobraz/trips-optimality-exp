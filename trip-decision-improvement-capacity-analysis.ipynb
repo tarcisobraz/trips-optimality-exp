{
 "cells": [
  {
   "cell_type": "code",
   "execution_count": 1,
   "metadata": {},
   "outputs": [
    {
     "name": "stderr",
     "output_type": "stream",
     "text": [
      "/home/tarciso/anaconda2/lib/python2.7/site-packages/matplotlib/font_manager.py:279: UserWarning: Matplotlib is building the font cache using fc-list. This may take a moment.\n",
      "  'Matplotlib is building the font cache using fc-list. '\n"
     ]
    }
   ],
   "source": [
    "import pandas as pd\n",
    "import numpy as np\n",
    "\n",
    "#Imports to enable visualizations\n",
    "import seaborn as sns\n",
    "import matplotlib.pyplot as plt\n",
    "%matplotlib inline\n",
    "\n",
    "#Python standard libraries\n",
    "import glob, os    \n",
    "import datetime"
   ]
  },
  {
   "cell_type": "code",
   "execution_count": 2,
   "metadata": {
    "collapsed": true
   },
   "outputs": [],
   "source": [
    "#Functions\n",
    "\n",
    "def read_df_from_csv_folder(folderpath,filename_pattern):\n",
    "    result = pd.DataFrame()\n",
    "    files_to_be_read = glob.glob(os.path.join(folderpath, filename_pattern))\n",
    "    for i in xrange(len(files_to_be_read)):\n",
    "        try:\n",
    "            df = pd.read_csv(files_to_be_read[i])\n",
    "            result = result.append(df)\n",
    "        except Exception as e:\n",
    "            pass\n",
    "    return result\n"
   ]
  },
  {
   "cell_type": "markdown",
   "metadata": {},
   "source": [
    "### Read Data"
   ]
  },
  {
   "cell_type": "code",
   "execution_count": 3,
   "metadata": {
    "collapsed": true
   },
   "outputs": [],
   "source": [
    "#base_folderpath = '/local/tarciso/masters/experiments/preliminary-exp/preliminary-exp-sample-data/buste-v3a/'\n",
    "#base_folderpath = '/home/tarciso/workspace/trips-optimality-exp/data/'\n",
    "base_folderpath = '/local/tarciso/data/'"
   ]
  },
  {
   "cell_type": "markdown",
   "metadata": {},
   "source": [
    "#### Trips Improvement Capacity Data"
   ]
  },
  {
   "cell_type": "code",
   "execution_count": 4,
   "metadata": {
    "collapsed": true
   },
   "outputs": [],
   "source": [
    "#imp_cap_df = read_df_from_csv_folder(base_folderpath + '/duration_improvement_capacity/', 'part-*.csv')\n",
    "imp_cap_df = read_df_from_csv_folder(base_folderpath + '/duration_improvement_capacity/', 'part-*.csv')"
   ]
  },
  {
   "cell_type": "code",
   "execution_count": 5,
   "metadata": {},
   "outputs": [
    {
     "name": "stdout",
     "output_type": "stream",
     "text": [
      "<class 'pandas.core.frame.DataFrame'>\n",
      "Int64Index: 24911 entries, 0 to 25\n",
      "Data columns (total 7 columns):\n",
      "date                 24911 non-null object\n",
      "user_trip_id         24911 non-null int64\n",
      "itinerary_id         24911 non-null int64\n",
      "duration             24911 non-null float64\n",
      "o_datetime           24911 non-null object\n",
      "executed_duration    24911 non-null float64\n",
      "imp_capacity         24911 non-null float64\n",
      "dtypes: float64(3), int64(2), object(2)\n",
      "memory usage: 1.5+ MB\n"
     ]
    }
   ],
   "source": [
    "imp_cap_df.info()"
   ]
  },
  {
   "cell_type": "code",
   "execution_count": 6,
   "metadata": {},
   "outputs": [
    {
     "data": {
      "text/html": [
       "<div>\n",
       "<style>\n",
       "    .dataframe thead tr:only-child th {\n",
       "        text-align: right;\n",
       "    }\n",
       "\n",
       "    .dataframe thead th {\n",
       "        text-align: left;\n",
       "    }\n",
       "\n",
       "    .dataframe tbody tr th {\n",
       "        vertical-align: top;\n",
       "    }\n",
       "</style>\n",
       "<table border=\"1\" class=\"dataframe\">\n",
       "  <thead>\n",
       "    <tr style=\"text-align: right;\">\n",
       "      <th></th>\n",
       "      <th>date</th>\n",
       "      <th>user_trip_id</th>\n",
       "      <th>itinerary_id</th>\n",
       "      <th>duration</th>\n",
       "      <th>o_datetime</th>\n",
       "      <th>executed_duration</th>\n",
       "      <th>imp_capacity</th>\n",
       "    </tr>\n",
       "  </thead>\n",
       "  <tbody>\n",
       "    <tr>\n",
       "      <th>0</th>\n",
       "      <td>2017-06-20</td>\n",
       "      <td>120259084452</td>\n",
       "      <td>1</td>\n",
       "      <td>3.866667</td>\n",
       "      <td>2017-06-20 06:18:00</td>\n",
       "      <td>331.583333</td>\n",
       "      <td>327.716667</td>\n",
       "    </tr>\n",
       "    <tr>\n",
       "      <th>1</th>\n",
       "      <td>2017-06-20</td>\n",
       "      <td>420906795115</td>\n",
       "      <td>0</td>\n",
       "      <td>0.533333</td>\n",
       "      <td>2017-06-20 07:58:13</td>\n",
       "      <td>0.533333</td>\n",
       "      <td>0.000000</td>\n",
       "    </tr>\n",
       "    <tr>\n",
       "      <th>2</th>\n",
       "      <td>2017-06-20</td>\n",
       "      <td>498216206495</td>\n",
       "      <td>0</td>\n",
       "      <td>1.750000</td>\n",
       "      <td>2017-06-20 18:22:45</td>\n",
       "      <td>1.750000</td>\n",
       "      <td>0.000000</td>\n",
       "    </tr>\n",
       "    <tr>\n",
       "      <th>3</th>\n",
       "      <td>2017-06-20</td>\n",
       "      <td>721554505827</td>\n",
       "      <td>3</td>\n",
       "      <td>8.650000</td>\n",
       "      <td>2017-06-20 12:02:59</td>\n",
       "      <td>61.183333</td>\n",
       "      <td>52.533333</td>\n",
       "    </tr>\n",
       "    <tr>\n",
       "      <th>4</th>\n",
       "      <td>2017-06-20</td>\n",
       "      <td>747324309522</td>\n",
       "      <td>1</td>\n",
       "      <td>12.450000</td>\n",
       "      <td>2017-06-20 07:45:40</td>\n",
       "      <td>81.866667</td>\n",
       "      <td>69.416667</td>\n",
       "    </tr>\n",
       "  </tbody>\n",
       "</table>\n",
       "</div>"
      ],
      "text/plain": [
       "         date  user_trip_id  itinerary_id   duration           o_datetime  \\\n",
       "0  2017-06-20  120259084452             1   3.866667  2017-06-20 06:18:00   \n",
       "1  2017-06-20  420906795115             0   0.533333  2017-06-20 07:58:13   \n",
       "2  2017-06-20  498216206495             0   1.750000  2017-06-20 18:22:45   \n",
       "3  2017-06-20  721554505827             3   8.650000  2017-06-20 12:02:59   \n",
       "4  2017-06-20  747324309522             1  12.450000  2017-06-20 07:45:40   \n",
       "\n",
       "   executed_duration  imp_capacity  \n",
       "0         331.583333    327.716667  \n",
       "1           0.533333      0.000000  \n",
       "2           1.750000      0.000000  \n",
       "3          61.183333     52.533333  \n",
       "4          81.866667     69.416667  "
      ]
     },
     "execution_count": 6,
     "metadata": {},
     "output_type": "execute_result"
    }
   ],
   "source": [
    "imp_cap_df.head()"
   ]
  },
  {
   "cell_type": "code",
   "execution_count": 7,
   "metadata": {},
   "outputs": [
    {
     "data": {
      "text/plain": [
       "date                 24911\n",
       "user_trip_id         24911\n",
       "itinerary_id         24911\n",
       "duration             24911\n",
       "o_datetime           24911\n",
       "executed_duration    24911\n",
       "imp_capacity         24911\n",
       "dtype: int64"
      ]
     },
     "execution_count": 7,
     "metadata": {},
     "output_type": "execute_result"
    }
   ],
   "source": [
    "imp_cap_df.count()"
   ]
  },
  {
   "cell_type": "markdown",
   "metadata": {},
   "source": [
    "#### Trips Itinerary Data"
   ]
  },
  {
   "cell_type": "code",
   "execution_count": 8,
   "metadata": {
    "collapsed": true
   },
   "outputs": [],
   "source": [
    "#trips_itineraries = read_df_from_csv_folder(base_folderpath + '/trips_actual_itineraries/','part-*.csv')"
   ]
  },
  {
   "cell_type": "code",
   "execution_count": 9,
   "metadata": {
    "collapsed": true
   },
   "outputs": [],
   "source": [
    "#trips_itineraries.columns"
   ]
  },
  {
   "cell_type": "code",
   "execution_count": 10,
   "metadata": {
    "collapsed": true
   },
   "outputs": [],
   "source": [
    "#trips_itineraries.describe()"
   ]
  },
  {
   "cell_type": "code",
   "execution_count": 11,
   "metadata": {
    "collapsed": true,
    "scrolled": true
   },
   "outputs": [],
   "source": [
    "#trips_itineraries.head(10)"
   ]
  },
  {
   "cell_type": "markdown",
   "metadata": {},
   "source": [
    "### Preparing Data"
   ]
  },
  {
   "cell_type": "markdown",
   "metadata": {},
   "source": [
    "#### Computing Improvement Capacity as a Percentage to avoid value magnitude bias"
   ]
  },
  {
   "cell_type": "code",
   "execution_count": 41,
   "metadata": {
    "collapsed": true
   },
   "outputs": [],
   "source": [
    "imp_cap_df['imp_capacity_perc'] = imp_cap_df['imp_capacity'] / imp_cap_df['executed_duration']"
   ]
  },
  {
   "cell_type": "code",
   "execution_count": 42,
   "metadata": {},
   "outputs": [
    {
     "data": {
      "text/html": [
       "<div>\n",
       "<style>\n",
       "    .dataframe thead tr:only-child th {\n",
       "        text-align: right;\n",
       "    }\n",
       "\n",
       "    .dataframe thead th {\n",
       "        text-align: left;\n",
       "    }\n",
       "\n",
       "    .dataframe tbody tr th {\n",
       "        vertical-align: top;\n",
       "    }\n",
       "</style>\n",
       "<table border=\"1\" class=\"dataframe\">\n",
       "  <thead>\n",
       "    <tr style=\"text-align: right;\">\n",
       "      <th></th>\n",
       "      <th>date</th>\n",
       "      <th>user_trip_id</th>\n",
       "      <th>itinerary_id</th>\n",
       "      <th>duration</th>\n",
       "      <th>o_datetime</th>\n",
       "      <th>executed_duration</th>\n",
       "      <th>imp_capacity</th>\n",
       "      <th>imp_capacity_perc</th>\n",
       "      <th>hour_of_day</th>\n",
       "      <th>period_of_day</th>\n",
       "    </tr>\n",
       "  </thead>\n",
       "  <tbody>\n",
       "    <tr>\n",
       "      <th>0</th>\n",
       "      <td>2017-06-20</td>\n",
       "      <td>120259084452</td>\n",
       "      <td>1</td>\n",
       "      <td>3.866667</td>\n",
       "      <td>2017-06-20 06:18:00</td>\n",
       "      <td>331.583333</td>\n",
       "      <td>327.716667</td>\n",
       "      <td>0.988339</td>\n",
       "      <td>6</td>\n",
       "      <td>early_morning</td>\n",
       "    </tr>\n",
       "    <tr>\n",
       "      <th>1</th>\n",
       "      <td>2017-06-20</td>\n",
       "      <td>1365799600296</td>\n",
       "      <td>0</td>\n",
       "      <td>8.133333</td>\n",
       "      <td>2017-06-20 06:39:08</td>\n",
       "      <td>8.133333</td>\n",
       "      <td>0.000000</td>\n",
       "      <td>0.000000</td>\n",
       "      <td>6</td>\n",
       "      <td>early_morning</td>\n",
       "    </tr>\n",
       "    <tr>\n",
       "      <th>2</th>\n",
       "      <td>2017-06-20</td>\n",
       "      <td>1597727834226</td>\n",
       "      <td>3</td>\n",
       "      <td>10.083333</td>\n",
       "      <td>2017-06-20 06:53:59</td>\n",
       "      <td>807.100000</td>\n",
       "      <td>797.016667</td>\n",
       "      <td>0.987507</td>\n",
       "      <td>6</td>\n",
       "      <td>early_morning</td>\n",
       "    </tr>\n",
       "    <tr>\n",
       "      <th>3</th>\n",
       "      <td>2017-06-21</td>\n",
       "      <td>60129542284</td>\n",
       "      <td>3</td>\n",
       "      <td>10.250000</td>\n",
       "      <td>2017-06-21 06:41:49</td>\n",
       "      <td>39.166667</td>\n",
       "      <td>28.916667</td>\n",
       "      <td>0.738298</td>\n",
       "      <td>6</td>\n",
       "      <td>early_morning</td>\n",
       "    </tr>\n",
       "    <tr>\n",
       "      <th>4</th>\n",
       "      <td>2017-06-21</td>\n",
       "      <td>60129542292</td>\n",
       "      <td>2</td>\n",
       "      <td>29.350000</td>\n",
       "      <td>2017-06-21 06:47:10</td>\n",
       "      <td>467.050000</td>\n",
       "      <td>437.700000</td>\n",
       "      <td>0.937159</td>\n",
       "      <td>6</td>\n",
       "      <td>early_morning</td>\n",
       "    </tr>\n",
       "    <tr>\n",
       "      <th>5</th>\n",
       "      <td>2017-06-21</td>\n",
       "      <td>1271310319770</td>\n",
       "      <td>2</td>\n",
       "      <td>16.366667</td>\n",
       "      <td>2017-06-21 06:06:11</td>\n",
       "      <td>432.400000</td>\n",
       "      <td>416.033333</td>\n",
       "      <td>0.962149</td>\n",
       "      <td>6</td>\n",
       "      <td>early_morning</td>\n",
       "    </tr>\n",
       "    <tr>\n",
       "      <th>6</th>\n",
       "      <td>2017-06-21</td>\n",
       "      <td>1632087572505</td>\n",
       "      <td>0</td>\n",
       "      <td>1.250000</td>\n",
       "      <td>2017-06-21 06:15:08</td>\n",
       "      <td>1.250000</td>\n",
       "      <td>0.000000</td>\n",
       "      <td>0.000000</td>\n",
       "      <td>6</td>\n",
       "      <td>early_morning</td>\n",
       "    </tr>\n",
       "    <tr>\n",
       "      <th>7</th>\n",
       "      <td>2017-06-19</td>\n",
       "      <td>25769803855</td>\n",
       "      <td>0</td>\n",
       "      <td>379.066667</td>\n",
       "      <td>2017-06-19 06:36:33</td>\n",
       "      <td>379.066667</td>\n",
       "      <td>0.000000</td>\n",
       "      <td>0.000000</td>\n",
       "      <td>6</td>\n",
       "      <td>early_morning</td>\n",
       "    </tr>\n",
       "    <tr>\n",
       "      <th>8</th>\n",
       "      <td>2017-06-19</td>\n",
       "      <td>558345748595</td>\n",
       "      <td>3</td>\n",
       "      <td>13.883333</td>\n",
       "      <td>2017-06-19 06:40:06</td>\n",
       "      <td>171.683333</td>\n",
       "      <td>157.800000</td>\n",
       "      <td>0.919134</td>\n",
       "      <td>6</td>\n",
       "      <td>early_morning</td>\n",
       "    </tr>\n",
       "    <tr>\n",
       "      <th>9</th>\n",
       "      <td>2017-06-19</td>\n",
       "      <td>670014898285</td>\n",
       "      <td>2</td>\n",
       "      <td>16.283333</td>\n",
       "      <td>2017-06-19 06:48:29</td>\n",
       "      <td>100.400000</td>\n",
       "      <td>84.116667</td>\n",
       "      <td>0.837815</td>\n",
       "      <td>6</td>\n",
       "      <td>early_morning</td>\n",
       "    </tr>\n",
       "  </tbody>\n",
       "</table>\n",
       "</div>"
      ],
      "text/plain": [
       "         date   user_trip_id  itinerary_id    duration           o_datetime  \\\n",
       "0  2017-06-20   120259084452             1    3.866667  2017-06-20 06:18:00   \n",
       "1  2017-06-20  1365799600296             0    8.133333  2017-06-20 06:39:08   \n",
       "2  2017-06-20  1597727834226             3   10.083333  2017-06-20 06:53:59   \n",
       "3  2017-06-21    60129542284             3   10.250000  2017-06-21 06:41:49   \n",
       "4  2017-06-21    60129542292             2   29.350000  2017-06-21 06:47:10   \n",
       "5  2017-06-21  1271310319770             2   16.366667  2017-06-21 06:06:11   \n",
       "6  2017-06-21  1632087572505             0    1.250000  2017-06-21 06:15:08   \n",
       "7  2017-06-19    25769803855             0  379.066667  2017-06-19 06:36:33   \n",
       "8  2017-06-19   558345748595             3   13.883333  2017-06-19 06:40:06   \n",
       "9  2017-06-19   670014898285             2   16.283333  2017-06-19 06:48:29   \n",
       "\n",
       "   executed_duration  imp_capacity  imp_capacity_perc  hour_of_day  \\\n",
       "0         331.583333    327.716667           0.988339            6   \n",
       "1           8.133333      0.000000           0.000000            6   \n",
       "2         807.100000    797.016667           0.987507            6   \n",
       "3          39.166667     28.916667           0.738298            6   \n",
       "4         467.050000    437.700000           0.937159            6   \n",
       "5         432.400000    416.033333           0.962149            6   \n",
       "6           1.250000      0.000000           0.000000            6   \n",
       "7         379.066667      0.000000           0.000000            6   \n",
       "8         171.683333    157.800000           0.919134            6   \n",
       "9         100.400000     84.116667           0.837815            6   \n",
       "\n",
       "   period_of_day  \n",
       "0  early_morning  \n",
       "1  early_morning  \n",
       "2  early_morning  \n",
       "3  early_morning  \n",
       "4  early_morning  \n",
       "5  early_morning  \n",
       "6  early_morning  \n",
       "7  early_morning  \n",
       "8  early_morning  \n",
       "9  early_morning  "
      ]
     },
     "execution_count": 42,
     "metadata": {},
     "output_type": "execute_result"
    }
   ],
   "source": [
    "imp_cap_df.head(10)"
   ]
  },
  {
   "cell_type": "markdown",
   "metadata": {},
   "source": [
    "#### Computing hour of day and period of day for each trip"
   ]
  },
  {
   "cell_type": "code",
   "execution_count": 37,
   "metadata": {
    "collapsed": true
   },
   "outputs": [],
   "source": [
    "imp_cap_df['hour_of_day'] = pd.to_datetime(imp_cap_df['o_datetime'], format='%Y-%m-%d %H:%M:%S').dt.hour"
   ]
  },
  {
   "cell_type": "code",
   "execution_count": 40,
   "metadata": {},
   "outputs": [
    {
     "data": {
      "text/html": [
       "<div>\n",
       "<style>\n",
       "    .dataframe thead tr:only-child th {\n",
       "        text-align: right;\n",
       "    }\n",
       "\n",
       "    .dataframe thead th {\n",
       "        text-align: left;\n",
       "    }\n",
       "\n",
       "    .dataframe tbody tr th {\n",
       "        vertical-align: top;\n",
       "    }\n",
       "</style>\n",
       "<table border=\"1\" class=\"dataframe\">\n",
       "  <thead>\n",
       "    <tr style=\"text-align: right;\">\n",
       "      <th></th>\n",
       "      <th>date</th>\n",
       "      <th>user_trip_id</th>\n",
       "      <th>itinerary_id</th>\n",
       "      <th>duration</th>\n",
       "      <th>o_datetime</th>\n",
       "      <th>executed_duration</th>\n",
       "      <th>imp_capacity</th>\n",
       "      <th>imp_capacity_perc</th>\n",
       "      <th>hour_of_day</th>\n",
       "      <th>period_of_day</th>\n",
       "    </tr>\n",
       "  </thead>\n",
       "  <tbody>\n",
       "    <tr>\n",
       "      <th>0</th>\n",
       "      <td>2017-06-20</td>\n",
       "      <td>120259084452</td>\n",
       "      <td>1</td>\n",
       "      <td>3.866667</td>\n",
       "      <td>2017-06-20 06:18:00</td>\n",
       "      <td>331.583333</td>\n",
       "      <td>327.716667</td>\n",
       "      <td>0.988339</td>\n",
       "      <td>6</td>\n",
       "      <td>early_morning</td>\n",
       "    </tr>\n",
       "    <tr>\n",
       "      <th>1</th>\n",
       "      <td>2017-06-20</td>\n",
       "      <td>1365799600296</td>\n",
       "      <td>0</td>\n",
       "      <td>8.133333</td>\n",
       "      <td>2017-06-20 06:39:08</td>\n",
       "      <td>8.133333</td>\n",
       "      <td>0.000000</td>\n",
       "      <td>0.000000</td>\n",
       "      <td>6</td>\n",
       "      <td>early_morning</td>\n",
       "    </tr>\n",
       "    <tr>\n",
       "      <th>2</th>\n",
       "      <td>2017-06-20</td>\n",
       "      <td>1597727834226</td>\n",
       "      <td>3</td>\n",
       "      <td>10.083333</td>\n",
       "      <td>2017-06-20 06:53:59</td>\n",
       "      <td>807.100000</td>\n",
       "      <td>797.016667</td>\n",
       "      <td>0.987507</td>\n",
       "      <td>6</td>\n",
       "      <td>early_morning</td>\n",
       "    </tr>\n",
       "    <tr>\n",
       "      <th>3</th>\n",
       "      <td>2017-06-21</td>\n",
       "      <td>60129542284</td>\n",
       "      <td>3</td>\n",
       "      <td>10.250000</td>\n",
       "      <td>2017-06-21 06:41:49</td>\n",
       "      <td>39.166667</td>\n",
       "      <td>28.916667</td>\n",
       "      <td>0.738298</td>\n",
       "      <td>6</td>\n",
       "      <td>early_morning</td>\n",
       "    </tr>\n",
       "    <tr>\n",
       "      <th>4</th>\n",
       "      <td>2017-06-21</td>\n",
       "      <td>60129542292</td>\n",
       "      <td>2</td>\n",
       "      <td>29.350000</td>\n",
       "      <td>2017-06-21 06:47:10</td>\n",
       "      <td>467.050000</td>\n",
       "      <td>437.700000</td>\n",
       "      <td>0.937159</td>\n",
       "      <td>6</td>\n",
       "      <td>early_morning</td>\n",
       "    </tr>\n",
       "  </tbody>\n",
       "</table>\n",
       "</div>"
      ],
      "text/plain": [
       "         date   user_trip_id  itinerary_id   duration           o_datetime  \\\n",
       "0  2017-06-20   120259084452             1   3.866667  2017-06-20 06:18:00   \n",
       "1  2017-06-20  1365799600296             0   8.133333  2017-06-20 06:39:08   \n",
       "2  2017-06-20  1597727834226             3  10.083333  2017-06-20 06:53:59   \n",
       "3  2017-06-21    60129542284             3  10.250000  2017-06-21 06:41:49   \n",
       "4  2017-06-21    60129542292             2  29.350000  2017-06-21 06:47:10   \n",
       "\n",
       "   executed_duration  imp_capacity  imp_capacity_perc  hour_of_day  \\\n",
       "0         331.583333    327.716667           0.988339            6   \n",
       "1           8.133333      0.000000           0.000000            6   \n",
       "2         807.100000    797.016667           0.987507            6   \n",
       "3          39.166667     28.916667           0.738298            6   \n",
       "4         467.050000    437.700000           0.937159            6   \n",
       "\n",
       "   period_of_day  \n",
       "0  early_morning  \n",
       "1  early_morning  \n",
       "2  early_morning  \n",
       "3  early_morning  \n",
       "4  early_morning  "
      ]
     },
     "execution_count": 40,
     "metadata": {},
     "output_type": "execute_result"
    }
   ],
   "source": [
    "period_of_day_list = [('hour_of_day', [0,1,2,3,4,5,6,7,8,9,10,11,12,13,14,15,16,17,18,19,20,21,22,23]),\n",
    "         ('period_of_day', ['very_late_night','very_late_night','very_late_night','very_late_night','early_morning','early_morning','early_morning','morning','morning','morning','morning','midday','midday','midday','afternoon','afternoon','afternoon','early_night','early_night','early_night','night','night','late_night','late_night'])]\n",
    "period_of_day_df = pd.DataFrame.from_items(period_of_day_list)\n",
    "period_of_day_df.period_of_day = period_of_day_df.period_of_day.astype('category', ordered=True)\n",
    "\n",
    "period_of_day_df\n",
    "\n",
    "imp_cap_df = imp_cap_df.merge(period_of_day_df, how='inner', on='hour_of_day')\n",
    "\n",
    "imp_cap_df.head()"
   ]
  },
  {
   "cell_type": "markdown",
   "metadata": {},
   "source": [
    "#### Computing hour of day and period of day for each trip"
   ]
  },
  {
   "cell_type": "code",
   "execution_count": 64,
   "metadata": {},
   "outputs": [],
   "source": [
    "def get_trip_len_bucket(trip_duration):\n",
    "    if (trip_duration < 15):\n",
    "        return '0_15'\n",
    "    elif (trip_duration < 30):\n",
    "        return '15_30'\n",
    "    elif (trip_duration < 45):\n",
    "        return '30_45'\n",
    "    else:\n",
    "        return '45+'\n",
    "\n",
    "\n",
    "imp_cap_df['trip_length_bucket'] = imp_cap_df['executed_duration'].apply(get_trip_len_bucket)"
   ]
  },
  {
   "cell_type": "code",
   "execution_count": 65,
   "metadata": {},
   "outputs": [
    {
     "data": {
      "text/html": [
       "<div>\n",
       "<style>\n",
       "    .dataframe thead tr:only-child th {\n",
       "        text-align: right;\n",
       "    }\n",
       "\n",
       "    .dataframe thead th {\n",
       "        text-align: left;\n",
       "    }\n",
       "\n",
       "    .dataframe tbody tr th {\n",
       "        vertical-align: top;\n",
       "    }\n",
       "</style>\n",
       "<table border=\"1\" class=\"dataframe\">\n",
       "  <thead>\n",
       "    <tr style=\"text-align: right;\">\n",
       "      <th></th>\n",
       "      <th>date</th>\n",
       "      <th>user_trip_id</th>\n",
       "      <th>itinerary_id</th>\n",
       "      <th>duration</th>\n",
       "      <th>o_datetime</th>\n",
       "      <th>executed_duration</th>\n",
       "      <th>imp_capacity</th>\n",
       "      <th>imp_capacity_perc</th>\n",
       "      <th>hour_of_day</th>\n",
       "      <th>period_of_day</th>\n",
       "      <th>trip_length_bucket</th>\n",
       "    </tr>\n",
       "  </thead>\n",
       "  <tbody>\n",
       "    <tr>\n",
       "      <th>0</th>\n",
       "      <td>2017-06-20</td>\n",
       "      <td>120259084452</td>\n",
       "      <td>1</td>\n",
       "      <td>3.866667</td>\n",
       "      <td>2017-06-20 06:18:00</td>\n",
       "      <td>331.583333</td>\n",
       "      <td>327.716667</td>\n",
       "      <td>0.988339</td>\n",
       "      <td>6</td>\n",
       "      <td>early_morning</td>\n",
       "      <td>45+</td>\n",
       "    </tr>\n",
       "    <tr>\n",
       "      <th>1</th>\n",
       "      <td>2017-06-20</td>\n",
       "      <td>1365799600296</td>\n",
       "      <td>0</td>\n",
       "      <td>8.133333</td>\n",
       "      <td>2017-06-20 06:39:08</td>\n",
       "      <td>8.133333</td>\n",
       "      <td>0.000000</td>\n",
       "      <td>0.000000</td>\n",
       "      <td>6</td>\n",
       "      <td>early_morning</td>\n",
       "      <td>0_15</td>\n",
       "    </tr>\n",
       "    <tr>\n",
       "      <th>2</th>\n",
       "      <td>2017-06-20</td>\n",
       "      <td>1597727834226</td>\n",
       "      <td>3</td>\n",
       "      <td>10.083333</td>\n",
       "      <td>2017-06-20 06:53:59</td>\n",
       "      <td>807.100000</td>\n",
       "      <td>797.016667</td>\n",
       "      <td>0.987507</td>\n",
       "      <td>6</td>\n",
       "      <td>early_morning</td>\n",
       "      <td>45+</td>\n",
       "    </tr>\n",
       "    <tr>\n",
       "      <th>3</th>\n",
       "      <td>2017-06-21</td>\n",
       "      <td>60129542284</td>\n",
       "      <td>3</td>\n",
       "      <td>10.250000</td>\n",
       "      <td>2017-06-21 06:41:49</td>\n",
       "      <td>39.166667</td>\n",
       "      <td>28.916667</td>\n",
       "      <td>0.738298</td>\n",
       "      <td>6</td>\n",
       "      <td>early_morning</td>\n",
       "      <td>30_45</td>\n",
       "    </tr>\n",
       "    <tr>\n",
       "      <th>4</th>\n",
       "      <td>2017-06-21</td>\n",
       "      <td>60129542292</td>\n",
       "      <td>2</td>\n",
       "      <td>29.350000</td>\n",
       "      <td>2017-06-21 06:47:10</td>\n",
       "      <td>467.050000</td>\n",
       "      <td>437.700000</td>\n",
       "      <td>0.937159</td>\n",
       "      <td>6</td>\n",
       "      <td>early_morning</td>\n",
       "      <td>45+</td>\n",
       "    </tr>\n",
       "    <tr>\n",
       "      <th>5</th>\n",
       "      <td>2017-06-21</td>\n",
       "      <td>1271310319770</td>\n",
       "      <td>2</td>\n",
       "      <td>16.366667</td>\n",
       "      <td>2017-06-21 06:06:11</td>\n",
       "      <td>432.400000</td>\n",
       "      <td>416.033333</td>\n",
       "      <td>0.962149</td>\n",
       "      <td>6</td>\n",
       "      <td>early_morning</td>\n",
       "      <td>45+</td>\n",
       "    </tr>\n",
       "    <tr>\n",
       "      <th>6</th>\n",
       "      <td>2017-06-21</td>\n",
       "      <td>1632087572505</td>\n",
       "      <td>0</td>\n",
       "      <td>1.250000</td>\n",
       "      <td>2017-06-21 06:15:08</td>\n",
       "      <td>1.250000</td>\n",
       "      <td>0.000000</td>\n",
       "      <td>0.000000</td>\n",
       "      <td>6</td>\n",
       "      <td>early_morning</td>\n",
       "      <td>0_15</td>\n",
       "    </tr>\n",
       "    <tr>\n",
       "      <th>7</th>\n",
       "      <td>2017-06-19</td>\n",
       "      <td>25769803855</td>\n",
       "      <td>0</td>\n",
       "      <td>379.066667</td>\n",
       "      <td>2017-06-19 06:36:33</td>\n",
       "      <td>379.066667</td>\n",
       "      <td>0.000000</td>\n",
       "      <td>0.000000</td>\n",
       "      <td>6</td>\n",
       "      <td>early_morning</td>\n",
       "      <td>45+</td>\n",
       "    </tr>\n",
       "    <tr>\n",
       "      <th>8</th>\n",
       "      <td>2017-06-19</td>\n",
       "      <td>558345748595</td>\n",
       "      <td>3</td>\n",
       "      <td>13.883333</td>\n",
       "      <td>2017-06-19 06:40:06</td>\n",
       "      <td>171.683333</td>\n",
       "      <td>157.800000</td>\n",
       "      <td>0.919134</td>\n",
       "      <td>6</td>\n",
       "      <td>early_morning</td>\n",
       "      <td>45+</td>\n",
       "    </tr>\n",
       "    <tr>\n",
       "      <th>9</th>\n",
       "      <td>2017-06-19</td>\n",
       "      <td>670014898285</td>\n",
       "      <td>2</td>\n",
       "      <td>16.283333</td>\n",
       "      <td>2017-06-19 06:48:29</td>\n",
       "      <td>100.400000</td>\n",
       "      <td>84.116667</td>\n",
       "      <td>0.837815</td>\n",
       "      <td>6</td>\n",
       "      <td>early_morning</td>\n",
       "      <td>45+</td>\n",
       "    </tr>\n",
       "  </tbody>\n",
       "</table>\n",
       "</div>"
      ],
      "text/plain": [
       "         date   user_trip_id  itinerary_id    duration           o_datetime  \\\n",
       "0  2017-06-20   120259084452             1    3.866667  2017-06-20 06:18:00   \n",
       "1  2017-06-20  1365799600296             0    8.133333  2017-06-20 06:39:08   \n",
       "2  2017-06-20  1597727834226             3   10.083333  2017-06-20 06:53:59   \n",
       "3  2017-06-21    60129542284             3   10.250000  2017-06-21 06:41:49   \n",
       "4  2017-06-21    60129542292             2   29.350000  2017-06-21 06:47:10   \n",
       "5  2017-06-21  1271310319770             2   16.366667  2017-06-21 06:06:11   \n",
       "6  2017-06-21  1632087572505             0    1.250000  2017-06-21 06:15:08   \n",
       "7  2017-06-19    25769803855             0  379.066667  2017-06-19 06:36:33   \n",
       "8  2017-06-19   558345748595             3   13.883333  2017-06-19 06:40:06   \n",
       "9  2017-06-19   670014898285             2   16.283333  2017-06-19 06:48:29   \n",
       "\n",
       "   executed_duration  imp_capacity  imp_capacity_perc  hour_of_day  \\\n",
       "0         331.583333    327.716667           0.988339            6   \n",
       "1           8.133333      0.000000           0.000000            6   \n",
       "2         807.100000    797.016667           0.987507            6   \n",
       "3          39.166667     28.916667           0.738298            6   \n",
       "4         467.050000    437.700000           0.937159            6   \n",
       "5         432.400000    416.033333           0.962149            6   \n",
       "6           1.250000      0.000000           0.000000            6   \n",
       "7         379.066667      0.000000           0.000000            6   \n",
       "8         171.683333    157.800000           0.919134            6   \n",
       "9         100.400000     84.116667           0.837815            6   \n",
       "\n",
       "   period_of_day trip_length_bucket  \n",
       "0  early_morning                45+  \n",
       "1  early_morning               0_15  \n",
       "2  early_morning                45+  \n",
       "3  early_morning              30_45  \n",
       "4  early_morning                45+  \n",
       "5  early_morning                45+  \n",
       "6  early_morning               0_15  \n",
       "7  early_morning                45+  \n",
       "8  early_morning                45+  \n",
       "9  early_morning                45+  "
      ]
     },
     "execution_count": 65,
     "metadata": {},
     "output_type": "execute_result"
    }
   ],
   "source": [
    "imp_cap_df.head(10)"
   ]
  },
  {
   "cell_type": "markdown",
   "metadata": {},
   "source": [
    "### Analyzing Data Distribution"
   ]
  },
  {
   "cell_type": "markdown",
   "metadata": {},
   "source": [
    "### Improvement Capacity Percentage"
   ]
  },
  {
   "cell_type": "markdown",
   "metadata": {},
   "source": [
    "#### Overall"
   ]
  },
  {
   "cell_type": "code",
   "execution_count": 66,
   "metadata": {},
   "outputs": [
    {
     "data": {
      "text/plain": [
       "<matplotlib.axes._subplots.AxesSubplot at 0x7f01f1f5c810>"
      ]
     },
     "execution_count": 66,
     "metadata": {},
     "output_type": "execute_result"
    },
    {
     "data": {
      "image/png": "[encoded data removed]",
      "text/plain": [
       "<matplotlib.figure.Figure at 0x7f01f1f09250>"
      ]
     },
     "metadata": {},
     "output_type": "display_data"
    }
   ],
   "source": [
    "sns.kdeplot(imp_cap_df.imp_capacity_perc, shade=True)"
   ]
  },
  {
   "cell_type": "code",
   "execution_count": 67,
   "metadata": {},
   "outputs": [
    {
     "data": {
      "text/plain": [
       "count    24911.000000\n",
       "mean         0.309995\n",
       "std          0.398897\n",
       "min          0.000000\n",
       "25%          0.000000\n",
       "50%          0.000000\n",
       "75%          0.757761\n",
       "max          0.999684\n",
       "Name: imp_capacity_perc, dtype: float64"
      ]
     },
     "execution_count": 67,
     "metadata": {},
     "output_type": "execute_result"
    }
   ],
   "source": [
    "imp_cap_df.imp_capacity_perc.describe()"
   ]
  },
  {
   "cell_type": "markdown",
   "metadata": {},
   "source": [
    "#### Removing outliers (lower/higher 5%)"
   ]
  },
  {
   "cell_type": "code",
   "execution_count": 68,
   "metadata": {},
   "outputs": [
    {
     "name": "stdout",
     "output_type": "stream",
     "text": [
      "0.0 0.976874414782\n"
     ]
    }
   ],
   "source": [
    "fith_perc = np.percentile(imp_cap_df.imp_capacity_perc,5)\n",
    "ninety_fith_perc = np.percentile(imp_cap_df.imp_capacity_perc,95)\n",
    "\n",
    "print fith_perc, ninety_fith_perc"
   ]
  },
  {
   "cell_type": "code",
   "execution_count": 69,
   "metadata": {
    "collapsed": true
   },
   "outputs": [],
   "source": [
    "filtered_imp_cap_df = imp_cap_df[(imp_cap_df.imp_capacity_perc > fith_perc) & (imp_cap_df.imp_capacity_perc < ninety_fith_perc)].copy()"
   ]
  },
  {
   "cell_type": "code",
   "execution_count": 70,
   "metadata": {},
   "outputs": [
    {
     "data": {
      "text/plain": [
       "<matplotlib.axes._subplots.AxesSubplot at 0x7f01f1ea1990>"
      ]
     },
     "execution_count": 70,
     "metadata": {},
     "output_type": "execute_result"
    },
    {
     "data": {
      "image/png": "[encoded data removed]",
      "text/plain": [
       "<matplotlib.figure.Figure at 0x7f01f1f92ad0>"
      ]
     },
     "metadata": {},
     "output_type": "display_data"
    }
   ],
   "source": [
    "sns.kdeplot(filtered_imp_cap_df.imp_capacity_perc, shade=True)"
   ]
  },
  {
   "cell_type": "code",
   "execution_count": 71,
   "metadata": {},
   "outputs": [
    {
     "data": {
      "text/plain": [
       "count    9.620000e+03\n",
       "mean     6.748023e-01\n",
       "std      2.813417e-01\n",
       "min      1.268826e-16\n",
       "25%      4.862881e-01\n",
       "50%      7.729671e-01\n",
       "75%      9.144210e-01\n",
       "max      9.768719e-01\n",
       "Name: imp_capacity_perc, dtype: float64"
      ]
     },
     "execution_count": 71,
     "metadata": {},
     "output_type": "execute_result"
    }
   ],
   "source": [
    "filtered_imp_cap_df.imp_capacity_perc.describe()"
   ]
  },
  {
   "cell_type": "code",
   "execution_count": 72,
   "metadata": {},
   "outputs": [
    {
     "data": {
      "text/plain": [
       "<matplotlib.axes._subplots.AxesSubplot at 0x7f01f20ffd90>"
      ]
     },
     "execution_count": 72,
     "metadata": {},
     "output_type": "execute_result"
    },
    {
     "data": {
      "image/png": "[encoded data removed]",
      "text/plain": [
       "<matplotlib.figure.Figure at 0x7f01f1e266d0>"
      ]
     },
     "metadata": {},
     "output_type": "display_data"
    }
   ],
   "source": [
    "sns.violinplot(x=filtered_imp_cap_df.imp_capacity_perc)"
   ]
  },
  {
   "cell_type": "markdown",
   "metadata": {},
   "source": [
    "#### Per trip length "
   ]
  },
  {
   "cell_type": "code",
   "execution_count": 73,
   "metadata": {
    "scrolled": true
   },
   "outputs": [
    {
     "data": {
      "text/plain": [
       "<matplotlib.axes._subplots.AxesSubplot at 0x7f01f1d95f50>"
      ]
     },
     "execution_count": 73,
     "metadata": {},
     "output_type": "execute_result"
    },
    {
     "data": {
      "image/png": "[encoded data removed]",
      "text/plain": [
       "<matplotlib.figure.Figure at 0x7f01f1dbac90>"
      ]
     },
     "metadata": {},
     "output_type": "display_data"
    }
   ],
   "source": [
    "trip_len_order=['0_15','15_30','30_45','45+']\n",
    "sns.violinplot(x='trip_length_bucket',y='imp_capacity_perc', data=filtered_imp_cap_df, order=trip_len_order)"
   ]
  },
  {
   "cell_type": "markdown",
   "metadata": {},
   "source": [
    "#### Per hour of day"
   ]
  },
  {
   "cell_type": "code",
   "execution_count": 84,
   "metadata": {
    "scrolled": true
   },
   "outputs": [
    {
     "data": {
      "text/plain": [
       "<matplotlib.axes._subplots.AxesSubplot at 0x7f01b0967b90>"
      ]
     },
     "execution_count": 84,
     "metadata": {},
     "output_type": "execute_result"
    },
    {
     "data": {
      "image/png": "[encoded data removed]",
      "text/plain": [
       "<matplotlib.figure.Figure at 0x7f01b1e13590>"
      ]
     },
     "metadata": {},
     "output_type": "display_data"
    }
   ],
   "source": [
    "sns.violinplot(x='hour_of_day',y='imp_capacity_perc', data=filtered_imp_cap_df)"
   ]
  },
  {
   "cell_type": "markdown",
   "metadata": {},
   "source": [
    "#### Per period of day"
   ]
  },
  {
   "cell_type": "code",
   "execution_count": 83,
   "metadata": {
    "scrolled": true
   },
   "outputs": [
    {
     "data": {
      "text/plain": [
       "<matplotlib.axes._subplots.AxesSubplot at 0x7f01b12e9590>"
      ]
     },
     "execution_count": 83,
     "metadata": {},
     "output_type": "execute_result"
    },
    {
     "data": {
      "image/png": "[encoded data removed]",
      "text/plain": [
       "<matplotlib.figure.Figure at 0x7f01d14f5750>"
      ]
     },
     "metadata": {},
     "output_type": "display_data"
    }
   ],
   "source": [
    "period_of_day_order = ['very_late_night','early_morning','morning','midday','afternoon','early_night','night','late_night']\n",
    "sns.violinplot(x='imp_capacity_perc',y='period_of_day', data=filtered_imp_cap_df, order=period_of_day_order)"
   ]
  },
  {
   "cell_type": "markdown",
   "metadata": {},
   "source": [
    "#### Per trip length and Period of Day"
   ]
  },
  {
   "cell_type": "code",
   "execution_count": 97,
   "metadata": {},
   "outputs": [
    {
     "data": {
      "text/plain": [
       "<seaborn.axisgrid.FacetGrid at 0x7f01b4e28e90>"
      ]
     },
     "execution_count": 97,
     "metadata": {},
     "output_type": "execute_result"
    },
    {
     "data": {
      "image/png": "[encoded data removed]",
      "text/plain": [
       "<matplotlib.figure.Figure at 0x7f01b55c2dd0>"
      ]
     },
     "metadata": {},
     "output_type": "display_data"
    }
   ],
   "source": [
    "sns.factorplot(x='imp_capacity_perc',y='period_of_day',hue='trip_length_bucket', data=filtered_imp_cap_df, kind='bar', size=6, order=col_order)"
   ]
  },
  {
   "cell_type": "markdown",
   "metadata": {},
   "source": [
    "### Raw Improvement Capacity"
   ]
  },
  {
   "cell_type": "markdown",
   "metadata": {},
   "source": [
    "#### Overall"
   ]
  },
  {
   "cell_type": "code",
   "execution_count": 12,
   "metadata": {},
   "outputs": [
    {
     "data": {
      "text/plain": [
       "<matplotlib.axes._subplots.AxesSubplot at 0x7f0200fa8090>"
      ]
     },
     "execution_count": 12,
     "metadata": {},
     "output_type": "execute_result"
    },
    {
     "data": {
      "image/png": "[encoded data removed]",
      "text/plain": [
       "<matplotlib.figure.Figure at 0x7f0200f038d0>"
      ]
     },
     "metadata": {},
     "output_type": "display_data"
    }
   ],
   "source": [
    "sns.kdeplot(imp_cap_df.imp_capacity, shade=True)"
   ]
  },
  {
   "cell_type": "code",
   "execution_count": 13,
   "metadata": {},
   "outputs": [
    {
     "data": {
      "text/plain": [
       "count    24911.000000\n",
       "mean        61.529759\n",
       "std        153.104315\n",
       "min          0.000000\n",
       "25%          0.000000\n",
       "50%          0.000000\n",
       "75%         32.600000\n",
       "max       1139.816667\n",
       "Name: imp_capacity, dtype: float64"
      ]
     },
     "execution_count": 13,
     "metadata": {},
     "output_type": "execute_result"
    }
   ],
   "source": [
    "imp_cap_df.imp_capacity.describe()"
   ]
  },
  {
   "cell_type": "markdown",
   "metadata": {},
   "source": [
    "#### Removing outliers (lower/higher 5%)"
   ]
  },
  {
   "cell_type": "code",
   "execution_count": 14,
   "metadata": {},
   "outputs": [
    {
     "name": "stdout",
     "output_type": "stream",
     "text": [
      "0.0 400.841666667\n"
     ]
    }
   ],
   "source": [
    "fith_perc = np.percentile(imp_cap_df.imp_capacity,5)\n",
    "ninety_fith_perc = np.percentile(imp_cap_df.imp_capacity,95)\n",
    "\n",
    "print fith_perc, ninety_fith_perc"
   ]
  },
  {
   "cell_type": "code",
   "execution_count": 15,
   "metadata": {
    "collapsed": true
   },
   "outputs": [],
   "source": [
    "filtered_imp_cap_df = imp_cap_df[(imp_cap_df.imp_capacity > fith_perc) & (imp_cap_df.imp_capacity < ninety_fith_perc)].copy()"
   ]
  },
  {
   "cell_type": "code",
   "execution_count": 16,
   "metadata": {},
   "outputs": [
    {
     "data": {
      "text/plain": [
       "<matplotlib.axes._subplots.AxesSubplot at 0x7f0200d7a650>"
      ]
     },
     "execution_count": 16,
     "metadata": {},
     "output_type": "execute_result"
    },
    {
     "data": {
      "image/png": "[encoded data removed]",
      "text/plain": [
       "<matplotlib.figure.Figure at 0x7f02385b6b50>"
      ]
     },
     "metadata": {},
     "output_type": "display_data"
    }
   ],
   "source": [
    "sns.kdeplot(filtered_imp_cap_df.imp_capacity, shade=True)"
   ]
  },
  {
   "cell_type": "code",
   "execution_count": 17,
   "metadata": {},
   "outputs": [
    {
     "data": {
      "text/plain": [
       "count    9.620000e+03\n",
       "mean     7.989378e+01\n",
       "std      1.051678e+02\n",
       "min      2.220446e-16\n",
       "25%      1.051250e+01\n",
       "50%      3.480833e+01\n",
       "75%      9.509167e+01\n",
       "max      4.008333e+02\n",
       "Name: imp_capacity, dtype: float64"
      ]
     },
     "execution_count": 17,
     "metadata": {},
     "output_type": "execute_result"
    }
   ],
   "source": [
    "filtered_imp_cap_df.imp_capacity.describe()"
   ]
  },
  {
   "cell_type": "code",
   "execution_count": 18,
   "metadata": {},
   "outputs": [
    {
     "data": {
      "text/plain": [
       "<matplotlib.axes._subplots.AxesSubplot at 0x7f02004d6c90>"
      ]
     },
     "execution_count": 18,
     "metadata": {},
     "output_type": "execute_result"
    },
    {
     "data": {
      "image/png": "[encoded data removed]",
      "text/plain": [
       "<matplotlib.figure.Figure at 0x7f0200f31890>"
      ]
     },
     "metadata": {},
     "output_type": "display_data"
    }
   ],
   "source": [
    "sns.violinplot(x=filtered_imp_cap_df.imp_capacity)"
   ]
  },
  {
   "cell_type": "markdown",
   "metadata": {},
   "source": [
    "#### Per Hour of Day"
   ]
  },
  {
   "cell_type": "code",
   "execution_count": 19,
   "metadata": {
    "collapsed": true
   },
   "outputs": [],
   "source": [
    "filtered_imp_cap_df['hour_of_day'] = pd.to_datetime(filtered_imp_cap_df['o_datetime'], format='%Y-%m-%d %H:%M:%S').dt.hour"
   ]
  },
  {
   "cell_type": "code",
   "execution_count": 20,
   "metadata": {},
   "outputs": [
    {
     "data": {
      "text/html": [
       "<div>\n",
       "<style>\n",
       "    .dataframe thead tr:only-child th {\n",
       "        text-align: right;\n",
       "    }\n",
       "\n",
       "    .dataframe thead th {\n",
       "        text-align: left;\n",
       "    }\n",
       "\n",
       "    .dataframe tbody tr th {\n",
       "        vertical-align: top;\n",
       "    }\n",
       "</style>\n",
       "<table border=\"1\" class=\"dataframe\">\n",
       "  <thead>\n",
       "    <tr style=\"text-align: right;\">\n",
       "      <th></th>\n",
       "      <th>date</th>\n",
       "      <th>user_trip_id</th>\n",
       "      <th>itinerary_id</th>\n",
       "      <th>duration</th>\n",
       "      <th>o_datetime</th>\n",
       "      <th>executed_duration</th>\n",
       "      <th>imp_capacity</th>\n",
       "      <th>hour_of_day</th>\n",
       "    </tr>\n",
       "  </thead>\n",
       "  <tbody>\n",
       "    <tr>\n",
       "      <th>0</th>\n",
       "      <td>2017-06-20</td>\n",
       "      <td>120259084452</td>\n",
       "      <td>1</td>\n",
       "      <td>3.866667</td>\n",
       "      <td>2017-06-20 06:18:00</td>\n",
       "      <td>331.583333</td>\n",
       "      <td>327.716667</td>\n",
       "      <td>6</td>\n",
       "    </tr>\n",
       "    <tr>\n",
       "      <th>3</th>\n",
       "      <td>2017-06-20</td>\n",
       "      <td>721554505827</td>\n",
       "      <td>3</td>\n",
       "      <td>8.650000</td>\n",
       "      <td>2017-06-20 12:02:59</td>\n",
       "      <td>61.183333</td>\n",
       "      <td>52.533333</td>\n",
       "      <td>12</td>\n",
       "    </tr>\n",
       "    <tr>\n",
       "      <th>4</th>\n",
       "      <td>2017-06-20</td>\n",
       "      <td>747324309522</td>\n",
       "      <td>1</td>\n",
       "      <td>12.450000</td>\n",
       "      <td>2017-06-20 07:45:40</td>\n",
       "      <td>81.866667</td>\n",
       "      <td>69.416667</td>\n",
       "      <td>7</td>\n",
       "    </tr>\n",
       "    <tr>\n",
       "      <th>7</th>\n",
       "      <td>2017-06-20</td>\n",
       "      <td>1219770712204</td>\n",
       "      <td>1</td>\n",
       "      <td>12.200000</td>\n",
       "      <td>2017-06-20 17:20:58</td>\n",
       "      <td>157.116667</td>\n",
       "      <td>144.916667</td>\n",
       "      <td>17</td>\n",
       "    </tr>\n",
       "    <tr>\n",
       "      <th>8</th>\n",
       "      <td>2017-06-20</td>\n",
       "      <td>1288490188874</td>\n",
       "      <td>2</td>\n",
       "      <td>8.633333</td>\n",
       "      <td>2017-06-20 07:26:59</td>\n",
       "      <td>12.783333</td>\n",
       "      <td>4.150000</td>\n",
       "      <td>7</td>\n",
       "    </tr>\n",
       "  </tbody>\n",
       "</table>\n",
       "</div>"
      ],
      "text/plain": [
       "         date   user_trip_id  itinerary_id   duration           o_datetime  \\\n",
       "0  2017-06-20   120259084452             1   3.866667  2017-06-20 06:18:00   \n",
       "3  2017-06-20   721554505827             3   8.650000  2017-06-20 12:02:59   \n",
       "4  2017-06-20   747324309522             1  12.450000  2017-06-20 07:45:40   \n",
       "7  2017-06-20  1219770712204             1  12.200000  2017-06-20 17:20:58   \n",
       "8  2017-06-20  1288490188874             2   8.633333  2017-06-20 07:26:59   \n",
       "\n",
       "   executed_duration  imp_capacity  hour_of_day  \n",
       "0         331.583333    327.716667            6  \n",
       "3          61.183333     52.533333           12  \n",
       "4          81.866667     69.416667            7  \n",
       "7         157.116667    144.916667           17  \n",
       "8          12.783333      4.150000            7  "
      ]
     },
     "execution_count": 20,
     "metadata": {},
     "output_type": "execute_result"
    }
   ],
   "source": [
    "filtered_imp_cap_df.head()"
   ]
  },
  {
   "cell_type": "code",
   "execution_count": 21,
   "metadata": {},
   "outputs": [
    {
     "data": {
      "text/html": [
       "<div>\n",
       "<style>\n",
       "    .dataframe thead tr:only-child th {\n",
       "        text-align: right;\n",
       "    }\n",
       "\n",
       "    .dataframe thead th {\n",
       "        text-align: left;\n",
       "    }\n",
       "\n",
       "    .dataframe tbody tr th {\n",
       "        vertical-align: top;\n",
       "    }\n",
       "</style>\n",
       "<table border=\"1\" class=\"dataframe\">\n",
       "  <thead>\n",
       "    <tr style=\"text-align: right;\">\n",
       "      <th></th>\n",
       "      <th>hour_of_day</th>\n",
       "      <th>period_of_day</th>\n",
       "    </tr>\n",
       "  </thead>\n",
       "  <tbody>\n",
       "    <tr>\n",
       "      <th>0</th>\n",
       "      <td>0</td>\n",
       "      <td>very_late_night</td>\n",
       "    </tr>\n",
       "    <tr>\n",
       "      <th>1</th>\n",
       "      <td>1</td>\n",
       "      <td>very_late_night</td>\n",
       "    </tr>\n",
       "    <tr>\n",
       "      <th>2</th>\n",
       "      <td>2</td>\n",
       "      <td>very_late_night</td>\n",
       "    </tr>\n",
       "    <tr>\n",
       "      <th>3</th>\n",
       "      <td>3</td>\n",
       "      <td>very_late_night</td>\n",
       "    </tr>\n",
       "    <tr>\n",
       "      <th>4</th>\n",
       "      <td>4</td>\n",
       "      <td>early_morning</td>\n",
       "    </tr>\n",
       "    <tr>\n",
       "      <th>5</th>\n",
       "      <td>5</td>\n",
       "      <td>early_morning</td>\n",
       "    </tr>\n",
       "    <tr>\n",
       "      <th>6</th>\n",
       "      <td>6</td>\n",
       "      <td>early_morning</td>\n",
       "    </tr>\n",
       "    <tr>\n",
       "      <th>7</th>\n",
       "      <td>7</td>\n",
       "      <td>morning</td>\n",
       "    </tr>\n",
       "    <tr>\n",
       "      <th>8</th>\n",
       "      <td>8</td>\n",
       "      <td>morning</td>\n",
       "    </tr>\n",
       "    <tr>\n",
       "      <th>9</th>\n",
       "      <td>9</td>\n",
       "      <td>morning</td>\n",
       "    </tr>\n",
       "    <tr>\n",
       "      <th>10</th>\n",
       "      <td>10</td>\n",
       "      <td>morning</td>\n",
       "    </tr>\n",
       "    <tr>\n",
       "      <th>11</th>\n",
       "      <td>11</td>\n",
       "      <td>midday</td>\n",
       "    </tr>\n",
       "    <tr>\n",
       "      <th>12</th>\n",
       "      <td>12</td>\n",
       "      <td>midday</td>\n",
       "    </tr>\n",
       "    <tr>\n",
       "      <th>13</th>\n",
       "      <td>13</td>\n",
       "      <td>midday</td>\n",
       "    </tr>\n",
       "    <tr>\n",
       "      <th>14</th>\n",
       "      <td>14</td>\n",
       "      <td>afternoon</td>\n",
       "    </tr>\n",
       "    <tr>\n",
       "      <th>15</th>\n",
       "      <td>15</td>\n",
       "      <td>afternoon</td>\n",
       "    </tr>\n",
       "    <tr>\n",
       "      <th>16</th>\n",
       "      <td>16</td>\n",
       "      <td>afternoon</td>\n",
       "    </tr>\n",
       "    <tr>\n",
       "      <th>17</th>\n",
       "      <td>17</td>\n",
       "      <td>early_night</td>\n",
       "    </tr>\n",
       "    <tr>\n",
       "      <th>18</th>\n",
       "      <td>18</td>\n",
       "      <td>early_night</td>\n",
       "    </tr>\n",
       "    <tr>\n",
       "      <th>19</th>\n",
       "      <td>19</td>\n",
       "      <td>early_night</td>\n",
       "    </tr>\n",
       "    <tr>\n",
       "      <th>20</th>\n",
       "      <td>20</td>\n",
       "      <td>night</td>\n",
       "    </tr>\n",
       "    <tr>\n",
       "      <th>21</th>\n",
       "      <td>21</td>\n",
       "      <td>night</td>\n",
       "    </tr>\n",
       "    <tr>\n",
       "      <th>22</th>\n",
       "      <td>22</td>\n",
       "      <td>late_night</td>\n",
       "    </tr>\n",
       "    <tr>\n",
       "      <th>23</th>\n",
       "      <td>23</td>\n",
       "      <td>late_night</td>\n",
       "    </tr>\n",
       "  </tbody>\n",
       "</table>\n",
       "</div>"
      ],
      "text/plain": [
       "    hour_of_day    period_of_day\n",
       "0             0  very_late_night\n",
       "1             1  very_late_night\n",
       "2             2  very_late_night\n",
       "3             3  very_late_night\n",
       "4             4    early_morning\n",
       "5             5    early_morning\n",
       "6             6    early_morning\n",
       "7             7          morning\n",
       "8             8          morning\n",
       "9             9          morning\n",
       "10           10          morning\n",
       "11           11           midday\n",
       "12           12           midday\n",
       "13           13           midday\n",
       "14           14        afternoon\n",
       "15           15        afternoon\n",
       "16           16        afternoon\n",
       "17           17      early_night\n",
       "18           18      early_night\n",
       "19           19      early_night\n",
       "20           20            night\n",
       "21           21            night\n",
       "22           22       late_night\n",
       "23           23       late_night"
      ]
     },
     "execution_count": 21,
     "metadata": {},
     "output_type": "execute_result"
    }
   ],
   "source": [
    "period_of_day_list = [('hour_of_day', [0,1,2,3,4,5,6,7,8,9,10,11,12,13,14,15,16,17,18,19,20,21,22,23]),\n",
    "         ('period_of_day', ['very_late_night','very_late_night','very_late_night','very_late_night','early_morning','early_morning','early_morning','morning','morning','morning','morning','midday','midday','midday','afternoon','afternoon','afternoon','early_night','early_night','early_night','night','night','late_night','late_night'])]\n",
    "period_of_day_df = pd.DataFrame.from_items(period_of_day_list)\n",
    "period_of_day_df.period_of_day = period_of_day_df.period_of_day.astype('category', ordered=True)\n",
    "\n",
    "period_of_day_df"
   ]
  },
  {
   "cell_type": "code",
   "execution_count": 22,
   "metadata": {
    "collapsed": true
   },
   "outputs": [],
   "source": [
    "imp_period_of_day = filtered_imp_cap_df.merge(period_of_day_df, how='inner', on='hour_of_day')"
   ]
  },
  {
   "cell_type": "code",
   "execution_count": 23,
   "metadata": {},
   "outputs": [
    {
     "data": {
      "text/html": [
       "<div>\n",
       "<style>\n",
       "    .dataframe thead tr:only-child th {\n",
       "        text-align: right;\n",
       "    }\n",
       "\n",
       "    .dataframe thead th {\n",
       "        text-align: left;\n",
       "    }\n",
       "\n",
       "    .dataframe tbody tr th {\n",
       "        vertical-align: top;\n",
       "    }\n",
       "</style>\n",
       "<table border=\"1\" class=\"dataframe\">\n",
       "  <thead>\n",
       "    <tr style=\"text-align: right;\">\n",
       "      <th></th>\n",
       "      <th>date</th>\n",
       "      <th>user_trip_id</th>\n",
       "      <th>itinerary_id</th>\n",
       "      <th>duration</th>\n",
       "      <th>o_datetime</th>\n",
       "      <th>executed_duration</th>\n",
       "      <th>imp_capacity</th>\n",
       "      <th>hour_of_day</th>\n",
       "      <th>period_of_day</th>\n",
       "    </tr>\n",
       "  </thead>\n",
       "  <tbody>\n",
       "    <tr>\n",
       "      <th>0</th>\n",
       "      <td>2017-06-20</td>\n",
       "      <td>120259084452</td>\n",
       "      <td>1</td>\n",
       "      <td>3.866667</td>\n",
       "      <td>2017-06-20 06:18:00</td>\n",
       "      <td>331.583333</td>\n",
       "      <td>327.716667</td>\n",
       "      <td>6</td>\n",
       "      <td>early_morning</td>\n",
       "    </tr>\n",
       "    <tr>\n",
       "      <th>1</th>\n",
       "      <td>2017-06-21</td>\n",
       "      <td>60129542284</td>\n",
       "      <td>3</td>\n",
       "      <td>10.250000</td>\n",
       "      <td>2017-06-21 06:41:49</td>\n",
       "      <td>39.166667</td>\n",
       "      <td>28.916667</td>\n",
       "      <td>6</td>\n",
       "      <td>early_morning</td>\n",
       "    </tr>\n",
       "    <tr>\n",
       "      <th>2</th>\n",
       "      <td>2017-06-19</td>\n",
       "      <td>558345748595</td>\n",
       "      <td>3</td>\n",
       "      <td>13.883333</td>\n",
       "      <td>2017-06-19 06:40:06</td>\n",
       "      <td>171.683333</td>\n",
       "      <td>157.800000</td>\n",
       "      <td>6</td>\n",
       "      <td>early_morning</td>\n",
       "    </tr>\n",
       "    <tr>\n",
       "      <th>3</th>\n",
       "      <td>2017-06-19</td>\n",
       "      <td>670014898285</td>\n",
       "      <td>2</td>\n",
       "      <td>16.283333</td>\n",
       "      <td>2017-06-19 06:48:29</td>\n",
       "      <td>100.400000</td>\n",
       "      <td>84.116667</td>\n",
       "      <td>6</td>\n",
       "      <td>early_morning</td>\n",
       "    </tr>\n",
       "    <tr>\n",
       "      <th>4</th>\n",
       "      <td>2017-06-19</td>\n",
       "      <td>738734374929</td>\n",
       "      <td>2</td>\n",
       "      <td>23.300000</td>\n",
       "      <td>2017-06-19 06:02:14</td>\n",
       "      <td>55.583333</td>\n",
       "      <td>32.283333</td>\n",
       "      <td>6</td>\n",
       "      <td>early_morning</td>\n",
       "    </tr>\n",
       "  </tbody>\n",
       "</table>\n",
       "</div>"
      ],
      "text/plain": [
       "         date  user_trip_id  itinerary_id   duration           o_datetime  \\\n",
       "0  2017-06-20  120259084452             1   3.866667  2017-06-20 06:18:00   \n",
       "1  2017-06-21   60129542284             3  10.250000  2017-06-21 06:41:49   \n",
       "2  2017-06-19  558345748595             3  13.883333  2017-06-19 06:40:06   \n",
       "3  2017-06-19  670014898285             2  16.283333  2017-06-19 06:48:29   \n",
       "4  2017-06-19  738734374929             2  23.300000  2017-06-19 06:02:14   \n",
       "\n",
       "   executed_duration  imp_capacity  hour_of_day  period_of_day  \n",
       "0         331.583333    327.716667            6  early_morning  \n",
       "1          39.166667     28.916667            6  early_morning  \n",
       "2         171.683333    157.800000            6  early_morning  \n",
       "3         100.400000     84.116667            6  early_morning  \n",
       "4          55.583333     32.283333            6  early_morning  "
      ]
     },
     "execution_count": 23,
     "metadata": {},
     "output_type": "execute_result"
    }
   ],
   "source": [
    "imp_period_of_day.head()"
   ]
  },
  {
   "cell_type": "code",
   "execution_count": 24,
   "metadata": {},
   "outputs": [
    {
     "name": "stderr",
     "output_type": "stream",
     "text": [
      "/home/tarciso/anaconda2/lib/python2.7/site-packages/matplotlib/cbook/__init__.py:1843: RuntimeWarning: invalid value encountered in double_scalars\n",
      "  loval = q1 - whis * stats['iqr']\n",
      "/home/tarciso/anaconda2/lib/python2.7/site-packages/matplotlib/cbook/__init__.py:1844: RuntimeWarning: invalid value encountered in double_scalars\n",
      "  hival = q3 + whis * stats['iqr']\n"
     ]
    },
    {
     "data": {
      "text/plain": [
       "<matplotlib.axes._subplots.AxesSubplot at 0x7f0200077890>"
      ]
     },
     "execution_count": 24,
     "metadata": {},
     "output_type": "execute_result"
    },
    {
     "data": {
      "image/png": "[encoded data removed]",
      "text/plain": [
       "<matplotlib.figure.Figure at 0x7f02004ba650>"
      ]
     },
     "metadata": {},
     "output_type": "display_data"
    }
   ],
   "source": [
    "sns.boxplot(x=filtered_imp_cap_df.imp_capacity, y=filtered_imp_cap_df.hour_of_day, data=filtered_imp_cap_df, \n",
    "            whis=np.inf, orient='h')"
   ]
  },
  {
   "cell_type": "code",
   "execution_count": 25,
   "metadata": {},
   "outputs": [
    {
     "data": {
      "text/plain": [
       "<matplotlib.axes._subplots.AxesSubplot at 0x7f01f27d6f50>"
      ]
     },
     "execution_count": 25,
     "metadata": {},
     "output_type": "execute_result"
    },
    {
     "data": {
      "image/png": "[encoded data removed]",
      "text/plain": [
       "<matplotlib.figure.Figure at 0x7f02004a4910>"
      ]
     },
     "metadata": {},
     "output_type": "display_data"
    }
   ],
   "source": [
    "col_order = ['very_late_night','early_morning','morning','midday','afternoon','early_night','night','late_night']\n",
    "sns.boxplot(x=imp_period_of_day.imp_capacity, y=imp_period_of_day.period_of_day, data=imp_period_of_day,\n",
    "            order=col_order,whis=np.inf)"
   ]
  },
  {
   "cell_type": "markdown",
   "metadata": {},
   "source": [
    "#### Per Day of Week (Sun-Sat)"
   ]
  },
  {
   "cell_type": "markdown",
   "metadata": {},
   "source": [
    "#### Per Day Type (Mon,Fri,Tue-Thu,Sat-Sun)"
   ]
  },
  {
   "cell_type": "code",
   "execution_count": null,
   "metadata": {
    "collapsed": true
   },
   "outputs": [],
   "source": []
  }
 ],
 "metadata": {
  "kernelspec": {
   "display_name": "Python 2",
   "language": "python",
   "name": "python2"
  },
  "language_info": {
   "codemirror_mode": {
    "name": "ipython",
    "version": 2
   },
   "file_extension": ".py",
   "mimetype": "text/x-python",
   "name": "python",
   "nbconvert_exporter": "python",
   "pygments_lexer": "ipython2",
   "version": "2.7.13"
  }
 },
 "nbformat": 4,
 "nbformat_minor": 2
}
