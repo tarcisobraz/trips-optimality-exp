{
 "cells": [
  {
   "cell_type": "code",
   "execution_count": 1,
   "metadata": {
    "collapsed": true
   },
   "outputs": [],
   "source": [
    "import pandas as pd\n",
    "import numpy as np\n",
    "\n",
    "#Imports to enable visualizations\n",
    "import seaborn as sns\n",
    "import matplotlib.pyplot as plt\n",
    "%matplotlib inline\n",
    "\n",
    "#Python standard libraries\n",
    "import glob, os    \n",
    "import datetime"
   ]
  },
  {
   "cell_type": "code",
   "execution_count": 2,
   "metadata": {
    "collapsed": true
   },
   "outputs": [],
   "source": [
    "#Functions\n",
    "\n",
    "def read_df_from_csv_folder(folderpath,filename_pattern):\n",
    "    result = pd.DataFrame()\n",
    "    files_to_be_read = glob.glob(os.path.join(folderpath, filename_pattern))\n",
    "    for i in xrange(len(files_to_be_read)):\n",
    "        try:\n",
    "            df = pd.read_csv(files_to_be_read[i])\n",
    "            result = result.append(df)\n",
    "        except Exception as e:\n",
    "            pass\n",
    "    return result\n"
   ]
  },
  {
   "cell_type": "markdown",
   "metadata": {},
   "source": [
    "### Read Data"
   ]
  },
  {
   "cell_type": "code",
   "execution_count": 87,
   "metadata": {
    "collapsed": true
   },
   "outputs": [],
   "source": [
    "#base_folderpath = '/local/tarciso/masters/experiments/preliminary-exp/preliminary-exp-sample-data/buste-v3a/'\n",
    "base_folderpath = '/local/tarciso/masters/data/trips-optimality-exp/test//'\n",
    "#base_folderpath = '/local/tarciso/data/'"
   ]
  },
  {
   "cell_type": "markdown",
   "metadata": {},
   "source": [
    "#### Trips Improvement Capacity Data"
   ]
  },
  {
   "cell_type": "code",
   "execution_count": 88,
   "metadata": {
    "collapsed": true
   },
   "outputs": [],
   "source": [
    "#imp_cap_df = read_df_from_csv_folder(base_folderpath + '/duration_improvement_capacity/', 'part-*.csv')\n",
    "imp_cap_df = read_df_from_csv_folder(base_folderpath + '/duration_improvement_capacity/', 'part-*.csv')\n",
    "#imp_cap_df = pd.read_csv(base_folderpath + '/result.csv')"
   ]
  },
  {
   "cell_type": "code",
   "execution_count": 89,
   "metadata": {},
   "outputs": [
    {
     "name": "stdout",
     "output_type": "stream",
     "text": [
      "<class 'pandas.core.frame.DataFrame'>\n",
      "Int64Index: 2858 entries, 0 to 1\n",
      "Data columns (total 11 columns):\n",
      "date                 2858 non-null object\n",
      "user_trip_id         2858 non-null int64\n",
      "cardNum              2858 non-null int64\n",
      "birthdate            637 non-null object\n",
      "gender               637 non-null object\n",
      "exec_start_time      2858 non-null object\n",
      "executed_duration    2858 non-null float64\n",
      "itinerary_id         2858 non-null int64\n",
      "duration             2858 non-null float64\n",
      "alt_start_time       2858 non-null object\n",
      "imp_capacity         2858 non-null float64\n",
      "dtypes: float64(3), int64(3), object(5)\n",
      "memory usage: 267.9+ KB\n"
     ]
    }
   ],
   "source": [
    "imp_cap_df.info()"
   ]
  },
  {
   "cell_type": "code",
   "execution_count": 90,
   "metadata": {},
   "outputs": [
    {
     "data": {
      "text/html": [
       "<div>\n",
       "<style>\n",
       "    .dataframe thead tr:only-child th {\n",
       "        text-align: right;\n",
       "    }\n",
       "\n",
       "    .dataframe thead th {\n",
       "        text-align: left;\n",
       "    }\n",
       "\n",
       "    .dataframe tbody tr th {\n",
       "        vertical-align: top;\n",
       "    }\n",
       "</style>\n",
       "<table border=\"1\" class=\"dataframe\">\n",
       "  <thead>\n",
       "    <tr style=\"text-align: right;\">\n",
       "      <th></th>\n",
       "      <th>date</th>\n",
       "      <th>user_trip_id</th>\n",
       "      <th>cardNum</th>\n",
       "      <th>birthdate</th>\n",
       "      <th>gender</th>\n",
       "      <th>exec_start_time</th>\n",
       "      <th>executed_duration</th>\n",
       "      <th>itinerary_id</th>\n",
       "      <th>duration</th>\n",
       "      <th>alt_start_time</th>\n",
       "      <th>imp_capacity</th>\n",
       "    </tr>\n",
       "  </thead>\n",
       "  <tbody>\n",
       "    <tr>\n",
       "      <th>0</th>\n",
       "      <td>2017-04-30</td>\n",
       "      <td>403726925909</td>\n",
       "      <td>3682118</td>\n",
       "      <td>NaN</td>\n",
       "      <td>NaN</td>\n",
       "      <td>2017-04-30 01:08:51</td>\n",
       "      <td>674.300000</td>\n",
       "      <td>0</td>\n",
       "      <td>674.300000</td>\n",
       "      <td>2017-04-30 01:08:51</td>\n",
       "      <td>0.0</td>\n",
       "    </tr>\n",
       "    <tr>\n",
       "      <th>1</th>\n",
       "      <td>2017-04-30</td>\n",
       "      <td>712964571226</td>\n",
       "      <td>10005641</td>\n",
       "      <td>NaN</td>\n",
       "      <td>NaN</td>\n",
       "      <td>2017-04-30 14:39:39</td>\n",
       "      <td>8.416667</td>\n",
       "      <td>0</td>\n",
       "      <td>8.416667</td>\n",
       "      <td>2017-04-30 14:39:39</td>\n",
       "      <td>0.0</td>\n",
       "    </tr>\n",
       "    <tr>\n",
       "      <th>2</th>\n",
       "      <td>2017-04-30</td>\n",
       "      <td>1468878815312</td>\n",
       "      <td>3201587</td>\n",
       "      <td>NaN</td>\n",
       "      <td>NaN</td>\n",
       "      <td>2017-04-30 13:27:21</td>\n",
       "      <td>4.666667</td>\n",
       "      <td>0</td>\n",
       "      <td>4.666667</td>\n",
       "      <td>2017-04-30 13:27:21</td>\n",
       "      <td>0.0</td>\n",
       "    </tr>\n",
       "    <tr>\n",
       "      <th>0</th>\n",
       "      <td>2017-05-07</td>\n",
       "      <td>146028888068</td>\n",
       "      <td>3737896</td>\n",
       "      <td>NaN</td>\n",
       "      <td>NaN</td>\n",
       "      <td>2017-05-07 08:45:08</td>\n",
       "      <td>1.150000</td>\n",
       "      <td>0</td>\n",
       "      <td>1.150000</td>\n",
       "      <td>2017-05-07 08:45:08</td>\n",
       "      <td>0.0</td>\n",
       "    </tr>\n",
       "    <tr>\n",
       "      <th>1</th>\n",
       "      <td>2017-05-07</td>\n",
       "      <td>927712935963</td>\n",
       "      <td>3680105</td>\n",
       "      <td>NaN</td>\n",
       "      <td>NaN</td>\n",
       "      <td>2017-05-07 07:54:18</td>\n",
       "      <td>65.433333</td>\n",
       "      <td>0</td>\n",
       "      <td>65.433333</td>\n",
       "      <td>2017-05-07 07:54:18</td>\n",
       "      <td>0.0</td>\n",
       "    </tr>\n",
       "  </tbody>\n",
       "</table>\n",
       "</div>"
      ],
      "text/plain": [
       "         date   user_trip_id   cardNum birthdate gender      exec_start_time  \\\n",
       "0  2017-04-30   403726925909   3682118       NaN    NaN  2017-04-30 01:08:51   \n",
       "1  2017-04-30   712964571226  10005641       NaN    NaN  2017-04-30 14:39:39   \n",
       "2  2017-04-30  1468878815312   3201587       NaN    NaN  2017-04-30 13:27:21   \n",
       "0  2017-05-07   146028888068   3737896       NaN    NaN  2017-05-07 08:45:08   \n",
       "1  2017-05-07   927712935963   3680105       NaN    NaN  2017-05-07 07:54:18   \n",
       "\n",
       "   executed_duration  itinerary_id    duration       alt_start_time  \\\n",
       "0         674.300000             0  674.300000  2017-04-30 01:08:51   \n",
       "1           8.416667             0    8.416667  2017-04-30 14:39:39   \n",
       "2           4.666667             0    4.666667  2017-04-30 13:27:21   \n",
       "0           1.150000             0    1.150000  2017-05-07 08:45:08   \n",
       "1          65.433333             0   65.433333  2017-05-07 07:54:18   \n",
       "\n",
       "   imp_capacity  \n",
       "0           0.0  \n",
       "1           0.0  \n",
       "2           0.0  \n",
       "0           0.0  \n",
       "1           0.0  "
      ]
     },
     "execution_count": 90,
     "metadata": {},
     "output_type": "execute_result"
    }
   ],
   "source": [
    "imp_cap_df.head()"
   ]
  },
  {
   "cell_type": "code",
   "execution_count": 91,
   "metadata": {},
   "outputs": [
    {
     "data": {
      "text/plain": [
       "0.30300909727081876"
      ]
     },
     "execution_count": 91,
     "metadata": {},
     "output_type": "execute_result"
    }
   ],
   "source": [
    "imp_cap_df[imp_cap_df['itinerary_id'] != 0].count()[0]/float(imp_cap_df.count()[0])"
   ]
  },
  {
   "cell_type": "code",
   "execution_count": 92,
   "metadata": {},
   "outputs": [
    {
     "data": {
      "text/plain": [
       "date                 2858\n",
       "user_trip_id         2858\n",
       "cardNum              2858\n",
       "birthdate             637\n",
       "gender                637\n",
       "exec_start_time      2858\n",
       "executed_duration    2858\n",
       "itinerary_id         2858\n",
       "duration             2858\n",
       "alt_start_time       2858\n",
       "imp_capacity         2858\n",
       "dtype: int64"
      ]
     },
     "execution_count": 92,
     "metadata": {},
     "output_type": "execute_result"
    }
   ],
   "source": [
    "imp_cap_df.count()"
   ]
  },
  {
   "cell_type": "markdown",
   "metadata": {},
   "source": [
    "#### Trips Itinerary Data"
   ]
  },
  {
   "cell_type": "code",
   "execution_count": 93,
   "metadata": {
    "collapsed": true
   },
   "outputs": [],
   "source": [
    "#trips_itineraries = read_df_from_csv_folder(base_folderpath + '/trips_actual_itineraries/','part-*.csv')"
   ]
  },
  {
   "cell_type": "code",
   "execution_count": 94,
   "metadata": {
    "collapsed": true
   },
   "outputs": [],
   "source": [
    "#trips_itineraries.columns"
   ]
  },
  {
   "cell_type": "code",
   "execution_count": 95,
   "metadata": {
    "collapsed": true
   },
   "outputs": [],
   "source": [
    "#trips_itineraries.describe()"
   ]
  },
  {
   "cell_type": "code",
   "execution_count": 96,
   "metadata": {
    "collapsed": true,
    "scrolled": true
   },
   "outputs": [],
   "source": [
    "#trips_itineraries.head(10)"
   ]
  },
  {
   "cell_type": "markdown",
   "metadata": {},
   "source": [
    "### Preparing Data"
   ]
  },
  {
   "cell_type": "markdown",
   "metadata": {},
   "source": [
    "#### Computing Improvement Capacity as a Percentage to avoid value magnitude bias"
   ]
  },
  {
   "cell_type": "code",
   "execution_count": 97,
   "metadata": {
    "collapsed": true
   },
   "outputs": [],
   "source": [
    "imp_cap_df['imp_capacity_perc'] = imp_cap_df['imp_capacity'] / imp_cap_df['executed_duration']"
   ]
  },
  {
   "cell_type": "code",
   "execution_count": 98,
   "metadata": {},
   "outputs": [
    {
     "data": {
      "text/html": [
       "<div>\n",
       "<style>\n",
       "    .dataframe thead tr:only-child th {\n",
       "        text-align: right;\n",
       "    }\n",
       "\n",
       "    .dataframe thead th {\n",
       "        text-align: left;\n",
       "    }\n",
       "\n",
       "    .dataframe tbody tr th {\n",
       "        vertical-align: top;\n",
       "    }\n",
       "</style>\n",
       "<table border=\"1\" class=\"dataframe\">\n",
       "  <thead>\n",
       "    <tr style=\"text-align: right;\">\n",
       "      <th></th>\n",
       "      <th>date</th>\n",
       "      <th>user_trip_id</th>\n",
       "      <th>cardNum</th>\n",
       "      <th>birthdate</th>\n",
       "      <th>gender</th>\n",
       "      <th>exec_start_time</th>\n",
       "      <th>executed_duration</th>\n",
       "      <th>itinerary_id</th>\n",
       "      <th>duration</th>\n",
       "      <th>alt_start_time</th>\n",
       "      <th>imp_capacity</th>\n",
       "      <th>imp_capacity_perc</th>\n",
       "    </tr>\n",
       "  </thead>\n",
       "  <tbody>\n",
       "    <tr>\n",
       "      <th>0</th>\n",
       "      <td>2017-04-30</td>\n",
       "      <td>403726925909</td>\n",
       "      <td>3682118</td>\n",
       "      <td>NaN</td>\n",
       "      <td>NaN</td>\n",
       "      <td>2017-04-30 01:08:51</td>\n",
       "      <td>674.300000</td>\n",
       "      <td>0</td>\n",
       "      <td>674.300000</td>\n",
       "      <td>2017-04-30 01:08:51</td>\n",
       "      <td>0.000000</td>\n",
       "      <td>0.000000</td>\n",
       "    </tr>\n",
       "    <tr>\n",
       "      <th>1</th>\n",
       "      <td>2017-04-30</td>\n",
       "      <td>712964571226</td>\n",
       "      <td>10005641</td>\n",
       "      <td>NaN</td>\n",
       "      <td>NaN</td>\n",
       "      <td>2017-04-30 14:39:39</td>\n",
       "      <td>8.416667</td>\n",
       "      <td>0</td>\n",
       "      <td>8.416667</td>\n",
       "      <td>2017-04-30 14:39:39</td>\n",
       "      <td>0.000000</td>\n",
       "      <td>0.000000</td>\n",
       "    </tr>\n",
       "    <tr>\n",
       "      <th>2</th>\n",
       "      <td>2017-04-30</td>\n",
       "      <td>1468878815312</td>\n",
       "      <td>3201587</td>\n",
       "      <td>NaN</td>\n",
       "      <td>NaN</td>\n",
       "      <td>2017-04-30 13:27:21</td>\n",
       "      <td>4.666667</td>\n",
       "      <td>0</td>\n",
       "      <td>4.666667</td>\n",
       "      <td>2017-04-30 13:27:21</td>\n",
       "      <td>0.000000</td>\n",
       "      <td>0.000000</td>\n",
       "    </tr>\n",
       "    <tr>\n",
       "      <th>0</th>\n",
       "      <td>2017-05-07</td>\n",
       "      <td>146028888068</td>\n",
       "      <td>3737896</td>\n",
       "      <td>NaN</td>\n",
       "      <td>NaN</td>\n",
       "      <td>2017-05-07 08:45:08</td>\n",
       "      <td>1.150000</td>\n",
       "      <td>0</td>\n",
       "      <td>1.150000</td>\n",
       "      <td>2017-05-07 08:45:08</td>\n",
       "      <td>0.000000</td>\n",
       "      <td>0.000000</td>\n",
       "    </tr>\n",
       "    <tr>\n",
       "      <th>1</th>\n",
       "      <td>2017-05-07</td>\n",
       "      <td>927712935963</td>\n",
       "      <td>3680105</td>\n",
       "      <td>NaN</td>\n",
       "      <td>NaN</td>\n",
       "      <td>2017-05-07 07:54:18</td>\n",
       "      <td>65.433333</td>\n",
       "      <td>0</td>\n",
       "      <td>65.433333</td>\n",
       "      <td>2017-05-07 07:54:18</td>\n",
       "      <td>0.000000</td>\n",
       "      <td>0.000000</td>\n",
       "    </tr>\n",
       "    <tr>\n",
       "      <th>0</th>\n",
       "      <td>2017-04-30</td>\n",
       "      <td>146028888073</td>\n",
       "      <td>960305</td>\n",
       "      <td>NaN</td>\n",
       "      <td>NaN</td>\n",
       "      <td>2017-04-30 12:10:26</td>\n",
       "      <td>94.950000</td>\n",
       "      <td>0</td>\n",
       "      <td>94.950000</td>\n",
       "      <td>2017-04-30 12:10:26</td>\n",
       "      <td>0.000000</td>\n",
       "      <td>0.000000</td>\n",
       "    </tr>\n",
       "    <tr>\n",
       "      <th>1</th>\n",
       "      <td>2017-04-30</td>\n",
       "      <td>163208757292</td>\n",
       "      <td>3033204</td>\n",
       "      <td>NaN</td>\n",
       "      <td>NaN</td>\n",
       "      <td>2017-04-30 08:35:31</td>\n",
       "      <td>64.550000</td>\n",
       "      <td>0</td>\n",
       "      <td>64.550000</td>\n",
       "      <td>2017-04-30 08:35:31</td>\n",
       "      <td>0.000000</td>\n",
       "      <td>0.000000</td>\n",
       "    </tr>\n",
       "    <tr>\n",
       "      <th>2</th>\n",
       "      <td>2017-04-30</td>\n",
       "      <td>704374636598</td>\n",
       "      <td>3462516</td>\n",
       "      <td>18/11/84</td>\n",
       "      <td>M</td>\n",
       "      <td>2017-04-30 15:27:55</td>\n",
       "      <td>119.250000</td>\n",
       "      <td>1</td>\n",
       "      <td>23.016667</td>\n",
       "      <td>2017-04-30 15:25:55</td>\n",
       "      <td>96.233333</td>\n",
       "      <td>0.806988</td>\n",
       "    </tr>\n",
       "    <tr>\n",
       "      <th>3</th>\n",
       "      <td>2017-04-30</td>\n",
       "      <td>893353197642</td>\n",
       "      <td>3595584</td>\n",
       "      <td>NaN</td>\n",
       "      <td>NaN</td>\n",
       "      <td>2017-04-30 15:28:11</td>\n",
       "      <td>5.583333</td>\n",
       "      <td>0</td>\n",
       "      <td>5.583333</td>\n",
       "      <td>2017-04-30 15:28:11</td>\n",
       "      <td>0.000000</td>\n",
       "      <td>0.000000</td>\n",
       "    </tr>\n",
       "    <tr>\n",
       "      <th>0</th>\n",
       "      <td>2017-05-08</td>\n",
       "      <td>1082331758592</td>\n",
       "      <td>3484025</td>\n",
       "      <td>NaN</td>\n",
       "      <td>NaN</td>\n",
       "      <td>2017-05-08 06:19:22</td>\n",
       "      <td>358.833333</td>\n",
       "      <td>3</td>\n",
       "      <td>3.283333</td>\n",
       "      <td>2017-05-08 06:34:39</td>\n",
       "      <td>355.550000</td>\n",
       "      <td>0.990850</td>\n",
       "    </tr>\n",
       "  </tbody>\n",
       "</table>\n",
       "</div>"
      ],
      "text/plain": [
       "         date   user_trip_id   cardNum birthdate gender      exec_start_time  \\\n",
       "0  2017-04-30   403726925909   3682118       NaN    NaN  2017-04-30 01:08:51   \n",
       "1  2017-04-30   712964571226  10005641       NaN    NaN  2017-04-30 14:39:39   \n",
       "2  2017-04-30  1468878815312   3201587       NaN    NaN  2017-04-30 13:27:21   \n",
       "0  2017-05-07   146028888068   3737896       NaN    NaN  2017-05-07 08:45:08   \n",
       "1  2017-05-07   927712935963   3680105       NaN    NaN  2017-05-07 07:54:18   \n",
       "0  2017-04-30   146028888073    960305       NaN    NaN  2017-04-30 12:10:26   \n",
       "1  2017-04-30   163208757292   3033204       NaN    NaN  2017-04-30 08:35:31   \n",
       "2  2017-04-30   704374636598   3462516  18/11/84      M  2017-04-30 15:27:55   \n",
       "3  2017-04-30   893353197642   3595584       NaN    NaN  2017-04-30 15:28:11   \n",
       "0  2017-05-08  1082331758592   3484025       NaN    NaN  2017-05-08 06:19:22   \n",
       "\n",
       "   executed_duration  itinerary_id    duration       alt_start_time  \\\n",
       "0         674.300000             0  674.300000  2017-04-30 01:08:51   \n",
       "1           8.416667             0    8.416667  2017-04-30 14:39:39   \n",
       "2           4.666667             0    4.666667  2017-04-30 13:27:21   \n",
       "0           1.150000             0    1.150000  2017-05-07 08:45:08   \n",
       "1          65.433333             0   65.433333  2017-05-07 07:54:18   \n",
       "0          94.950000             0   94.950000  2017-04-30 12:10:26   \n",
       "1          64.550000             0   64.550000  2017-04-30 08:35:31   \n",
       "2         119.250000             1   23.016667  2017-04-30 15:25:55   \n",
       "3           5.583333             0    5.583333  2017-04-30 15:28:11   \n",
       "0         358.833333             3    3.283333  2017-05-08 06:34:39   \n",
       "\n",
       "   imp_capacity  imp_capacity_perc  \n",
       "0      0.000000           0.000000  \n",
       "1      0.000000           0.000000  \n",
       "2      0.000000           0.000000  \n",
       "0      0.000000           0.000000  \n",
       "1      0.000000           0.000000  \n",
       "0      0.000000           0.000000  \n",
       "1      0.000000           0.000000  \n",
       "2     96.233333           0.806988  \n",
       "3      0.000000           0.000000  \n",
       "0    355.550000           0.990850  "
      ]
     },
     "execution_count": 98,
     "metadata": {},
     "output_type": "execute_result"
    }
   ],
   "source": [
    "imp_cap_df.head(10)"
   ]
  },
  {
   "cell_type": "markdown",
   "metadata": {},
   "source": [
    "#### Computing hour of day and period of day for each trip"
   ]
  },
  {
   "cell_type": "code",
   "execution_count": 99,
   "metadata": {
    "collapsed": true
   },
   "outputs": [],
   "source": [
    "imp_cap_df['hour_of_day'] = pd.to_datetime(imp_cap_df['exec_start_time'], format='%Y-%m-%d %H:%M:%S').dt.hour"
   ]
  },
  {
   "cell_type": "code",
   "execution_count": 100,
   "metadata": {},
   "outputs": [
    {
     "data": {
      "text/html": [
       "<div>\n",
       "<style>\n",
       "    .dataframe thead tr:only-child th {\n",
       "        text-align: right;\n",
       "    }\n",
       "\n",
       "    .dataframe thead th {\n",
       "        text-align: left;\n",
       "    }\n",
       "\n",
       "    .dataframe tbody tr th {\n",
       "        vertical-align: top;\n",
       "    }\n",
       "</style>\n",
       "<table border=\"1\" class=\"dataframe\">\n",
       "  <thead>\n",
       "    <tr style=\"text-align: right;\">\n",
       "      <th></th>\n",
       "      <th>date</th>\n",
       "      <th>user_trip_id</th>\n",
       "      <th>cardNum</th>\n",
       "      <th>birthdate</th>\n",
       "      <th>gender</th>\n",
       "      <th>exec_start_time</th>\n",
       "      <th>executed_duration</th>\n",
       "      <th>itinerary_id</th>\n",
       "      <th>duration</th>\n",
       "      <th>alt_start_time</th>\n",
       "      <th>imp_capacity</th>\n",
       "      <th>imp_capacity_perc</th>\n",
       "      <th>hour_of_day</th>\n",
       "      <th>period_of_day</th>\n",
       "    </tr>\n",
       "  </thead>\n",
       "  <tbody>\n",
       "    <tr>\n",
       "      <th>0</th>\n",
       "      <td>2017-04-30</td>\n",
       "      <td>403726925909</td>\n",
       "      <td>3682118</td>\n",
       "      <td>NaN</td>\n",
       "      <td>NaN</td>\n",
       "      <td>2017-04-30 01:08:51</td>\n",
       "      <td>674.300000</td>\n",
       "      <td>0</td>\n",
       "      <td>674.300000</td>\n",
       "      <td>2017-04-30 01:08:51</td>\n",
       "      <td>0.0</td>\n",
       "      <td>0.0</td>\n",
       "      <td>1</td>\n",
       "      <td>very_late_night</td>\n",
       "    </tr>\n",
       "    <tr>\n",
       "      <th>1</th>\n",
       "      <td>2017-04-30</td>\n",
       "      <td>712964571226</td>\n",
       "      <td>10005641</td>\n",
       "      <td>NaN</td>\n",
       "      <td>NaN</td>\n",
       "      <td>2017-04-30 14:39:39</td>\n",
       "      <td>8.416667</td>\n",
       "      <td>0</td>\n",
       "      <td>8.416667</td>\n",
       "      <td>2017-04-30 14:39:39</td>\n",
       "      <td>0.0</td>\n",
       "      <td>0.0</td>\n",
       "      <td>14</td>\n",
       "      <td>afternoon</td>\n",
       "    </tr>\n",
       "    <tr>\n",
       "      <th>2</th>\n",
       "      <td>2017-05-07</td>\n",
       "      <td>601295421440</td>\n",
       "      <td>2483729</td>\n",
       "      <td>NaN</td>\n",
       "      <td>NaN</td>\n",
       "      <td>2017-05-07 14:43:11</td>\n",
       "      <td>1.300000</td>\n",
       "      <td>0</td>\n",
       "      <td>1.300000</td>\n",
       "      <td>2017-05-07 14:43:11</td>\n",
       "      <td>0.0</td>\n",
       "      <td>0.0</td>\n",
       "      <td>14</td>\n",
       "      <td>afternoon</td>\n",
       "    </tr>\n",
       "    <tr>\n",
       "      <th>3</th>\n",
       "      <td>2017-05-05</td>\n",
       "      <td>670014898204</td>\n",
       "      <td>2652348</td>\n",
       "      <td>NaN</td>\n",
       "      <td>NaN</td>\n",
       "      <td>2017-05-05 14:43:24</td>\n",
       "      <td>194.016667</td>\n",
       "      <td>0</td>\n",
       "      <td>194.016667</td>\n",
       "      <td>2017-05-05 14:43:24</td>\n",
       "      <td>0.0</td>\n",
       "      <td>0.0</td>\n",
       "      <td>14</td>\n",
       "      <td>afternoon</td>\n",
       "    </tr>\n",
       "    <tr>\n",
       "      <th>4</th>\n",
       "      <td>2017-05-07</td>\n",
       "      <td>472446402581</td>\n",
       "      <td>3804618</td>\n",
       "      <td>NaN</td>\n",
       "      <td>NaN</td>\n",
       "      <td>2017-05-07 14:03:01</td>\n",
       "      <td>290.833333</td>\n",
       "      <td>0</td>\n",
       "      <td>290.833333</td>\n",
       "      <td>2017-05-07 14:03:01</td>\n",
       "      <td>0.0</td>\n",
       "      <td>0.0</td>\n",
       "      <td>14</td>\n",
       "      <td>afternoon</td>\n",
       "    </tr>\n",
       "  </tbody>\n",
       "</table>\n",
       "</div>"
      ],
      "text/plain": [
       "         date  user_trip_id   cardNum birthdate gender      exec_start_time  \\\n",
       "0  2017-04-30  403726925909   3682118       NaN    NaN  2017-04-30 01:08:51   \n",
       "1  2017-04-30  712964571226  10005641       NaN    NaN  2017-04-30 14:39:39   \n",
       "2  2017-05-07  601295421440   2483729       NaN    NaN  2017-05-07 14:43:11   \n",
       "3  2017-05-05  670014898204   2652348       NaN    NaN  2017-05-05 14:43:24   \n",
       "4  2017-05-07  472446402581   3804618       NaN    NaN  2017-05-07 14:03:01   \n",
       "\n",
       "   executed_duration  itinerary_id    duration       alt_start_time  \\\n",
       "0         674.300000             0  674.300000  2017-04-30 01:08:51   \n",
       "1           8.416667             0    8.416667  2017-04-30 14:39:39   \n",
       "2           1.300000             0    1.300000  2017-05-07 14:43:11   \n",
       "3         194.016667             0  194.016667  2017-05-05 14:43:24   \n",
       "4         290.833333             0  290.833333  2017-05-07 14:03:01   \n",
       "\n",
       "   imp_capacity  imp_capacity_perc  hour_of_day    period_of_day  \n",
       "0           0.0                0.0            1  very_late_night  \n",
       "1           0.0                0.0           14        afternoon  \n",
       "2           0.0                0.0           14        afternoon  \n",
       "3           0.0                0.0           14        afternoon  \n",
       "4           0.0                0.0           14        afternoon  "
      ]
     },
     "execution_count": 100,
     "metadata": {},
     "output_type": "execute_result"
    }
   ],
   "source": [
    "period_of_day_list = [('hour_of_day', [0,1,2,3,4,5,6,7,8,9,10,11,12,13,14,15,16,17,18,19,20,21,22,23]),\n",
    "         ('period_of_day', ['very_late_night','very_late_night','very_late_night','very_late_night','early_morning','early_morning','early_morning','morning','morning','morning','morning','midday','midday','midday','afternoon','afternoon','afternoon','early_night','early_night','early_night','night','night','late_night','late_night'])]\n",
    "period_of_day_df = pd.DataFrame.from_items(period_of_day_list)\n",
    "period_of_day_df.period_of_day = period_of_day_df.period_of_day.astype('category', ordered=True)\n",
    "\n",
    "period_of_day_df\n",
    "\n",
    "imp_cap_df = imp_cap_df.merge(period_of_day_df, how='inner', on='hour_of_day')\n",
    "\n",
    "imp_cap_df.head()"
   ]
  },
  {
   "cell_type": "markdown",
   "metadata": {},
   "source": [
    "#### Computing hour of day and period of day for each trip"
   ]
  },
  {
   "cell_type": "code",
   "execution_count": 101,
   "metadata": {
    "collapsed": true
   },
   "outputs": [],
   "source": [
    "def get_trip_len_bucket(trip_duration):\n",
    "    if (trip_duration < 15):\n",
    "        return '0_15'\n",
    "    elif (trip_duration < 30):\n",
    "        return '15_30'\n",
    "    elif (trip_duration < 45):\n",
    "        return '30_45'\n",
    "    elif (trip_duration >= 45):\n",
    "        return '45+'\n",
    "    else:\n",
    "        return 'NA'\n",
    "\n",
    "\n",
    "imp_cap_df['trip_length_bucket'] = imp_cap_df['executed_duration'].apply(get_trip_len_bucket)"
   ]
  },
  {
   "cell_type": "code",
   "execution_count": 102,
   "metadata": {},
   "outputs": [
    {
     "data": {
      "text/html": [
       "<div>\n",
       "<style>\n",
       "    .dataframe thead tr:only-child th {\n",
       "        text-align: right;\n",
       "    }\n",
       "\n",
       "    .dataframe thead th {\n",
       "        text-align: left;\n",
       "    }\n",
       "\n",
       "    .dataframe tbody tr th {\n",
       "        vertical-align: top;\n",
       "    }\n",
       "</style>\n",
       "<table border=\"1\" class=\"dataframe\">\n",
       "  <thead>\n",
       "    <tr style=\"text-align: right;\">\n",
       "      <th></th>\n",
       "      <th>date</th>\n",
       "      <th>user_trip_id</th>\n",
       "      <th>cardNum</th>\n",
       "      <th>birthdate</th>\n",
       "      <th>gender</th>\n",
       "      <th>exec_start_time</th>\n",
       "      <th>executed_duration</th>\n",
       "      <th>itinerary_id</th>\n",
       "      <th>duration</th>\n",
       "      <th>alt_start_time</th>\n",
       "      <th>imp_capacity</th>\n",
       "      <th>imp_capacity_perc</th>\n",
       "      <th>hour_of_day</th>\n",
       "      <th>period_of_day</th>\n",
       "      <th>trip_length_bucket</th>\n",
       "    </tr>\n",
       "  </thead>\n",
       "  <tbody>\n",
       "    <tr>\n",
       "      <th>0</th>\n",
       "      <td>2017-04-30</td>\n",
       "      <td>403726925909</td>\n",
       "      <td>3682118</td>\n",
       "      <td>NaN</td>\n",
       "      <td>NaN</td>\n",
       "      <td>2017-04-30 01:08:51</td>\n",
       "      <td>674.300000</td>\n",
       "      <td>0</td>\n",
       "      <td>674.300000</td>\n",
       "      <td>2017-04-30 01:08:51</td>\n",
       "      <td>0.000000</td>\n",
       "      <td>0.000000</td>\n",
       "      <td>1</td>\n",
       "      <td>very_late_night</td>\n",
       "      <td>45+</td>\n",
       "    </tr>\n",
       "    <tr>\n",
       "      <th>1</th>\n",
       "      <td>2017-04-30</td>\n",
       "      <td>712964571226</td>\n",
       "      <td>10005641</td>\n",
       "      <td>NaN</td>\n",
       "      <td>NaN</td>\n",
       "      <td>2017-04-30 14:39:39</td>\n",
       "      <td>8.416667</td>\n",
       "      <td>0</td>\n",
       "      <td>8.416667</td>\n",
       "      <td>2017-04-30 14:39:39</td>\n",
       "      <td>0.000000</td>\n",
       "      <td>0.000000</td>\n",
       "      <td>14</td>\n",
       "      <td>afternoon</td>\n",
       "      <td>0_15</td>\n",
       "    </tr>\n",
       "    <tr>\n",
       "      <th>2</th>\n",
       "      <td>2017-05-07</td>\n",
       "      <td>601295421440</td>\n",
       "      <td>2483729</td>\n",
       "      <td>NaN</td>\n",
       "      <td>NaN</td>\n",
       "      <td>2017-05-07 14:43:11</td>\n",
       "      <td>1.300000</td>\n",
       "      <td>0</td>\n",
       "      <td>1.300000</td>\n",
       "      <td>2017-05-07 14:43:11</td>\n",
       "      <td>0.000000</td>\n",
       "      <td>0.000000</td>\n",
       "      <td>14</td>\n",
       "      <td>afternoon</td>\n",
       "      <td>0_15</td>\n",
       "    </tr>\n",
       "    <tr>\n",
       "      <th>3</th>\n",
       "      <td>2017-05-05</td>\n",
       "      <td>670014898204</td>\n",
       "      <td>2652348</td>\n",
       "      <td>NaN</td>\n",
       "      <td>NaN</td>\n",
       "      <td>2017-05-05 14:43:24</td>\n",
       "      <td>194.016667</td>\n",
       "      <td>0</td>\n",
       "      <td>194.016667</td>\n",
       "      <td>2017-05-05 14:43:24</td>\n",
       "      <td>0.000000</td>\n",
       "      <td>0.000000</td>\n",
       "      <td>14</td>\n",
       "      <td>afternoon</td>\n",
       "      <td>45+</td>\n",
       "    </tr>\n",
       "    <tr>\n",
       "      <th>4</th>\n",
       "      <td>2017-05-07</td>\n",
       "      <td>472446402581</td>\n",
       "      <td>3804618</td>\n",
       "      <td>NaN</td>\n",
       "      <td>NaN</td>\n",
       "      <td>2017-05-07 14:03:01</td>\n",
       "      <td>290.833333</td>\n",
       "      <td>0</td>\n",
       "      <td>290.833333</td>\n",
       "      <td>2017-05-07 14:03:01</td>\n",
       "      <td>0.000000</td>\n",
       "      <td>0.000000</td>\n",
       "      <td>14</td>\n",
       "      <td>afternoon</td>\n",
       "      <td>45+</td>\n",
       "    </tr>\n",
       "    <tr>\n",
       "      <th>5</th>\n",
       "      <td>2017-05-07</td>\n",
       "      <td>755914244110</td>\n",
       "      <td>3774476</td>\n",
       "      <td>NaN</td>\n",
       "      <td>NaN</td>\n",
       "      <td>2017-05-07 14:30:07</td>\n",
       "      <td>32.483333</td>\n",
       "      <td>1</td>\n",
       "      <td>4.166667</td>\n",
       "      <td>2017-05-07 14:28:07</td>\n",
       "      <td>28.316667</td>\n",
       "      <td>0.871729</td>\n",
       "      <td>14</td>\n",
       "      <td>afternoon</td>\n",
       "      <td>30_45</td>\n",
       "    </tr>\n",
       "    <tr>\n",
       "      <th>6</th>\n",
       "      <td>2017-05-01</td>\n",
       "      <td>42949673035</td>\n",
       "      <td>2835698</td>\n",
       "      <td>NaN</td>\n",
       "      <td>NaN</td>\n",
       "      <td>2017-05-01 14:50:02</td>\n",
       "      <td>42.083333</td>\n",
       "      <td>2</td>\n",
       "      <td>16.783333</td>\n",
       "      <td>2017-05-01 15:03:10</td>\n",
       "      <td>25.300000</td>\n",
       "      <td>0.601188</td>\n",
       "      <td>14</td>\n",
       "      <td>afternoon</td>\n",
       "      <td>30_45</td>\n",
       "    </tr>\n",
       "    <tr>\n",
       "      <th>7</th>\n",
       "      <td>2017-05-05</td>\n",
       "      <td>592705486858</td>\n",
       "      <td>2931370</td>\n",
       "      <td>16/11/94</td>\n",
       "      <td>F</td>\n",
       "      <td>2017-05-05 14:32:53</td>\n",
       "      <td>1.433333</td>\n",
       "      <td>0</td>\n",
       "      <td>1.433333</td>\n",
       "      <td>2017-05-05 14:32:53</td>\n",
       "      <td>0.000000</td>\n",
       "      <td>0.000000</td>\n",
       "      <td>14</td>\n",
       "      <td>afternoon</td>\n",
       "      <td>0_15</td>\n",
       "    </tr>\n",
       "    <tr>\n",
       "      <th>8</th>\n",
       "      <td>2017-04-30</td>\n",
       "      <td>1322849927184</td>\n",
       "      <td>1794145</td>\n",
       "      <td>NaN</td>\n",
       "      <td>NaN</td>\n",
       "      <td>2017-04-30 14:32:10</td>\n",
       "      <td>22.400000</td>\n",
       "      <td>0</td>\n",
       "      <td>22.400000</td>\n",
       "      <td>2017-04-30 14:32:10</td>\n",
       "      <td>0.000000</td>\n",
       "      <td>0.000000</td>\n",
       "      <td>14</td>\n",
       "      <td>afternoon</td>\n",
       "      <td>15_30</td>\n",
       "    </tr>\n",
       "    <tr>\n",
       "      <th>9</th>\n",
       "      <td>2017-04-30</td>\n",
       "      <td>171798691886</td>\n",
       "      <td>3609739</td>\n",
       "      <td>22/09/78</td>\n",
       "      <td>F</td>\n",
       "      <td>2017-04-30 14:59:08</td>\n",
       "      <td>17.900000</td>\n",
       "      <td>1</td>\n",
       "      <td>11.566667</td>\n",
       "      <td>2017-04-30 14:57:08</td>\n",
       "      <td>6.333333</td>\n",
       "      <td>0.353818</td>\n",
       "      <td>14</td>\n",
       "      <td>afternoon</td>\n",
       "      <td>15_30</td>\n",
       "    </tr>\n",
       "  </tbody>\n",
       "</table>\n",
       "</div>"
      ],
      "text/plain": [
       "         date   user_trip_id   cardNum birthdate gender      exec_start_time  \\\n",
       "0  2017-04-30   403726925909   3682118       NaN    NaN  2017-04-30 01:08:51   \n",
       "1  2017-04-30   712964571226  10005641       NaN    NaN  2017-04-30 14:39:39   \n",
       "2  2017-05-07   601295421440   2483729       NaN    NaN  2017-05-07 14:43:11   \n",
       "3  2017-05-05   670014898204   2652348       NaN    NaN  2017-05-05 14:43:24   \n",
       "4  2017-05-07   472446402581   3804618       NaN    NaN  2017-05-07 14:03:01   \n",
       "5  2017-05-07   755914244110   3774476       NaN    NaN  2017-05-07 14:30:07   \n",
       "6  2017-05-01    42949673035   2835698       NaN    NaN  2017-05-01 14:50:02   \n",
       "7  2017-05-05   592705486858   2931370  16/11/94      F  2017-05-05 14:32:53   \n",
       "8  2017-04-30  1322849927184   1794145       NaN    NaN  2017-04-30 14:32:10   \n",
       "9  2017-04-30   171798691886   3609739  22/09/78      F  2017-04-30 14:59:08   \n",
       "\n",
       "   executed_duration  itinerary_id    duration       alt_start_time  \\\n",
       "0         674.300000             0  674.300000  2017-04-30 01:08:51   \n",
       "1           8.416667             0    8.416667  2017-04-30 14:39:39   \n",
       "2           1.300000             0    1.300000  2017-05-07 14:43:11   \n",
       "3         194.016667             0  194.016667  2017-05-05 14:43:24   \n",
       "4         290.833333             0  290.833333  2017-05-07 14:03:01   \n",
       "5          32.483333             1    4.166667  2017-05-07 14:28:07   \n",
       "6          42.083333             2   16.783333  2017-05-01 15:03:10   \n",
       "7           1.433333             0    1.433333  2017-05-05 14:32:53   \n",
       "8          22.400000             0   22.400000  2017-04-30 14:32:10   \n",
       "9          17.900000             1   11.566667  2017-04-30 14:57:08   \n",
       "\n",
       "   imp_capacity  imp_capacity_perc  hour_of_day    period_of_day  \\\n",
       "0      0.000000           0.000000            1  very_late_night   \n",
       "1      0.000000           0.000000           14        afternoon   \n",
       "2      0.000000           0.000000           14        afternoon   \n",
       "3      0.000000           0.000000           14        afternoon   \n",
       "4      0.000000           0.000000           14        afternoon   \n",
       "5     28.316667           0.871729           14        afternoon   \n",
       "6     25.300000           0.601188           14        afternoon   \n",
       "7      0.000000           0.000000           14        afternoon   \n",
       "8      0.000000           0.000000           14        afternoon   \n",
       "9      6.333333           0.353818           14        afternoon   \n",
       "\n",
       "  trip_length_bucket  \n",
       "0                45+  \n",
       "1               0_15  \n",
       "2               0_15  \n",
       "3                45+  \n",
       "4                45+  \n",
       "5              30_45  \n",
       "6              30_45  \n",
       "7               0_15  \n",
       "8              15_30  \n",
       "9              15_30  "
      ]
     },
     "execution_count": 102,
     "metadata": {},
     "output_type": "execute_result"
    }
   ],
   "source": [
    "imp_cap_df.head(10)"
   ]
  },
  {
   "cell_type": "markdown",
   "metadata": {},
   "source": [
    "### Analyzing Data Distribution"
   ]
  },
  {
   "cell_type": "markdown",
   "metadata": {},
   "source": [
    "### Improvement Capacity Percentage"
   ]
  },
  {
   "cell_type": "markdown",
   "metadata": {},
   "source": [
    "#### Overall"
   ]
  },
  {
   "cell_type": "code",
   "execution_count": 103,
   "metadata": {},
   "outputs": [
    {
     "data": {
      "text/plain": [
       "<matplotlib.axes._subplots.AxesSubplot at 0x7f096289d2d0>"
      ]
     },
     "execution_count": 103,
     "metadata": {},
     "output_type": "execute_result"
    },
    {
     "data": {
      "image/png": "[encoded data removed]",
      "text/plain": [
       "<matplotlib.figure.Figure at 0x7f09620ee250>"
      ]
     },
     "metadata": {},
     "output_type": "display_data"
    }
   ],
   "source": [
    "sns.kdeplot(imp_cap_df.imp_capacity_perc, shade=True)"
   ]
  },
  {
   "cell_type": "code",
   "execution_count": 104,
   "metadata": {},
   "outputs": [
    {
     "data": {
      "text/plain": [
       "count    2858.000000\n",
       "mean        0.227211\n",
       "std         0.373718\n",
       "min         0.000000\n",
       "25%         0.000000\n",
       "50%         0.000000\n",
       "75%         0.495499\n",
       "max         0.997969\n",
       "Name: imp_capacity_perc, dtype: float64"
      ]
     },
     "execution_count": 104,
     "metadata": {},
     "output_type": "execute_result"
    }
   ],
   "source": [
    "imp_cap_df.imp_capacity_perc.describe()"
   ]
  },
  {
   "cell_type": "markdown",
   "metadata": {},
   "source": [
    "#### Removing outliers (lower/higher 5%)"
   ]
  },
  {
   "cell_type": "code",
   "execution_count": 105,
   "metadata": {},
   "outputs": [
    {
     "name": "stdout",
     "output_type": "stream",
     "text": [
      "0.0 0.97027847871\n"
     ]
    }
   ],
   "source": [
    "fith_perc = np.percentile(imp_cap_df.imp_capacity_perc,5)\n",
    "ninety_fith_perc = np.percentile(imp_cap_df.imp_capacity_perc,95)\n",
    "\n",
    "print fith_perc, ninety_fith_perc"
   ]
  },
  {
   "cell_type": "code",
   "execution_count": 106,
   "metadata": {
    "collapsed": true
   },
   "outputs": [],
   "source": [
    "filtered_imp_cap_df = imp_cap_df[(imp_cap_df.imp_capacity_perc > fith_perc) & (imp_cap_df.imp_capacity_perc < ninety_fith_perc)].copy()"
   ]
  },
  {
   "cell_type": "code",
   "execution_count": 107,
   "metadata": {},
   "outputs": [
    {
     "data": {
      "text/plain": [
       "<matplotlib.axes._subplots.AxesSubplot at 0x7f0962264990>"
      ]
     },
     "execution_count": 107,
     "metadata": {},
     "output_type": "execute_result"
    },
    {
     "data": {
      "image/png": "[encoded data removed]",
      "text/plain": [
       "<matplotlib.figure.Figure at 0x7f0962780bd0>"
      ]
     },
     "metadata": {},
     "output_type": "display_data"
    }
   ],
   "source": [
    "sns.kdeplot(filtered_imp_cap_df.imp_capacity_perc, shade=True)"
   ]
  },
  {
   "cell_type": "code",
   "execution_count": 108,
   "metadata": {},
   "outputs": [
    {
     "data": {
      "text/plain": [
       "count    722.000000\n",
       "mean       0.704411\n",
       "std        0.262558\n",
       "min        0.001749\n",
       "25%        0.554128\n",
       "50%        0.810138\n",
       "75%        0.909568\n",
       "max        0.970235\n",
       "Name: imp_capacity_perc, dtype: float64"
      ]
     },
     "execution_count": 108,
     "metadata": {},
     "output_type": "execute_result"
    }
   ],
   "source": [
    "filtered_imp_cap_df.imp_capacity_perc.describe()"
   ]
  },
  {
   "cell_type": "code",
   "execution_count": 109,
   "metadata": {},
   "outputs": [
    {
     "data": {
      "text/plain": [
       "<matplotlib.axes._subplots.AxesSubplot at 0x7f0961fb70d0>"
      ]
     },
     "execution_count": 109,
     "metadata": {},
     "output_type": "execute_result"
    },
    {
     "data": {
      "image/png": "[encoded data removed]",
      "text/plain": [
       "<matplotlib.figure.Figure at 0x7f0962317150>"
      ]
     },
     "metadata": {},
     "output_type": "display_data"
    }
   ],
   "source": [
    "sns.violinplot(x=filtered_imp_cap_df.imp_capacity_perc)"
   ]
  },
  {
   "cell_type": "markdown",
   "metadata": {},
   "source": [
    "#### Per trip length "
   ]
  },
  {
   "cell_type": "code",
   "execution_count": 110,
   "metadata": {
    "scrolled": true
   },
   "outputs": [
    {
     "data": {
      "image/png": "[encoded data removed]",
      "text/plain": [
       "<matplotlib.figure.Figure at 0x7f09622db810>"
      ]
     },
     "metadata": {},
     "output_type": "display_data"
    }
   ],
   "source": [
    "trip_len_order=['0_15','15_30','30_45','45+']\n",
    "ax = sns.violinplot(x='trip_length_bucket',y='imp_capacity_perc', data=filtered_imp_cap_df, order=trip_len_order)\n",
    "ax.set(xlabel='Trip Length Bucket',ylabel='Improvement Capacity Proportion',title='Improvement Capacity Proportion per Trip Length Bucket')\n",
    "plt.show()"
   ]
  },
  {
   "cell_type": "markdown",
   "metadata": {},
   "source": [
    "#### Per hour of day"
   ]
  },
  {
   "cell_type": "code",
   "execution_count": 111,
   "metadata": {
    "scrolled": true
   },
   "outputs": [
    {
     "data": {
      "image/png": "[encoded data removed]",
      "text/plain": [
       "<matplotlib.figure.Figure at 0x7f096245e790>"
      ]
     },
     "metadata": {},
     "output_type": "display_data"
    }
   ],
   "source": [
    "ax = sns.violinplot(x='hour_of_day',y='imp_capacity_perc', data=filtered_imp_cap_df)\n",
    "ax.set(xlabel='Hour of Day',ylabel='Improvement Capacity Proportion',title='Improvement Capacity Proportion per Hour of Day')\n",
    "plt.show()"
   ]
  },
  {
   "cell_type": "markdown",
   "metadata": {},
   "source": [
    "#### Per period of day"
   ]
  },
  {
   "cell_type": "code",
   "execution_count": 112,
   "metadata": {
    "scrolled": true
   },
   "outputs": [
    {
     "data": {
      "image/png": "[encoded data removed]",
      "text/plain": [
       "<matplotlib.figure.Figure at 0x7f0969fe8d90>"
      ]
     },
     "metadata": {},
     "output_type": "display_data"
    }
   ],
   "source": [
    "period_of_day_order = ['very_late_night','early_morning','morning','midday','afternoon','early_night','night','late_night']\n",
    "ax = sns.boxplot(x='imp_capacity_perc',y='period_of_day', data=filtered_imp_cap_df, order=period_of_day_order)\n",
    "ax.set(xlabel='Period of Day',ylabel='Improvement Capacity Proportion',title='Improvement Capacity Proportion per Period of Day')\n",
    "plt.show()"
   ]
  },
  {
   "cell_type": "markdown",
   "metadata": {},
   "source": [
    "#### Per trip length and Period of Day"
   ]
  },
  {
   "cell_type": "code",
   "execution_count": 113,
   "metadata": {},
   "outputs": [
    {
     "data": {
      "text/plain": [
       "<seaborn.axisgrid.FacetGrid at 0x7f09627ac7d0>"
      ]
     },
     "execution_count": 113,
     "metadata": {},
     "output_type": "execute_result"
    },
    {
     "data": {
      "image/png": "[encoded data removed]",
      "text/plain": [
       "<matplotlib.figure.Figure at 0x7f0962760f50>"
      ]
     },
     "metadata": {},
     "output_type": "display_data"
    }
   ],
   "source": [
    "col_order = ['very_late_night','early_morning','morning','midday','afternoon','early_night','night','late_night']\n",
    "sns.factorplot(x='imp_capacity_perc',y='period_of_day',hue='trip_length_bucket', data=filtered_imp_cap_df, kind='bar', size=6, order=col_order)"
   ]
  },
  {
   "cell_type": "markdown",
   "metadata": {},
   "source": [
    "#### Per Day of Week (Sun-Sat)"
   ]
  },
  {
   "cell_type": "markdown",
   "metadata": {},
   "source": [
    "#### Per Day Type (Mon,Fri,Tue-Thu,Sat-Sun)"
   ]
  },
  {
   "cell_type": "code",
   "execution_count": null,
   "metadata": {
    "collapsed": true
   },
   "outputs": [],
   "source": []
  }
 ],
 "metadata": {
  "kernelspec": {
   "display_name": "Python 2",
   "language": "python",
   "name": "python2"
  },
  "language_info": {
   "codemirror_mode": {
    "name": "ipython",
    "version": 2
   },
   "file_extension": ".py",
   "mimetype": "text/x-python",
   "name": "python",
   "nbconvert_exporter": "python",
   "pygments_lexer": "ipython2",
   "version": "2.7.14"
  }
 },
 "nbformat": 4,
 "nbformat_minor": 2
}
