{
 "cells": [
  {
   "cell_type": "markdown",
   "metadata": {},
   "source": [
    "### Imports"
   ]
  },
  {
   "cell_type": "code",
   "execution_count": 1,
   "metadata": {
    "collapsed": true
   },
   "outputs": [],
   "source": [
    "import pandas as pd\n",
    "import numpy as np\n",
    "\n",
    "#Python Standard Libs Imports\n",
    "import json\n",
    "import urllib2\n",
    "import sys\n",
    "from datetime import datetime\n",
    "from os.path import isfile, join, splitext\n",
    "from glob import glob\n",
    "\n",
    "#Imports to enable visualizations\n",
    "import seaborn as sns\n",
    "import matplotlib.pyplot as plt\n",
    "%matplotlib inline"
   ]
  },
  {
   "cell_type": "markdown",
   "metadata": {},
   "source": [
    "### Functions"
   ]
  },
  {
   "cell_type": "markdown",
   "metadata": {},
   "source": [
    "#### Basic Functions"
   ]
  },
  {
   "cell_type": "markdown",
   "metadata": {},
   "source": [
    "#### OTP Functions"
   ]
  },
  {
   "cell_type": "markdown",
   "metadata": {},
   "source": [
    "#### Analysis Functions"
   ]
  },
  {
   "cell_type": "markdown",
   "metadata": {},
   "source": [
    "### Main Code"
   ]
  },
  {
   "cell_type": "markdown",
   "metadata": {},
   "source": [
    "#### Reading itinerary alternatives data"
   ]
  },
  {
   "cell_type": "code",
   "execution_count": 7,
   "metadata": {},
   "outputs": [],
   "source": [
    "all_itineraries = pd.read_csv('/local/tarciso/data/trips-optimality-exp/single-day-test/2017_05_08/itineraries/2017_05_08_itinerary.csv', parse_dates=['planned_start_time','actual_start_time','exec_start_time'])"
   ]
  },
  {
   "cell_type": "code",
   "execution_count": 8,
   "metadata": {},
   "outputs": [
    {
     "data": {
      "text/html": [
       "<div>\n",
       "<style>\n",
       "    .dataframe thead tr:only-child th {\n",
       "        text-align: right;\n",
       "    }\n",
       "\n",
       "    .dataframe thead th {\n",
       "        text-align: left;\n",
       "    }\n",
       "\n",
       "    .dataframe tbody tr th {\n",
       "        vertical-align: top;\n",
       "    }\n",
       "</style>\n",
       "<table border=\"1\" class=\"dataframe\">\n",
       "  <thead>\n",
       "    <tr style=\"text-align: right;\">\n",
       "      <th></th>\n",
       "      <th>date</th>\n",
       "      <th>user_trip_id</th>\n",
       "      <th>itinerary_id</th>\n",
       "      <th>planned_duration_mins</th>\n",
       "      <th>actual_duration_mins</th>\n",
       "      <th>exec_duration_mins</th>\n",
       "      <th>planned_start_time</th>\n",
       "      <th>actual_start_time</th>\n",
       "      <th>exec_start_time</th>\n",
       "    </tr>\n",
       "  </thead>\n",
       "  <tbody>\n",
       "    <tr>\n",
       "      <th>0</th>\n",
       "      <td>2017-05-08</td>\n",
       "      <td>17179869196</td>\n",
       "      <td>0</td>\n",
       "      <td>23.333333</td>\n",
       "      <td>16.016667</td>\n",
       "      <td>16.016667</td>\n",
       "      <td>2017-05-08 08:08:00</td>\n",
       "      <td>2017-05-08 07:59:32</td>\n",
       "      <td>2017-05-08 07:59:32</td>\n",
       "    </tr>\n",
       "    <tr>\n",
       "      <th>1</th>\n",
       "      <td>2017-05-08</td>\n",
       "      <td>17179869196</td>\n",
       "      <td>1</td>\n",
       "      <td>23.700000</td>\n",
       "      <td>23.583333</td>\n",
       "      <td>16.016667</td>\n",
       "      <td>2017-05-08 08:08:00</td>\n",
       "      <td>2017-05-08 08:13:34</td>\n",
       "      <td>2017-05-08 07:59:32</td>\n",
       "    </tr>\n",
       "    <tr>\n",
       "      <th>2</th>\n",
       "      <td>2017-05-08</td>\n",
       "      <td>17179869196</td>\n",
       "      <td>3</td>\n",
       "      <td>24.633333</td>\n",
       "      <td>21.366667</td>\n",
       "      <td>16.016667</td>\n",
       "      <td>2017-05-08 08:27:00</td>\n",
       "      <td>2017-05-08 08:24:13</td>\n",
       "      <td>2017-05-08 07:59:32</td>\n",
       "    </tr>\n",
       "    <tr>\n",
       "      <th>3</th>\n",
       "      <td>2017-05-08</td>\n",
       "      <td>94489280525</td>\n",
       "      <td>0</td>\n",
       "      <td>22.216667</td>\n",
       "      <td>19.833333</td>\n",
       "      <td>19.833333</td>\n",
       "      <td>2017-05-08 18:28:00</td>\n",
       "      <td>2017-05-08 18:04:31</td>\n",
       "      <td>2017-05-08 18:04:31</td>\n",
       "    </tr>\n",
       "    <tr>\n",
       "      <th>4</th>\n",
       "      <td>2017-05-08</td>\n",
       "      <td>94489280525</td>\n",
       "      <td>1</td>\n",
       "      <td>22.350000</td>\n",
       "      <td>20.266667</td>\n",
       "      <td>19.833333</td>\n",
       "      <td>2017-05-08 18:28:00</td>\n",
       "      <td>2017-05-08 18:31:40</td>\n",
       "      <td>2017-05-08 18:04:31</td>\n",
       "    </tr>\n",
       "  </tbody>\n",
       "</table>\n",
       "</div>"
      ],
      "text/plain": [
       "         date  user_trip_id  itinerary_id  planned_duration_mins  \\\n",
       "0  2017-05-08   17179869196             0              23.333333   \n",
       "1  2017-05-08   17179869196             1              23.700000   \n",
       "2  2017-05-08   17179869196             3              24.633333   \n",
       "3  2017-05-08   94489280525             0              22.216667   \n",
       "4  2017-05-08   94489280525             1              22.350000   \n",
       "\n",
       "   actual_duration_mins  exec_duration_mins  planned_start_time  \\\n",
       "0             16.016667           16.016667 2017-05-08 08:08:00   \n",
       "1             23.583333           16.016667 2017-05-08 08:08:00   \n",
       "2             21.366667           16.016667 2017-05-08 08:27:00   \n",
       "3             19.833333           19.833333 2017-05-08 18:28:00   \n",
       "4             20.266667           19.833333 2017-05-08 18:28:00   \n",
       "\n",
       "    actual_start_time     exec_start_time  \n",
       "0 2017-05-08 07:59:32 2017-05-08 07:59:32  \n",
       "1 2017-05-08 08:13:34 2017-05-08 07:59:32  \n",
       "2 2017-05-08 08:24:13 2017-05-08 07:59:32  \n",
       "3 2017-05-08 18:04:31 2017-05-08 18:04:31  \n",
       "4 2017-05-08 18:31:40 2017-05-08 18:04:31  "
      ]
     },
     "execution_count": 8,
     "metadata": {},
     "output_type": "execute_result"
    }
   ],
   "source": [
    "all_itineraries.head()"
   ]
  },
  {
   "cell_type": "code",
   "execution_count": 9,
   "metadata": {},
   "outputs": [
    {
     "data": {
      "text/plain": [
       "date                             object\n",
       "user_trip_id                      int64\n",
       "itinerary_id                      int64\n",
       "planned_duration_mins           float64\n",
       "actual_duration_mins            float64\n",
       "exec_duration_mins              float64\n",
       "planned_start_time       datetime64[ns]\n",
       "actual_start_time        datetime64[ns]\n",
       "exec_start_time          datetime64[ns]\n",
       "dtype: object"
      ]
     },
     "execution_count": 9,
     "metadata": {},
     "output_type": "execute_result"
    }
   ],
   "source": [
    "all_itineraries.dtypes"
   ]
  },
  {
   "cell_type": "code",
   "execution_count": 10,
   "metadata": {},
   "outputs": [
    {
     "data": {
      "text/plain": [
       "176"
      ]
     },
     "execution_count": 10,
     "metadata": {},
     "output_type": "execute_result"
    }
   ],
   "source": [
    "len(all_itineraries)"
   ]
  },
  {
   "cell_type": "code",
   "execution_count": 11,
   "metadata": {},
   "outputs": [
    {
     "data": {
      "text/plain": [
       "50"
      ]
     },
     "execution_count": 11,
     "metadata": {},
     "output_type": "execute_result"
    }
   ],
   "source": [
    "len(all_itineraries.user_trip_id.unique())"
   ]
  },
  {
   "cell_type": "markdown",
   "metadata": {},
   "source": [
    "#### Filtering trips for whose executed itineraries there is no schedule information"
   ]
  },
  {
   "cell_type": "code",
   "execution_count": 12,
   "metadata": {
    "collapsed": true
   },
   "outputs": [],
   "source": [
    "def filter_trips_alternatives(trips_alternatives):\n",
    "    min_trip_dur = 10\n",
    "    max_trip_dur = 50\n",
    "    max_trip_start_diff = 20\n",
    "    \n",
    "    return trips_alternatives[(trips_alternatives['actual_duration_mins'] >= min_trip_dur) & (trips_alternatives['actual_duration_mins'] <= max_trip_dur)] \\\n",
    "                                    .assign(start_diff = lambda x: np.absolute(x['exec_start_time'] - x['actual_start_time'])/pd.Timedelta(minutes=1)) \\\n",
    "                                    #[lambda x: x['start_diff'] <= 60]"
   ]
  },
  {
   "cell_type": "code",
   "execution_count": 13,
   "metadata": {
    "collapsed": true
   },
   "outputs": [],
   "source": [
    "def filter_trips_with_insufficient_alternatives(trips_alternatives):\n",
    "    num_trips_alternatives = trips_alternatives.groupby(['date','user_trip_id']).size().reset_index(name='num_alternatives')\n",
    "    trips_with_executed_alternative = trips_alternatives[trips_alternatives['itinerary_id'] == 0][['date','user_trip_id']]\n",
    "    \n",
    "    return trips_alternatives.merge(trips_with_executed_alternative, on=['date','user_trip_id'], how='inner') \\\n",
    "                .merge(num_trips_alternatives, on=['date','user_trip_id'], how='inner') \\\n",
    "                [lambda x: x['num_alternatives'] > 1] \\\n",
    "                .sort_values(['user_trip_id','itinerary_id'])   "
   ]
  },
  {
   "cell_type": "code",
   "execution_count": 19,
   "metadata": {
    "collapsed": true
   },
   "outputs": [],
   "source": [
    "clean_itineraries = filter_trips_with_insufficient_alternatives(filter_trips_alternatives(all_itineraries))"
   ]
  },
  {
   "cell_type": "code",
   "execution_count": 20,
   "metadata": {},
   "outputs": [
    {
     "data": {
      "text/html": [
       "<div>\n",
       "<style>\n",
       "    .dataframe thead tr:only-child th {\n",
       "        text-align: right;\n",
       "    }\n",
       "\n",
       "    .dataframe thead th {\n",
       "        text-align: left;\n",
       "    }\n",
       "\n",
       "    .dataframe tbody tr th {\n",
       "        vertical-align: top;\n",
       "    }\n",
       "</style>\n",
       "<table border=\"1\" class=\"dataframe\">\n",
       "  <thead>\n",
       "    <tr style=\"text-align: right;\">\n",
       "      <th></th>\n",
       "      <th>date</th>\n",
       "      <th>user_trip_id</th>\n",
       "      <th>itinerary_id</th>\n",
       "      <th>planned_duration_mins</th>\n",
       "      <th>actual_duration_mins</th>\n",
       "      <th>exec_duration_mins</th>\n",
       "      <th>planned_start_time</th>\n",
       "      <th>actual_start_time</th>\n",
       "      <th>exec_start_time</th>\n",
       "      <th>start_diff</th>\n",
       "      <th>num_alternatives</th>\n",
       "    </tr>\n",
       "  </thead>\n",
       "  <tbody>\n",
       "    <tr>\n",
       "      <th>0</th>\n",
       "      <td>2017-05-08</td>\n",
       "      <td>17179869196</td>\n",
       "      <td>0</td>\n",
       "      <td>23.333333</td>\n",
       "      <td>16.016667</td>\n",
       "      <td>16.016667</td>\n",
       "      <td>2017-05-08 08:08:00</td>\n",
       "      <td>2017-05-08 07:59:32</td>\n",
       "      <td>2017-05-08 07:59:32</td>\n",
       "      <td>0.000000</td>\n",
       "      <td>3</td>\n",
       "    </tr>\n",
       "    <tr>\n",
       "      <th>1</th>\n",
       "      <td>2017-05-08</td>\n",
       "      <td>17179869196</td>\n",
       "      <td>1</td>\n",
       "      <td>23.700000</td>\n",
       "      <td>23.583333</td>\n",
       "      <td>16.016667</td>\n",
       "      <td>2017-05-08 08:08:00</td>\n",
       "      <td>2017-05-08 08:13:34</td>\n",
       "      <td>2017-05-08 07:59:32</td>\n",
       "      <td>14.033333</td>\n",
       "      <td>3</td>\n",
       "    </tr>\n",
       "    <tr>\n",
       "      <th>2</th>\n",
       "      <td>2017-05-08</td>\n",
       "      <td>17179869196</td>\n",
       "      <td>3</td>\n",
       "      <td>24.633333</td>\n",
       "      <td>21.366667</td>\n",
       "      <td>16.016667</td>\n",
       "      <td>2017-05-08 08:27:00</td>\n",
       "      <td>2017-05-08 08:24:13</td>\n",
       "      <td>2017-05-08 07:59:32</td>\n",
       "      <td>24.683333</td>\n",
       "      <td>3</td>\n",
       "    </tr>\n",
       "    <tr>\n",
       "      <th>3</th>\n",
       "      <td>2017-05-08</td>\n",
       "      <td>94489280525</td>\n",
       "      <td>0</td>\n",
       "      <td>22.216667</td>\n",
       "      <td>19.833333</td>\n",
       "      <td>19.833333</td>\n",
       "      <td>2017-05-08 18:28:00</td>\n",
       "      <td>2017-05-08 18:04:31</td>\n",
       "      <td>2017-05-08 18:04:31</td>\n",
       "      <td>0.000000</td>\n",
       "      <td>4</td>\n",
       "    </tr>\n",
       "    <tr>\n",
       "      <th>4</th>\n",
       "      <td>2017-05-08</td>\n",
       "      <td>94489280525</td>\n",
       "      <td>1</td>\n",
       "      <td>22.350000</td>\n",
       "      <td>20.266667</td>\n",
       "      <td>19.833333</td>\n",
       "      <td>2017-05-08 18:28:00</td>\n",
       "      <td>2017-05-08 18:31:40</td>\n",
       "      <td>2017-05-08 18:04:31</td>\n",
       "      <td>27.150000</td>\n",
       "      <td>4</td>\n",
       "    </tr>\n",
       "  </tbody>\n",
       "</table>\n",
       "</div>"
      ],
      "text/plain": [
       "         date  user_trip_id  itinerary_id  planned_duration_mins  \\\n",
       "0  2017-05-08   17179869196             0              23.333333   \n",
       "1  2017-05-08   17179869196             1              23.700000   \n",
       "2  2017-05-08   17179869196             3              24.633333   \n",
       "3  2017-05-08   94489280525             0              22.216667   \n",
       "4  2017-05-08   94489280525             1              22.350000   \n",
       "\n",
       "   actual_duration_mins  exec_duration_mins  planned_start_time  \\\n",
       "0             16.016667           16.016667 2017-05-08 08:08:00   \n",
       "1             23.583333           16.016667 2017-05-08 08:08:00   \n",
       "2             21.366667           16.016667 2017-05-08 08:27:00   \n",
       "3             19.833333           19.833333 2017-05-08 18:28:00   \n",
       "4             20.266667           19.833333 2017-05-08 18:28:00   \n",
       "\n",
       "    actual_start_time     exec_start_time  start_diff  num_alternatives  \n",
       "0 2017-05-08 07:59:32 2017-05-08 07:59:32    0.000000                 3  \n",
       "1 2017-05-08 08:13:34 2017-05-08 07:59:32   14.033333                 3  \n",
       "2 2017-05-08 08:24:13 2017-05-08 07:59:32   24.683333                 3  \n",
       "3 2017-05-08 18:04:31 2017-05-08 18:04:31    0.000000                 4  \n",
       "4 2017-05-08 18:31:40 2017-05-08 18:04:31   27.150000                 4  "
      ]
     },
     "execution_count": 20,
     "metadata": {},
     "output_type": "execute_result"
    }
   ],
   "source": [
    "clean_itineraries.head()"
   ]
  },
  {
   "cell_type": "code",
   "execution_count": 21,
   "metadata": {},
   "outputs": [
    {
     "data": {
      "text/plain": [
       "<matplotlib.axes._subplots.AxesSubplot at 0x7f3f03031350>"
      ]
     },
     "execution_count": 21,
     "metadata": {},
     "output_type": "execute_result"
    },
    {
     "data": {
      "image/png": "[encoded data removed]",
      "text/plain": [
       "<matplotlib.figure.Figure at 0x7f3f02f9c550>"
      ]
     },
     "metadata": {},
     "output_type": "display_data"
    }
   ],
   "source": [
    "sns.distplot(clean_itineraries['start_diff'])"
   ]
  },
  {
   "cell_type": "code",
   "execution_count": 22,
   "metadata": {
    "scrolled": true
   },
   "outputs": [
    {
     "data": {
      "text/plain": [
       "71"
      ]
     },
     "execution_count": 22,
     "metadata": {},
     "output_type": "execute_result"
    }
   ],
   "source": [
    "len(clean_itineraries)"
   ]
  },
  {
   "cell_type": "code",
   "execution_count": 23,
   "metadata": {},
   "outputs": [
    {
     "data": {
      "text/plain": [
       "20"
      ]
     },
     "execution_count": 23,
     "metadata": {},
     "output_type": "execute_result"
    }
   ],
   "source": [
    "len(clean_itineraries.user_trip_id.unique())"
   ]
  },
  {
   "cell_type": "code",
   "execution_count": 24,
   "metadata": {
    "collapsed": true
   },
   "outputs": [],
   "source": [
    "exec_itineraries_with_scheduled_info = all_itineraries[(all_itineraries['itinerary_id'] == 0) & (pd.notnull(all_itineraries['planned_duration_mins']))][['user_trip_id']]"
   ]
  },
  {
   "cell_type": "code",
   "execution_count": 25,
   "metadata": {
    "scrolled": true
   },
   "outputs": [
    {
     "data": {
      "text/html": [
       "<div>\n",
       "<style>\n",
       "    .dataframe thead tr:only-child th {\n",
       "        text-align: right;\n",
       "    }\n",
       "\n",
       "    .dataframe thead th {\n",
       "        text-align: left;\n",
       "    }\n",
       "\n",
       "    .dataframe tbody tr th {\n",
       "        vertical-align: top;\n",
       "    }\n",
       "</style>\n",
       "<table border=\"1\" class=\"dataframe\">\n",
       "  <thead>\n",
       "    <tr style=\"text-align: right;\">\n",
       "      <th></th>\n",
       "      <th>user_trip_id</th>\n",
       "    </tr>\n",
       "  </thead>\n",
       "  <tbody>\n",
       "    <tr>\n",
       "      <th>0</th>\n",
       "      <td>17179869196</td>\n",
       "    </tr>\n",
       "    <tr>\n",
       "      <th>3</th>\n",
       "      <td>94489280525</td>\n",
       "    </tr>\n",
       "    <tr>\n",
       "      <th>10</th>\n",
       "      <td>163208757264</td>\n",
       "    </tr>\n",
       "    <tr>\n",
       "      <th>24</th>\n",
       "      <td>481036337161</td>\n",
       "    </tr>\n",
       "    <tr>\n",
       "      <th>28</th>\n",
       "      <td>506806140942</td>\n",
       "    </tr>\n",
       "  </tbody>\n",
       "</table>\n",
       "</div>"
      ],
      "text/plain": [
       "    user_trip_id\n",
       "0    17179869196\n",
       "3    94489280525\n",
       "10  163208757264\n",
       "24  481036337161\n",
       "28  506806140942"
      ]
     },
     "execution_count": 25,
     "metadata": {},
     "output_type": "execute_result"
    }
   ],
   "source": [
    "exec_itineraries_with_scheduled_info.head()"
   ]
  },
  {
   "cell_type": "code",
   "execution_count": 26,
   "metadata": {
    "collapsed": true
   },
   "outputs": [],
   "source": [
    "clean_itineraries2 = filter_trips_with_insufficient_alternatives(filter_trips_alternatives(all_itineraries.merge(exec_itineraries_with_scheduled_info, on='user_trip_id', how='inner')))"
   ]
  },
  {
   "cell_type": "code",
   "execution_count": 27,
   "metadata": {
    "scrolled": false
   },
   "outputs": [
    {
     "data": {
      "text/html": [
       "<div>\n",
       "<style>\n",
       "    .dataframe thead tr:only-child th {\n",
       "        text-align: right;\n",
       "    }\n",
       "\n",
       "    .dataframe thead th {\n",
       "        text-align: left;\n",
       "    }\n",
       "\n",
       "    .dataframe tbody tr th {\n",
       "        vertical-align: top;\n",
       "    }\n",
       "</style>\n",
       "<table border=\"1\" class=\"dataframe\">\n",
       "  <thead>\n",
       "    <tr style=\"text-align: right;\">\n",
       "      <th></th>\n",
       "      <th>date</th>\n",
       "      <th>user_trip_id</th>\n",
       "      <th>itinerary_id</th>\n",
       "      <th>planned_duration_mins</th>\n",
       "      <th>actual_duration_mins</th>\n",
       "      <th>exec_duration_mins</th>\n",
       "      <th>planned_start_time</th>\n",
       "      <th>actual_start_time</th>\n",
       "      <th>exec_start_time</th>\n",
       "      <th>start_diff</th>\n",
       "      <th>num_alternatives</th>\n",
       "    </tr>\n",
       "  </thead>\n",
       "  <tbody>\n",
       "    <tr>\n",
       "      <th>0</th>\n",
       "      <td>2017-05-08</td>\n",
       "      <td>17179869196</td>\n",
       "      <td>0</td>\n",
       "      <td>23.333333</td>\n",
       "      <td>16.016667</td>\n",
       "      <td>16.016667</td>\n",
       "      <td>2017-05-08 08:08:00</td>\n",
       "      <td>2017-05-08 07:59:32</td>\n",
       "      <td>2017-05-08 07:59:32</td>\n",
       "      <td>0.000000</td>\n",
       "      <td>3</td>\n",
       "    </tr>\n",
       "    <tr>\n",
       "      <th>1</th>\n",
       "      <td>2017-05-08</td>\n",
       "      <td>17179869196</td>\n",
       "      <td>1</td>\n",
       "      <td>23.700000</td>\n",
       "      <td>23.583333</td>\n",
       "      <td>16.016667</td>\n",
       "      <td>2017-05-08 08:08:00</td>\n",
       "      <td>2017-05-08 08:13:34</td>\n",
       "      <td>2017-05-08 07:59:32</td>\n",
       "      <td>14.033333</td>\n",
       "      <td>3</td>\n",
       "    </tr>\n",
       "    <tr>\n",
       "      <th>2</th>\n",
       "      <td>2017-05-08</td>\n",
       "      <td>17179869196</td>\n",
       "      <td>3</td>\n",
       "      <td>24.633333</td>\n",
       "      <td>21.366667</td>\n",
       "      <td>16.016667</td>\n",
       "      <td>2017-05-08 08:27:00</td>\n",
       "      <td>2017-05-08 08:24:13</td>\n",
       "      <td>2017-05-08 07:59:32</td>\n",
       "      <td>24.683333</td>\n",
       "      <td>3</td>\n",
       "    </tr>\n",
       "    <tr>\n",
       "      <th>3</th>\n",
       "      <td>2017-05-08</td>\n",
       "      <td>94489280525</td>\n",
       "      <td>0</td>\n",
       "      <td>22.216667</td>\n",
       "      <td>19.833333</td>\n",
       "      <td>19.833333</td>\n",
       "      <td>2017-05-08 18:28:00</td>\n",
       "      <td>2017-05-08 18:04:31</td>\n",
       "      <td>2017-05-08 18:04:31</td>\n",
       "      <td>0.000000</td>\n",
       "      <td>4</td>\n",
       "    </tr>\n",
       "    <tr>\n",
       "      <th>4</th>\n",
       "      <td>2017-05-08</td>\n",
       "      <td>94489280525</td>\n",
       "      <td>1</td>\n",
       "      <td>22.350000</td>\n",
       "      <td>20.266667</td>\n",
       "      <td>19.833333</td>\n",
       "      <td>2017-05-08 18:28:00</td>\n",
       "      <td>2017-05-08 18:31:40</td>\n",
       "      <td>2017-05-08 18:04:31</td>\n",
       "      <td>27.150000</td>\n",
       "      <td>4</td>\n",
       "    </tr>\n",
       "  </tbody>\n",
       "</table>\n",
       "</div>"
      ],
      "text/plain": [
       "         date  user_trip_id  itinerary_id  planned_duration_mins  \\\n",
       "0  2017-05-08   17179869196             0              23.333333   \n",
       "1  2017-05-08   17179869196             1              23.700000   \n",
       "2  2017-05-08   17179869196             3              24.633333   \n",
       "3  2017-05-08   94489280525             0              22.216667   \n",
       "4  2017-05-08   94489280525             1              22.350000   \n",
       "\n",
       "   actual_duration_mins  exec_duration_mins  planned_start_time  \\\n",
       "0             16.016667           16.016667 2017-05-08 08:08:00   \n",
       "1             23.583333           16.016667 2017-05-08 08:08:00   \n",
       "2             21.366667           16.016667 2017-05-08 08:27:00   \n",
       "3             19.833333           19.833333 2017-05-08 18:28:00   \n",
       "4             20.266667           19.833333 2017-05-08 18:28:00   \n",
       "\n",
       "    actual_start_time     exec_start_time  start_diff  num_alternatives  \n",
       "0 2017-05-08 07:59:32 2017-05-08 07:59:32    0.000000                 3  \n",
       "1 2017-05-08 08:13:34 2017-05-08 07:59:32   14.033333                 3  \n",
       "2 2017-05-08 08:24:13 2017-05-08 07:59:32   24.683333                 3  \n",
       "3 2017-05-08 18:04:31 2017-05-08 18:04:31    0.000000                 4  \n",
       "4 2017-05-08 18:31:40 2017-05-08 18:04:31   27.150000                 4  "
      ]
     },
     "execution_count": 27,
     "metadata": {},
     "output_type": "execute_result"
    }
   ],
   "source": [
    "clean_itineraries2.head()"
   ]
  },
  {
   "cell_type": "code",
   "execution_count": 28,
   "metadata": {
    "scrolled": false
   },
   "outputs": [
    {
     "data": {
      "text/plain": [
       "51"
      ]
     },
     "execution_count": 28,
     "metadata": {},
     "output_type": "execute_result"
    }
   ],
   "source": [
    "len(clean_itineraries2)"
   ]
  },
  {
   "cell_type": "code",
   "execution_count": 29,
   "metadata": {},
   "outputs": [
    {
     "data": {
      "text/plain": [
       "14"
      ]
     },
     "execution_count": 29,
     "metadata": {},
     "output_type": "execute_result"
    }
   ],
   "source": [
    "len(clean_itineraries2.user_trip_id.unique())"
   ]
  },
  {
   "cell_type": "markdown",
   "metadata": {},
   "source": [
    "### Compute Inefficiency Metrics"
   ]
  },
  {
   "cell_type": "markdown",
   "metadata": {},
   "source": [
    "![title](img/math_model.png)"
   ]
  },
  {
   "cell_type": "code",
   "execution_count": 46,
   "metadata": {},
   "outputs": [],
   "source": [
    "def select_best_itineraries(trips_itineraries,metric_name):\n",
    "    return trips_itineraries.sort_values([metric_name]) \\\n",
    "                        .groupby(['date','user_trip_id']) \\\n",
    "                        .nth(0) \\\n",
    "                        .reset_index()"
   ]
  },
  {
   "cell_type": "markdown",
   "metadata": {},
   "source": [
    "#### Observed Inefficiency"
   ]
  },
  {
   "cell_type": "code",
   "execution_count": 47,
   "metadata": {},
   "outputs": [],
   "source": [
    "#Choose best itinerary for each trip by selecting the ones with lower actual duration\n",
    "best_trips_itineraries = select_best_itineraries(clean_itineraries,'actual_duration_mins')"
   ]
  },
  {
   "cell_type": "code",
   "execution_count": 51,
   "metadata": {},
   "outputs": [
    {
     "data": {
      "text/html": [
       "<div>\n",
       "<style>\n",
       "    .dataframe thead tr:only-child th {\n",
       "        text-align: right;\n",
       "    }\n",
       "\n",
       "    .dataframe thead th {\n",
       "        text-align: left;\n",
       "    }\n",
       "\n",
       "    .dataframe tbody tr th {\n",
       "        vertical-align: top;\n",
       "    }\n",
       "</style>\n",
       "<table border=\"1\" class=\"dataframe\">\n",
       "  <thead>\n",
       "    <tr style=\"text-align: right;\">\n",
       "      <th></th>\n",
       "      <th>date</th>\n",
       "      <th>user_trip_id</th>\n",
       "      <th>actual_duration_mins</th>\n",
       "      <th>actual_start_time</th>\n",
       "      <th>exec_duration_mins</th>\n",
       "      <th>exec_start_time</th>\n",
       "      <th>itinerary_id</th>\n",
       "      <th>num_alternatives</th>\n",
       "      <th>planned_duration_mins</th>\n",
       "      <th>planned_start_time</th>\n",
       "      <th>start_diff</th>\n",
       "    </tr>\n",
       "  </thead>\n",
       "  <tbody>\n",
       "    <tr>\n",
       "      <th>0</th>\n",
       "      <td>2017-05-08</td>\n",
       "      <td>17179869196</td>\n",
       "      <td>16.016667</td>\n",
       "      <td>2017-05-08 07:59:32</td>\n",
       "      <td>16.016667</td>\n",
       "      <td>2017-05-08 07:59:32</td>\n",
       "      <td>0</td>\n",
       "      <td>3</td>\n",
       "      <td>23.333333</td>\n",
       "      <td>2017-05-08 08:08:00</td>\n",
       "      <td>0.000000</td>\n",
       "    </tr>\n",
       "    <tr>\n",
       "      <th>1</th>\n",
       "      <td>2017-05-08</td>\n",
       "      <td>94489280525</td>\n",
       "      <td>19.200000</td>\n",
       "      <td>2017-05-08 18:54:24</td>\n",
       "      <td>19.833333</td>\n",
       "      <td>2017-05-08 18:04:31</td>\n",
       "      <td>3</td>\n",
       "      <td>4</td>\n",
       "      <td>27.166667</td>\n",
       "      <td>2017-05-08 18:52:00</td>\n",
       "      <td>49.883333</td>\n",
       "    </tr>\n",
       "    <tr>\n",
       "      <th>2</th>\n",
       "      <td>2017-05-08</td>\n",
       "      <td>481036337161</td>\n",
       "      <td>20.683333</td>\n",
       "      <td>2017-05-08 07:29:30</td>\n",
       "      <td>24.850000</td>\n",
       "      <td>2017-05-08 07:07:10</td>\n",
       "      <td>2</td>\n",
       "      <td>4</td>\n",
       "      <td>21.683333</td>\n",
       "      <td>2017-05-08 07:30:30</td>\n",
       "      <td>22.333333</td>\n",
       "    </tr>\n",
       "    <tr>\n",
       "      <th>3</th>\n",
       "      <td>2017-05-08</td>\n",
       "      <td>532575944713</td>\n",
       "      <td>24.333333</td>\n",
       "      <td>2017-05-08 06:42:35</td>\n",
       "      <td>25.400000</td>\n",
       "      <td>2017-05-08 06:22:25</td>\n",
       "      <td>3</td>\n",
       "      <td>4</td>\n",
       "      <td>26.416667</td>\n",
       "      <td>2017-05-08 06:44:23</td>\n",
       "      <td>20.166667</td>\n",
       "    </tr>\n",
       "    <tr>\n",
       "      <th>4</th>\n",
       "      <td>2017-05-08</td>\n",
       "      <td>670014898190</td>\n",
       "      <td>10.683333</td>\n",
       "      <td>2017-05-08 08:25:16</td>\n",
       "      <td>12.750000</td>\n",
       "      <td>2017-05-08 06:58:30</td>\n",
       "      <td>3</td>\n",
       "      <td>4</td>\n",
       "      <td>15.250000</td>\n",
       "      <td>2017-05-08 08:23:01</td>\n",
       "      <td>86.766667</td>\n",
       "    </tr>\n",
       "  </tbody>\n",
       "</table>\n",
       "</div>"
      ],
      "text/plain": [
       "         date  user_trip_id  actual_duration_mins   actual_start_time  \\\n",
       "0  2017-05-08   17179869196             16.016667 2017-05-08 07:59:32   \n",
       "1  2017-05-08   94489280525             19.200000 2017-05-08 18:54:24   \n",
       "2  2017-05-08  481036337161             20.683333 2017-05-08 07:29:30   \n",
       "3  2017-05-08  532575944713             24.333333 2017-05-08 06:42:35   \n",
       "4  2017-05-08  670014898190             10.683333 2017-05-08 08:25:16   \n",
       "\n",
       "   exec_duration_mins     exec_start_time  itinerary_id  num_alternatives  \\\n",
       "0           16.016667 2017-05-08 07:59:32             0                 3   \n",
       "1           19.833333 2017-05-08 18:04:31             3                 4   \n",
       "2           24.850000 2017-05-08 07:07:10             2                 4   \n",
       "3           25.400000 2017-05-08 06:22:25             3                 4   \n",
       "4           12.750000 2017-05-08 06:58:30             3                 4   \n",
       "\n",
       "   planned_duration_mins  planned_start_time  start_diff  \n",
       "0              23.333333 2017-05-08 08:08:00    0.000000  \n",
       "1              27.166667 2017-05-08 18:52:00   49.883333  \n",
       "2              21.683333 2017-05-08 07:30:30   22.333333  \n",
       "3              26.416667 2017-05-08 06:44:23   20.166667  \n",
       "4              15.250000 2017-05-08 08:23:01   86.766667  "
      ]
     },
     "execution_count": 51,
     "metadata": {},
     "output_type": "execute_result"
    }
   ],
   "source": [
    "best_trips_itineraries.head()"
   ]
  },
  {
   "cell_type": "code",
   "execution_count": 54,
   "metadata": {},
   "outputs": [],
   "source": [
    "trips_inefficiency = best_trips_itineraries \\\n",
    "                        .assign(dur_diff = lambda x: x['exec_duration_mins'] - x['actual_duration_mins']) \\\n",
    "                        .assign(observed_inef = lambda x: x['dur_diff']/x['exec_duration_mins'])"
   ]
  },
  {
   "cell_type": "code",
   "execution_count": 55,
   "metadata": {},
   "outputs": [
    {
     "data": {
      "text/html": [
       "<div>\n",
       "<style>\n",
       "    .dataframe thead tr:only-child th {\n",
       "        text-align: right;\n",
       "    }\n",
       "\n",
       "    .dataframe thead th {\n",
       "        text-align: left;\n",
       "    }\n",
       "\n",
       "    .dataframe tbody tr th {\n",
       "        vertical-align: top;\n",
       "    }\n",
       "</style>\n",
       "<table border=\"1\" class=\"dataframe\">\n",
       "  <thead>\n",
       "    <tr style=\"text-align: right;\">\n",
       "      <th></th>\n",
       "      <th>date</th>\n",
       "      <th>user_trip_id</th>\n",
       "      <th>actual_duration_mins</th>\n",
       "      <th>actual_start_time</th>\n",
       "      <th>exec_duration_mins</th>\n",
       "      <th>exec_start_time</th>\n",
       "      <th>itinerary_id</th>\n",
       "      <th>num_alternatives</th>\n",
       "      <th>planned_duration_mins</th>\n",
       "      <th>planned_start_time</th>\n",
       "      <th>start_diff</th>\n",
       "      <th>dur_diff</th>\n",
       "      <th>observed_inef</th>\n",
       "    </tr>\n",
       "  </thead>\n",
       "  <tbody>\n",
       "    <tr>\n",
       "      <th>0</th>\n",
       "      <td>2017-05-08</td>\n",
       "      <td>17179869196</td>\n",
       "      <td>16.016667</td>\n",
       "      <td>2017-05-08 07:59:32</td>\n",
       "      <td>16.016667</td>\n",
       "      <td>2017-05-08 07:59:32</td>\n",
       "      <td>0</td>\n",
       "      <td>3</td>\n",
       "      <td>23.333333</td>\n",
       "      <td>2017-05-08 08:08:00</td>\n",
       "      <td>0.000000</td>\n",
       "      <td>0.000000</td>\n",
       "      <td>0.000000</td>\n",
       "    </tr>\n",
       "    <tr>\n",
       "      <th>1</th>\n",
       "      <td>2017-05-08</td>\n",
       "      <td>94489280525</td>\n",
       "      <td>19.200000</td>\n",
       "      <td>2017-05-08 18:54:24</td>\n",
       "      <td>19.833333</td>\n",
       "      <td>2017-05-08 18:04:31</td>\n",
       "      <td>3</td>\n",
       "      <td>4</td>\n",
       "      <td>27.166667</td>\n",
       "      <td>2017-05-08 18:52:00</td>\n",
       "      <td>49.883333</td>\n",
       "      <td>0.633333</td>\n",
       "      <td>0.031933</td>\n",
       "    </tr>\n",
       "    <tr>\n",
       "      <th>2</th>\n",
       "      <td>2017-05-08</td>\n",
       "      <td>481036337161</td>\n",
       "      <td>20.683333</td>\n",
       "      <td>2017-05-08 07:29:30</td>\n",
       "      <td>24.850000</td>\n",
       "      <td>2017-05-08 07:07:10</td>\n",
       "      <td>2</td>\n",
       "      <td>4</td>\n",
       "      <td>21.683333</td>\n",
       "      <td>2017-05-08 07:30:30</td>\n",
       "      <td>22.333333</td>\n",
       "      <td>4.166667</td>\n",
       "      <td>0.167673</td>\n",
       "    </tr>\n",
       "    <tr>\n",
       "      <th>3</th>\n",
       "      <td>2017-05-08</td>\n",
       "      <td>532575944713</td>\n",
       "      <td>24.333333</td>\n",
       "      <td>2017-05-08 06:42:35</td>\n",
       "      <td>25.400000</td>\n",
       "      <td>2017-05-08 06:22:25</td>\n",
       "      <td>3</td>\n",
       "      <td>4</td>\n",
       "      <td>26.416667</td>\n",
       "      <td>2017-05-08 06:44:23</td>\n",
       "      <td>20.166667</td>\n",
       "      <td>1.066667</td>\n",
       "      <td>0.041995</td>\n",
       "    </tr>\n",
       "    <tr>\n",
       "      <th>4</th>\n",
       "      <td>2017-05-08</td>\n",
       "      <td>670014898190</td>\n",
       "      <td>10.683333</td>\n",
       "      <td>2017-05-08 08:25:16</td>\n",
       "      <td>12.750000</td>\n",
       "      <td>2017-05-08 06:58:30</td>\n",
       "      <td>3</td>\n",
       "      <td>4</td>\n",
       "      <td>15.250000</td>\n",
       "      <td>2017-05-08 08:23:01</td>\n",
       "      <td>86.766667</td>\n",
       "      <td>2.066667</td>\n",
       "      <td>0.162092</td>\n",
       "    </tr>\n",
       "    <tr>\n",
       "      <th>5</th>\n",
       "      <td>2017-05-08</td>\n",
       "      <td>755914244105</td>\n",
       "      <td>10.966667</td>\n",
       "      <td>2017-05-08 19:31:45</td>\n",
       "      <td>10.966667</td>\n",
       "      <td>2017-05-08 19:31:45</td>\n",
       "      <td>0</td>\n",
       "      <td>4</td>\n",
       "      <td>10.033333</td>\n",
       "      <td>2017-05-08 19:56:00</td>\n",
       "      <td>0.000000</td>\n",
       "      <td>0.000000</td>\n",
       "      <td>0.000000</td>\n",
       "    </tr>\n",
       "    <tr>\n",
       "      <th>6</th>\n",
       "      <td>2017-05-08</td>\n",
       "      <td>816043786247</td>\n",
       "      <td>10.033333</td>\n",
       "      <td>2017-05-08 06:29:24</td>\n",
       "      <td>18.150000</td>\n",
       "      <td>2017-05-08 06:09:22</td>\n",
       "      <td>2</td>\n",
       "      <td>4</td>\n",
       "      <td>14.750000</td>\n",
       "      <td>2017-05-08 06:32:36</td>\n",
       "      <td>20.033333</td>\n",
       "      <td>8.116667</td>\n",
       "      <td>0.447199</td>\n",
       "    </tr>\n",
       "    <tr>\n",
       "      <th>7</th>\n",
       "      <td>2017-05-08</td>\n",
       "      <td>850403524623</td>\n",
       "      <td>16.416667</td>\n",
       "      <td>2017-05-08 08:00:38</td>\n",
       "      <td>46.916667</td>\n",
       "      <td>2017-05-08 07:01:56</td>\n",
       "      <td>3</td>\n",
       "      <td>4</td>\n",
       "      <td>19.383333</td>\n",
       "      <td>2017-05-08 07:57:45</td>\n",
       "      <td>58.700000</td>\n",
       "      <td>30.500000</td>\n",
       "      <td>0.650089</td>\n",
       "    </tr>\n",
       "    <tr>\n",
       "      <th>8</th>\n",
       "      <td>2017-05-08</td>\n",
       "      <td>867583393795</td>\n",
       "      <td>11.433333</td>\n",
       "      <td>2017-05-08 07:59:55</td>\n",
       "      <td>32.766667</td>\n",
       "      <td>2017-05-08 07:19:00</td>\n",
       "      <td>3</td>\n",
       "      <td>4</td>\n",
       "      <td>16.166667</td>\n",
       "      <td>2017-05-08 08:00:12</td>\n",
       "      <td>40.916667</td>\n",
       "      <td>21.333333</td>\n",
       "      <td>0.651068</td>\n",
       "    </tr>\n",
       "    <tr>\n",
       "      <th>9</th>\n",
       "      <td>2017-05-08</td>\n",
       "      <td>936302870530</td>\n",
       "      <td>10.850000</td>\n",
       "      <td>2017-05-08 07:59:41</td>\n",
       "      <td>13.383333</td>\n",
       "      <td>2017-05-08 07:51:35</td>\n",
       "      <td>1</td>\n",
       "      <td>4</td>\n",
       "      <td>15.400000</td>\n",
       "      <td>2017-05-08 07:55:56</td>\n",
       "      <td>8.100000</td>\n",
       "      <td>2.533333</td>\n",
       "      <td>0.189290</td>\n",
       "    </tr>\n",
       "  </tbody>\n",
       "</table>\n",
       "</div>"
      ],
      "text/plain": [
       "         date  user_trip_id  actual_duration_mins   actual_start_time  \\\n",
       "0  2017-05-08   17179869196             16.016667 2017-05-08 07:59:32   \n",
       "1  2017-05-08   94489280525             19.200000 2017-05-08 18:54:24   \n",
       "2  2017-05-08  481036337161             20.683333 2017-05-08 07:29:30   \n",
       "3  2017-05-08  532575944713             24.333333 2017-05-08 06:42:35   \n",
       "4  2017-05-08  670014898190             10.683333 2017-05-08 08:25:16   \n",
       "5  2017-05-08  755914244105             10.966667 2017-05-08 19:31:45   \n",
       "6  2017-05-08  816043786247             10.033333 2017-05-08 06:29:24   \n",
       "7  2017-05-08  850403524623             16.416667 2017-05-08 08:00:38   \n",
       "8  2017-05-08  867583393795             11.433333 2017-05-08 07:59:55   \n",
       "9  2017-05-08  936302870530             10.850000 2017-05-08 07:59:41   \n",
       "\n",
       "   exec_duration_mins     exec_start_time  itinerary_id  num_alternatives  \\\n",
       "0           16.016667 2017-05-08 07:59:32             0                 3   \n",
       "1           19.833333 2017-05-08 18:04:31             3                 4   \n",
       "2           24.850000 2017-05-08 07:07:10             2                 4   \n",
       "3           25.400000 2017-05-08 06:22:25             3                 4   \n",
       "4           12.750000 2017-05-08 06:58:30             3                 4   \n",
       "5           10.966667 2017-05-08 19:31:45             0                 4   \n",
       "6           18.150000 2017-05-08 06:09:22             2                 4   \n",
       "7           46.916667 2017-05-08 07:01:56             3                 4   \n",
       "8           32.766667 2017-05-08 07:19:00             3                 4   \n",
       "9           13.383333 2017-05-08 07:51:35             1                 4   \n",
       "\n",
       "   planned_duration_mins  planned_start_time  start_diff   dur_diff  \\\n",
       "0              23.333333 2017-05-08 08:08:00    0.000000   0.000000   \n",
       "1              27.166667 2017-05-08 18:52:00   49.883333   0.633333   \n",
       "2              21.683333 2017-05-08 07:30:30   22.333333   4.166667   \n",
       "3              26.416667 2017-05-08 06:44:23   20.166667   1.066667   \n",
       "4              15.250000 2017-05-08 08:23:01   86.766667   2.066667   \n",
       "5              10.033333 2017-05-08 19:56:00    0.000000   0.000000   \n",
       "6              14.750000 2017-05-08 06:32:36   20.033333   8.116667   \n",
       "7              19.383333 2017-05-08 07:57:45   58.700000  30.500000   \n",
       "8              16.166667 2017-05-08 08:00:12   40.916667  21.333333   \n",
       "9              15.400000 2017-05-08 07:55:56    8.100000   2.533333   \n",
       "\n",
       "   observed_inef  \n",
       "0       0.000000  \n",
       "1       0.031933  \n",
       "2       0.167673  \n",
       "3       0.041995  \n",
       "4       0.162092  \n",
       "5       0.000000  \n",
       "6       0.447199  \n",
       "7       0.650089  \n",
       "8       0.651068  \n",
       "9       0.189290  "
      ]
     },
     "execution_count": 55,
     "metadata": {},
     "output_type": "execute_result"
    }
   ],
   "source": [
    "trips_inefficiency.head(10)"
   ]
  },
  {
   "cell_type": "code",
   "execution_count": 57,
   "metadata": {},
   "outputs": [
    {
     "data": {
      "text/plain": [
       "<matplotlib.axes._subplots.AxesSubplot at 0x7f3f05825550>"
      ]
     },
     "execution_count": 57,
     "metadata": {},
     "output_type": "execute_result"
    },
    {
     "data": {
      "image/png": "[encoded data removed]",
      "text/plain": [
       "<matplotlib.figure.Figure at 0x7f3f02d63e90>"
      ]
     },
     "metadata": {},
     "output_type": "display_data"
    }
   ],
   "source": [
    "sns.distplot(trips_inefficiency.observed_inef)"
   ]
  },
  {
   "cell_type": "code",
   "execution_count": 58,
   "metadata": {},
   "outputs": [
    {
     "data": {
      "text/plain": [
       "<matplotlib.axes._subplots.AxesSubplot at 0x7f3f02cffa10>"
      ]
     },
     "execution_count": 58,
     "metadata": {},
     "output_type": "execute_result"
    },
    {
     "data": {
      "image/png": "[encoded data removed]",
      "text/plain": [
       "<matplotlib.figure.Figure at 0x7f3f02c7c390>"
      ]
     },
     "metadata": {},
     "output_type": "display_data"
    }
   ],
   "source": [
    "sns.violinplot(trips_inefficiency.observed_inef)"
   ]
  },
  {
   "cell_type": "code",
   "execution_count": 59,
   "metadata": {
    "collapsed": true
   },
   "outputs": [],
   "source": [
    "pos_trips_inefficiency = trips_inefficiency[trips_inefficiency['observed_inef'] > 0]"
   ]
  },
  {
   "cell_type": "code",
   "execution_count": 60,
   "metadata": {},
   "outputs": [
    {
     "data": {
      "text/html": [
       "<div>\n",
       "<style>\n",
       "    .dataframe thead tr:only-child th {\n",
       "        text-align: right;\n",
       "    }\n",
       "\n",
       "    .dataframe thead th {\n",
       "        text-align: left;\n",
       "    }\n",
       "\n",
       "    .dataframe tbody tr th {\n",
       "        vertical-align: top;\n",
       "    }\n",
       "</style>\n",
       "<table border=\"1\" class=\"dataframe\">\n",
       "  <thead>\n",
       "    <tr style=\"text-align: right;\">\n",
       "      <th></th>\n",
       "      <th>date</th>\n",
       "      <th>user_trip_id</th>\n",
       "      <th>actual_duration_mins</th>\n",
       "      <th>actual_start_time</th>\n",
       "      <th>exec_duration_mins</th>\n",
       "      <th>exec_start_time</th>\n",
       "      <th>itinerary_id</th>\n",
       "      <th>num_alternatives</th>\n",
       "      <th>planned_duration_mins</th>\n",
       "      <th>planned_start_time</th>\n",
       "      <th>start_diff</th>\n",
       "      <th>dur_diff</th>\n",
       "      <th>observed_inef</th>\n",
       "    </tr>\n",
       "  </thead>\n",
       "  <tbody>\n",
       "    <tr>\n",
       "      <th>1</th>\n",
       "      <td>2017-05-08</td>\n",
       "      <td>94489280525</td>\n",
       "      <td>19.200000</td>\n",
       "      <td>2017-05-08 18:54:24</td>\n",
       "      <td>19.833333</td>\n",
       "      <td>2017-05-08 18:04:31</td>\n",
       "      <td>3</td>\n",
       "      <td>4</td>\n",
       "      <td>27.166667</td>\n",
       "      <td>2017-05-08 18:52:00</td>\n",
       "      <td>49.883333</td>\n",
       "      <td>0.633333</td>\n",
       "      <td>0.031933</td>\n",
       "    </tr>\n",
       "    <tr>\n",
       "      <th>2</th>\n",
       "      <td>2017-05-08</td>\n",
       "      <td>481036337161</td>\n",
       "      <td>20.683333</td>\n",
       "      <td>2017-05-08 07:29:30</td>\n",
       "      <td>24.850000</td>\n",
       "      <td>2017-05-08 07:07:10</td>\n",
       "      <td>2</td>\n",
       "      <td>4</td>\n",
       "      <td>21.683333</td>\n",
       "      <td>2017-05-08 07:30:30</td>\n",
       "      <td>22.333333</td>\n",
       "      <td>4.166667</td>\n",
       "      <td>0.167673</td>\n",
       "    </tr>\n",
       "    <tr>\n",
       "      <th>3</th>\n",
       "      <td>2017-05-08</td>\n",
       "      <td>532575944713</td>\n",
       "      <td>24.333333</td>\n",
       "      <td>2017-05-08 06:42:35</td>\n",
       "      <td>25.400000</td>\n",
       "      <td>2017-05-08 06:22:25</td>\n",
       "      <td>3</td>\n",
       "      <td>4</td>\n",
       "      <td>26.416667</td>\n",
       "      <td>2017-05-08 06:44:23</td>\n",
       "      <td>20.166667</td>\n",
       "      <td>1.066667</td>\n",
       "      <td>0.041995</td>\n",
       "    </tr>\n",
       "    <tr>\n",
       "      <th>4</th>\n",
       "      <td>2017-05-08</td>\n",
       "      <td>670014898190</td>\n",
       "      <td>10.683333</td>\n",
       "      <td>2017-05-08 08:25:16</td>\n",
       "      <td>12.750000</td>\n",
       "      <td>2017-05-08 06:58:30</td>\n",
       "      <td>3</td>\n",
       "      <td>4</td>\n",
       "      <td>15.250000</td>\n",
       "      <td>2017-05-08 08:23:01</td>\n",
       "      <td>86.766667</td>\n",
       "      <td>2.066667</td>\n",
       "      <td>0.162092</td>\n",
       "    </tr>\n",
       "    <tr>\n",
       "      <th>6</th>\n",
       "      <td>2017-05-08</td>\n",
       "      <td>816043786247</td>\n",
       "      <td>10.033333</td>\n",
       "      <td>2017-05-08 06:29:24</td>\n",
       "      <td>18.150000</td>\n",
       "      <td>2017-05-08 06:09:22</td>\n",
       "      <td>2</td>\n",
       "      <td>4</td>\n",
       "      <td>14.750000</td>\n",
       "      <td>2017-05-08 06:32:36</td>\n",
       "      <td>20.033333</td>\n",
       "      <td>8.116667</td>\n",
       "      <td>0.447199</td>\n",
       "    </tr>\n",
       "  </tbody>\n",
       "</table>\n",
       "</div>"
      ],
      "text/plain": [
       "         date  user_trip_id  actual_duration_mins   actual_start_time  \\\n",
       "1  2017-05-08   94489280525             19.200000 2017-05-08 18:54:24   \n",
       "2  2017-05-08  481036337161             20.683333 2017-05-08 07:29:30   \n",
       "3  2017-05-08  532575944713             24.333333 2017-05-08 06:42:35   \n",
       "4  2017-05-08  670014898190             10.683333 2017-05-08 08:25:16   \n",
       "6  2017-05-08  816043786247             10.033333 2017-05-08 06:29:24   \n",
       "\n",
       "   exec_duration_mins     exec_start_time  itinerary_id  num_alternatives  \\\n",
       "1           19.833333 2017-05-08 18:04:31             3                 4   \n",
       "2           24.850000 2017-05-08 07:07:10             2                 4   \n",
       "3           25.400000 2017-05-08 06:22:25             3                 4   \n",
       "4           12.750000 2017-05-08 06:58:30             3                 4   \n",
       "6           18.150000 2017-05-08 06:09:22             2                 4   \n",
       "\n",
       "   planned_duration_mins  planned_start_time  start_diff  dur_diff  \\\n",
       "1              27.166667 2017-05-08 18:52:00   49.883333  0.633333   \n",
       "2              21.683333 2017-05-08 07:30:30   22.333333  4.166667   \n",
       "3              26.416667 2017-05-08 06:44:23   20.166667  1.066667   \n",
       "4              15.250000 2017-05-08 08:23:01   86.766667  2.066667   \n",
       "6              14.750000 2017-05-08 06:32:36   20.033333  8.116667   \n",
       "\n",
       "   observed_inef  \n",
       "1       0.031933  \n",
       "2       0.167673  \n",
       "3       0.041995  \n",
       "4       0.162092  \n",
       "6       0.447199  "
      ]
     },
     "execution_count": 60,
     "metadata": {},
     "output_type": "execute_result"
    }
   ],
   "source": [
    "pos_trips_inefficiency.head()"
   ]
  },
  {
   "cell_type": "markdown",
   "metadata": {},
   "source": [
    "#### Schedule Inefficiency"
   ]
  },
  {
   "cell_type": "code",
   "execution_count": 70,
   "metadata": {},
   "outputs": [
    {
     "data": {
      "text/html": [
       "<div>\n",
       "<style>\n",
       "    .dataframe thead tr:only-child th {\n",
       "        text-align: right;\n",
       "    }\n",
       "\n",
       "    .dataframe thead th {\n",
       "        text-align: left;\n",
       "    }\n",
       "\n",
       "    .dataframe tbody tr th {\n",
       "        vertical-align: top;\n",
       "    }\n",
       "</style>\n",
       "<table border=\"1\" class=\"dataframe\">\n",
       "  <thead>\n",
       "    <tr style=\"text-align: right;\">\n",
       "      <th></th>\n",
       "      <th>date</th>\n",
       "      <th>user_trip_id</th>\n",
       "      <th>shortest_scheduled_planned_duration</th>\n",
       "      <th>shortest_scheduled_observed_duration</th>\n",
       "    </tr>\n",
       "  </thead>\n",
       "  <tbody>\n",
       "    <tr>\n",
       "      <th>0</th>\n",
       "      <td>2017-05-08</td>\n",
       "      <td>17179869196</td>\n",
       "      <td>23.333333</td>\n",
       "      <td>16.016667</td>\n",
       "    </tr>\n",
       "    <tr>\n",
       "      <th>1</th>\n",
       "      <td>2017-05-08</td>\n",
       "      <td>94489280525</td>\n",
       "      <td>22.216667</td>\n",
       "      <td>19.833333</td>\n",
       "    </tr>\n",
       "    <tr>\n",
       "      <th>2</th>\n",
       "      <td>2017-05-08</td>\n",
       "      <td>481036337161</td>\n",
       "      <td>21.500000</td>\n",
       "      <td>24.850000</td>\n",
       "    </tr>\n",
       "    <tr>\n",
       "      <th>3</th>\n",
       "      <td>2017-05-08</td>\n",
       "      <td>532575944713</td>\n",
       "      <td>25.766667</td>\n",
       "      <td>24.500000</td>\n",
       "    </tr>\n",
       "    <tr>\n",
       "      <th>4</th>\n",
       "      <td>2017-05-08</td>\n",
       "      <td>670014898190</td>\n",
       "      <td>15.016667</td>\n",
       "      <td>12.750000</td>\n",
       "    </tr>\n",
       "  </tbody>\n",
       "</table>\n",
       "</div>"
      ],
      "text/plain": [
       "         date  user_trip_id  shortest_scheduled_planned_duration  \\\n",
       "0  2017-05-08   17179869196                            23.333333   \n",
       "1  2017-05-08   94489280525                            22.216667   \n",
       "2  2017-05-08  481036337161                            21.500000   \n",
       "3  2017-05-08  532575944713                            25.766667   \n",
       "4  2017-05-08  670014898190                            15.016667   \n",
       "\n",
       "   shortest_scheduled_observed_duration  \n",
       "0                             16.016667  \n",
       "1                             19.833333  \n",
       "2                             24.850000  \n",
       "3                             24.500000  \n",
       "4                             12.750000  "
      ]
     },
     "execution_count": 70,
     "metadata": {},
     "output_type": "execute_result"
    }
   ],
   "source": [
    "shortest_planned_itineraries = select_best_itineraries(clean_itineraries[pd.notnull(clean_itineraries['planned_duration_mins'])],'planned_duration_mins') \\\n",
    "                            [['date','user_trip_id','planned_duration_mins','actual_duration_mins']] \\\n",
    "                            .rename(index=str,columns={'planned_duration_mins':'shortest_scheduled_planned_duration',\n",
    "                                               'actual_duration_mins':'shortest_scheduled_observed_duration'})\n",
    "\n",
    "shortest_planned_itineraries.head()"
   ]
  },
  {
   "cell_type": "code",
   "execution_count": 90,
   "metadata": {},
   "outputs": [
    {
     "ename": "TypeError",
     "evalue": "'set' object is not callable",
     "output_type": "error",
     "traceback": [
      "\u001b[0;31m---------------------------------------------------------------------------\u001b[0m",
      "\u001b[0;31mTypeError\u001b[0m                                 Traceback (most recent call last)",
      "\u001b[0;32m<ipython-input-90-5fbb0056b1f6>\u001b[0m in \u001b[0;36m<module>\u001b[0;34m()\u001b[0m\n\u001b[0;32m----> 1\u001b[0;31m \u001b[0mrec_inef_i\u001b[0m \u001b[0;34m=\u001b[0m \u001b[0mbest_trips_itineraries\u001b[0m                 \u001b[0;34m.\u001b[0m\u001b[0mrename\u001b[0m\u001b[0;34m(\u001b[0m\u001b[0mindex\u001b[0m\u001b[0;34m=\u001b[0m\u001b[0mstr\u001b[0m\u001b[0;34m,\u001b[0m\u001b[0mcolumns\u001b[0m\u001b[0;34m=\u001b[0m\u001b[0;34m{\u001b[0m\u001b[0;34m'actual_duration_mins'\u001b[0m\u001b[0;34m,\u001b[0m\u001b[0;34m'shortest_observed_duration'\u001b[0m\u001b[0;34m}\u001b[0m\u001b[0;34m)\u001b[0m                 \u001b[0;34m.\u001b[0m\u001b[0mmerge\u001b[0m\u001b[0;34m(\u001b[0m\u001b[0mshortest_planned_itineraries\u001b[0m\u001b[0;34m,\u001b[0m \u001b[0mon\u001b[0m\u001b[0;34m=\u001b[0m\u001b[0;34m[\u001b[0m\u001b[0;34m'date'\u001b[0m\u001b[0;34m,\u001b[0m\u001b[0;34m'user_trip_id'\u001b[0m\u001b[0;34m]\u001b[0m\u001b[0;34m,\u001b[0m \u001b[0mhow\u001b[0m\u001b[0;34m=\u001b[0m\u001b[0;34m'inner'\u001b[0m\u001b[0;34m)\u001b[0m                 \u001b[0;34m[\u001b[0m\u001b[0;34m[\u001b[0m\u001b[0;34m'date'\u001b[0m\u001b[0;34m,\u001b[0m\u001b[0;34m'user_trip_id'\u001b[0m\u001b[0;34m,\u001b[0m\u001b[0;34m'shortest_observed_duration'\u001b[0m\u001b[0;34m,\u001b[0m\u001b[0;34m'shortest_scheduled_observed_duration'\u001b[0m\u001b[0;34m]\u001b[0m\u001b[0;34m]\u001b[0m                 \u001b[0;34m.\u001b[0m\u001b[0massign\u001b[0m\u001b[0;34m(\u001b[0m\u001b[0mrec_inef\u001b[0m \u001b[0;34m=\u001b[0m \u001b[0;32mlambda\u001b[0m \u001b[0mx\u001b[0m\u001b[0;34m:\u001b[0m \u001b[0;34m(\u001b[0m\u001b[0mx\u001b[0m\u001b[0;34m[\u001b[0m\u001b[0;34m'shortest_scheduled_observed_duration'\u001b[0m\u001b[0;34m]\u001b[0m \u001b[0;34m-\u001b[0m \u001b[0mx\u001b[0m\u001b[0;34m[\u001b[0m\u001b[0;34m'shortest_observed_duration'\u001b[0m\u001b[0;34m]\u001b[0m\u001b[0;34m)\u001b[0m\u001b[0;34m/\u001b[0m\u001b[0mx\u001b[0m\u001b[0;34m[\u001b[0m\u001b[0;34m'shortest_scheduled_observed_duration'\u001b[0m\u001b[0;34m]\u001b[0m\u001b[0;34m)\u001b[0m\u001b[0;34m\u001b[0m\u001b[0m\n\u001b[0m\u001b[1;32m      2\u001b[0m \u001b[0;34m\u001b[0m\u001b[0m\n\u001b[1;32m      3\u001b[0m \u001b[0mrec_inef_i\u001b[0m\u001b[0;34m.\u001b[0m\u001b[0mhead\u001b[0m\u001b[0;34m(\u001b[0m\u001b[0;34m)\u001b[0m\u001b[0;34m\u001b[0m\u001b[0m\n",
      "\u001b[0;32m/home/tarciso/anaconda2/lib/python2.7/site-packages/pandas/core/frame.pyc\u001b[0m in \u001b[0;36mrename\u001b[0;34m(self, index, columns, **kwargs)\u001b[0m\n\u001b[1;32m   2842\u001b[0m     \u001b[0;32mdef\u001b[0m \u001b[0mrename\u001b[0m\u001b[0;34m(\u001b[0m\u001b[0mself\u001b[0m\u001b[0;34m,\u001b[0m \u001b[0mindex\u001b[0m\u001b[0;34m=\u001b[0m\u001b[0mNone\u001b[0m\u001b[0;34m,\u001b[0m \u001b[0mcolumns\u001b[0m\u001b[0;34m=\u001b[0m\u001b[0mNone\u001b[0m\u001b[0;34m,\u001b[0m \u001b[0;34m**\u001b[0m\u001b[0mkwargs\u001b[0m\u001b[0;34m)\u001b[0m\u001b[0;34m:\u001b[0m\u001b[0;34m\u001b[0m\u001b[0m\n\u001b[1;32m   2843\u001b[0m         return super(DataFrame, self).rename(index=index, columns=columns,\n\u001b[0;32m-> 2844\u001b[0;31m                                              **kwargs)\n\u001b[0m\u001b[1;32m   2845\u001b[0m \u001b[0;34m\u001b[0m\u001b[0m\n\u001b[1;32m   2846\u001b[0m     \u001b[0;34m@\u001b[0m\u001b[0mAppender\u001b[0m\u001b[0;34m(\u001b[0m\u001b[0m_shared_docs\u001b[0m\u001b[0;34m[\u001b[0m\u001b[0;34m'fillna'\u001b[0m\u001b[0;34m]\u001b[0m \u001b[0;34m%\u001b[0m \u001b[0m_shared_doc_kwargs\u001b[0m\u001b[0;34m)\u001b[0m\u001b[0;34m\u001b[0m\u001b[0m\n",
      "\u001b[0;32m/home/tarciso/anaconda2/lib/python2.7/site-packages/pandas/core/generic.pyc\u001b[0m in \u001b[0;36mrename\u001b[0;34m(self, *args, **kwargs)\u001b[0m\n\u001b[1;32m    723\u001b[0m                 \u001b[0mlevel\u001b[0m \u001b[0;34m=\u001b[0m \u001b[0mself\u001b[0m\u001b[0;34m.\u001b[0m\u001b[0maxes\u001b[0m\u001b[0;34m[\u001b[0m\u001b[0maxis\u001b[0m\u001b[0;34m]\u001b[0m\u001b[0;34m.\u001b[0m\u001b[0m_get_level_number\u001b[0m\u001b[0;34m(\u001b[0m\u001b[0mlevel\u001b[0m\u001b[0;34m)\u001b[0m\u001b[0;34m\u001b[0m\u001b[0m\n\u001b[1;32m    724\u001b[0m             result._data = result._data.rename_axis(f, axis=baxis, copy=copy,\n\u001b[0;32m--> 725\u001b[0;31m                                                     level=level)\n\u001b[0m\u001b[1;32m    726\u001b[0m             \u001b[0mresult\u001b[0m\u001b[0;34m.\u001b[0m\u001b[0m_clear_item_cache\u001b[0m\u001b[0;34m(\u001b[0m\u001b[0;34m)\u001b[0m\u001b[0;34m\u001b[0m\u001b[0m\n\u001b[1;32m    727\u001b[0m \u001b[0;34m\u001b[0m\u001b[0m\n",
      "\u001b[0;32m/home/tarciso/anaconda2/lib/python2.7/site-packages/pandas/core/internals.pyc\u001b[0m in \u001b[0;36mrename_axis\u001b[0;34m(self, mapper, axis, copy, level)\u001b[0m\n\u001b[1;32m   2851\u001b[0m         \"\"\"\n\u001b[1;32m   2852\u001b[0m         \u001b[0mobj\u001b[0m \u001b[0;34m=\u001b[0m \u001b[0mself\u001b[0m\u001b[0;34m.\u001b[0m\u001b[0mcopy\u001b[0m\u001b[0;34m(\u001b[0m\u001b[0mdeep\u001b[0m\u001b[0;34m=\u001b[0m\u001b[0mcopy\u001b[0m\u001b[0;34m)\u001b[0m\u001b[0;34m\u001b[0m\u001b[0m\n\u001b[0;32m-> 2853\u001b[0;31m         \u001b[0mobj\u001b[0m\u001b[0;34m.\u001b[0m\u001b[0mset_axis\u001b[0m\u001b[0;34m(\u001b[0m\u001b[0maxis\u001b[0m\u001b[0;34m,\u001b[0m \u001b[0m_transform_index\u001b[0m\u001b[0;34m(\u001b[0m\u001b[0mself\u001b[0m\u001b[0;34m.\u001b[0m\u001b[0maxes\u001b[0m\u001b[0;34m[\u001b[0m\u001b[0maxis\u001b[0m\u001b[0;34m]\u001b[0m\u001b[0;34m,\u001b[0m \u001b[0mmapper\u001b[0m\u001b[0;34m,\u001b[0m \u001b[0mlevel\u001b[0m\u001b[0;34m)\u001b[0m\u001b[0;34m)\u001b[0m\u001b[0;34m\u001b[0m\u001b[0m\n\u001b[0m\u001b[1;32m   2854\u001b[0m         \u001b[0;32mreturn\u001b[0m \u001b[0mobj\u001b[0m\u001b[0;34m\u001b[0m\u001b[0m\n\u001b[1;32m   2855\u001b[0m \u001b[0;34m\u001b[0m\u001b[0m\n",
      "\u001b[0;32m/home/tarciso/anaconda2/lib/python2.7/site-packages/pandas/core/internals.pyc\u001b[0m in \u001b[0;36m_transform_index\u001b[0;34m(index, func, level)\u001b[0m\n\u001b[1;32m   4753\u001b[0m         \u001b[0;32mreturn\u001b[0m \u001b[0mMultiIndex\u001b[0m\u001b[0;34m.\u001b[0m\u001b[0mfrom_tuples\u001b[0m\u001b[0;34m(\u001b[0m\u001b[0mitems\u001b[0m\u001b[0;34m,\u001b[0m \u001b[0mnames\u001b[0m\u001b[0;34m=\u001b[0m\u001b[0mindex\u001b[0m\u001b[0;34m.\u001b[0m\u001b[0mnames\u001b[0m\u001b[0;34m)\u001b[0m\u001b[0;34m\u001b[0m\u001b[0m\n\u001b[1;32m   4754\u001b[0m     \u001b[0;32melse\u001b[0m\u001b[0;34m:\u001b[0m\u001b[0;34m\u001b[0m\u001b[0m\n\u001b[0;32m-> 4755\u001b[0;31m         \u001b[0mitems\u001b[0m \u001b[0;34m=\u001b[0m \u001b[0;34m[\u001b[0m\u001b[0mfunc\u001b[0m\u001b[0;34m(\u001b[0m\u001b[0mx\u001b[0m\u001b[0;34m)\u001b[0m \u001b[0;32mfor\u001b[0m \u001b[0mx\u001b[0m \u001b[0;32min\u001b[0m \u001b[0mindex\u001b[0m\u001b[0;34m]\u001b[0m\u001b[0;34m\u001b[0m\u001b[0m\n\u001b[0m\u001b[1;32m   4756\u001b[0m         \u001b[0;32mreturn\u001b[0m \u001b[0mIndex\u001b[0m\u001b[0;34m(\u001b[0m\u001b[0mitems\u001b[0m\u001b[0;34m,\u001b[0m \u001b[0mname\u001b[0m\u001b[0;34m=\u001b[0m\u001b[0mindex\u001b[0m\u001b[0;34m.\u001b[0m\u001b[0mname\u001b[0m\u001b[0;34m)\u001b[0m\u001b[0;34m\u001b[0m\u001b[0m\n\u001b[1;32m   4757\u001b[0m \u001b[0;34m\u001b[0m\u001b[0m\n",
      "\u001b[0;31mTypeError\u001b[0m: 'set' object is not callable"
     ]
    }
   ],
   "source": [
    "rec_inef_i = best_trips_itineraries \\\n",
    "                .rename(index=str,columns={'actual_duration_mins','shortest_observed_duration'}) \\\n",
    "                .merge(shortest_planned_itineraries, on=['date','user_trip_id'], how='inner') \\\n",
    "                [['date','user_trip_id','shortest_observed_duration','shortest_scheduled_observed_duration']] \\\n",
    "                .assign(rec_inef = lambda x: (x['shortest_scheduled_observed_duration'] - x['shortest_observed_duration'])/x['shortest_scheduled_observed_duration'])\n",
    "\n",
    "rec_inef_i.head()"
   ]
  },
  {
   "cell_type": "code",
   "execution_count": 60,
   "metadata": {},
   "outputs": [
    {
     "data": {
      "text/plain": [
       "<matplotlib.axes._subplots.AxesSubplot at 0x7f14330d7910>"
      ]
     },
     "execution_count": 60,
     "metadata": {},
     "output_type": "execute_result"
    },
    {
     "data": {
      "image/png": "[encoded data removed]",
      "text/plain": [
       "<matplotlib.figure.Figure at 0x7f14330daa10>"
      ]
     },
     "metadata": {},
     "output_type": "display_data"
    }
   ],
   "source": [
    "sns.distplot(rec_inef_i[rec_inef_i['rec_inef'] > 0].rec_inef)"
   ]
  },
  {
   "cell_type": "code",
   "execution_count": 61,
   "metadata": {},
   "outputs": [
    {
     "data": {
      "text/plain": [
       "<matplotlib.axes._subplots.AxesSubplot at 0x7f1432fd9ed0>"
      ]
     },
     "execution_count": 61,
     "metadata": {},
     "output_type": "execute_result"
    },
    {
     "data": {
      "image/png": "[encoded data removed]",
      "text/plain": [
       "<matplotlib.figure.Figure at 0x7f1433003310>"
      ]
     },
     "metadata": {},
     "output_type": "display_data"
    }
   ],
   "source": [
    "sns.violinplot(rec_inef_i.rec_inef)"
   ]
  },
  {
   "cell_type": "markdown",
   "metadata": {},
   "source": [
    "#### User choice plan inefficiency"
   ]
  },
  {
   "cell_type": "code",
   "execution_count": 73,
   "metadata": {
    "collapsed": true
   },
   "outputs": [],
   "source": [
    "best_scheduled_itineraries = select_best_itineraries(clean_itineraries2,'planned_duration_mins') \\\n",
    "                                [['date','user_trip_id','planned_duration_mins']] \\\n",
    "                                .rename(index=str,columns={'planned_duration_mins':'best_planned_duration_mins'})"
   ]
  },
  {
   "cell_type": "code",
   "execution_count": 75,
   "metadata": {},
   "outputs": [
    {
     "data": {
      "text/html": [
       "<div>\n",
       "<style>\n",
       "    .dataframe thead tr:only-child th {\n",
       "        text-align: right;\n",
       "    }\n",
       "\n",
       "    .dataframe thead th {\n",
       "        text-align: left;\n",
       "    }\n",
       "\n",
       "    .dataframe tbody tr th {\n",
       "        vertical-align: top;\n",
       "    }\n",
       "</style>\n",
       "<table border=\"1\" class=\"dataframe\">\n",
       "  <thead>\n",
       "    <tr style=\"text-align: right;\">\n",
       "      <th></th>\n",
       "      <th>date</th>\n",
       "      <th>user_trip_id</th>\n",
       "      <th>best_planned_duration_mins</th>\n",
       "    </tr>\n",
       "  </thead>\n",
       "  <tbody>\n",
       "    <tr>\n",
       "      <th>0</th>\n",
       "      <td>2017-05-08</td>\n",
       "      <td>17179869196</td>\n",
       "      <td>23.333333</td>\n",
       "    </tr>\n",
       "    <tr>\n",
       "      <th>1</th>\n",
       "      <td>2017-05-08</td>\n",
       "      <td>94489280525</td>\n",
       "      <td>22.216667</td>\n",
       "    </tr>\n",
       "    <tr>\n",
       "      <th>2</th>\n",
       "      <td>2017-05-08</td>\n",
       "      <td>481036337161</td>\n",
       "      <td>21.500000</td>\n",
       "    </tr>\n",
       "    <tr>\n",
       "      <th>3</th>\n",
       "      <td>2017-05-08</td>\n",
       "      <td>670014898190</td>\n",
       "      <td>15.016667</td>\n",
       "    </tr>\n",
       "    <tr>\n",
       "      <th>4</th>\n",
       "      <td>2017-05-08</td>\n",
       "      <td>755914244105</td>\n",
       "      <td>10.033333</td>\n",
       "    </tr>\n",
       "  </tbody>\n",
       "</table>\n",
       "</div>"
      ],
      "text/plain": [
       "         date  user_trip_id  best_planned_duration_mins\n",
       "0  2017-05-08   17179869196                   23.333333\n",
       "1  2017-05-08   94489280525                   22.216667\n",
       "2  2017-05-08  481036337161                   21.500000\n",
       "3  2017-05-08  670014898190                   15.016667\n",
       "4  2017-05-08  755914244105                   10.033333"
      ]
     },
     "execution_count": 75,
     "metadata": {},
     "output_type": "execute_result"
    }
   ],
   "source": [
    "best_scheduled_itineraries.head()"
   ]
  },
  {
   "cell_type": "code",
   "execution_count": 78,
   "metadata": {},
   "outputs": [],
   "source": [
    "plan_inef = clean_itineraries2.merge(best_scheduled_itineraries, on=['date','user_trip_id'], how='inner') \\\n",
    "                [lambda x: x['itinerary_id'] == 0] \\\n",
    "                [['date','user_trip_id','planned_duration_mins','best_planned_duration_mins']] \\\n",
    "                .assign(plan_inef = lambda x: (x['planned_duration_mins'] - x['best_planned_duration_mins'])/(x['planned_duration_mins']))"
   ]
  },
  {
   "cell_type": "code",
   "execution_count": 80,
   "metadata": {},
   "outputs": [
    {
     "data": {
      "text/html": [
       "<div>\n",
       "<style>\n",
       "    .dataframe thead tr:only-child th {\n",
       "        text-align: right;\n",
       "    }\n",
       "\n",
       "    .dataframe thead th {\n",
       "        text-align: left;\n",
       "    }\n",
       "\n",
       "    .dataframe tbody tr th {\n",
       "        vertical-align: top;\n",
       "    }\n",
       "</style>\n",
       "<table border=\"1\" class=\"dataframe\">\n",
       "  <thead>\n",
       "    <tr style=\"text-align: right;\">\n",
       "      <th></th>\n",
       "      <th>date</th>\n",
       "      <th>user_trip_id</th>\n",
       "      <th>planned_duration_mins</th>\n",
       "      <th>best_planned_duration_mins</th>\n",
       "      <th>plan_inef</th>\n",
       "    </tr>\n",
       "  </thead>\n",
       "  <tbody>\n",
       "    <tr>\n",
       "      <th>0</th>\n",
       "      <td>2017-05-08</td>\n",
       "      <td>17179869196</td>\n",
       "      <td>23.333333</td>\n",
       "      <td>23.333333</td>\n",
       "      <td>0.0</td>\n",
       "    </tr>\n",
       "    <tr>\n",
       "      <th>3</th>\n",
       "      <td>2017-05-08</td>\n",
       "      <td>94489280525</td>\n",
       "      <td>22.216667</td>\n",
       "      <td>22.216667</td>\n",
       "      <td>0.0</td>\n",
       "    </tr>\n",
       "    <tr>\n",
       "      <th>7</th>\n",
       "      <td>2017-05-08</td>\n",
       "      <td>481036337161</td>\n",
       "      <td>21.500000</td>\n",
       "      <td>21.500000</td>\n",
       "      <td>0.0</td>\n",
       "    </tr>\n",
       "    <tr>\n",
       "      <th>11</th>\n",
       "      <td>2017-05-08</td>\n",
       "      <td>670014898190</td>\n",
       "      <td>15.016667</td>\n",
       "      <td>15.016667</td>\n",
       "      <td>0.0</td>\n",
       "    </tr>\n",
       "    <tr>\n",
       "      <th>15</th>\n",
       "      <td>2017-05-08</td>\n",
       "      <td>755914244105</td>\n",
       "      <td>10.033333</td>\n",
       "      <td>10.033333</td>\n",
       "      <td>0.0</td>\n",
       "    </tr>\n",
       "  </tbody>\n",
       "</table>\n",
       "</div>"
      ],
      "text/plain": [
       "          date  user_trip_id  planned_duration_mins  \\\n",
       "0   2017-05-08   17179869196              23.333333   \n",
       "3   2017-05-08   94489280525              22.216667   \n",
       "7   2017-05-08  481036337161              21.500000   \n",
       "11  2017-05-08  670014898190              15.016667   \n",
       "15  2017-05-08  755914244105              10.033333   \n",
       "\n",
       "    best_planned_duration_mins  plan_inef  \n",
       "0                    23.333333        0.0  \n",
       "3                    22.216667        0.0  \n",
       "7                    21.500000        0.0  \n",
       "11                   15.016667        0.0  \n",
       "15                   10.033333        0.0  "
      ]
     },
     "execution_count": 80,
     "metadata": {},
     "output_type": "execute_result"
    }
   ],
   "source": [
    "plan_inef.head()"
   ]
  },
  {
   "cell_type": "code",
   "execution_count": 82,
   "metadata": {},
   "outputs": [
    {
     "data": {
      "text/plain": [
       "<matplotlib.axes._subplots.AxesSubplot at 0x7f3f02bfa7d0>"
      ]
     },
     "execution_count": 82,
     "metadata": {},
     "output_type": "execute_result"
    },
    {
     "data": {
      "image/png": "[encoded data removed]",
      "text/plain": [
       "<matplotlib.figure.Figure at 0x7f3f02e90410>"
      ]
     },
     "metadata": {},
     "output_type": "display_data"
    }
   ],
   "source": [
    "sns.distplot(plan_inef.plan_inef)"
   ]
  },
  {
   "cell_type": "markdown",
   "metadata": {},
   "source": [
    "#### System Schedule Deviation\n",
    "$$\n",
    "\\begin{equation*}\n",
    "    {Oe - Op}\n",
    "\\end{equation*}\n",
    "$$"
   ]
  },
  {
   "cell_type": "code",
   "execution_count": 84,
   "metadata": {},
   "outputs": [
    {
     "data": {
      "text/html": [
       "<div>\n",
       "<style>\n",
       "    .dataframe thead tr:only-child th {\n",
       "        text-align: right;\n",
       "    }\n",
       "\n",
       "    .dataframe thead th {\n",
       "        text-align: left;\n",
       "    }\n",
       "\n",
       "    .dataframe tbody tr th {\n",
       "        vertical-align: top;\n",
       "    }\n",
       "</style>\n",
       "<table border=\"1\" class=\"dataframe\">\n",
       "  <thead>\n",
       "    <tr style=\"text-align: right;\">\n",
       "      <th></th>\n",
       "      <th>date</th>\n",
       "      <th>user_trip_id</th>\n",
       "      <th>itinerary_id</th>\n",
       "      <th>planned_duration_mins</th>\n",
       "      <th>actual_duration_mins</th>\n",
       "      <th>exec_duration_mins</th>\n",
       "      <th>planned_start_time</th>\n",
       "      <th>actual_start_time</th>\n",
       "      <th>exec_start_time</th>\n",
       "      <th>start_diff</th>\n",
       "      <th>num_alternatives</th>\n",
       "      <th>sched_dev</th>\n",
       "    </tr>\n",
       "  </thead>\n",
       "  <tbody>\n",
       "    <tr>\n",
       "      <th>1</th>\n",
       "      <td>2017-05-08</td>\n",
       "      <td>17179869196</td>\n",
       "      <td>1</td>\n",
       "      <td>23.700000</td>\n",
       "      <td>23.583333</td>\n",
       "      <td>16.016667</td>\n",
       "      <td>2017-05-08 08:08:00</td>\n",
       "      <td>2017-05-08 08:13:34</td>\n",
       "      <td>2017-05-08 07:59:32</td>\n",
       "      <td>14.033333</td>\n",
       "      <td>3</td>\n",
       "      <td>-0.116667</td>\n",
       "    </tr>\n",
       "    <tr>\n",
       "      <th>2</th>\n",
       "      <td>2017-05-08</td>\n",
       "      <td>17179869196</td>\n",
       "      <td>3</td>\n",
       "      <td>24.633333</td>\n",
       "      <td>21.366667</td>\n",
       "      <td>16.016667</td>\n",
       "      <td>2017-05-08 08:27:00</td>\n",
       "      <td>2017-05-08 08:24:13</td>\n",
       "      <td>2017-05-08 07:59:32</td>\n",
       "      <td>24.683333</td>\n",
       "      <td>3</td>\n",
       "      <td>-3.266667</td>\n",
       "    </tr>\n",
       "    <tr>\n",
       "      <th>4</th>\n",
       "      <td>2017-05-08</td>\n",
       "      <td>94489280525</td>\n",
       "      <td>1</td>\n",
       "      <td>22.350000</td>\n",
       "      <td>20.266667</td>\n",
       "      <td>19.833333</td>\n",
       "      <td>2017-05-08 18:28:00</td>\n",
       "      <td>2017-05-08 18:31:40</td>\n",
       "      <td>2017-05-08 18:04:31</td>\n",
       "      <td>27.150000</td>\n",
       "      <td>4</td>\n",
       "      <td>-2.083333</td>\n",
       "    </tr>\n",
       "    <tr>\n",
       "      <th>5</th>\n",
       "      <td>2017-05-08</td>\n",
       "      <td>94489280525</td>\n",
       "      <td>2</td>\n",
       "      <td>32.300000</td>\n",
       "      <td>30.150000</td>\n",
       "      <td>19.833333</td>\n",
       "      <td>2017-05-08 18:32:24</td>\n",
       "      <td>2017-05-08 18:36:47</td>\n",
       "      <td>2017-05-08 18:04:31</td>\n",
       "      <td>32.266667</td>\n",
       "      <td>4</td>\n",
       "      <td>-2.150000</td>\n",
       "    </tr>\n",
       "    <tr>\n",
       "      <th>6</th>\n",
       "      <td>2017-05-08</td>\n",
       "      <td>94489280525</td>\n",
       "      <td>3</td>\n",
       "      <td>27.166667</td>\n",
       "      <td>19.200000</td>\n",
       "      <td>19.833333</td>\n",
       "      <td>2017-05-08 18:52:00</td>\n",
       "      <td>2017-05-08 18:54:24</td>\n",
       "      <td>2017-05-08 18:04:31</td>\n",
       "      <td>49.883333</td>\n",
       "      <td>4</td>\n",
       "      <td>-7.966667</td>\n",
       "    </tr>\n",
       "  </tbody>\n",
       "</table>\n",
       "</div>"
      ],
      "text/plain": [
       "         date  user_trip_id  itinerary_id  planned_duration_mins  \\\n",
       "1  2017-05-08   17179869196             1              23.700000   \n",
       "2  2017-05-08   17179869196             3              24.633333   \n",
       "4  2017-05-08   94489280525             1              22.350000   \n",
       "5  2017-05-08   94489280525             2              32.300000   \n",
       "6  2017-05-08   94489280525             3              27.166667   \n",
       "\n",
       "   actual_duration_mins  exec_duration_mins  planned_start_time  \\\n",
       "1             23.583333           16.016667 2017-05-08 08:08:00   \n",
       "2             21.366667           16.016667 2017-05-08 08:27:00   \n",
       "4             20.266667           19.833333 2017-05-08 18:28:00   \n",
       "5             30.150000           19.833333 2017-05-08 18:32:24   \n",
       "6             19.200000           19.833333 2017-05-08 18:52:00   \n",
       "\n",
       "    actual_start_time     exec_start_time  start_diff  num_alternatives  \\\n",
       "1 2017-05-08 08:13:34 2017-05-08 07:59:32   14.033333                 3   \n",
       "2 2017-05-08 08:24:13 2017-05-08 07:59:32   24.683333                 3   \n",
       "4 2017-05-08 18:31:40 2017-05-08 18:04:31   27.150000                 4   \n",
       "5 2017-05-08 18:36:47 2017-05-08 18:04:31   32.266667                 4   \n",
       "6 2017-05-08 18:54:24 2017-05-08 18:04:31   49.883333                 4   \n",
       "\n",
       "   sched_dev  \n",
       "1  -0.116667  \n",
       "2  -3.266667  \n",
       "4  -2.083333  \n",
       "5  -2.150000  \n",
       "6  -7.966667  "
      ]
     },
     "execution_count": 84,
     "metadata": {},
     "output_type": "execute_result"
    }
   ],
   "source": [
    "sched_deviation = clean_itineraries[clean_itineraries['itinerary_id'] > 0] \\\n",
    "                    .assign(sched_dev = lambda x: x['actual_duration_mins'] - x['planned_duration_mins'])\n",
    "    \n",
    "sched_deviation.head()"
   ]
  },
  {
   "cell_type": "code",
   "execution_count": 85,
   "metadata": {},
   "outputs": [
    {
     "data": {
      "text/plain": [
       "<matplotlib.axes._subplots.AxesSubplot at 0x7f3f02c59550>"
      ]
     },
     "execution_count": 85,
     "metadata": {},
     "output_type": "execute_result"
    },
    {
     "data": {
      "image/png": "[encoded data removed]",
      "text/plain": [
       "<matplotlib.figure.Figure at 0x7f3f02b19650>"
      ]
     },
     "metadata": {},
     "output_type": "display_data"
    }
   ],
   "source": [
    "sns.distplot(sched_deviation.sched_dev)"
   ]
  },
  {
   "cell_type": "markdown",
   "metadata": {},
   "source": [
    "#### User stop waiting time offset\n",
    "$$\n",
    "\\begin{equation*}\n",
    "    {start(Oe) - start(Op)}\n",
    "\\end{equation*}\n",
    "$$"
   ]
  },
  {
   "cell_type": "code",
   "execution_count": 87,
   "metadata": {},
   "outputs": [
    {
     "data": {
      "text/html": [
       "<div>\n",
       "<style>\n",
       "    .dataframe thead tr:only-child th {\n",
       "        text-align: right;\n",
       "    }\n",
       "\n",
       "    .dataframe thead th {\n",
       "        text-align: left;\n",
       "    }\n",
       "\n",
       "    .dataframe tbody tr th {\n",
       "        vertical-align: top;\n",
       "    }\n",
       "</style>\n",
       "<table border=\"1\" class=\"dataframe\">\n",
       "  <thead>\n",
       "    <tr style=\"text-align: right;\">\n",
       "      <th></th>\n",
       "      <th>date</th>\n",
       "      <th>user_trip_id</th>\n",
       "      <th>itinerary_id</th>\n",
       "      <th>planned_duration_mins</th>\n",
       "      <th>actual_duration_mins</th>\n",
       "      <th>exec_duration_mins</th>\n",
       "      <th>planned_start_time</th>\n",
       "      <th>actual_start_time</th>\n",
       "      <th>exec_start_time</th>\n",
       "      <th>start_diff</th>\n",
       "      <th>num_alternatives</th>\n",
       "      <th>boarding_timediff</th>\n",
       "    </tr>\n",
       "  </thead>\n",
       "  <tbody>\n",
       "    <tr>\n",
       "      <th>1</th>\n",
       "      <td>2017-05-08</td>\n",
       "      <td>17179869196</td>\n",
       "      <td>1</td>\n",
       "      <td>23.700000</td>\n",
       "      <td>23.583333</td>\n",
       "      <td>16.016667</td>\n",
       "      <td>2017-05-08 08:08:00</td>\n",
       "      <td>2017-05-08 08:13:34</td>\n",
       "      <td>2017-05-08 07:59:32</td>\n",
       "      <td>14.033333</td>\n",
       "      <td>3</td>\n",
       "      <td>5.566667</td>\n",
       "    </tr>\n",
       "    <tr>\n",
       "      <th>2</th>\n",
       "      <td>2017-05-08</td>\n",
       "      <td>17179869196</td>\n",
       "      <td>3</td>\n",
       "      <td>24.633333</td>\n",
       "      <td>21.366667</td>\n",
       "      <td>16.016667</td>\n",
       "      <td>2017-05-08 08:27:00</td>\n",
       "      <td>2017-05-08 08:24:13</td>\n",
       "      <td>2017-05-08 07:59:32</td>\n",
       "      <td>24.683333</td>\n",
       "      <td>3</td>\n",
       "      <td>-2.783333</td>\n",
       "    </tr>\n",
       "    <tr>\n",
       "      <th>4</th>\n",
       "      <td>2017-05-08</td>\n",
       "      <td>94489280525</td>\n",
       "      <td>1</td>\n",
       "      <td>22.350000</td>\n",
       "      <td>20.266667</td>\n",
       "      <td>19.833333</td>\n",
       "      <td>2017-05-08 18:28:00</td>\n",
       "      <td>2017-05-08 18:31:40</td>\n",
       "      <td>2017-05-08 18:04:31</td>\n",
       "      <td>27.150000</td>\n",
       "      <td>4</td>\n",
       "      <td>3.666667</td>\n",
       "    </tr>\n",
       "    <tr>\n",
       "      <th>5</th>\n",
       "      <td>2017-05-08</td>\n",
       "      <td>94489280525</td>\n",
       "      <td>2</td>\n",
       "      <td>32.300000</td>\n",
       "      <td>30.150000</td>\n",
       "      <td>19.833333</td>\n",
       "      <td>2017-05-08 18:32:24</td>\n",
       "      <td>2017-05-08 18:36:47</td>\n",
       "      <td>2017-05-08 18:04:31</td>\n",
       "      <td>32.266667</td>\n",
       "      <td>4</td>\n",
       "      <td>4.383333</td>\n",
       "    </tr>\n",
       "    <tr>\n",
       "      <th>6</th>\n",
       "      <td>2017-05-08</td>\n",
       "      <td>94489280525</td>\n",
       "      <td>3</td>\n",
       "      <td>27.166667</td>\n",
       "      <td>19.200000</td>\n",
       "      <td>19.833333</td>\n",
       "      <td>2017-05-08 18:52:00</td>\n",
       "      <td>2017-05-08 18:54:24</td>\n",
       "      <td>2017-05-08 18:04:31</td>\n",
       "      <td>49.883333</td>\n",
       "      <td>4</td>\n",
       "      <td>2.400000</td>\n",
       "    </tr>\n",
       "  </tbody>\n",
       "</table>\n",
       "</div>"
      ],
      "text/plain": [
       "         date  user_trip_id  itinerary_id  planned_duration_mins  \\\n",
       "1  2017-05-08   17179869196             1              23.700000   \n",
       "2  2017-05-08   17179869196             3              24.633333   \n",
       "4  2017-05-08   94489280525             1              22.350000   \n",
       "5  2017-05-08   94489280525             2              32.300000   \n",
       "6  2017-05-08   94489280525             3              27.166667   \n",
       "\n",
       "   actual_duration_mins  exec_duration_mins  planned_start_time  \\\n",
       "1             23.583333           16.016667 2017-05-08 08:08:00   \n",
       "2             21.366667           16.016667 2017-05-08 08:27:00   \n",
       "4             20.266667           19.833333 2017-05-08 18:28:00   \n",
       "5             30.150000           19.833333 2017-05-08 18:32:24   \n",
       "6             19.200000           19.833333 2017-05-08 18:52:00   \n",
       "\n",
       "    actual_start_time     exec_start_time  start_diff  num_alternatives  \\\n",
       "1 2017-05-08 08:13:34 2017-05-08 07:59:32   14.033333                 3   \n",
       "2 2017-05-08 08:24:13 2017-05-08 07:59:32   24.683333                 3   \n",
       "4 2017-05-08 18:31:40 2017-05-08 18:04:31   27.150000                 4   \n",
       "5 2017-05-08 18:36:47 2017-05-08 18:04:31   32.266667                 4   \n",
       "6 2017-05-08 18:54:24 2017-05-08 18:04:31   49.883333                 4   \n",
       "\n",
       "   boarding_timediff  \n",
       "1           5.566667  \n",
       "2          -2.783333  \n",
       "4           3.666667  \n",
       "5           4.383333  \n",
       "6           2.400000  "
      ]
     },
     "execution_count": 87,
     "metadata": {},
     "output_type": "execute_result"
    }
   ],
   "source": [
    "user_boarding_timediff = clean_itineraries[clean_itineraries['itinerary_id'] > 0] \\\n",
    "                    .assign(boarding_timediff = lambda x: (x['actual_start_time'] - x['planned_start_time'])/pd.Timedelta(minutes=1))\n",
    "    \n",
    "user_boarding_timediff.head()"
   ]
  },
  {
   "cell_type": "code",
   "execution_count": 88,
   "metadata": {},
   "outputs": [
    {
     "data": {
      "text/plain": [
       "<matplotlib.axes._subplots.AxesSubplot at 0x7f3f02ef1910>"
      ]
     },
     "execution_count": 88,
     "metadata": {},
     "output_type": "execute_result"
    },
    {
     "data": {
      "image/png": "[encoded data removed]",
      "text/plain": [
       "<matplotlib.figure.Figure at 0x7f3f02cf05d0>"
      ]
     },
     "metadata": {},
     "output_type": "display_data"
    }
   ],
   "source": [
    "sns.distplot(user_boarding_timediff.boarding_timediff)"
   ]
  },
  {
   "cell_type": "code",
   "execution_count": null,
   "metadata": {
    "collapsed": true
   },
   "outputs": [],
   "source": []
  },
  {
   "cell_type": "markdown",
   "metadata": {},
   "source": [
    "#### Adding metadata for further analysis"
   ]
  },
  {
   "cell_type": "code",
   "execution_count": 80,
   "metadata": {},
   "outputs": [
    {
     "ename": "ValueError",
     "evalue": "Cannot convert column into bool: please use '&' for 'and', '|' for 'or', '~' for 'not' when building DataFrame boolean expressions.",
     "output_type": "error",
     "traceback": [
      "\u001b[0;31m---------------------------------------------------------------------------\u001b[0m",
      "\u001b[0;31mValueError\u001b[0m                                Traceback (most recent call last)",
      "\u001b[0;32m<ipython-input-80-e0856f6800f4>\u001b[0m in \u001b[0;36m<module>\u001b[0;34m()\u001b[0m\n\u001b[1;32m     16\u001b[0m \u001b[0;34m\u001b[0m\u001b[0m\n\u001b[1;32m     17\u001b[0m \u001b[0;34m\u001b[0m\u001b[0m\n\u001b[0;32m---> 18\u001b[0;31m \u001b[0mclean_itineraries\u001b[0m \u001b[0;34m=\u001b[0m \u001b[0mclean_itineraries\u001b[0m\u001b[0;34m.\u001b[0m\u001b[0mwithColumn\u001b[0m\u001b[0;34m(\u001b[0m\u001b[0;34m'trip_length_bucket'\u001b[0m\u001b[0;34m,\u001b[0m\u001b[0mget_trip_len_bucket\u001b[0m\u001b[0;34m(\u001b[0m\u001b[0mF\u001b[0m\u001b[0;34m.\u001b[0m\u001b[0mcol\u001b[0m\u001b[0;34m(\u001b[0m\u001b[0;34m'exec_duration_mins'\u001b[0m\u001b[0;34m)\u001b[0m\u001b[0;34m)\u001b[0m\u001b[0;34m)\u001b[0m\u001b[0;34m\u001b[0m\u001b[0m\n\u001b[0m",
      "\u001b[0;32m<ipython-input-80-e0856f6800f4>\u001b[0m in \u001b[0;36mget_trip_len_bucket\u001b[0;34m(trip_duration)\u001b[0m\n\u001b[1;32m      1\u001b[0m \u001b[0;32mdef\u001b[0m \u001b[0mget_trip_len_bucket\u001b[0m\u001b[0;34m(\u001b[0m\u001b[0mtrip_duration\u001b[0m\u001b[0;34m)\u001b[0m\u001b[0;34m:\u001b[0m\u001b[0;34m\u001b[0m\u001b[0m\n\u001b[0;32m----> 2\u001b[0;31m     \u001b[0;32mif\u001b[0m \u001b[0;34m(\u001b[0m\u001b[0mtrip_duration\u001b[0m \u001b[0;34m<\u001b[0m \u001b[0;36m10\u001b[0m\u001b[0;34m)\u001b[0m\u001b[0;34m:\u001b[0m\u001b[0;34m\u001b[0m\u001b[0m\n\u001b[0m\u001b[1;32m      3\u001b[0m         \u001b[0;32mreturn\u001b[0m \u001b[0;34m'<10'\u001b[0m\u001b[0;34m\u001b[0m\u001b[0m\n\u001b[1;32m      4\u001b[0m     \u001b[0;32melif\u001b[0m \u001b[0;34m(\u001b[0m\u001b[0mtrip_duration\u001b[0m \u001b[0;34m<\u001b[0m \u001b[0;36m20\u001b[0m\u001b[0;34m)\u001b[0m\u001b[0;34m:\u001b[0m\u001b[0;34m\u001b[0m\u001b[0m\n\u001b[1;32m      5\u001b[0m         \u001b[0;32mreturn\u001b[0m \u001b[0;34m'10-20'\u001b[0m\u001b[0;34m\u001b[0m\u001b[0m\n",
      "\u001b[0;32m/local/tarciso/programs/spark-2.1.0-bin-hadoop2.7/python/pyspark/sql/column.pyc\u001b[0m in \u001b[0;36m__nonzero__\u001b[0;34m(self)\u001b[0m\n\u001b[1;32m    424\u001b[0m \u001b[0;34m\u001b[0m\u001b[0m\n\u001b[1;32m    425\u001b[0m     \u001b[0;32mdef\u001b[0m \u001b[0m__nonzero__\u001b[0m\u001b[0;34m(\u001b[0m\u001b[0mself\u001b[0m\u001b[0;34m)\u001b[0m\u001b[0;34m:\u001b[0m\u001b[0;34m\u001b[0m\u001b[0m\n\u001b[0;32m--> 426\u001b[0;31m         raise ValueError(\"Cannot convert column into bool: please use '&' for 'and', '|' for 'or', \"\n\u001b[0m\u001b[1;32m    427\u001b[0m                          \"'~' for 'not' when building DataFrame boolean expressions.\")\n\u001b[1;32m    428\u001b[0m     \u001b[0m__bool__\u001b[0m \u001b[0;34m=\u001b[0m \u001b[0m__nonzero__\u001b[0m\u001b[0;34m\u001b[0m\u001b[0m\n",
      "\u001b[0;31mValueError\u001b[0m: Cannot convert column into bool: please use '&' for 'and', '|' for 'or', '~' for 'not' when building DataFrame boolean expressions."
     ]
    }
   ],
   "source": [
    "def get_trip_len_bucket(trip_duration):\n",
    "    if (trip_duration < 10):\n",
    "        return '<10'\n",
    "    elif (trip_duration < 20):\n",
    "        return '10-20'\n",
    "    elif (trip_duration < 30):\n",
    "        return '20-30'\n",
    "    elif (trip_duration < 40):\n",
    "        return '30-40'\n",
    "    elif (trip_duration < 50):\n",
    "        return '40-50'\n",
    "    elif (trip_duration >= 50):\n",
    "        return '50+'\n",
    "    else:\n",
    "        return 'NA'\n",
    "\n",
    "\n",
    "clean_itineraries = clean_itineraries.withColumn('trip_length_bucket',get_trip_len_bucket(F.col('exec_duration_mins')))"
   ]
  }
 ],
 "metadata": {
  "kernelspec": {
   "display_name": "Python 2",
   "language": "python",
   "name": "python2"
  },
  "language_info": {
   "codemirror_mode": {
    "name": "ipython",
    "version": 2
   },
   "file_extension": ".py",
   "mimetype": "text/x-python",
   "name": "python",
   "nbconvert_exporter": "python",
   "pygments_lexer": "ipython2",
   "version": "2.7.13"
  }
 },
 "nbformat": 4,
 "nbformat_minor": 2
}
